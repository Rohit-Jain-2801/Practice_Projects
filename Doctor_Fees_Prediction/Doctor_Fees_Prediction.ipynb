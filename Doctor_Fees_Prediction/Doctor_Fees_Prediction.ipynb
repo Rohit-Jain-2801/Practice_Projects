{
 "cells": [
  {
   "cell_type": "markdown",
   "metadata": {},
   "source": [
    "## Importing the libraries"
   ]
  },
  {
   "cell_type": "code",
   "execution_count": 2,
   "metadata": {},
   "outputs": [],
   "source": [
    "import pandas as pd\n",
    "import numpy as np\n",
    "import seaborn as sns\n",
    "import re\n",
    "\n",
    "import matplotlib.pyplot as plt\n",
    "%matplotlib inline\n",
    "from matplotlib.pylab import rcParams\n",
    "rcParams['figure.figsize'] = 12, 7\n",
    "\n",
    "from sklearn.impute import SimpleImputer\n",
    "from sklearn.preprocessing import StandardScaler, MinMaxScaler\n",
    "from sklearn.model_selection import train_test_split, cross_val_score, GridSearchCV\n",
    "from sklearn import metrics\n",
    "\n",
    "from sklearn.linear_model import LinearRegression, LassoCV, Ridge, ElasticNet\n",
    "from sklearn.svm import SVR\n",
    "from sklearn.tree import DecisionTreeRegressor\n",
    "from sklearn.ensemble import RandomForestRegressor, AdaBoostRegressor, GradientBoostingRegressor\n",
    "from sklearn.neighbors import KNeighborsRegressor\n",
    "\n",
    "from xgboost import XGBRegressor\n",
    "from lightgbm import LGBMRegressor\n",
    "\n",
    "# import warnings\n",
    "# warnings.simplefilter(action='ignore', category=FutureWarning)"
   ]
  },
  {
   "cell_type": "markdown",
   "metadata": {},
   "source": [
    "## Importing the dataset"
   ]
  },
  {
   "cell_type": "code",
   "execution_count": 3,
   "metadata": {},
   "outputs": [
    {
     "data": {
      "text/html": [
       "<div>\n",
       "<style scoped>\n",
       "    .dataframe tbody tr th:only-of-type {\n",
       "        vertical-align: middle;\n",
       "    }\n",
       "\n",
       "    .dataframe tbody tr th {\n",
       "        vertical-align: top;\n",
       "    }\n",
       "\n",
       "    .dataframe thead th {\n",
       "        text-align: right;\n",
       "    }\n",
       "</style>\n",
       "<table border=\"1\" class=\"dataframe\">\n",
       "  <thead>\n",
       "    <tr style=\"text-align: right;\">\n",
       "      <th></th>\n",
       "      <th>Qualification</th>\n",
       "      <th>Experience</th>\n",
       "      <th>Rating</th>\n",
       "      <th>Place</th>\n",
       "      <th>Profile</th>\n",
       "      <th>Miscellaneous_Info</th>\n",
       "      <th>Fees</th>\n",
       "    </tr>\n",
       "  </thead>\n",
       "  <tbody>\n",
       "    <tr>\n",
       "      <th>0</th>\n",
       "      <td>BHMS, MD - Homeopathy</td>\n",
       "      <td>24 years experience</td>\n",
       "      <td>100%</td>\n",
       "      <td>Kakkanad, Ernakulam</td>\n",
       "      <td>Homeopath</td>\n",
       "      <td>100% 16 Feedback Kakkanad, Ernakulam</td>\n",
       "      <td>100</td>\n",
       "    </tr>\n",
       "    <tr>\n",
       "      <th>1</th>\n",
       "      <td>BAMS, MD - Ayurveda Medicine</td>\n",
       "      <td>12 years experience</td>\n",
       "      <td>98%</td>\n",
       "      <td>Whitefield, Bangalore</td>\n",
       "      <td>Ayurveda</td>\n",
       "      <td>98% 76 Feedback Whitefield, Bangalore</td>\n",
       "      <td>350</td>\n",
       "    </tr>\n",
       "    <tr>\n",
       "      <th>2</th>\n",
       "      <td>MBBS, MS - Otorhinolaryngology</td>\n",
       "      <td>9 years experience</td>\n",
       "      <td>NaN</td>\n",
       "      <td>Mathikere - BEL, Bangalore</td>\n",
       "      <td>ENT Specialist</td>\n",
       "      <td>NaN</td>\n",
       "      <td>300</td>\n",
       "    </tr>\n",
       "    <tr>\n",
       "      <th>3</th>\n",
       "      <td>BSc - Zoology, BAMS</td>\n",
       "      <td>12 years experience</td>\n",
       "      <td>NaN</td>\n",
       "      <td>Bannerghatta Road, Bangalore</td>\n",
       "      <td>Ayurveda</td>\n",
       "      <td>Bannerghatta Road, Bangalore ₹250 Available on...</td>\n",
       "      <td>250</td>\n",
       "    </tr>\n",
       "    <tr>\n",
       "      <th>4</th>\n",
       "      <td>BAMS</td>\n",
       "      <td>20 years experience</td>\n",
       "      <td>100%</td>\n",
       "      <td>Keelkattalai, Chennai</td>\n",
       "      <td>Ayurveda</td>\n",
       "      <td>100% 4 Feedback Keelkattalai, Chennai</td>\n",
       "      <td>250</td>\n",
       "    </tr>\n",
       "  </tbody>\n",
       "</table>\n",
       "</div>"
      ],
      "text/plain": [
       "                    Qualification           Experience Rating  \\\n",
       "0           BHMS, MD - Homeopathy  24 years experience   100%   \n",
       "1    BAMS, MD - Ayurveda Medicine  12 years experience    98%   \n",
       "2  MBBS, MS - Otorhinolaryngology   9 years experience    NaN   \n",
       "3             BSc - Zoology, BAMS  12 years experience    NaN   \n",
       "4                            BAMS  20 years experience   100%   \n",
       "\n",
       "                          Place         Profile  \\\n",
       "0           Kakkanad, Ernakulam       Homeopath   \n",
       "1         Whitefield, Bangalore        Ayurveda   \n",
       "2    Mathikere - BEL, Bangalore  ENT Specialist   \n",
       "3  Bannerghatta Road, Bangalore        Ayurveda   \n",
       "4         Keelkattalai, Chennai        Ayurveda   \n",
       "\n",
       "                                  Miscellaneous_Info  Fees  \n",
       "0               100% 16 Feedback Kakkanad, Ernakulam   100  \n",
       "1              98% 76 Feedback Whitefield, Bangalore   350  \n",
       "2                                                NaN   300  \n",
       "3  Bannerghatta Road, Bangalore ₹250 Available on...   250  \n",
       "4              100% 4 Feedback Keelkattalai, Chennai   250  "
      ]
     },
     "execution_count": 3,
     "metadata": {},
     "output_type": "execute_result"
    }
   ],
   "source": [
    "df = pd.read_excel('Final_Train.xlsx')\n",
    "df.head()"
   ]
  },
  {
   "cell_type": "code",
   "execution_count": 4,
   "metadata": {},
   "outputs": [
    {
     "data": {
      "text/plain": [
       "Qualification         object\n",
       "Experience            object\n",
       "Rating                object\n",
       "Place                 object\n",
       "Profile               object\n",
       "Miscellaneous_Info    object\n",
       "Fees                   int64\n",
       "dtype: object"
      ]
     },
     "execution_count": 4,
     "metadata": {},
     "output_type": "execute_result"
    }
   ],
   "source": [
    "df.dtypes"
   ]
  },
  {
   "cell_type": "code",
   "execution_count": 5,
   "metadata": {},
   "outputs": [],
   "source": [
    "# df['Qualification'] = df['Qualification'].apply(lambda x: x.split(', '))"
   ]
  },
  {
   "cell_type": "code",
   "execution_count": 6,
   "metadata": {},
   "outputs": [],
   "source": [
    "# a = []\n",
    "# for i in range(0,df.shape[0]):\n",
    "#     for j in range(0,len(df['Qualification'][i])):\n",
    "#         b = df['Qualification'][i][j]\n",
    "#         if b not in a:\n",
    "#             a.append(b)\n",
    "# len(a)"
   ]
  },
  {
   "cell_type": "code",
   "execution_count": 7,
   "metadata": {},
   "outputs": [
    {
     "data": {
      "text/html": [
       "<div>\n",
       "<style scoped>\n",
       "    .dataframe tbody tr th:only-of-type {\n",
       "        vertical-align: middle;\n",
       "    }\n",
       "\n",
       "    .dataframe tbody tr th {\n",
       "        vertical-align: top;\n",
       "    }\n",
       "\n",
       "    .dataframe thead th {\n",
       "        text-align: right;\n",
       "    }\n",
       "</style>\n",
       "<table border=\"1\" class=\"dataframe\">\n",
       "  <thead>\n",
       "    <tr style=\"text-align: right;\">\n",
       "      <th></th>\n",
       "      <th>Experience</th>\n",
       "      <th>Rating</th>\n",
       "      <th>Place</th>\n",
       "      <th>Profile</th>\n",
       "      <th>Miscellaneous_Info</th>\n",
       "      <th>Fees</th>\n",
       "    </tr>\n",
       "  </thead>\n",
       "  <tbody>\n",
       "    <tr>\n",
       "      <th>0</th>\n",
       "      <td>24 years experience</td>\n",
       "      <td>100%</td>\n",
       "      <td>Kakkanad, Ernakulam</td>\n",
       "      <td>Homeopath</td>\n",
       "      <td>100% 16 Feedback Kakkanad, Ernakulam</td>\n",
       "      <td>100</td>\n",
       "    </tr>\n",
       "    <tr>\n",
       "      <th>1</th>\n",
       "      <td>12 years experience</td>\n",
       "      <td>98%</td>\n",
       "      <td>Whitefield, Bangalore</td>\n",
       "      <td>Ayurveda</td>\n",
       "      <td>98% 76 Feedback Whitefield, Bangalore</td>\n",
       "      <td>350</td>\n",
       "    </tr>\n",
       "    <tr>\n",
       "      <th>2</th>\n",
       "      <td>9 years experience</td>\n",
       "      <td>NaN</td>\n",
       "      <td>Mathikere - BEL, Bangalore</td>\n",
       "      <td>ENT Specialist</td>\n",
       "      <td>NaN</td>\n",
       "      <td>300</td>\n",
       "    </tr>\n",
       "    <tr>\n",
       "      <th>3</th>\n",
       "      <td>12 years experience</td>\n",
       "      <td>NaN</td>\n",
       "      <td>Bannerghatta Road, Bangalore</td>\n",
       "      <td>Ayurveda</td>\n",
       "      <td>Bannerghatta Road, Bangalore ₹250 Available on...</td>\n",
       "      <td>250</td>\n",
       "    </tr>\n",
       "    <tr>\n",
       "      <th>4</th>\n",
       "      <td>20 years experience</td>\n",
       "      <td>100%</td>\n",
       "      <td>Keelkattalai, Chennai</td>\n",
       "      <td>Ayurveda</td>\n",
       "      <td>100% 4 Feedback Keelkattalai, Chennai</td>\n",
       "      <td>250</td>\n",
       "    </tr>\n",
       "  </tbody>\n",
       "</table>\n",
       "</div>"
      ],
      "text/plain": [
       "            Experience Rating                         Place         Profile  \\\n",
       "0  24 years experience   100%           Kakkanad, Ernakulam       Homeopath   \n",
       "1  12 years experience    98%         Whitefield, Bangalore        Ayurveda   \n",
       "2   9 years experience    NaN    Mathikere - BEL, Bangalore  ENT Specialist   \n",
       "3  12 years experience    NaN  Bannerghatta Road, Bangalore        Ayurveda   \n",
       "4  20 years experience   100%         Keelkattalai, Chennai        Ayurveda   \n",
       "\n",
       "                                  Miscellaneous_Info  Fees  \n",
       "0               100% 16 Feedback Kakkanad, Ernakulam   100  \n",
       "1              98% 76 Feedback Whitefield, Bangalore   350  \n",
       "2                                                NaN   300  \n",
       "3  Bannerghatta Road, Bangalore ₹250 Available on...   250  \n",
       "4              100% 4 Feedback Keelkattalai, Chennai   250  "
      ]
     },
     "execution_count": 7,
     "metadata": {},
     "output_type": "execute_result"
    }
   ],
   "source": [
    "df.drop(columns=['Qualification'], inplace=True)\n",
    "df.head()"
   ]
  },
  {
   "cell_type": "markdown",
   "metadata": {},
   "source": [
    "## Checking for Null values & Filling them"
   ]
  },
  {
   "cell_type": "code",
   "execution_count": 8,
   "metadata": {},
   "outputs": [
    {
     "data": {
      "text/plain": [
       "<matplotlib.axes._subplots.AxesSubplot at 0x1fc235c8048>"
      ]
     },
     "execution_count": 8,
     "metadata": {},
     "output_type": "execute_result"
    },
    {
     "data": {
      "image/png": "[encoded data removed]",
      "text/plain": [
       "<Figure size 864x504 with 1 Axes>"
      ]
     },
     "metadata": {
      "needs_background": "light"
     },
     "output_type": "display_data"
    }
   ],
   "source": [
    "sns.heatmap(df.isnull(), yticklabels=False, cbar=False, cmap='viridis')"
   ]
  },
  {
   "cell_type": "code",
   "execution_count": 9,
   "metadata": {},
   "outputs": [
    {
     "data": {
      "text/plain": [
       "Experience               0\n",
       "Rating                3302\n",
       "Place                   25\n",
       "Profile                  0\n",
       "Miscellaneous_Info    2620\n",
       "Fees                     0\n",
       "dtype: int64"
      ]
     },
     "execution_count": 9,
     "metadata": {},
     "output_type": "execute_result"
    }
   ],
   "source": [
    "df.isnull().sum()"
   ]
  },
  {
   "cell_type": "code",
   "execution_count": 10,
   "metadata": {},
   "outputs": [
    {
     "data": {
      "text/html": [
       "<div>\n",
       "<style scoped>\n",
       "    .dataframe tbody tr th:only-of-type {\n",
       "        vertical-align: middle;\n",
       "    }\n",
       "\n",
       "    .dataframe tbody tr th {\n",
       "        vertical-align: top;\n",
       "    }\n",
       "\n",
       "    .dataframe thead th {\n",
       "        text-align: right;\n",
       "    }\n",
       "</style>\n",
       "<table border=\"1\" class=\"dataframe\">\n",
       "  <thead>\n",
       "    <tr style=\"text-align: right;\">\n",
       "      <th></th>\n",
       "      <th>Experience</th>\n",
       "      <th>Rating</th>\n",
       "      <th>Place</th>\n",
       "      <th>Profile</th>\n",
       "      <th>Miscellaneous_Info</th>\n",
       "      <th>Fees</th>\n",
       "    </tr>\n",
       "  </thead>\n",
       "  <tbody>\n",
       "    <tr>\n",
       "      <th>0</th>\n",
       "      <td>24 years experience</td>\n",
       "      <td>100%</td>\n",
       "      <td>Kakkanad, Ernakulam</td>\n",
       "      <td>Homeopath</td>\n",
       "      <td>100% 16 Feedback Kakkanad, Ernakulam</td>\n",
       "      <td>100</td>\n",
       "    </tr>\n",
       "    <tr>\n",
       "      <th>1</th>\n",
       "      <td>12 years experience</td>\n",
       "      <td>98%</td>\n",
       "      <td>Whitefield, Bangalore</td>\n",
       "      <td>Ayurveda</td>\n",
       "      <td>98% 76 Feedback Whitefield, Bangalore</td>\n",
       "      <td>350</td>\n",
       "    </tr>\n",
       "    <tr>\n",
       "      <th>2</th>\n",
       "      <td>9 years experience</td>\n",
       "      <td>0%</td>\n",
       "      <td>Mathikere - BEL, Bangalore</td>\n",
       "      <td>ENT Specialist</td>\n",
       "      <td>NaN</td>\n",
       "      <td>300</td>\n",
       "    </tr>\n",
       "    <tr>\n",
       "      <th>3</th>\n",
       "      <td>12 years experience</td>\n",
       "      <td>0%</td>\n",
       "      <td>Bannerghatta Road, Bangalore</td>\n",
       "      <td>Ayurveda</td>\n",
       "      <td>Bannerghatta Road, Bangalore ₹250 Available on...</td>\n",
       "      <td>250</td>\n",
       "    </tr>\n",
       "    <tr>\n",
       "      <th>4</th>\n",
       "      <td>20 years experience</td>\n",
       "      <td>100%</td>\n",
       "      <td>Keelkattalai, Chennai</td>\n",
       "      <td>Ayurveda</td>\n",
       "      <td>100% 4 Feedback Keelkattalai, Chennai</td>\n",
       "      <td>250</td>\n",
       "    </tr>\n",
       "  </tbody>\n",
       "</table>\n",
       "</div>"
      ],
      "text/plain": [
       "            Experience Rating                         Place         Profile  \\\n",
       "0  24 years experience   100%           Kakkanad, Ernakulam       Homeopath   \n",
       "1  12 years experience    98%         Whitefield, Bangalore        Ayurveda   \n",
       "2   9 years experience     0%    Mathikere - BEL, Bangalore  ENT Specialist   \n",
       "3  12 years experience     0%  Bannerghatta Road, Bangalore        Ayurveda   \n",
       "4  20 years experience   100%         Keelkattalai, Chennai        Ayurveda   \n",
       "\n",
       "                                  Miscellaneous_Info  Fees  \n",
       "0               100% 16 Feedback Kakkanad, Ernakulam   100  \n",
       "1              98% 76 Feedback Whitefield, Bangalore   350  \n",
       "2                                                NaN   300  \n",
       "3  Bannerghatta Road, Bangalore ₹250 Available on...   250  \n",
       "4              100% 4 Feedback Keelkattalai, Chennai   250  "
      ]
     },
     "execution_count": 10,
     "metadata": {},
     "output_type": "execute_result"
    }
   ],
   "source": [
    "df['Rating'].fillna('0%', inplace=True)\n",
    "df.head()"
   ]
  },
  {
   "cell_type": "code",
   "execution_count": 11,
   "metadata": {},
   "outputs": [
    {
     "data": {
      "text/html": [
       "<div>\n",
       "<style scoped>\n",
       "    .dataframe tbody tr th:only-of-type {\n",
       "        vertical-align: middle;\n",
       "    }\n",
       "\n",
       "    .dataframe tbody tr th {\n",
       "        vertical-align: top;\n",
       "    }\n",
       "\n",
       "    .dataframe thead th {\n",
       "        text-align: right;\n",
       "    }\n",
       "</style>\n",
       "<table border=\"1\" class=\"dataframe\">\n",
       "  <thead>\n",
       "    <tr style=\"text-align: right;\">\n",
       "      <th></th>\n",
       "      <th>Experience</th>\n",
       "      <th>Rating</th>\n",
       "      <th>Place</th>\n",
       "      <th>Profile</th>\n",
       "      <th>Miscellaneous_Info</th>\n",
       "      <th>Fees</th>\n",
       "    </tr>\n",
       "  </thead>\n",
       "  <tbody>\n",
       "    <tr>\n",
       "      <th>0</th>\n",
       "      <td>24 years experience</td>\n",
       "      <td>100%</td>\n",
       "      <td>Kakkanad, Ernakulam</td>\n",
       "      <td>Homeopath</td>\n",
       "      <td>100% 16 Feedback Kakkanad, Ernakulam</td>\n",
       "      <td>100</td>\n",
       "    </tr>\n",
       "    <tr>\n",
       "      <th>1</th>\n",
       "      <td>12 years experience</td>\n",
       "      <td>98%</td>\n",
       "      <td>Whitefield, Bangalore</td>\n",
       "      <td>Ayurveda</td>\n",
       "      <td>98% 76 Feedback Whitefield, Bangalore</td>\n",
       "      <td>350</td>\n",
       "    </tr>\n",
       "    <tr>\n",
       "      <th>2</th>\n",
       "      <td>9 years experience</td>\n",
       "      <td>0%</td>\n",
       "      <td>Mathikere - BEL, Bangalore</td>\n",
       "      <td>ENT Specialist</td>\n",
       "      <td>NaN</td>\n",
       "      <td>300</td>\n",
       "    </tr>\n",
       "    <tr>\n",
       "      <th>3</th>\n",
       "      <td>12 years experience</td>\n",
       "      <td>0%</td>\n",
       "      <td>Bannerghatta Road, Bangalore</td>\n",
       "      <td>Ayurveda</td>\n",
       "      <td>Bannerghatta Road, Bangalore ₹250 Available on...</td>\n",
       "      <td>250</td>\n",
       "    </tr>\n",
       "    <tr>\n",
       "      <th>4</th>\n",
       "      <td>20 years experience</td>\n",
       "      <td>100%</td>\n",
       "      <td>Keelkattalai, Chennai</td>\n",
       "      <td>Ayurveda</td>\n",
       "      <td>100% 4 Feedback Keelkattalai, Chennai</td>\n",
       "      <td>250</td>\n",
       "    </tr>\n",
       "  </tbody>\n",
       "</table>\n",
       "</div>"
      ],
      "text/plain": [
       "            Experience Rating                         Place         Profile  \\\n",
       "0  24 years experience   100%           Kakkanad, Ernakulam       Homeopath   \n",
       "1  12 years experience    98%         Whitefield, Bangalore        Ayurveda   \n",
       "2   9 years experience     0%    Mathikere - BEL, Bangalore  ENT Specialist   \n",
       "3  12 years experience     0%  Bannerghatta Road, Bangalore        Ayurveda   \n",
       "4  20 years experience   100%         Keelkattalai, Chennai        Ayurveda   \n",
       "\n",
       "                                  Miscellaneous_Info  Fees  \n",
       "0               100% 16 Feedback Kakkanad, Ernakulam   100  \n",
       "1              98% 76 Feedback Whitefield, Bangalore   350  \n",
       "2                                                NaN   300  \n",
       "3  Bannerghatta Road, Bangalore ₹250 Available on...   250  \n",
       "4              100% 4 Feedback Keelkattalai, Chennai   250  "
      ]
     },
     "execution_count": 11,
     "metadata": {},
     "output_type": "execute_result"
    }
   ],
   "source": [
    "# from sklearn.impute import SimpleImputer\n",
    "imp1 = SimpleImputer(missing_values=np.nan, fill_value='Not_Known', strategy='constant')\n",
    "df.iloc[:,2:3] = imp1.fit_transform(df.iloc[:,2:3])\n",
    "df.head()"
   ]
  },
  {
   "cell_type": "markdown",
   "metadata": {},
   "source": [
    "## Converting attributes"
   ]
  },
  {
   "cell_type": "code",
   "execution_count": 12,
   "metadata": {},
   "outputs": [
    {
     "data": {
      "text/html": [
       "<div>\n",
       "<style scoped>\n",
       "    .dataframe tbody tr th:only-of-type {\n",
       "        vertical-align: middle;\n",
       "    }\n",
       "\n",
       "    .dataframe tbody tr th {\n",
       "        vertical-align: top;\n",
       "    }\n",
       "\n",
       "    .dataframe thead th {\n",
       "        text-align: right;\n",
       "    }\n",
       "</style>\n",
       "<table border=\"1\" class=\"dataframe\">\n",
       "  <thead>\n",
       "    <tr style=\"text-align: right;\">\n",
       "      <th></th>\n",
       "      <th>Experience</th>\n",
       "      <th>Rating</th>\n",
       "      <th>Place</th>\n",
       "      <th>Profile</th>\n",
       "      <th>Miscellaneous_Info</th>\n",
       "      <th>Fees</th>\n",
       "      <th>City</th>\n",
       "    </tr>\n",
       "  </thead>\n",
       "  <tbody>\n",
       "    <tr>\n",
       "      <th>0</th>\n",
       "      <td>24</td>\n",
       "      <td>1</td>\n",
       "      <td>Kakkanad</td>\n",
       "      <td>Homeopath</td>\n",
       "      <td>16</td>\n",
       "      <td>100</td>\n",
       "      <td>Ernakulam</td>\n",
       "    </tr>\n",
       "    <tr>\n",
       "      <th>1</th>\n",
       "      <td>12</td>\n",
       "      <td>0.98</td>\n",
       "      <td>Whitefield</td>\n",
       "      <td>Ayurveda</td>\n",
       "      <td>76</td>\n",
       "      <td>350</td>\n",
       "      <td>Bangalore</td>\n",
       "    </tr>\n",
       "    <tr>\n",
       "      <th>2</th>\n",
       "      <td>9</td>\n",
       "      <td>0</td>\n",
       "      <td>Mathikere - BEL</td>\n",
       "      <td>ENT Specialist</td>\n",
       "      <td>0</td>\n",
       "      <td>300</td>\n",
       "      <td>Bangalore</td>\n",
       "    </tr>\n",
       "    <tr>\n",
       "      <th>3</th>\n",
       "      <td>12</td>\n",
       "      <td>0</td>\n",
       "      <td>Bannerghatta Road</td>\n",
       "      <td>Ayurveda</td>\n",
       "      <td>0</td>\n",
       "      <td>250</td>\n",
       "      <td>Bangalore</td>\n",
       "    </tr>\n",
       "    <tr>\n",
       "      <th>4</th>\n",
       "      <td>20</td>\n",
       "      <td>1</td>\n",
       "      <td>Keelkattalai</td>\n",
       "      <td>Ayurveda</td>\n",
       "      <td>4</td>\n",
       "      <td>250</td>\n",
       "      <td>Chennai</td>\n",
       "    </tr>\n",
       "  </tbody>\n",
       "</table>\n",
       "</div>"
      ],
      "text/plain": [
       "   Experience Rating              Place         Profile  Miscellaneous_Info  \\\n",
       "0          24      1           Kakkanad       Homeopath                  16   \n",
       "1          12   0.98         Whitefield        Ayurveda                  76   \n",
       "2           9      0    Mathikere - BEL  ENT Specialist                   0   \n",
       "3          12      0  Bannerghatta Road        Ayurveda                   0   \n",
       "4          20      1       Keelkattalai        Ayurveda                   4   \n",
       "\n",
       "   Fees       City  \n",
       "0   100  Ernakulam  \n",
       "1   350  Bangalore  \n",
       "2   300  Bangalore  \n",
       "3   250  Bangalore  \n",
       "4   250    Chennai  "
      ]
     },
     "execution_count": 12,
     "metadata": {},
     "output_type": "execute_result"
    }
   ],
   "source": [
    "for i in range(0,df.shape[0]):\n",
    "    df.loc[i,'Experience'] = int(df['Experience'][i].rstrip(' years experience'))\n",
    "    df.loc[i,'Rating'] = int(df['Rating'][i].rstrip('%'))/100\n",
    "    df.loc[i,'City'] = re.sub(r'[\\w|\\W]*, ', '', df['Place'][i])\n",
    "    df.loc[i,'Place'] = re.sub(r', [\\w|\\W]*', '', df['Place'][i])\n",
    "    if str(df['Miscellaneous_Info'][i]).find('Feedback') == -1:\n",
    "        df.loc[i,'Miscellaneous_Info'] = 0\n",
    "    else:\n",
    "        df.loc[i,'Miscellaneous_Info'] = int(re.sub(r'Feedback.*', '', df['Miscellaneous_Info'][i]).rstrip()[-2:].lstrip())\n",
    "df.head()"
   ]
  },
  {
   "cell_type": "code",
   "execution_count": 13,
   "metadata": {},
   "outputs": [
    {
     "data": {
      "text/plain": [
       "Int64Index([3980], dtype='int64')"
      ]
     },
     "execution_count": 13,
     "metadata": {},
     "output_type": "execute_result"
    }
   ],
   "source": [
    "df[df['Place'] == 'e'].index"
   ]
  },
  {
   "cell_type": "code",
   "execution_count": 14,
   "metadata": {},
   "outputs": [
    {
     "data": {
      "text/html": [
       "<div>\n",
       "<style scoped>\n",
       "    .dataframe tbody tr th:only-of-type {\n",
       "        vertical-align: middle;\n",
       "    }\n",
       "\n",
       "    .dataframe tbody tr th {\n",
       "        vertical-align: top;\n",
       "    }\n",
       "\n",
       "    .dataframe thead th {\n",
       "        text-align: right;\n",
       "    }\n",
       "</style>\n",
       "<table border=\"1\" class=\"dataframe\">\n",
       "  <thead>\n",
       "    <tr style=\"text-align: right;\">\n",
       "      <th></th>\n",
       "      <th>Experience</th>\n",
       "      <th>Rating</th>\n",
       "      <th>Place</th>\n",
       "      <th>Profile</th>\n",
       "      <th>Miscellaneous_Info</th>\n",
       "      <th>Fees</th>\n",
       "      <th>City</th>\n",
       "    </tr>\n",
       "  </thead>\n",
       "  <tbody>\n",
       "    <tr>\n",
       "      <th>3979</th>\n",
       "      <td>28</td>\n",
       "      <td>0</td>\n",
       "      <td>Kakkanad</td>\n",
       "      <td>Dentist</td>\n",
       "      <td>1</td>\n",
       "      <td>100</td>\n",
       "      <td>Ernakulam</td>\n",
       "    </tr>\n",
       "    <tr>\n",
       "      <th>3980</th>\n",
       "      <td>23</td>\n",
       "      <td>0</td>\n",
       "      <td>e</td>\n",
       "      <td>Dentist</td>\n",
       "      <td>0</td>\n",
       "      <td>250</td>\n",
       "      <td>e</td>\n",
       "    </tr>\n",
       "    <tr>\n",
       "      <th>3981</th>\n",
       "      <td>14</td>\n",
       "      <td>0</td>\n",
       "      <td>Malad West</td>\n",
       "      <td>General Medicine</td>\n",
       "      <td>0</td>\n",
       "      <td>800</td>\n",
       "      <td>Mumbai</td>\n",
       "    </tr>\n",
       "    <tr>\n",
       "      <th>3982</th>\n",
       "      <td>16</td>\n",
       "      <td>0</td>\n",
       "      <td>Kothamangalam</td>\n",
       "      <td>General Medicine</td>\n",
       "      <td>0</td>\n",
       "      <td>70</td>\n",
       "      <td>Ernakulam</td>\n",
       "    </tr>\n",
       "  </tbody>\n",
       "</table>\n",
       "</div>"
      ],
      "text/plain": [
       "      Experience Rating          Place           Profile  Miscellaneous_Info  \\\n",
       "3979          28      0       Kakkanad           Dentist                   1   \n",
       "3980          23      0              e           Dentist                   0   \n",
       "3981          14      0     Malad West  General Medicine                   0   \n",
       "3982          16      0  Kothamangalam  General Medicine                   0   \n",
       "\n",
       "      Fees       City  \n",
       "3979   100  Ernakulam  \n",
       "3980   250          e  \n",
       "3981   800     Mumbai  \n",
       "3982    70  Ernakulam  "
      ]
     },
     "execution_count": 14,
     "metadata": {},
     "output_type": "execute_result"
    }
   ],
   "source": [
    "df.iloc[3979:3983,:]"
   ]
  },
  {
   "cell_type": "code",
   "execution_count": 15,
   "metadata": {},
   "outputs": [
    {
     "data": {
      "text/html": [
       "<div>\n",
       "<style scoped>\n",
       "    .dataframe tbody tr th:only-of-type {\n",
       "        vertical-align: middle;\n",
       "    }\n",
       "\n",
       "    .dataframe tbody tr th {\n",
       "        vertical-align: top;\n",
       "    }\n",
       "\n",
       "    .dataframe thead th {\n",
       "        text-align: right;\n",
       "    }\n",
       "</style>\n",
       "<table border=\"1\" class=\"dataframe\">\n",
       "  <thead>\n",
       "    <tr style=\"text-align: right;\">\n",
       "      <th></th>\n",
       "      <th>Experience</th>\n",
       "      <th>Rating</th>\n",
       "      <th>Place</th>\n",
       "      <th>Profile</th>\n",
       "      <th>Miscellaneous_Info</th>\n",
       "      <th>Fees</th>\n",
       "      <th>City</th>\n",
       "    </tr>\n",
       "  </thead>\n",
       "  <tbody>\n",
       "    <tr>\n",
       "      <th>3979</th>\n",
       "      <td>28</td>\n",
       "      <td>0</td>\n",
       "      <td>Kakkanad</td>\n",
       "      <td>Dentist</td>\n",
       "      <td>1</td>\n",
       "      <td>100</td>\n",
       "      <td>Ernakulam</td>\n",
       "    </tr>\n",
       "    <tr>\n",
       "      <th>3981</th>\n",
       "      <td>14</td>\n",
       "      <td>0</td>\n",
       "      <td>Malad West</td>\n",
       "      <td>General Medicine</td>\n",
       "      <td>0</td>\n",
       "      <td>800</td>\n",
       "      <td>Mumbai</td>\n",
       "    </tr>\n",
       "    <tr>\n",
       "      <th>3982</th>\n",
       "      <td>16</td>\n",
       "      <td>0</td>\n",
       "      <td>Kothamangalam</td>\n",
       "      <td>General Medicine</td>\n",
       "      <td>0</td>\n",
       "      <td>70</td>\n",
       "      <td>Ernakulam</td>\n",
       "    </tr>\n",
       "    <tr>\n",
       "      <th>3983</th>\n",
       "      <td>6</td>\n",
       "      <td>1</td>\n",
       "      <td>Borivali West</td>\n",
       "      <td>Homeopath</td>\n",
       "      <td>0</td>\n",
       "      <td>100</td>\n",
       "      <td>Mumbai</td>\n",
       "    </tr>\n",
       "  </tbody>\n",
       "</table>\n",
       "</div>"
      ],
      "text/plain": [
       "      Experience Rating          Place           Profile  Miscellaneous_Info  \\\n",
       "3979          28      0       Kakkanad           Dentist                   1   \n",
       "3981          14      0     Malad West  General Medicine                   0   \n",
       "3982          16      0  Kothamangalam  General Medicine                   0   \n",
       "3983           6      1  Borivali West         Homeopath                   0   \n",
       "\n",
       "      Fees       City  \n",
       "3979   100  Ernakulam  \n",
       "3981   800     Mumbai  \n",
       "3982    70  Ernakulam  \n",
       "3983   100     Mumbai  "
      ]
     },
     "execution_count": 15,
     "metadata": {},
     "output_type": "execute_result"
    }
   ],
   "source": [
    "df.drop(index=3980, inplace=True)\n",
    "df.iloc[3979:3983,:]"
   ]
  },
  {
   "cell_type": "markdown",
   "metadata": {},
   "source": [
    "## Visualizing the relationship between the features & the response using scatterplots"
   ]
  },
  {
   "cell_type": "code",
   "execution_count": 16,
   "metadata": {
    "scrolled": true
   },
   "outputs": [
    {
     "data": {
      "text/plain": [
       "<seaborn.axisgrid.PairGrid at 0x1fc235ee7f0>"
      ]
     },
     "execution_count": 16,
     "metadata": {},
     "output_type": "execute_result"
    },
    {
     "data": {
      "image/png": "[encoded data removed]",
      "text/plain": [
       "<Figure size 1080x360 with 3 Axes>"
      ]
     },
     "metadata": {
      "needs_background": "light"
     },
     "output_type": "display_data"
    }
   ],
   "source": [
    "sns.pairplot(df, x_vars=['Experience','Rating','Miscellaneous_Info'], y_vars='Fees', height=5, aspect=1)"
   ]
  },
  {
   "cell_type": "code",
   "execution_count": 17,
   "metadata": {},
   "outputs": [
    {
     "data": {
      "text/plain": [
       "Experience             int64\n",
       "Rating                object\n",
       "Place                 object\n",
       "Profile               object\n",
       "Miscellaneous_Info     int64\n",
       "Fees                   int64\n",
       "City                  object\n",
       "dtype: object"
      ]
     },
     "execution_count": 17,
     "metadata": {},
     "output_type": "execute_result"
    }
   ],
   "source": [
    "df.dtypes"
   ]
  },
  {
   "cell_type": "code",
   "execution_count": 18,
   "metadata": {},
   "outputs": [],
   "source": [
    "df = df.astype({\"Rating\": int})"
   ]
  },
  {
   "cell_type": "code",
   "execution_count": 19,
   "metadata": {},
   "outputs": [
    {
     "data": {
      "text/plain": [
       "Experience             int64\n",
       "Rating                 int32\n",
       "Place                 object\n",
       "Profile               object\n",
       "Miscellaneous_Info     int64\n",
       "Fees                   int64\n",
       "City                  object\n",
       "dtype: object"
      ]
     },
     "execution_count": 19,
     "metadata": {},
     "output_type": "execute_result"
    }
   ],
   "source": [
    "df.dtypes"
   ]
  },
  {
   "cell_type": "code",
   "execution_count": 20,
   "metadata": {},
   "outputs": [
    {
     "data": {
      "text/plain": [
       "<matplotlib.axes._subplots.AxesSubplot at 0x1fc25d7b048>"
      ]
     },
     "execution_count": 20,
     "metadata": {},
     "output_type": "execute_result"
    },
    {
     "data": {
      "image/png": "[encoded data removed]",
      "text/plain": [
       "<Figure size 864x504 with 2 Axes>"
      ]
     },
     "metadata": {
      "needs_background": "light"
     },
     "output_type": "display_data"
    }
   ],
   "source": [
    "sns.heatmap(df.corr())"
   ]
  },
  {
   "cell_type": "code",
   "execution_count": 21,
   "metadata": {},
   "outputs": [
    {
     "data": {
      "text/html": [
       "<div>\n",
       "<style scoped>\n",
       "    .dataframe tbody tr th:only-of-type {\n",
       "        vertical-align: middle;\n",
       "    }\n",
       "\n",
       "    .dataframe tbody tr th {\n",
       "        vertical-align: top;\n",
       "    }\n",
       "\n",
       "    .dataframe thead th {\n",
       "        text-align: right;\n",
       "    }\n",
       "</style>\n",
       "<table border=\"1\" class=\"dataframe\">\n",
       "  <thead>\n",
       "    <tr style=\"text-align: right;\">\n",
       "      <th></th>\n",
       "      <th>Experience</th>\n",
       "      <th>Rating</th>\n",
       "      <th>Miscellaneous_Info</th>\n",
       "      <th>Fees</th>\n",
       "    </tr>\n",
       "  </thead>\n",
       "  <tbody>\n",
       "    <tr>\n",
       "      <th>count</th>\n",
       "      <td>5960.000000</td>\n",
       "      <td>5960.000000</td>\n",
       "      <td>5960.000000</td>\n",
       "      <td>5960.000000</td>\n",
       "    </tr>\n",
       "    <tr>\n",
       "      <th>mean</th>\n",
       "      <td>17.303020</td>\n",
       "      <td>0.114765</td>\n",
       "      <td>5.861745</td>\n",
       "      <td>307.954362</td>\n",
       "    </tr>\n",
       "    <tr>\n",
       "      <th>std</th>\n",
       "      <td>11.143489</td>\n",
       "      <td>0.318765</td>\n",
       "      <td>15.339991</td>\n",
       "      <td>190.934916</td>\n",
       "    </tr>\n",
       "    <tr>\n",
       "      <th>min</th>\n",
       "      <td>0.000000</td>\n",
       "      <td>0.000000</td>\n",
       "      <td>0.000000</td>\n",
       "      <td>5.000000</td>\n",
       "    </tr>\n",
       "    <tr>\n",
       "      <th>25%</th>\n",
       "      <td>9.000000</td>\n",
       "      <td>0.000000</td>\n",
       "      <td>0.000000</td>\n",
       "      <td>150.000000</td>\n",
       "    </tr>\n",
       "    <tr>\n",
       "      <th>50%</th>\n",
       "      <td>14.000000</td>\n",
       "      <td>0.000000</td>\n",
       "      <td>0.000000</td>\n",
       "      <td>300.000000</td>\n",
       "    </tr>\n",
       "    <tr>\n",
       "      <th>75%</th>\n",
       "      <td>23.000000</td>\n",
       "      <td>0.000000</td>\n",
       "      <td>1.000000</td>\n",
       "      <td>500.000000</td>\n",
       "    </tr>\n",
       "    <tr>\n",
       "      <th>max</th>\n",
       "      <td>66.000000</td>\n",
       "      <td>1.000000</td>\n",
       "      <td>99.000000</td>\n",
       "      <td>950.000000</td>\n",
       "    </tr>\n",
       "  </tbody>\n",
       "</table>\n",
       "</div>"
      ],
      "text/plain": [
       "        Experience       Rating  Miscellaneous_Info         Fees\n",
       "count  5960.000000  5960.000000         5960.000000  5960.000000\n",
       "mean     17.303020     0.114765            5.861745   307.954362\n",
       "std      11.143489     0.318765           15.339991   190.934916\n",
       "min       0.000000     0.000000            0.000000     5.000000\n",
       "25%       9.000000     0.000000            0.000000   150.000000\n",
       "50%      14.000000     0.000000            0.000000   300.000000\n",
       "75%      23.000000     0.000000            1.000000   500.000000\n",
       "max      66.000000     1.000000           99.000000   950.000000"
      ]
     },
     "execution_count": 21,
     "metadata": {},
     "output_type": "execute_result"
    }
   ],
   "source": [
    "df.describe()"
   ]
  },
  {
   "cell_type": "code",
   "execution_count": 22,
   "metadata": {},
   "outputs": [
    {
     "data": {
      "text/plain": [
       "<matplotlib.axes._subplots.AxesSubplot at 0x1fc2627f080>"
      ]
     },
     "execution_count": 22,
     "metadata": {},
     "output_type": "execute_result"
    },
    {
     "data": {
      "image/png": "[encoded data removed]",
      "text/plain": [
       "<Figure size 864x504 with 1 Axes>"
      ]
     },
     "metadata": {
      "needs_background": "light"
     },
     "output_type": "display_data"
    }
   ],
   "source": [
    "sns.boxplot(x='Profile', y='Fees', data=df, palette='winter')"
   ]
  },
  {
   "cell_type": "markdown",
   "metadata": {},
   "source": [
    "## Creating dummy variables & then excluding the first dummy column"
   ]
  },
  {
   "cell_type": "code",
   "execution_count": 23,
   "metadata": {},
   "outputs": [],
   "source": [
    "# place_dummies = pd.get_dummies(df.Place, prefix='Place')\n",
    "# place_dummies = place_dummies.iloc[:, 1:]\n",
    "\n",
    "city_dummies = pd.get_dummies(df.City, prefix='City')\n",
    "city_dummies = city_dummies.iloc[:, 1:]\n",
    "\n",
    "profile_dummies = pd.get_dummies(df.Profile, prefix='Profile')\n",
    "profile_dummies = profile_dummies.iloc[:, 1:]"
   ]
  },
  {
   "cell_type": "code",
   "execution_count": 24,
   "metadata": {},
   "outputs": [],
   "source": [
    "# from sklearn.preprocessing import LabelEncoder, OneHotEncoder\n",
    "\n",
    "# le_X = LabelEncoder()\n",
    "# X[:,0] = le_X.fit_transform(X[:,0])\n",
    "\n",
    "# ohe = OneHotEncoder(categorical_features = [0])\n",
    "# X = ohe.fit_transform(X).toarray()\n",
    "\n",
    "# le_y = LabelEncoder()\n",
    "# y = le_y.fit_transform(y)"
   ]
  },
  {
   "cell_type": "markdown",
   "metadata": {},
   "source": [
    "## Concatenating the dummy variable columns onto the DataFrame "
   ]
  },
  {
   "cell_type": "code",
   "execution_count": 25,
   "metadata": {},
   "outputs": [
    {
     "data": {
      "text/html": [
       "<div>\n",
       "<style scoped>\n",
       "    .dataframe tbody tr th:only-of-type {\n",
       "        vertical-align: middle;\n",
       "    }\n",
       "\n",
       "    .dataframe tbody tr th {\n",
       "        vertical-align: top;\n",
       "    }\n",
       "\n",
       "    .dataframe thead th {\n",
       "        text-align: right;\n",
       "    }\n",
       "</style>\n",
       "<table border=\"1\" class=\"dataframe\">\n",
       "  <thead>\n",
       "    <tr style=\"text-align: right;\">\n",
       "      <th></th>\n",
       "      <th>City_Chennai</th>\n",
       "      <th>City_Coimbatore</th>\n",
       "      <th>City_Delhi</th>\n",
       "      <th>City_Ernakulam</th>\n",
       "      <th>City_Hyderabad</th>\n",
       "      <th>City_Mumbai</th>\n",
       "      <th>City_Not_Known</th>\n",
       "      <th>City_Thiruvananthapuram</th>\n",
       "      <th>Profile_Dentist</th>\n",
       "      <th>Profile_Dermatologists</th>\n",
       "      <th>Profile_ENT Specialist</th>\n",
       "      <th>Profile_General Medicine</th>\n",
       "      <th>Profile_Homeopath</th>\n",
       "      <th>Experience</th>\n",
       "      <th>Rating</th>\n",
       "      <th>Miscellaneous_Info</th>\n",
       "      <th>Fees</th>\n",
       "    </tr>\n",
       "  </thead>\n",
       "  <tbody>\n",
       "    <tr>\n",
       "      <th>0</th>\n",
       "      <td>0</td>\n",
       "      <td>0</td>\n",
       "      <td>0</td>\n",
       "      <td>1</td>\n",
       "      <td>0</td>\n",
       "      <td>0</td>\n",
       "      <td>0</td>\n",
       "      <td>0</td>\n",
       "      <td>0</td>\n",
       "      <td>0</td>\n",
       "      <td>0</td>\n",
       "      <td>0</td>\n",
       "      <td>1</td>\n",
       "      <td>24</td>\n",
       "      <td>1</td>\n",
       "      <td>16</td>\n",
       "      <td>100</td>\n",
       "    </tr>\n",
       "    <tr>\n",
       "      <th>1</th>\n",
       "      <td>0</td>\n",
       "      <td>0</td>\n",
       "      <td>0</td>\n",
       "      <td>0</td>\n",
       "      <td>0</td>\n",
       "      <td>0</td>\n",
       "      <td>0</td>\n",
       "      <td>0</td>\n",
       "      <td>0</td>\n",
       "      <td>0</td>\n",
       "      <td>0</td>\n",
       "      <td>0</td>\n",
       "      <td>0</td>\n",
       "      <td>12</td>\n",
       "      <td>0</td>\n",
       "      <td>76</td>\n",
       "      <td>350</td>\n",
       "    </tr>\n",
       "    <tr>\n",
       "      <th>2</th>\n",
       "      <td>0</td>\n",
       "      <td>0</td>\n",
       "      <td>0</td>\n",
       "      <td>0</td>\n",
       "      <td>0</td>\n",
       "      <td>0</td>\n",
       "      <td>0</td>\n",
       "      <td>0</td>\n",
       "      <td>0</td>\n",
       "      <td>0</td>\n",
       "      <td>1</td>\n",
       "      <td>0</td>\n",
       "      <td>0</td>\n",
       "      <td>9</td>\n",
       "      <td>0</td>\n",
       "      <td>0</td>\n",
       "      <td>300</td>\n",
       "    </tr>\n",
       "    <tr>\n",
       "      <th>3</th>\n",
       "      <td>0</td>\n",
       "      <td>0</td>\n",
       "      <td>0</td>\n",
       "      <td>0</td>\n",
       "      <td>0</td>\n",
       "      <td>0</td>\n",
       "      <td>0</td>\n",
       "      <td>0</td>\n",
       "      <td>0</td>\n",
       "      <td>0</td>\n",
       "      <td>0</td>\n",
       "      <td>0</td>\n",
       "      <td>0</td>\n",
       "      <td>12</td>\n",
       "      <td>0</td>\n",
       "      <td>0</td>\n",
       "      <td>250</td>\n",
       "    </tr>\n",
       "    <tr>\n",
       "      <th>4</th>\n",
       "      <td>1</td>\n",
       "      <td>0</td>\n",
       "      <td>0</td>\n",
       "      <td>0</td>\n",
       "      <td>0</td>\n",
       "      <td>0</td>\n",
       "      <td>0</td>\n",
       "      <td>0</td>\n",
       "      <td>0</td>\n",
       "      <td>0</td>\n",
       "      <td>0</td>\n",
       "      <td>0</td>\n",
       "      <td>0</td>\n",
       "      <td>20</td>\n",
       "      <td>1</td>\n",
       "      <td>4</td>\n",
       "      <td>250</td>\n",
       "    </tr>\n",
       "  </tbody>\n",
       "</table>\n",
       "</div>"
      ],
      "text/plain": [
       "   City_Chennai  City_Coimbatore  City_Delhi  City_Ernakulam  City_Hyderabad  \\\n",
       "0             0                0           0               1               0   \n",
       "1             0                0           0               0               0   \n",
       "2             0                0           0               0               0   \n",
       "3             0                0           0               0               0   \n",
       "4             1                0           0               0               0   \n",
       "\n",
       "   City_Mumbai  City_Not_Known  City_Thiruvananthapuram  Profile_Dentist  \\\n",
       "0            0               0                        0                0   \n",
       "1            0               0                        0                0   \n",
       "2            0               0                        0                0   \n",
       "3            0               0                        0                0   \n",
       "4            0               0                        0                0   \n",
       "\n",
       "   Profile_Dermatologists  Profile_ENT Specialist  Profile_General Medicine  \\\n",
       "0                       0                       0                         0   \n",
       "1                       0                       0                         0   \n",
       "2                       0                       1                         0   \n",
       "3                       0                       0                         0   \n",
       "4                       0                       0                         0   \n",
       "\n",
       "   Profile_Homeopath  Experience  Rating  Miscellaneous_Info  Fees  \n",
       "0                  1          24       1                  16   100  \n",
       "1                  0          12       0                  76   350  \n",
       "2                  0           9       0                   0   300  \n",
       "3                  0          12       0                   0   250  \n",
       "4                  0          20       1                   4   250  "
      ]
     },
     "execution_count": 25,
     "metadata": {},
     "output_type": "execute_result"
    }
   ],
   "source": [
    "# (axis=0 means rows, axis=1 means columns)\n",
    "# df = pd.concat([place_dummies, city_dummies, profile_dummies, df], axis=1)\n",
    "# df = pd.concat([place_dummies, profile_dummies, df], axis=1)\n",
    "df = pd.concat([city_dummies, profile_dummies, df], axis=1)\n",
    "df.drop(columns=['Place','Profile','City'], inplace=True)\n",
    "df.head()"
   ]
  },
  {
   "cell_type": "code",
   "execution_count": 26,
   "metadata": {},
   "outputs": [
    {
     "data": {
      "text/plain": [
       "<matplotlib.axes._subplots.AxesSubplot at 0x1fc258bcbe0>"
      ]
     },
     "execution_count": 26,
     "metadata": {},
     "output_type": "execute_result"
    },
    {
     "data": {
      "image/png": "[encoded data removed]",
      "text/plain": [
       "<Figure size 864x504 with 2 Axes>"
      ]
     },
     "metadata": {
      "needs_background": "light"
     },
     "output_type": "display_data"
    }
   ],
   "source": [
    "sns.heatmap(df.corr())"
   ]
  },
  {
   "cell_type": "markdown",
   "metadata": {},
   "source": [
    "## Splitting dataframe into dependent & independent variables"
   ]
  },
  {
   "cell_type": "code",
   "execution_count": 27,
   "metadata": {},
   "outputs": [],
   "source": [
    "# X = df.iloc[:,:-1].values\n",
    "X = df.iloc[:,:-2].values\n",
    "y = df.iloc[:,-1].values"
   ]
  },
  {
   "cell_type": "markdown",
   "metadata": {},
   "source": [
    "## Standardizing the features"
   ]
  },
  {
   "cell_type": "code",
   "execution_count": 28,
   "metadata": {},
   "outputs": [
    {
     "name": "stderr",
     "output_type": "stream",
     "text": [
      "e:\\rohit\\python\\lib\\site-packages\\sklearn\\utils\\validation.py:595: DataConversionWarning: Data with input dtype int64 was converted to float64 by StandardScaler.\n",
      "  warnings.warn(msg, DataConversionWarning)\n",
      "e:\\rohit\\python\\lib\\site-packages\\sklearn\\utils\\validation.py:595: DataConversionWarning: Data with input dtype int64 was converted to float64 by StandardScaler.\n",
      "  warnings.warn(msg, DataConversionWarning)\n"
     ]
    }
   ],
   "source": [
    "# from sklearn.preprocessing import StandardScaler\n",
    "sc_X = StandardScaler()\n",
    "X = sc_X.fit_transform(X)\n",
    "\n",
    "# from sklearn.preprocessing import MinMaxScaler\n",
    "# sc_X = MinMaxScaler()\n",
    "# X = sc_X.fit_transform(X)"
   ]
  },
  {
   "cell_type": "markdown",
   "metadata": {},
   "source": [
    "## Splitting into training & test sets"
   ]
  },
  {
   "cell_type": "code",
   "execution_count": 29,
   "metadata": {},
   "outputs": [],
   "source": [
    "# from sklearn.model_selection import train_test_split\n",
    "X_train, X_test, y_train, y_test = train_test_split(X, y, test_size=0.005)"
   ]
  },
  {
   "cell_type": "markdown",
   "metadata": {},
   "source": [
    "Data Preprocessing Done!"
   ]
  },
  {
   "cell_type": "markdown",
   "metadata": {},
   "source": [
    "## Multivariate Linear Regression"
   ]
  },
  {
   "cell_type": "code",
   "execution_count": 30,
   "metadata": {},
   "outputs": [
    {
     "data": {
      "text/plain": [
       "LinearRegression(copy_X=True, fit_intercept=True, n_jobs=-1, normalize=False)"
      ]
     },
     "execution_count": 30,
     "metadata": {},
     "output_type": "execute_result"
    }
   ],
   "source": [
    "# from sklearn.linear_model import LinearRegression\n",
    "regressor1 = LinearRegression(n_jobs=-1)\n",
    "regressor1.fit(X_train, y_train)"
   ]
  },
  {
   "cell_type": "code",
   "execution_count": 31,
   "metadata": {},
   "outputs": [
    {
     "data": {
      "text/plain": [
       "array([265.03253851, 312.41111142, 241.66547594, 248.64478468,\n",
       "       432.12138125, 160.37070306, 418.23185246, 345.37382969,\n",
       "       258.39655521, 417.52290865, 419.99410239, 272.08153823,\n",
       "       316.67735763, 329.02417105, 433.88363118, 342.24104554,\n",
       "       292.41887502, 235.4873061 , 392.32390517, 262.89993183,\n",
       "       414.87953375, 361.10670876, 414.87953375, 263.27028857,\n",
       "       339.59767064, 365.51233359, 406.06828409, 229.76333779,\n",
       "       114.947574  , 310.64886148])"
      ]
     },
     "execution_count": 31,
     "metadata": {},
     "output_type": "execute_result"
    }
   ],
   "source": [
    "y_pred1 = regressor1.predict(X_test)\n",
    "y_pred1"
   ]
  },
  {
   "cell_type": "code",
   "execution_count": 32,
   "metadata": {},
   "outputs": [
    {
     "data": {
      "text/plain": [
       "array([100, 100, 100, 250, 600,   5, 150, 100, 100, 500, 800, 200, 300,\n",
       "       200, 500, 300, 500, 500, 500, 300, 500, 300, 500, 500, 650, 250,\n",
       "       600, 300, 150, 100], dtype=int64)"
      ]
     },
     "execution_count": 32,
     "metadata": {},
     "output_type": "execute_result"
    }
   ],
   "source": [
    "y_test"
   ]
  },
  {
   "cell_type": "code",
   "execution_count": 33,
   "metadata": {},
   "outputs": [
    {
     "name": "stdout",
     "output_type": "stream",
     "text": [
      "Explained_Variance_Score:  0.2932012907723125\n",
      "Mean_Absolute_Error:  144.1690344559844\n",
      "Mean_Squared_Error:  29320.29170442202\n",
      "Root_Mean_Squared_Error:  171.23169012896537\n",
      "Mean_Squared_Log_Error:  0.7257756506791656\n",
      "Median_Absolute_Error:  135.34482349381247\n",
      "R2_Score:  0.2901367152745704\n"
     ]
    }
   ],
   "source": [
    "# from sklearn import metrics\n",
    "print('Explained_Variance_Score: ',metrics.explained_variance_score(y_test, y_pred1))   # best possible score is 1.0, lower values are worse.\n",
    "print('Mean_Absolute_Error: ',metrics.mean_absolute_error(y_test, y_pred1))\n",
    "print('Mean_Squared_Error: ',metrics.mean_squared_error(y_test, y_pred1))\n",
    "print('Root_Mean_Squared_Error: ',np.sqrt(metrics.mean_squared_error(y_test, y_pred1)))\n",
    "print('Mean_Squared_Log_Error: ',metrics.mean_squared_log_error(y_test, y_pred1))\n",
    "print('Median_Absolute_Error: ',metrics.median_absolute_error(y_test, y_pred1))\n",
    "print('R2_Score: ',metrics.r2_score(y_test, y_pred1))   #  Best possible score is 1.0"
   ]
  },
  {
   "cell_type": "code",
   "execution_count": 34,
   "metadata": {},
   "outputs": [
    {
     "name": "stdout",
     "output_type": "stream",
     "text": [
      "0.15750872539570038 0.021284747566937334\n"
     ]
    }
   ],
   "source": [
    "# from sklearn.model_selection import cross_val_score\n",
    "accuracies = cross_val_score(estimator = regressor1, X = X, y = y, cv = 10, n_jobs=-1)\n",
    "print(accuracies.mean(),accuracies.std())"
   ]
  },
  {
   "cell_type": "code",
   "execution_count": 35,
   "metadata": {},
   "outputs": [
    {
     "data": {
      "text/html": [
       "<table class=\"simpletable\">\n",
       "<caption>OLS Regression Results</caption>\n",
       "<tr>\n",
       "  <th>Dep. Variable:</th>            <td>y</td>        <th>  R-squared:         </th> <td>   0.162</td> \n",
       "</tr>\n",
       "<tr>\n",
       "  <th>Model:</th>                   <td>OLS</td>       <th>  Adj. R-squared:    </th> <td>   0.160</td> \n",
       "</tr>\n",
       "<tr>\n",
       "  <th>Method:</th>             <td>Least Squares</td>  <th>  F-statistic:       </th> <td>   76.88</td> \n",
       "</tr>\n",
       "<tr>\n",
       "  <th>Date:</th>             <td>Sat, 03 Aug 2019</td> <th>  Prob (F-statistic):</th> <td>2.10e-215</td>\n",
       "</tr>\n",
       "<tr>\n",
       "  <th>Time:</th>                 <td>00:31:08</td>     <th>  Log-Likelihood:    </th> <td> -39230.</td> \n",
       "</tr>\n",
       "<tr>\n",
       "  <th>No. Observations:</th>      <td>  5960</td>      <th>  AIC:               </th> <td>7.849e+04</td>\n",
       "</tr>\n",
       "<tr>\n",
       "  <th>Df Residuals:</th>          <td>  5944</td>      <th>  BIC:               </th> <td>7.860e+04</td>\n",
       "</tr>\n",
       "<tr>\n",
       "  <th>Df Model:</th>              <td>    15</td>      <th>                     </th>     <td> </td>    \n",
       "</tr>\n",
       "<tr>\n",
       "  <th>Covariance Type:</th>      <td>nonrobust</td>    <th>                     </th>     <td> </td>    \n",
       "</tr>\n",
       "</table>\n",
       "<table class=\"simpletable\">\n",
       "<tr>\n",
       "    <td></td>       <th>coef</th>     <th>std err</th>      <th>t</th>      <th>P>|t|</th>  <th>[0.025</th>    <th>0.975]</th>  \n",
       "</tr>\n",
       "<tr>\n",
       "  <th>const</th> <td>  307.9544</td> <td>    2.266</td> <td>  135.888</td> <td> 0.000</td> <td>  303.512</td> <td>  312.397</td>\n",
       "</tr>\n",
       "<tr>\n",
       "  <th>x1</th>    <td>  -16.9219</td> <td>    2.741</td> <td>   -6.173</td> <td> 0.000</td> <td>  -22.296</td> <td>  -11.548</td>\n",
       "</tr>\n",
       "<tr>\n",
       "  <th>x2</th>    <td>  -28.0388</td> <td>    2.480</td> <td>  -11.304</td> <td> 0.000</td> <td>  -32.901</td> <td>  -23.176</td>\n",
       "</tr>\n",
       "<tr>\n",
       "  <th>x3</th>    <td>   12.3510</td> <td>    2.844</td> <td>    4.344</td> <td> 0.000</td> <td>    6.777</td> <td>   17.925</td>\n",
       "</tr>\n",
       "<tr>\n",
       "  <th>x4</th>    <td>  -19.1004</td> <td>    2.390</td> <td>   -7.992</td> <td> 0.000</td> <td>  -23.786</td> <td>  -14.415</td>\n",
       "</tr>\n",
       "<tr>\n",
       "  <th>x5</th>    <td>   -8.7333</td> <td>    2.763</td> <td>   -3.161</td> <td> 0.002</td> <td>  -14.149</td> <td>   -3.318</td>\n",
       "</tr>\n",
       "<tr>\n",
       "  <th>x6</th>    <td>   -5.0785</td> <td>    2.851</td> <td>   -1.781</td> <td> 0.075</td> <td>  -10.667</td> <td>    0.510</td>\n",
       "</tr>\n",
       "<tr>\n",
       "  <th>x7</th>    <td>  -20.6857</td> <td>    2.316</td> <td>   -8.932</td> <td> 0.000</td> <td>  -25.226</td> <td>  -16.146</td>\n",
       "</tr>\n",
       "<tr>\n",
       "  <th>x8</th>    <td>  -13.9115</td> <td>    2.341</td> <td>   -5.943</td> <td> 0.000</td> <td>  -18.501</td> <td>   -9.322</td>\n",
       "</tr>\n",
       "<tr>\n",
       "  <th>x9</th>    <td>    7.9922</td> <td>    3.426</td> <td>    2.333</td> <td> 0.020</td> <td>    1.277</td> <td>   14.708</td>\n",
       "</tr>\n",
       "<tr>\n",
       "  <th>x10</th>   <td>   61.0284</td> <td>    3.172</td> <td>   19.241</td> <td> 0.000</td> <td>   54.811</td> <td>   67.246</td>\n",
       "</tr>\n",
       "<tr>\n",
       "  <th>x11</th>   <td>   50.3459</td> <td>    2.985</td> <td>   16.865</td> <td> 0.000</td> <td>   44.494</td> <td>   56.198</td>\n",
       "</tr>\n",
       "<tr>\n",
       "  <th>x12</th>   <td>   37.0598</td> <td>    3.333</td> <td>   11.120</td> <td> 0.000</td> <td>   30.526</td> <td>   43.593</td>\n",
       "</tr>\n",
       "<tr>\n",
       "  <th>x13</th>   <td>   21.8495</td> <td>    3.035</td> <td>    7.199</td> <td> 0.000</td> <td>   15.900</td> <td>   27.800</td>\n",
       "</tr>\n",
       "<tr>\n",
       "  <th>x14</th>   <td>   -9.6675</td> <td>    2.482</td> <td>   -3.895</td> <td> 0.000</td> <td>  -14.533</td> <td>   -4.802</td>\n",
       "</tr>\n",
       "<tr>\n",
       "  <th>x15</th>   <td>    5.0038</td> <td>    2.325</td> <td>    2.152</td> <td> 0.031</td> <td>    0.446</td> <td>    9.561</td>\n",
       "</tr>\n",
       "</table>\n",
       "<table class=\"simpletable\">\n",
       "<tr>\n",
       "  <th>Omnibus:</th>       <td>281.130</td> <th>  Durbin-Watson:     </th> <td>   1.983</td>\n",
       "</tr>\n",
       "<tr>\n",
       "  <th>Prob(Omnibus):</th> <td> 0.000</td>  <th>  Jarque-Bera (JB):  </th> <td> 321.291</td>\n",
       "</tr>\n",
       "<tr>\n",
       "  <th>Skew:</th>          <td> 0.565</td>  <th>  Prob(JB):          </th> <td>1.71e-70</td>\n",
       "</tr>\n",
       "<tr>\n",
       "  <th>Kurtosis:</th>      <td> 3.126</td>  <th>  Cond. No.          </th> <td>    3.28</td>\n",
       "</tr>\n",
       "</table><br/><br/>Warnings:<br/>[1] Standard Errors assume that the covariance matrix of the errors is correctly specified."
      ],
      "text/plain": [
       "<class 'statsmodels.iolib.summary.Summary'>\n",
       "\"\"\"\n",
       "                            OLS Regression Results                            \n",
       "==============================================================================\n",
       "Dep. Variable:                      y   R-squared:                       0.162\n",
       "Model:                            OLS   Adj. R-squared:                  0.160\n",
       "Method:                 Least Squares   F-statistic:                     76.88\n",
       "Date:                Sat, 03 Aug 2019   Prob (F-statistic):          2.10e-215\n",
       "Time:                        00:31:08   Log-Likelihood:                -39230.\n",
       "No. Observations:                5960   AIC:                         7.849e+04\n",
       "Df Residuals:                    5944   BIC:                         7.860e+04\n",
       "Df Model:                          15                                         \n",
       "Covariance Type:            nonrobust                                         \n",
       "==============================================================================\n",
       "                 coef    std err          t      P>|t|      [0.025      0.975]\n",
       "------------------------------------------------------------------------------\n",
       "const        307.9544      2.266    135.888      0.000     303.512     312.397\n",
       "x1           -16.9219      2.741     -6.173      0.000     -22.296     -11.548\n",
       "x2           -28.0388      2.480    -11.304      0.000     -32.901     -23.176\n",
       "x3            12.3510      2.844      4.344      0.000       6.777      17.925\n",
       "x4           -19.1004      2.390     -7.992      0.000     -23.786     -14.415\n",
       "x5            -8.7333      2.763     -3.161      0.002     -14.149      -3.318\n",
       "x6            -5.0785      2.851     -1.781      0.075     -10.667       0.510\n",
       "x7           -20.6857      2.316     -8.932      0.000     -25.226     -16.146\n",
       "x8           -13.9115      2.341     -5.943      0.000     -18.501      -9.322\n",
       "x9             7.9922      3.426      2.333      0.020       1.277      14.708\n",
       "x10           61.0284      3.172     19.241      0.000      54.811      67.246\n",
       "x11           50.3459      2.985     16.865      0.000      44.494      56.198\n",
       "x12           37.0598      3.333     11.120      0.000      30.526      43.593\n",
       "x13           21.8495      3.035      7.199      0.000      15.900      27.800\n",
       "x14           -9.6675      2.482     -3.895      0.000     -14.533      -4.802\n",
       "x15            5.0038      2.325      2.152      0.031       0.446       9.561\n",
       "==============================================================================\n",
       "Omnibus:                      281.130   Durbin-Watson:                   1.983\n",
       "Prob(Omnibus):                  0.000   Jarque-Bera (JB):              321.291\n",
       "Skew:                           0.565   Prob(JB):                     1.71e-70\n",
       "Kurtosis:                       3.126   Cond. No.                         3.28\n",
       "==============================================================================\n",
       "\n",
       "Warnings:\n",
       "[1] Standard Errors assume that the covariance matrix of the errors is correctly specified.\n",
       "\"\"\""
      ]
     },
     "execution_count": 35,
     "metadata": {},
     "output_type": "execute_result"
    }
   ],
   "source": [
    "import statsmodels.formula.api as sm\n",
    "X_opt = np.append(arr = np.ones((X.shape[0], 1)).astype(int), values = X, axis = 1)\n",
    "# X_opt = X[:, [0, 1, 2, 3, 4, 5]]\n",
    "regressor_OLS = sm.OLS(endog = y, exog = X_opt).fit()\n",
    "regressor_OLS.summary()"
   ]
  },
  {
   "cell_type": "markdown",
   "metadata": {},
   "source": [
    "## LASSO"
   ]
  },
  {
   "cell_type": "code",
   "execution_count": 36,
   "metadata": {
    "scrolled": true
   },
   "outputs": [
    {
     "data": {
      "text/plain": [
       "LassoCV(alphas=None, copy_X=True, cv=5, eps=1e-05, fit_intercept=True,\n",
       "    max_iter=1000, n_alphas=100, n_jobs=-1, normalize=False,\n",
       "    positive=False, precompute='auto', random_state=None,\n",
       "    selection='cyclic', tol=0.0001, verbose=False)"
      ]
     },
     "execution_count": 36,
     "metadata": {},
     "output_type": "execute_result"
    }
   ],
   "source": [
    "# from sklearn.linear_model import LassoCV\n",
    "regressor2 = LassoCV(cv=5, n_jobs=-1, eps=0.00001, n_alphas=100)\n",
    "regressor2.fit(X_train, y_train)"
   ]
  },
  {
   "cell_type": "code",
   "execution_count": 37,
   "metadata": {
    "scrolled": false
   },
   "outputs": [
    {
     "data": {
      "text/plain": [
       "array([265.0291373 , 312.41054184, 241.67130287, 248.64458093,\n",
       "       432.12030181, 160.3722031 , 418.2309577 , 345.372364  ,\n",
       "       258.39564014, 417.51906246, 419.99310778, 272.07773759,\n",
       "       316.67392406, 329.02098161, 433.88245188, 342.23710716,\n",
       "       292.41892618, 235.48768919, 392.32375573, 262.90603938,\n",
       "       414.87583735, 361.10728981, 414.87583735, 263.26698722,\n",
       "       339.59388205, 365.51266499, 406.06508698, 229.76316552,\n",
       "       114.9498788 , 310.64839177])"
      ]
     },
     "execution_count": 37,
     "metadata": {},
     "output_type": "execute_result"
    }
   ],
   "source": [
    "y_pred2 = regressor2.predict(X_test)\n",
    "y_pred2"
   ]
  },
  {
   "cell_type": "code",
   "execution_count": 38,
   "metadata": {
    "scrolled": true
   },
   "outputs": [
    {
     "data": {
      "text/plain": [
       "array([100, 100, 100, 250, 600,   5, 150, 100, 100, 500, 800, 200, 300,\n",
       "       200, 500, 300, 500, 500, 500, 300, 500, 300, 500, 500, 650, 250,\n",
       "       600, 300, 150, 100], dtype=int64)"
      ]
     },
     "execution_count": 38,
     "metadata": {},
     "output_type": "execute_result"
    }
   ],
   "source": [
    "y_test"
   ]
  },
  {
   "cell_type": "code",
   "execution_count": 39,
   "metadata": {
    "scrolled": true
   },
   "outputs": [
    {
     "name": "stdout",
     "output_type": "stream",
     "text": [
      "Explained_Variance_Score:  0.29319785776922025\n",
      "Mean_Absolute_Error:  144.1691217779789\n",
      "Mean_Squared_Error:  29320.456226885148\n",
      "Root_Mean_Squared_Error:  171.23217053721285\n",
      "Mean_Squared_Log_Error:  0.725777711447202\n",
      "Median_Absolute_Error:  135.3461422421741\n",
      "R2_Score:  0.29013273207899837\n"
     ]
    }
   ],
   "source": [
    "# from sklearn import metrics\n",
    "print('Explained_Variance_Score: ',metrics.explained_variance_score(y_test, y_pred2))\n",
    "print('Mean_Absolute_Error: ',metrics.mean_absolute_error(y_test, y_pred2))\n",
    "print('Mean_Squared_Error: ',metrics.mean_squared_error(y_test, y_pred2))\n",
    "print('Root_Mean_Squared_Error: ',np.sqrt(metrics.mean_squared_error(y_test, y_pred2)))\n",
    "print('Mean_Squared_Log_Error: ',metrics.mean_squared_log_error(y_test, y_pred2))\n",
    "print('Median_Absolute_Error: ',metrics.median_absolute_error(y_test, y_pred2))\n",
    "print('R2_Score: ',metrics.r2_score(y_test, y_pred2))"
   ]
  },
  {
   "cell_type": "code",
   "execution_count": 40,
   "metadata": {},
   "outputs": [
    {
     "name": "stdout",
     "output_type": "stream",
     "text": [
      "0.157482411758008 0.021285978987936303\n"
     ]
    }
   ],
   "source": [
    "# from sklearn.model_selection import cross_val_score\n",
    "accuracies = cross_val_score(estimator = regressor2, X = X, y = y, cv = 10, n_jobs=-1)\n",
    "print(accuracies.mean(),accuracies.std())"
   ]
  },
  {
   "cell_type": "code",
   "execution_count": 41,
   "metadata": {},
   "outputs": [
    {
     "name": "stdout",
     "output_type": "stream",
     "text": [
      "0.15717023270769925 {'eps': 0.0001, 'n_alphas': 10}\n"
     ]
    }
   ],
   "source": [
    "# from sklearn.model_selection import GridSearchCV\n",
    "parameters = [{'eps': [0.001, 0.0001, 0.00001], 'n_alphas': [10, 100, 1000]}]\n",
    "grid_search = GridSearchCV(estimator = regressor2,\n",
    "                           param_grid = parameters,\n",
    "                           scoring = 'r2',\n",
    "                           cv = 10,\n",
    "                           n_jobs = -1)\n",
    "grid_search = grid_search.fit(X_train, y_train)\n",
    "print(grid_search.best_score_, grid_search.best_params_)"
   ]
  },
  {
   "cell_type": "markdown",
   "metadata": {},
   "source": [
    "## Ridge / Shrinkage Regression"
   ]
  },
  {
   "cell_type": "code",
   "execution_count": 42,
   "metadata": {},
   "outputs": [
    {
     "data": {
      "text/plain": [
       "Ridge(alpha=10, copy_X=True, fit_intercept=True, max_iter=None,\n",
       "   normalize=False, random_state=None, solver='auto', tol=0.001)"
      ]
     },
     "execution_count": 42,
     "metadata": {},
     "output_type": "execute_result"
    }
   ],
   "source": [
    "# from sklearn.linear_model import Ridge\n",
    "regressor3 = Ridge(alpha=10)\n",
    "regressor3.fit(X_train, y_train)"
   ]
  },
  {
   "cell_type": "code",
   "execution_count": 43,
   "metadata": {},
   "outputs": [
    {
     "data": {
      "text/plain": [
       "array([264.80810447, 312.34430855, 242.44148624, 248.61496601,\n",
       "       431.90679575, 160.36607071, 418.04833716, 345.2724035 ,\n",
       "       258.2603501 , 417.07614369, 419.80171685, 271.82162322,\n",
       "       316.41471394, 328.73577851, 433.66017543, 341.88612617,\n",
       "       292.33316269, 235.46641415, 392.11610679, 263.81989266,\n",
       "       414.44607416, 361.00875727, 414.44607416, 263.05472478,\n",
       "       339.25605664, 365.39220649, 405.67917572, 229.7812743 ,\n",
       "       115.25119033, 310.59092886])"
      ]
     },
     "execution_count": 43,
     "metadata": {},
     "output_type": "execute_result"
    }
   ],
   "source": [
    "y_pred3 = regressor3.predict(X_test)\n",
    "y_pred3"
   ]
  },
  {
   "cell_type": "code",
   "execution_count": 44,
   "metadata": {},
   "outputs": [
    {
     "data": {
      "text/plain": [
       "array([100, 100, 100, 250, 600,   5, 150, 100, 100, 500, 800, 200, 300,\n",
       "       200, 500, 300, 500, 500, 500, 300, 500, 300, 500, 500, 650, 250,\n",
       "       600, 300, 150, 100], dtype=int64)"
      ]
     },
     "execution_count": 44,
     "metadata": {},
     "output_type": "execute_result"
    }
   ],
   "source": [
    "y_test"
   ]
  },
  {
   "cell_type": "code",
   "execution_count": 45,
   "metadata": {},
   "outputs": [
    {
     "name": "stdout",
     "output_type": "stream",
     "text": [
      "Explained_Variance_Score:  0.29274116960546326\n",
      "Mean_Absolute_Error:  144.18937503526956\n",
      "Mean_Squared_Error:  29341.841442359662\n",
      "Root_Mean_Squared_Error:  171.29460424181394\n",
      "Mean_Squared_Log_Error:  0.7258362694201845\n",
      "Median_Absolute_Error:  135.58863237427065\n",
      "R2_Score:  0.28961498213795633\n"
     ]
    }
   ],
   "source": [
    "# from sklearn import metrics\n",
    "print('Explained_Variance_Score: ',metrics.explained_variance_score(y_test, y_pred3))\n",
    "print('Mean_Absolute_Error: ',metrics.mean_absolute_error(y_test, y_pred3))\n",
    "print('Mean_Squared_Error: ',metrics.mean_squared_error(y_test, y_pred3))\n",
    "print('Root_Mean_Squared_Error: ',np.sqrt(metrics.mean_squared_error(y_test, y_pred3)))\n",
    "print('Mean_Squared_Log_Error: ',metrics.mean_squared_log_error(y_test, y_pred3))\n",
    "print('Median_Absolute_Error: ',metrics.median_absolute_error(y_test, y_pred3))\n",
    "print('R2_Score: ',metrics.r2_score(y_test, y_pred3))"
   ]
  },
  {
   "cell_type": "code",
   "execution_count": 46,
   "metadata": {},
   "outputs": [
    {
     "name": "stdout",
     "output_type": "stream",
     "text": [
      "0.1575142358961609 0.02125693226667829\n"
     ]
    }
   ],
   "source": [
    "# from sklearn.model_selection import cross_val_score\n",
    "accuracies = cross_val_score(estimator = regressor3, X = X, y = y, cv = 10, n_jobs=-1)\n",
    "print(accuracies.mean(),accuracies.std())"
   ]
  },
  {
   "cell_type": "code",
   "execution_count": 47,
   "metadata": {},
   "outputs": [
    {
     "name": "stdout",
     "output_type": "stream",
     "text": [
      "0.1571728977996354 {'alpha': 10}\n"
     ]
    }
   ],
   "source": [
    "# from sklearn.model_selection import GridSearchCV\n",
    "parameters = [{'alpha':[0.1, 1, 1.5, 10]}]\n",
    "grid_search = GridSearchCV(estimator = regressor3,\n",
    "                           param_grid = parameters,\n",
    "                           scoring = 'r2',\n",
    "                           cv = 10,\n",
    "                           n_jobs = -1)\n",
    "grid_search = grid_search.fit(X_train, y_train)\n",
    "print(grid_search.best_score_, grid_search.best_params_)"
   ]
  },
  {
   "cell_type": "markdown",
   "metadata": {},
   "source": [
    "## Elastic-Net Regression"
   ]
  },
  {
   "cell_type": "code",
   "execution_count": 48,
   "metadata": {},
   "outputs": [
    {
     "data": {
      "text/plain": [
       "ElasticNet(alpha=0.1, copy_X=True, fit_intercept=True, l1_ratio=1,\n",
       "      max_iter=1000, normalize=False, positive=False, precompute=False,\n",
       "      random_state=None, selection='cyclic', tol=0.0001, warm_start=False)"
      ]
     },
     "execution_count": 48,
     "metadata": {},
     "output_type": "execute_result"
    }
   ],
   "source": [
    "# from sklearn.linear_model import ElasticNet\n",
    "regressor4 = ElasticNet(alpha=0.1, l1_ratio=1)\n",
    "regressor4.fit(X_train, y_train)"
   ]
  },
  {
   "cell_type": "code",
   "execution_count": 49,
   "metadata": {},
   "outputs": [
    {
     "data": {
      "text/plain": [
       "array([264.15155674, 312.26363616, 243.17478943, 248.59184235,\n",
       "       431.84177624, 160.7589109 , 418.0001046 , 344.99433752,\n",
       "       258.15933349, 416.52679065, 419.73649751, 271.09712838,\n",
       "       315.78820865, 328.19818593, 433.57816915, 341.22113275,\n",
       "       292.4320563 , 235.58622566, 392.28511171, 264.48199828,\n",
       "       413.92220129, 361.25713451, 413.92220129, 262.41516383,\n",
       "       338.61654339, 365.59811678, 405.24023674, 229.71861551,\n",
       "       115.54438862, 310.52724325])"
      ]
     },
     "execution_count": 49,
     "metadata": {},
     "output_type": "execute_result"
    }
   ],
   "source": [
    "y_pred4 = regressor4.predict(X_test)\n",
    "y_pred4"
   ]
  },
  {
   "cell_type": "code",
   "execution_count": 50,
   "metadata": {},
   "outputs": [
    {
     "data": {
      "text/plain": [
       "array([100, 100, 100, 250, 600,   5, 150, 100, 100, 500, 800, 200, 300,\n",
       "       200, 500, 300, 500, 500, 500, 300, 500, 300, 500, 500, 650, 250,\n",
       "       600, 300, 150, 100], dtype=int64)"
      ]
     },
     "execution_count": 50,
     "metadata": {},
     "output_type": "execute_result"
    }
   ],
   "source": [
    "y_test"
   ]
  },
  {
   "cell_type": "code",
   "execution_count": 51,
   "metadata": {},
   "outputs": [
    {
     "name": "stdout",
     "output_type": "stream",
     "text": [
      "Explained_Variance_Score:  0.29230138427982344\n",
      "Mean_Absolute_Error:  144.19166668567675\n",
      "Mean_Squared_Error:  29363.41601209077\n",
      "Root_Mean_Squared_Error:  171.35756771176105\n",
      "Mean_Squared_Log_Error:  0.7263140963099135\n",
      "Median_Absolute_Error:  135.68648768221084\n",
      "R2_Score:  0.289092647807512\n"
     ]
    }
   ],
   "source": [
    "# from sklearn import metrics\n",
    "print('Explained_Variance_Score: ',metrics.explained_variance_score(y_test, y_pred4))\n",
    "print('Mean_Absolute_Error: ',metrics.mean_absolute_error(y_test, y_pred4))\n",
    "print('Mean_Squared_Error: ',metrics.mean_squared_error(y_test, y_pred4))\n",
    "print('Root_Mean_Squared_Error: ',np.sqrt(metrics.mean_squared_error(y_test, y_pred4)))\n",
    "print('Mean_Squared_Log_Error: ',metrics.mean_squared_log_error(y_test, y_pred4))\n",
    "print('Median_Absolute_Error: ',metrics.median_absolute_error(y_test, y_pred4))\n",
    "print('R2_Score: ',metrics.r2_score(y_test, y_pred4))"
   ]
  },
  {
   "cell_type": "code",
   "execution_count": 52,
   "metadata": {},
   "outputs": [
    {
     "name": "stdout",
     "output_type": "stream",
     "text": [
      "0.15749508547385313 0.02129282713245541\n"
     ]
    }
   ],
   "source": [
    "# from sklearn.model_selection import cross_val_score\n",
    "accuracies = cross_val_score(estimator = regressor4, X = X, y = y, cv = 10, n_jobs=-1)\n",
    "print(accuracies.mean(),accuracies.std())"
   ]
  },
  {
   "cell_type": "code",
   "execution_count": 53,
   "metadata": {},
   "outputs": [
    {
     "name": "stdout",
     "output_type": "stream",
     "text": [
      "0.15717045483278277 {'alpha': 0.01, 'l1_ratio': 1}\n"
     ]
    }
   ],
   "source": [
    "# from sklearn.model_selection import GridSearchCV\n",
    "parameters = [{'alpha':[0.01, 0.1, 1, 1.5], 'l1_ratio':[0.1, 0.5, 1]}]\n",
    "grid_search = GridSearchCV(estimator = regressor4,\n",
    "                           param_grid = parameters,\n",
    "                           scoring = 'r2',\n",
    "                           cv = 10,\n",
    "                           n_jobs = -1)\n",
    "grid_search = grid_search.fit(X_train, y_train)\n",
    "print(grid_search.best_score_, grid_search.best_params_)"
   ]
  },
  {
   "cell_type": "markdown",
   "metadata": {},
   "source": [
    "## Support Vector Regressor (SVR)"
   ]
  },
  {
   "cell_type": "code",
   "execution_count": 54,
   "metadata": {},
   "outputs": [
    {
     "data": {
      "text/plain": [
       "SVR(C=10, cache_size=200, coef0=0.0, degree=3, epsilon=0.1, gamma=0.1,\n",
       "  kernel='rbf', max_iter=-1, shrinking=True, tol=0.001, verbose=False)"
      ]
     },
     "execution_count": 54,
     "metadata": {},
     "output_type": "execute_result"
    }
   ],
   "source": [
    "# from sklearn.svm import SVR\n",
    "regressor5 = SVR(C=10, kernel = 'rbf', gamma=0.1)\n",
    "regressor5.fit(X_train, y_train)"
   ]
  },
  {
   "cell_type": "code",
   "execution_count": 55,
   "metadata": {},
   "outputs": [
    {
     "data": {
      "text/plain": [
       "array([219.38159944, 295.79686975, 181.62625972, 199.91770506,\n",
       "       452.442103  , 150.09950866, 450.58868594, 291.12041926,\n",
       "       199.95386366, 426.99253046, 455.9538277 , 197.50675965,\n",
       "       288.7026928 , 319.1834092 , 460.10256586, 359.44453794,\n",
       "       271.63373473, 199.74029895, 390.89125895, 304.55716674,\n",
       "       429.06229742, 301.43729149, 429.06229742, 224.82937127,\n",
       "       356.39724518, 301.38163175, 416.54433087, 197.23778598,\n",
       "       109.96874682, 293.49450584])"
      ]
     },
     "execution_count": 55,
     "metadata": {},
     "output_type": "execute_result"
    }
   ],
   "source": [
    "y_pred5 = regressor5.predict(X_test)\n",
    "y_pred5"
   ]
  },
  {
   "cell_type": "code",
   "execution_count": 56,
   "metadata": {},
   "outputs": [
    {
     "data": {
      "text/plain": [
       "array([100, 100, 100, 250, 600,   5, 150, 100, 100, 500, 800, 200, 300,\n",
       "       200, 500, 300, 500, 500, 500, 300, 500, 300, 500, 500, 650, 250,\n",
       "       600, 300, 150, 100], dtype=int64)"
      ]
     },
     "execution_count": 56,
     "metadata": {},
     "output_type": "execute_result"
    }
   ],
   "source": [
    "y_test"
   ]
  },
  {
   "cell_type": "code",
   "execution_count": 57,
   "metadata": {},
   "outputs": [
    {
     "name": "stdout",
     "output_type": "stream",
     "text": [
      "Explained_Variance_Score:  0.3733786671076331\n",
      "Mean_Absolute_Error:  130.202673241375\n",
      "Mean_Squared_Error:  26557.965644857923\n",
      "Root_Mean_Squared_Error:  162.96614876979183\n",
      "Mean_Squared_Log_Error:  0.664929850591646\n",
      "Median_Absolute_Error:  105.9354775349201\n",
      "R2_Score:  0.3570144213319453\n"
     ]
    }
   ],
   "source": [
    "# from sklearn import metrics\n",
    "print('Explained_Variance_Score: ',metrics.explained_variance_score(y_test, y_pred5))\n",
    "print('Mean_Absolute_Error: ',metrics.mean_absolute_error(y_test, y_pred5))\n",
    "print('Mean_Squared_Error: ',metrics.mean_squared_error(y_test, y_pred5))\n",
    "print('Root_Mean_Squared_Error: ',np.sqrt(metrics.mean_squared_error(y_test, y_pred5)))\n",
    "print('Mean_Squared_Log_Error: ',metrics.mean_squared_log_error(y_test, y_pred5))\n",
    "print('Median_Absolute_Error: ',metrics.median_absolute_error(y_test, y_pred5))\n",
    "print('R2_Score: ',metrics.r2_score(y_test, y_pred5))"
   ]
  },
  {
   "cell_type": "code",
   "execution_count": 58,
   "metadata": {},
   "outputs": [
    {
     "data": {
      "text/plain": [
       "0.3570144213319453"
      ]
     },
     "execution_count": 58,
     "metadata": {},
     "output_type": "execute_result"
    }
   ],
   "source": [
    "regressor5.score(X_test, y_test)"
   ]
  },
  {
   "cell_type": "code",
   "execution_count": 59,
   "metadata": {},
   "outputs": [
    {
     "name": "stdout",
     "output_type": "stream",
     "text": [
      "0.14559941091018525 0.036164392279832584\n"
     ]
    }
   ],
   "source": [
    "# from sklearn.model_selection import cross_val_score\n",
    "accuracies = cross_val_score(estimator = regressor5, X = X, y = y, cv = 10, n_jobs=-1)\n",
    "print(accuracies.mean(),accuracies.std())"
   ]
  },
  {
   "cell_type": "code",
   "execution_count": 60,
   "metadata": {},
   "outputs": [],
   "source": [
    "# from mlxtend.feature_selection import ExhaustiveFeatureSelector as EFS\n",
    "# efs = EFS(regressor4, scoring='r2', cv=10)\n",
    "# efs.fit(X, y)\n",
    "\n",
    "# print('Best MSE score: %.2f' % efs.best_score_ * (-1))\n",
    "# print('Best subset (indices):', efs.best_idx_)\n",
    "# print('Best subset (corresponding names):', efs.best_feature_names_)"
   ]
  },
  {
   "cell_type": "code",
   "execution_count": 61,
   "metadata": {},
   "outputs": [
    {
     "name": "stdout",
     "output_type": "stream",
     "text": [
      "0.14867747857978425 {'C': 10, 'gamma': 0.1, 'kernel': 'rbf'}\n"
     ]
    }
   ],
   "source": [
    "# from sklearn.model_selection import GridSearchCV\n",
    "parameters = [{'C': [0.1, 1, 10], 'kernel': ['rbf'], 'gamma': [0.1, 0.2, 0.3, 0.4, 0.5]}]\n",
    "grid_search = GridSearchCV(estimator = regressor5,\n",
    "                           param_grid = parameters,\n",
    "                           scoring = 'r2',\n",
    "                           cv = 10,\n",
    "                           n_jobs = -1)\n",
    "grid_search = grid_search.fit(X_train, y_train)\n",
    "print(grid_search.best_score_, grid_search.best_params_)"
   ]
  },
  {
   "cell_type": "markdown",
   "metadata": {},
   "source": [
    "## Decision Tree Regression"
   ]
  },
  {
   "cell_type": "code",
   "execution_count": 62,
   "metadata": {},
   "outputs": [
    {
     "data": {
      "text/plain": [
       "DecisionTreeRegressor(criterion='mse', max_depth=None, max_features=None,\n",
       "           max_leaf_nodes=None, min_impurity_decrease=0.0,\n",
       "           min_impurity_split=None, min_samples_leaf=1,\n",
       "           min_samples_split=2, min_weight_fraction_leaf=0.0,\n",
       "           presort=False, random_state=None, splitter='best')"
      ]
     },
     "execution_count": 62,
     "metadata": {},
     "output_type": "execute_result"
    }
   ],
   "source": [
    "# from sklearn.tree import DecisionTreeRegressor\n",
    "regressor6 = DecisionTreeRegressor()\n",
    "regressor6.fit(X_train, y_train)"
   ]
  },
  {
   "cell_type": "code",
   "execution_count": 63,
   "metadata": {},
   "outputs": [
    {
     "data": {
      "text/plain": [
       "array([322.22222222, 366.66666667, 199.23076923, 221.42857143,\n",
       "       200.        , 116.66666667, 375.        , 350.        ,\n",
       "       230.76923077, 533.33333333, 225.        , 285.71428571,\n",
       "       285.71428571, 450.        , 480.        , 420.        ,\n",
       "       337.5       , 500.        , 407.69230769, 300.        ,\n",
       "       338.88888889, 400.        , 338.88888889, 321.42857143,\n",
       "       478.57142857, 378.57142857, 457.14285714, 207.14285714,\n",
       "       116.66666667, 500.        ])"
      ]
     },
     "execution_count": 63,
     "metadata": {},
     "output_type": "execute_result"
    }
   ],
   "source": [
    "y_pred6 = regressor6.predict(X_test)\n",
    "y_pred6"
   ]
  },
  {
   "cell_type": "code",
   "execution_count": 64,
   "metadata": {},
   "outputs": [
    {
     "data": {
      "text/plain": [
       "array([100, 100, 100, 250, 600,   5, 150, 100, 100, 500, 800, 200, 300,\n",
       "       200, 500, 300, 500, 500, 500, 300, 500, 300, 500, 500, 650, 250,\n",
       "       600, 300, 150, 100], dtype=int64)"
      ]
     },
     "execution_count": 64,
     "metadata": {},
     "output_type": "execute_result"
    }
   ],
   "source": [
    "y_test"
   ]
  },
  {
   "cell_type": "code",
   "execution_count": 65,
   "metadata": {},
   "outputs": [
    {
     "name": "stdout",
     "output_type": "stream",
     "text": [
      "Explained_Variance_Score:  0.020248526574949466\n",
      "Mean_Absolute_Error:  155.236975986976\n",
      "Mean_Squared_Error:  40507.58176813351\n",
      "Root_Mean_Squared_Error:  201.2649541478434\n",
      "Mean_Squared_Log_Error:  0.7670399087007612\n",
      "Median_Absolute_Error:  129.67032967032966\n",
      "R2_Score:  0.019285164687688372\n"
     ]
    }
   ],
   "source": [
    "# from sklearn import metrics\n",
    "print('Explained_Variance_Score: ',metrics.explained_variance_score(y_test, y_pred6))\n",
    "print('Mean_Absolute_Error: ',metrics.mean_absolute_error(y_test, y_pred6))\n",
    "print('Mean_Squared_Error: ',metrics.mean_squared_error(y_test, y_pred6))\n",
    "print('Root_Mean_Squared_Error: ',np.sqrt(metrics.mean_squared_error(y_test, y_pred6)))\n",
    "print('Mean_Squared_Log_Error: ',metrics.mean_squared_log_error(y_test, y_pred6))\n",
    "print('Median_Absolute_Error: ',metrics.median_absolute_error(y_test, y_pred6))\n",
    "print('R2_Score: ',metrics.r2_score(y_test, y_pred6))"
   ]
  },
  {
   "cell_type": "code",
   "execution_count": 66,
   "metadata": {},
   "outputs": [
    {
     "name": "stdout",
     "output_type": "stream",
     "text": [
      "-0.11534485810853604 0.0886133715562507\n"
     ]
    }
   ],
   "source": [
    "# from sklearn.model_selection import cross_val_score\n",
    "accuracies = cross_val_score(estimator = regressor6, X = X, y = y, cv = 10, n_jobs=-1)\n",
    "print(accuracies.mean(),accuracies.std())"
   ]
  },
  {
   "cell_type": "code",
   "execution_count": 67,
   "metadata": {},
   "outputs": [],
   "source": [
    "# from IPython.display import Image\n",
    "# from sklearn.externals.six import StringIO\n",
    "# from sklearn.tree import export_graphviz\n",
    "# import pydotplus\n",
    "\n",
    "# dot_data = StringIO()\n",
    "# export_graphviz(classifier5, out_file=dot_data, filled=True, rounded=True, special_characters=True)\n",
    "\n",
    "# graph = pydotplus.graph_from_dot_data(dot_data.getvalue())\n",
    "# Image(graph.create_png())"
   ]
  },
  {
   "cell_type": "markdown",
   "metadata": {},
   "source": [
    "## Random Forest Regression"
   ]
  },
  {
   "cell_type": "code",
   "execution_count": 68,
   "metadata": {},
   "outputs": [
    {
     "data": {
      "text/plain": [
       "RandomForestRegressor(bootstrap=True, criterion='mse', max_depth=None,\n",
       "           max_features='auto', max_leaf_nodes=None,\n",
       "           min_impurity_decrease=0.0, min_impurity_split=None,\n",
       "           min_samples_leaf=1, min_samples_split=2,\n",
       "           min_weight_fraction_leaf=0.0, n_estimators=500, n_jobs=-1,\n",
       "           oob_score=False, random_state=None, verbose=0, warm_start=False)"
      ]
     },
     "execution_count": 68,
     "metadata": {},
     "output_type": "execute_result"
    }
   ],
   "source": [
    "# from sklearn.ensemble import RandomForestRegressor\n",
    "regressor7 = RandomForestRegressor(n_estimators = 500, n_jobs=-1)\n",
    "regressor7.fit(X, y)"
   ]
  },
  {
   "cell_type": "code",
   "execution_count": 69,
   "metadata": {},
   "outputs": [
    {
     "data": {
      "text/plain": [
       "array([300.35586907, 291.3720202 , 191.94510528, 223.5180767 ,\n",
       "       302.68063492,  90.9189899 , 334.70105755, 290.89684826,\n",
       "       220.16663569, 525.7654329 , 341.32445166, 275.80168467,\n",
       "       289.07884503, 380.12198413, 487.85438395, 404.41159208,\n",
       "       372.276057  , 477.79333333, 413.33994821, 300.90174603,\n",
       "       367.12507922, 383.10307887, 367.12507922, 343.43757576,\n",
       "       499.63674076, 361.25839513, 476.12300228, 220.84304113,\n",
       "       128.04761905, 291.03428571])"
      ]
     },
     "execution_count": 69,
     "metadata": {},
     "output_type": "execute_result"
    }
   ],
   "source": [
    "y_pred7 = regressor7.predict(X_test)\n",
    "y_pred7"
   ]
  },
  {
   "cell_type": "code",
   "execution_count": 70,
   "metadata": {},
   "outputs": [
    {
     "data": {
      "text/plain": [
       "array([100, 100, 100, 250, 600,   5, 150, 100, 100, 500, 800, 200, 300,\n",
       "       200, 500, 300, 500, 500, 500, 300, 500, 300, 500, 500, 650, 250,\n",
       "       600, 300, 150, 100], dtype=int64)"
      ]
     },
     "execution_count": 70,
     "metadata": {},
     "output_type": "execute_result"
    }
   ],
   "source": [
    "y_test"
   ]
  },
  {
   "cell_type": "code",
   "execution_count": 71,
   "metadata": {},
   "outputs": [
    {
     "name": "stdout",
     "output_type": "stream",
     "text": [
      "Explained_Variance_Score:  0.4256226319098252\n",
      "Mean_Absolute_Error:  122.58502857598984\n",
      "Mean_Squared_Error:  23724.167216608428\n",
      "Root_Mean_Squared_Error:  154.02651465448548\n",
      "Mean_Squared_Log_Error:  0.5464493177871877\n",
      "Median_Absolute_Error:  115.71251541267347\n",
      "R2_Score:  0.42562251980538435\n"
     ]
    }
   ],
   "source": [
    "# from sklearn import metrics\n",
    "print('Explained_Variance_Score: ',metrics.explained_variance_score(y_test, y_pred7))\n",
    "print('Mean_Absolute_Error: ',metrics.mean_absolute_error(y_test, y_pred7))\n",
    "print('Mean_Squared_Error: ',metrics.mean_squared_error(y_test, y_pred7))\n",
    "print('Root_Mean_Squared_Error: ',np.sqrt(metrics.mean_squared_error(y_test, y_pred7)))\n",
    "print('Mean_Squared_Log_Error: ',metrics.mean_squared_log_error(y_test, y_pred7))\n",
    "print('Median_Absolute_Error: ',metrics.median_absolute_error(y_test, y_pred7))\n",
    "print('R2_Score: ',metrics.r2_score(y_test, y_pred7))"
   ]
  },
  {
   "cell_type": "code",
   "execution_count": 72,
   "metadata": {},
   "outputs": [
    {
     "name": "stdout",
     "output_type": "stream",
     "text": [
      "0.003697663731046462 0.06605668994153209\n"
     ]
    }
   ],
   "source": [
    "# from sklearn.model_selection import cross_val_score\n",
    "accuracies = cross_val_score(estimator = regressor7, X = X, y = y, cv = 10, n_jobs=-1)\n",
    "print(accuracies.mean(),accuracies.std())"
   ]
  },
  {
   "cell_type": "code",
   "execution_count": 73,
   "metadata": {},
   "outputs": [
    {
     "name": "stdout",
     "output_type": "stream",
     "text": [
      "-0.011728522332561962 {'n_estimators': 300}\n"
     ]
    }
   ],
   "source": [
    "# from sklearn.model_selection import GridSearchCV\n",
    "parameters = [{'n_estimators': [300, 500, 1000]}]\n",
    "grid_search = GridSearchCV(estimator = regressor7,\n",
    "                           param_grid = parameters,\n",
    "                           scoring = 'r2',\n",
    "                           cv = 10,\n",
    "                           n_jobs = -1)\n",
    "grid_search = grid_search.fit(X_train, y_train)\n",
    "print(grid_search.best_score_, grid_search.best_params_)"
   ]
  },
  {
   "cell_type": "markdown",
   "metadata": {},
   "source": [
    "## K-Nearest Neighbors (KNN) Regression"
   ]
  },
  {
   "cell_type": "code",
   "execution_count": 74,
   "metadata": {},
   "outputs": [
    {
     "data": {
      "text/plain": [
       "KNeighborsRegressor(algorithm='auto', leaf_size=30, metric='minkowski',\n",
       "          metric_params=None, n_jobs=-1, n_neighbors=20, p=2,\n",
       "          weights='uniform')"
      ]
     },
     "execution_count": 74,
     "metadata": {},
     "output_type": "execute_result"
    }
   ],
   "source": [
    "# from sklearn.neighbors import KNeighborsRegressor\n",
    "regressor8 = KNeighborsRegressor(n_neighbors=20, n_jobs=-1)\n",
    "regressor8.fit(X_train,y_train)"
   ]
  },
  {
   "cell_type": "code",
   "execution_count": 75,
   "metadata": {},
   "outputs": [
    {
     "data": {
      "text/plain": [
       "array([280. , 315. , 248. , 217.5, 410. , 125. , 352.5, 285. , 230. ,\n",
       "       480. , 340. , 240. , 332.5, 372.5, 380. , 441.5, 325. , 340. ,\n",
       "       375. , 327.5, 397.5, 342.5, 397.5, 320. , 393.5, 352.5, 432.5,\n",
       "       177.5, 128.5, 385. ])"
      ]
     },
     "execution_count": 75,
     "metadata": {},
     "output_type": "execute_result"
    }
   ],
   "source": [
    "y_pred8 = regressor8.predict(X_test)\n",
    "y_pred8"
   ]
  },
  {
   "cell_type": "code",
   "execution_count": 76,
   "metadata": {},
   "outputs": [
    {
     "data": {
      "text/plain": [
       "array([100, 100, 100, 250, 600,   5, 150, 100, 100, 500, 800, 200, 300,\n",
       "       200, 500, 300, 500, 500, 500, 300, 500, 300, 500, 500, 650, 250,\n",
       "       600, 300, 150, 100], dtype=int64)"
      ]
     },
     "execution_count": 76,
     "metadata": {},
     "output_type": "execute_result"
    }
   ],
   "source": [
    "y_test"
   ]
  },
  {
   "cell_type": "code",
   "execution_count": 77,
   "metadata": {},
   "outputs": [
    {
     "name": "stdout",
     "output_type": "stream",
     "text": [
      "Explained_Variance_Score:  0.3136761516366734\n",
      "Mean_Absolute_Error:  142.0\n",
      "Mean_Squared_Error:  28397.483333333334\n",
      "Root_Mean_Squared_Error:  168.51552846350194\n",
      "Mean_Squared_Log_Error:  0.6593405039322009\n",
      "Median_Absolute_Error:  135.75\n",
      "R2_Score:  0.3124785046427281\n"
     ]
    }
   ],
   "source": [
    "# from sklearn import metrics\n",
    "print('Explained_Variance_Score: ',metrics.explained_variance_score(y_test, y_pred8))\n",
    "print('Mean_Absolute_Error: ',metrics.mean_absolute_error(y_test, y_pred8))\n",
    "print('Mean_Squared_Error: ',metrics.mean_squared_error(y_test, y_pred8))\n",
    "print('Root_Mean_Squared_Error: ',np.sqrt(metrics.mean_squared_error(y_test, y_pred8)))\n",
    "print('Mean_Squared_Log_Error: ',metrics.mean_squared_log_error(y_test, y_pred8))\n",
    "print('Median_Absolute_Error: ',metrics.median_absolute_error(y_test, y_pred8))\n",
    "print('R2_Score: ',metrics.r2_score(y_test, y_pred8))"
   ]
  },
  {
   "cell_type": "code",
   "execution_count": 78,
   "metadata": {},
   "outputs": [
    {
     "name": "stdout",
     "output_type": "stream",
     "text": [
      "0.14338219837547533 0.04008275217382161\n"
     ]
    }
   ],
   "source": [
    "# from sklearn.model_selection import cross_val_score\n",
    "accuracies = cross_val_score(estimator = regressor8, X = X, y = y, cv = 10, n_jobs=-1)\n",
    "print(accuracies.mean(),accuracies.std())"
   ]
  },
  {
   "cell_type": "code",
   "execution_count": 79,
   "metadata": {},
   "outputs": [
    {
     "name": "stdout",
     "output_type": "stream",
     "text": [
      "0.14304199237353257 {'n_neighbors': 20}\n"
     ]
    }
   ],
   "source": [
    "# from sklearn.model_selection import GridSearchCV\n",
    "parameters = [{'n_neighbors':[5, 10, 20]}]\n",
    "grid_search = GridSearchCV(estimator = regressor8,\n",
    "                           param_grid = parameters,\n",
    "                           scoring = 'r2',\n",
    "                           cv = 10,\n",
    "                           n_jobs = -1)\n",
    "grid_search = grid_search.fit(X_train, y_train)\n",
    "print(grid_search.best_score_, grid_search.best_params_)"
   ]
  },
  {
   "cell_type": "markdown",
   "metadata": {},
   "source": [
    "## XGBoost (eXtreme Gradient Boosting)"
   ]
  },
  {
   "cell_type": "code",
   "execution_count": 80,
   "metadata": {},
   "outputs": [
    {
     "data": {
      "text/plain": [
       "XGBRegressor(base_score=0.5, booster='gbtree', colsample_bylevel=1,\n",
       "       colsample_bynode=1, colsample_bytree=1, gamma=0,\n",
       "       importance_type='gain', learning_rate=0.1, max_delta_step=0,\n",
       "       max_depth=3, min_child_weight=1, missing=None, n_estimators=200,\n",
       "       n_jobs=-1, nthread=None, objective='reg:squarederror',\n",
       "       random_state=0, reg_alpha=0, reg_lambda=1, scale_pos_weight=1,\n",
       "       seed=None, silent=None, subsample=1, verbosity=0)"
      ]
     },
     "execution_count": 80,
     "metadata": {},
     "output_type": "execute_result"
    }
   ],
   "source": [
    "# from xgboost import XGBRegressor\n",
    "regressor9 = XGBRegressor(n_jobs=-1, objective='reg:squarederror', gamma=0, learning_rate=0.1, max_depth=3, n_estimators=200, verbosity=0)\n",
    "regressor9.fit(X_train,y_train)\n",
    "# n_estimators: It controls the number of weak learners.\n",
    "# learning_rate:Controls the contribution of weak learners in the final combination. There is a trade-off between learning_rate and n_estimators."
   ]
  },
  {
   "cell_type": "code",
   "execution_count": 81,
   "metadata": {},
   "outputs": [
    {
     "data": {
      "text/plain": [
       "array([253.69313, 352.59528, 243.99364, 220.63304, 414.99875, 127.7622 ,\n",
       "       439.99356, 310.26553, 233.0806 , 414.4775 , 448.44214, 232.78996,\n",
       "       291.51538, 339.9538 , 412.1644 , 361.30792, 321.1477 , 293.44748,\n",
       "       394.4396 , 299.61255, 412.62387, 366.19446, 412.62387, 254.80879,\n",
       "       357.7404 , 351.62772, 420.33472, 183.15039, 142.14699, 352.59528],\n",
       "      dtype=float32)"
      ]
     },
     "execution_count": 81,
     "metadata": {},
     "output_type": "execute_result"
    }
   ],
   "source": [
    "y_pred9 = regressor9.predict(X_test)\n",
    "y_pred9"
   ]
  },
  {
   "cell_type": "code",
   "execution_count": 82,
   "metadata": {},
   "outputs": [
    {
     "data": {
      "text/plain": [
       "array([100, 100, 100, 250, 600,   5, 150, 100, 100, 500, 800, 200, 300,\n",
       "       200, 500, 300, 500, 500, 500, 300, 500, 300, 500, 500, 650, 250,\n",
       "       600, 300, 150, 100], dtype=int64)"
      ]
     },
     "execution_count": 82,
     "metadata": {},
     "output_type": "execute_result"
    }
   ],
   "source": [
    "y_test"
   ]
  },
  {
   "cell_type": "code",
   "execution_count": 83,
   "metadata": {},
   "outputs": [
    {
     "name": "stdout",
     "output_type": "stream",
     "text": [
      "Explained_Variance_Score:  0.32560236157334477\n",
      "Mean_Absolute_Error:  140.55151646931967\n",
      "Mean_Squared_Error:  27952.002890615586\n",
      "Root_Mean_Squared_Error:  167.1885249968298\n",
      "Mean_Squared_Log_Error:  0.6712702819840535\n",
      "Median_Absolute_Error:  127.9213981628418\n",
      "R2_Score:  0.3232638751818918\n"
     ]
    }
   ],
   "source": [
    "# from sklearn import metrics\n",
    "print('Explained_Variance_Score: ',metrics.explained_variance_score(y_test, y_pred9))\n",
    "print('Mean_Absolute_Error: ',metrics.mean_absolute_error(y_test, y_pred9))\n",
    "print('Mean_Squared_Error: ',metrics.mean_squared_error(y_test, y_pred9))\n",
    "print('Root_Mean_Squared_Error: ',np.sqrt(metrics.mean_squared_error(y_test, y_pred9)))\n",
    "print('Mean_Squared_Log_Error: ',metrics.mean_squared_log_error(y_test, y_pred9))\n",
    "print('Median_Absolute_Error: ',metrics.median_absolute_error(y_test, y_pred9))\n",
    "print('R2_Score: ',metrics.r2_score(y_test, y_pred9))"
   ]
  },
  {
   "cell_type": "code",
   "execution_count": 84,
   "metadata": {},
   "outputs": [
    {
     "name": "stdout",
     "output_type": "stream",
     "text": [
      "0.17845172560776676 0.031834858512474154\n"
     ]
    }
   ],
   "source": [
    "# from sklearn.model_selection import cross_val_score\n",
    "accuracies = cross_val_score(estimator = regressor9, X = X, y = y, cv = 10, n_jobs=-1)\n",
    "print(accuracies.mean(),accuracies.std())"
   ]
  },
  {
   "cell_type": "code",
   "execution_count": 85,
   "metadata": {},
   "outputs": [],
   "source": [
    "# from sklearn.model_selection import GridSearchCV\n",
    "# parameters = [{'max_depth':[3, 5], 'learning_rate':[0.1, 0.5], 'n_estimators':[200, 300], 'verbosity':[0, 1, 2, 3], 'gamma':[0, 0.1]}]\n",
    "# grid_search = GridSearchCV(estimator = regressor9,\n",
    "#                            param_grid = parameters,\n",
    "#                            scoring = 'r2',\n",
    "#                            cv = 10,\n",
    "#                            n_jobs = -1)\n",
    "# grid_search = grid_search.fit(X_train, y_train)\n",
    "# print(grid_search.best_score_, grid_search.best_params_)"
   ]
  },
  {
   "cell_type": "markdown",
   "metadata": {},
   "source": [
    "## AdaBoost (Adaptive Boosting)"
   ]
  },
  {
   "cell_type": "code",
   "execution_count": 86,
   "metadata": {},
   "outputs": [
    {
     "data": {
      "text/plain": [
       "AdaBoostRegressor(base_estimator=SVR(C=10, cache_size=200, coef0=0.0, degree=3, epsilon=0.1, gamma=0.1,\n",
       "  kernel='rbf', max_iter=-1, shrinking=True, tol=0.001, verbose=False),\n",
       "         learning_rate=0.1, loss='linear', n_estimators=50,\n",
       "         random_state=None)"
      ]
     },
     "execution_count": 86,
     "metadata": {},
     "output_type": "execute_result"
    }
   ],
   "source": [
    "# from sklearn.ensemble import AdaBoostRegressor\n",
    "regressor10 = AdaBoostRegressor(base_estimator=regressor5, learning_rate=0.1)\n",
    "regressor10.fit(X_train,y_train)"
   ]
  },
  {
   "cell_type": "code",
   "execution_count": 87,
   "metadata": {},
   "outputs": [
    {
     "data": {
      "text/plain": [
       "array([244.52158591, 341.75829364, 243.23351025, 200.27616198,\n",
       "       414.32540202, 153.76931802, 446.31401222, 302.02470459,\n",
       "       249.88077229, 412.29046849, 452.4474031 , 210.18425039,\n",
       "       297.84403753, 353.74240537, 419.25655237, 395.49034546,\n",
       "       339.8606168 , 291.76513228, 390.62420658, 341.19886466,\n",
       "       416.37573438, 318.10920435, 416.37573438, 255.14950593,\n",
       "       395.22440861, 322.02544452, 415.91653741, 194.91772994,\n",
       "       146.43602427, 343.52021731])"
      ]
     },
     "execution_count": 87,
     "metadata": {},
     "output_type": "execute_result"
    }
   ],
   "source": [
    "y_pred10 = regressor10.predict(X_test)\n",
    "y_pred10"
   ]
  },
  {
   "cell_type": "code",
   "execution_count": 88,
   "metadata": {},
   "outputs": [
    {
     "data": {
      "text/plain": [
       "array([100, 100, 100, 250, 600,   5, 150, 100, 100, 500, 800, 200, 300,\n",
       "       200, 500, 300, 500, 500, 500, 300, 500, 300, 500, 500, 650, 250,\n",
       "       600, 300, 150, 100], dtype=int64)"
      ]
     },
     "execution_count": 88,
     "metadata": {},
     "output_type": "execute_result"
    }
   ],
   "source": [
    "y_test"
   ]
  },
  {
   "cell_type": "code",
   "execution_count": 89,
   "metadata": {},
   "outputs": [
    {
     "name": "stdout",
     "output_type": "stream",
     "text": [
      "Explained_Variance_Score:  0.3484209682562893\n",
      "Mean_Absolute_Error:  138.38957576362978\n",
      "Mean_Squared_Error:  26971.760902965758\n",
      "Root_Mean_Squared_Error:  164.23081593588262\n",
      "Mean_Squared_Log_Error:  0.6995517313051933\n",
      "Median_Absolute_Error:  143.87754808313917\n",
      "R2_Score:  0.34699616966905555\n"
     ]
    }
   ],
   "source": [
    "# from sklearn import metrics\n",
    "print('Explained_Variance_Score: ',metrics.explained_variance_score(y_test, y_pred10))\n",
    "print('Mean_Absolute_Error: ',metrics.mean_absolute_error(y_test, y_pred10))\n",
    "print('Mean_Squared_Error: ',metrics.mean_squared_error(y_test, y_pred10))\n",
    "print('Root_Mean_Squared_Error: ',np.sqrt(metrics.mean_squared_error(y_test, y_pred10)))\n",
    "print('Mean_Squared_Log_Error: ',metrics.mean_squared_log_error(y_test, y_pred10))\n",
    "print('Median_Absolute_Error: ',metrics.median_absolute_error(y_test, y_pred10))\n",
    "print('R2_Score: ',metrics.r2_score(y_test, y_pred10))"
   ]
  },
  {
   "cell_type": "code",
   "execution_count": 90,
   "metadata": {},
   "outputs": [
    {
     "name": "stdout",
     "output_type": "stream",
     "text": [
      "0.1787946942528168 0.025083015096898618\n"
     ]
    }
   ],
   "source": [
    "# from sklearn.model_selection import cross_val_score\n",
    "accuracies = cross_val_score(estimator = regressor10, X = X, y = y, cv = 10, n_jobs=-1)\n",
    "print(accuracies.mean(),accuracies.std())"
   ]
  },
  {
   "cell_type": "code",
   "execution_count": 91,
   "metadata": {},
   "outputs": [],
   "source": [
    "# from sklearn.model_selection import GridSearchCV\n",
    "# parameters = [{'base_estimator':[regressor5, regressor6], 'learning_rate':[0.1, 0.5, 1, 1.5], 'loss':['linear', 'square', 'exponential'], 'n_estimators':[50, 100, 200]}]\n",
    "# grid_search = GridSearchCV(estimator = regressor10,\n",
    "#                            param_grid = parameters,\n",
    "#                            scoring = 'r2',\n",
    "#                            cv = 10,\n",
    "#                            n_jobs = -1)\n",
    "# grid_search = grid_search.fit(X_train, y_train)\n",
    "# print(grid_search.best_score_, grid_search.best_params_)"
   ]
  },
  {
   "cell_type": "markdown",
   "metadata": {},
   "source": [
    "## Gradient Boosting Regression"
   ]
  },
  {
   "cell_type": "code",
   "execution_count": 92,
   "metadata": {},
   "outputs": [
    {
     "data": {
      "text/plain": [
       "GradientBoostingRegressor(alpha=0.9, criterion='friedman_mse', init=None,\n",
       "             learning_rate=0.1, loss='ls', max_depth=3, max_features=None,\n",
       "             max_leaf_nodes=None, min_impurity_decrease=0.0,\n",
       "             min_impurity_split=None, min_samples_leaf=1,\n",
       "             min_samples_split=2, min_weight_fraction_leaf=0.0,\n",
       "             n_estimators=100, n_iter_no_change=None, presort='auto',\n",
       "             random_state=None, subsample=1.0, tol=0.0001,\n",
       "             validation_fraction=0.1, verbose=0, warm_start=False)"
      ]
     },
     "execution_count": 92,
     "metadata": {},
     "output_type": "execute_result"
    }
   ],
   "source": [
    "# from sklearn.ensemble import GradientBoostingRegressor\n",
    "regressor11 = GradientBoostingRegressor()\n",
    "regressor11.fit(X_train,y_train)"
   ]
  },
  {
   "cell_type": "code",
   "execution_count": 93,
   "metadata": {},
   "outputs": [
    {
     "data": {
      "text/plain": [
       "array([245.50002889, 348.02651364, 262.78224345, 223.13090883,\n",
       "       416.753383  , 141.15050062, 438.24673768, 316.34181111,\n",
       "       230.9166964 , 403.20016814, 441.12128153, 226.46352935,\n",
       "       288.5959129 , 330.03590302, 416.753383  , 346.41122689,\n",
       "       318.7523898 , 258.88293086, 399.86754763, 311.49898969,\n",
       "       403.20016814, 371.12133114, 403.20016814, 250.90335449,\n",
       "       346.41122689, 362.74628375, 411.57521554, 196.62479928,\n",
       "       151.30445827, 348.02651364])"
      ]
     },
     "execution_count": 93,
     "metadata": {},
     "output_type": "execute_result"
    }
   ],
   "source": [
    "y_pred11 = regressor11.predict(X_test)\n",
    "y_pred11"
   ]
  },
  {
   "cell_type": "code",
   "execution_count": 94,
   "metadata": {},
   "outputs": [
    {
     "data": {
      "text/plain": [
       "array([100, 100, 100, 250, 600,   5, 150, 100, 100, 500, 800, 200, 300,\n",
       "       200, 500, 300, 500, 500, 500, 300, 500, 300, 500, 500, 650, 250,\n",
       "       600, 300, 150, 100], dtype=int64)"
      ]
     },
     "execution_count": 94,
     "metadata": {},
     "output_type": "execute_result"
    }
   ],
   "source": [
    "y_test"
   ]
  },
  {
   "cell_type": "code",
   "execution_count": 95,
   "metadata": {},
   "outputs": [
    {
     "name": "stdout",
     "output_type": "stream",
     "text": [
      "Explained_Variance_Score:  0.2981781175314163\n",
      "Mean_Absolute_Error:  143.2199976451135\n",
      "Mean_Squared_Error:  29120.747107092782\n",
      "Root_Mean_Squared_Error:  170.64802110511795\n",
      "Mean_Squared_Log_Error:  0.6986908968431489\n",
      "Median_Absolute_Error:  130.47629971173302\n",
      "R2_Score:  0.294967819437425\n"
     ]
    }
   ],
   "source": [
    "# from sklearn import metrics\n",
    "print('Explained_Variance_Score: ',metrics.explained_variance_score(y_test, y_pred11))\n",
    "print('Mean_Absolute_Error: ',metrics.mean_absolute_error(y_test, y_pred11))\n",
    "print('Mean_Squared_Error: ',metrics.mean_squared_error(y_test, y_pred11))\n",
    "print('Root_Mean_Squared_Error: ',np.sqrt(metrics.mean_squared_error(y_test, y_pred11)))\n",
    "print('Mean_Squared_Log_Error: ',metrics.mean_squared_log_error(y_test, y_pred11))\n",
    "print('Median_Absolute_Error: ',metrics.median_absolute_error(y_test, y_pred11))\n",
    "print('R2_Score: ',metrics.r2_score(y_test, y_pred11))"
   ]
  },
  {
   "cell_type": "code",
   "execution_count": 96,
   "metadata": {},
   "outputs": [
    {
     "name": "stdout",
     "output_type": "stream",
     "text": [
      "0.1769623477434863 0.03070513193954071\n"
     ]
    }
   ],
   "source": [
    "# from sklearn.model_selection import cross_val_score\n",
    "accuracies = cross_val_score(estimator = regressor11, X = X, y = y, cv = 10, n_jobs=-1)\n",
    "print(accuracies.mean(),accuracies.std())"
   ]
  },
  {
   "cell_type": "markdown",
   "metadata": {},
   "source": [
    "## LightGBM (Light Gradient Boosting)"
   ]
  },
  {
   "cell_type": "code",
   "execution_count": 97,
   "metadata": {},
   "outputs": [
    {
     "data": {
      "text/plain": [
       "LGBMRegressor(boosting_type='gbdt', class_weight=None, colsample_bytree=1.0,\n",
       "       importance_type='split', learning_rate=0.1, max_depth=-1,\n",
       "       min_child_samples=20, min_child_weight=0.001, min_split_gain=0.0,\n",
       "       n_estimators=100, n_jobs=-1, num_leaves=31, objective=None,\n",
       "       random_state=None, reg_alpha=0.0, reg_lambda=0.0, silent=True,\n",
       "       subsample=1.0, subsample_for_bin=200000, subsample_freq=0)"
      ]
     },
     "execution_count": 97,
     "metadata": {},
     "output_type": "execute_result"
    }
   ],
   "source": [
    "# import lightgbm as lgb\n",
    "regressor12 = LGBMRegressor()\n",
    "regressor12.fit(X_train,y_train)"
   ]
  },
  {
   "cell_type": "code",
   "execution_count": 98,
   "metadata": {},
   "outputs": [
    {
     "data": {
      "text/plain": [
       "array([264.40534271, 355.58247935, 228.11721284, 231.98126133,\n",
       "       350.58690681, 130.05822342, 368.48774717, 311.17456867,\n",
       "       237.0425897 , 432.66499191, 393.91455556, 232.4885693 ,\n",
       "       285.12550258, 376.3443092 , 420.93520198, 410.25710521,\n",
       "       360.40637976, 315.2692016 , 391.14295172, 299.99671715,\n",
       "       399.05563238, 368.15364178, 399.05563238, 263.67307724,\n",
       "       380.07041976, 342.95784089, 444.08857597, 175.44828581,\n",
       "       135.02046728, 340.22595092])"
      ]
     },
     "execution_count": 98,
     "metadata": {},
     "output_type": "execute_result"
    }
   ],
   "source": [
    "y_pred12 = regressor12.predict(X_test)\n",
    "y_pred12"
   ]
  },
  {
   "cell_type": "code",
   "execution_count": 99,
   "metadata": {},
   "outputs": [
    {
     "data": {
      "text/plain": [
       "array([100, 100, 100, 250, 600,   5, 150, 100, 100, 500, 800, 200, 300,\n",
       "       200, 500, 300, 500, 500, 500, 300, 500, 300, 500, 500, 650, 250,\n",
       "       600, 300, 150, 100], dtype=int64)"
      ]
     },
     "execution_count": 99,
     "metadata": {},
     "output_type": "execute_result"
    }
   ],
   "source": [
    "y_test"
   ]
  },
  {
   "cell_type": "code",
   "execution_count": 100,
   "metadata": {},
   "outputs": [
    {
     "name": "stdout",
     "output_type": "stream",
     "text": [
      "Explained_Variance_Score:  0.3215895661804521\n",
      "Mean_Absolute_Error:  141.06199399867526\n",
      "Mean_Squared_Error:  28128.812312408536\n",
      "Root_Mean_Squared_Error:  167.71646404694005\n",
      "Mean_Squared_Log_Error:  0.668685969962307\n",
      "Median_Absolute_Error:  126.58771812871109\n",
      "R2_Score:  0.3189832043690083\n"
     ]
    }
   ],
   "source": [
    "# from sklearn import metrics\n",
    "print('Explained_Variance_Score: ',metrics.explained_variance_score(y_test, y_pred12))\n",
    "print('Mean_Absolute_Error: ',metrics.mean_absolute_error(y_test, y_pred12))\n",
    "print('Mean_Squared_Error: ',metrics.mean_squared_error(y_test, y_pred12))\n",
    "print('Root_Mean_Squared_Error: ',np.sqrt(metrics.mean_squared_error(y_test, y_pred12)))\n",
    "print('Mean_Squared_Log_Error: ',metrics.mean_squared_log_error(y_test, y_pred12))\n",
    "print('Median_Absolute_Error: ',metrics.median_absolute_error(y_test, y_pred12))\n",
    "print('R2_Score: ',metrics.r2_score(y_test, y_pred12))"
   ]
  },
  {
   "cell_type": "code",
   "execution_count": 101,
   "metadata": {},
   "outputs": [
    {
     "name": "stdout",
     "output_type": "stream",
     "text": [
      "0.16055035059822606 0.03808390665867591\n"
     ]
    }
   ],
   "source": [
    "# from sklearn.model_selection import cross_val_score\n",
    "accuracies = cross_val_score(estimator = regressor12, X = X, y = y, cv = 10, n_jobs=-1)\n",
    "print(accuracies.mean(),accuracies.std())"
   ]
  },
  {
   "cell_type": "code",
   "execution_count": 102,
   "metadata": {},
   "outputs": [
    {
     "name": "stdout",
     "output_type": "stream",
     "text": [
      "0.153851214423595 {'n_estimators': 100}\n"
     ]
    }
   ],
   "source": [
    "# from sklearn.model_selection import GridSearchCV\n",
    "parameters = [{'n_estimators':[100, 200]}]\n",
    "grid_search = GridSearchCV(estimator = regressor12,\n",
    "                           param_grid = parameters,\n",
    "                           scoring = 'r2',\n",
    "                           cv = 10,\n",
    "                           n_jobs = -1)\n",
    "grid_search = grid_search.fit(X_train, y_train)\n",
    "print(grid_search.best_score_, grid_search.best_params_)"
   ]
  }
 ],
 "metadata": {
  "kernelspec": {
   "display_name": "Python 3",
   "language": "python",
   "name": "python3"
  },
  "language_info": {
   "codemirror_mode": {
    "name": "ipython",
    "version": 3
   },
   "file_extension": ".py",
   "mimetype": "text/x-python",
   "name": "python",
   "nbconvert_exporter": "python",
   "pygments_lexer": "ipython3",
   "version": "3.7.3"
  }
 },
 "nbformat": 4,
 "nbformat_minor": 2
}
