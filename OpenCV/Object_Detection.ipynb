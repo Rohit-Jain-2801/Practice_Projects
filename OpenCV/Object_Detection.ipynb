{
 "cells": [
  {
   "cell_type": "markdown",
   "metadata": {},
   "source": [
    "# Template Matching"
   ]
  },
  {
   "cell_type": "markdown",
   "metadata": {},
   "source": [
    "Essentially, this method takes a “sliding window” of our waldo query image and slides it across our puzzle image from left to right and top to bottom, one pixel at a time. Then, for each of these locations, we compute the correlation coefficient to determine how “good” or “bad” the match is. Regions with sufficiently high correlation can be considered “matches” for our waldo template."
   ]
  },
  {
   "cell_type": "code",
   "execution_count": 1,
   "metadata": {},
   "outputs": [
    {
     "name": "stdout",
     "output_type": "stream",
     "text": [
      "(49, 49)\n",
      "-2278836.0 7682601.5 (40, 389) (484, 262)\n"
     ]
    }
   ],
   "source": [
    "# Finding Waldo\n",
    "\n",
    "import cv2\n",
    "import numpy as np\n",
    "\n",
    "# Load input image and convert to grayscale\n",
    "image = cv2.imread('images/WaldoBeach.jpg')\n",
    "cv2.imshow('Where is Waldo?', image)\n",
    "cv2.waitKey(0)\n",
    "\n",
    "gray = cv2.cvtColor(image, cv2.COLOR_BGR2GRAY)\n",
    "\n",
    "# Load Template image\n",
    "template = cv2.imread('images/waldo.jpg',0)\n",
    "cv2.imshow('Waldo', template)\n",
    "cv2.waitKey(0)\n",
    "print(template.shape)\n",
    "\n",
    "# cv2.matchTemplate(target_image, template_image, method)\n",
    "result = cv2.matchTemplate(gray, template, cv2.TM_CCOEFF)\n",
    "min_val, max_val, min_loc, max_loc = cv2.minMaxLoc(result)\n",
    "print(min_val, max_val, min_loc, max_loc)  # max_loc corresponds to max_value\n",
    "\n",
    "# Create Bounding Box\n",
    "top_left = max_loc\n",
    "bottom_right = (top_left[0]+template.shape[0], top_left[1]+template.shape[1])\n",
    "cv2.rectangle(image, top_left, bottom_right, (0, 0, 255), 3)\n",
    "\n",
    "cv2.imshow('Where is Waldo?', image)\n",
    "cv2.waitKey(0)\n",
    "cv2.destroyAllWindows()"
   ]
  },
  {
   "cell_type": "code",
   "execution_count": 2,
   "metadata": {},
   "outputs": [],
   "source": [
    "# Drawbacks - Ineffective in cases of:\n",
    "#     - Rotation\n",
    "#     - Scaling (enlarging or shrinking)\n",
    "#     - Photometric Changes (brightness, contrast, hue)\n",
    "#     - Distortions (Affine)"
   ]
  },
  {
   "cell_type": "markdown",
   "metadata": {},
   "source": [
    "# Corner Detection"
   ]
  },
  {
   "cell_type": "code",
   "execution_count": 3,
   "metadata": {},
   "outputs": [],
   "source": [
    "# Corner Matching is tolerant of-\n",
    "# - Rotation\n",
    "# - Translations\n",
    "# - Slight Photometric Changes (brightness, contrast, hue)\n",
    "\n",
    "# Corner Matching is intolerant of-\n",
    "# - Larger Photometric Changes (brightness, contrast, hue)\n",
    "# - Scaling (enlarging or shrinking)"
   ]
  },
  {
   "cell_type": "markdown",
   "metadata": {},
   "source": [
    "## Harris Corner Detection"
   ]
  },
  {
   "cell_type": "code",
   "execution_count": 4,
   "metadata": {},
   "outputs": [],
   "source": [
    "import cv2\n",
    "import numpy as np\n",
    "\n",
    "# Load image then grayscale\n",
    "image = cv2.imread('images/chess.jpg')\n",
    "gray = cv2.cvtColor(image, cv2.COLOR_BGR2GRAY)\n",
    "\n",
    "# The cornerHarris function requires the array datatype to be float32\n",
    "gray = np.float32(gray)\n",
    "\n",
    "harris_corners = cv2.cornerHarris(gray, 3, 3, 0.05)\n",
    "\n",
    "#We use dilation of the corner points to enlarge them\\\n",
    "kernel = np.ones((7, 7), np.uint8)\n",
    "harris_corners = cv2.dilate(harris_corners, kernel, iterations=2)\n",
    "\n",
    "# Threshold for an optimal value, it may vary depending on the image.\n",
    "image[harris_corners > 0.025 * harris_corners.max()] = [255, 127, 127]\n",
    "\n",
    "cv2.imshow('Harris Corners', image)\n",
    "cv2.waitKey(0)\n",
    "cv2.destroyAllWindows()"
   ]
  },
  {
   "cell_type": "markdown",
   "metadata": {},
   "source": [
    "## Shi-Tomasi Corner Detection"
   ]
  },
  {
   "cell_type": "code",
   "execution_count": 5,
   "metadata": {},
   "outputs": [],
   "source": [
    "import cv2\n",
    "import numpy as np\n",
    "\n",
    "img = cv2.imread('images/chess.jpg')\n",
    "gray = cv2.cvtColor(img,cv2.COLOR_BGR2GRAY)\n",
    "\n",
    "# We specific the top 50 corners\n",
    "corners = cv2.goodFeaturesToTrack(gray, 49, 0.01, 15)\n",
    "\n",
    "for corner in corners:\n",
    "    x, y = corner[0]\n",
    "    x = int(x)\n",
    "    y = int(y)\n",
    "    cv2.rectangle(img, (x-10, y-10), (x+10, y+10), (0, 255, 0), 2)\n",
    "    \n",
    "cv2.imshow(\"Corners Found\", img)\n",
    "cv2.waitKey(0)\n",
    "cv2.destroyAllWindows()"
   ]
  },
  {
   "cell_type": "markdown",
   "metadata": {},
   "source": [
    "# Feature Detection"
   ]
  },
  {
   "cell_type": "markdown",
   "metadata": {},
   "source": [
    "One important thing to understand is that after extracting the keypoints, you only obtain information about their position, and sometimes their coverage area (usually approximated by a circle or ellipse) in the image. While the information about keypoint position might sometimes be useful, it does not say much about the keypoints themselves.\n",
    "\n",
    "Depending on the algorithm used to extract keypoint (SIFT, Harris corners, MSER), you will know some general characteristics of the extracted keypoints (e.g. they are centered around blobs, edges, prominent corners...) but you will not know how different or similar one keypoint is to the other.\n",
    "\n",
    "Here's two simple examples where only the position and keypoint area will not help us:\n",
    "\n",
    "=> If you have an image A (of a bear on a white background), and another image B, exact copy of A but translated for a few pixels: the extracted keypoints will be the same (on the same part of that bear). Those two images should be recognized as same, or similar. But, if the only information we have is their position, and that changed because of the translation, you can not compare the images.\n",
    "\n",
    "=> If you have an image A (let's say, of a duck this time), and another image B, exactly the same duck as in A except twice the size: the extracted keypoints will be the same (same parts of the duck). Those are also same (similar) images. But all their sizes (areas) will be different: all the keypoints from the image B will be twice the size of those from image A.\n",
    "\n",
    "So, here come descriptors: they are the way to compare the keypoints. They summarize, in vector format (of constant length) some characteristics about the keypoints. For example, it could be their intensity in the direction of their most pronounced orientation. It's assigning a numerical description to the area of the image the keypoint refers to.\n",
    "\n",
    "Some important things for descriptors are:\n",
    "a) they should be independent of keypoint position\n",
    "=> If the same keypoint is extracted at different positions (e.g. because of translation) the descriptor should be the same.\n",
    "\n",
    "b) they should be robust against image transformations\n",
    "=> Some examples are changes of contrast (e.g. image of the same place during a sunny and cloudy day) and changes of perspective (image of a building from center-right and center-left, we would still like to recognize it as a same building).\n",
    "\n",
    "Of course, no descriptor is completely robust against all transformations (nor against any single one if it is strong, e.g. big change in perspective). Different descriptors are designed to be robust against different transformations which is sometimes opposed to the speed it takes to calculate them.\n",
    "\n",
    "c) they should be scale independent\n",
    "=> The descriptors should take scale in to account. If the \"prominent\" part of the one keypoint is a vertical line of 10px (inside a circular area with radius of 8px), and the prominent part of another a vertical line of 5px (inside a circular area with radius of 4px) -- these keypoints should be assigned similar descriptors.\n",
    "\n",
    "Now, that you calculated descriptors for all the keypoinst, you have a way to compare those keypoints. For a simple example of image matching (when you know the images are of the same object, and would like to identify the parts in different images that depict the same part of the scene, or would like to identify the perspective change between two images), you would compare every keypoint descriptor of one image to every keypoint descriptor of the other image. As the descriptors are vectors of numbers, you can compare them with something as simple as Euclidian distance. There are some more complex distances that can be used as a similarity measure, of course. But, in the end, you would say that the keypoints whose descriptors have the smallest distance between them are matches, e.g. same \"places\" or \"parts of objects\" in different images."
   ]
  },
  {
   "cell_type": "markdown",
   "metadata": {},
   "source": [
    "## SIFT (Scale-Invariant Feature Transform)"
   ]
  },
  {
   "cell_type": "code",
   "execution_count": 6,
   "metadata": {},
   "outputs": [],
   "source": [
    "# Steps-\n",
    "# 1. Scale-space Extrema Detection => search for stable features across multiple scales\n",
    "# 2. Keypoint Localization => Fit a model to detrmine location & scale. Select keypoints based on a measure of stability.\n",
    "# 3. Orientation Assignment => Compute best orientation(s) for each keypoint region.\n",
    "# 4. Keypoint Descriptor => Use local image gradients at selected scale and rotation to describe each keypoint region.\n",
    "# 5. Keypoint Matching"
   ]
  },
  {
   "cell_type": "code",
   "execution_count": 7,
   "metadata": {},
   "outputs": [],
   "source": [
    "# import cv2\n",
    "# import numpy as np\n",
    "\n",
    "# image = cv2.imread('images/input.jpg')\n",
    "# gray = cv2.cvtColor(image, cv2.COLOR_BGR2GRAY)\n",
    "\n",
    "# # Create SIFT Feature Detector object\n",
    "# sift = cv2.SIFT() \n",
    "\n",
    "# # Detect key points\n",
    "# keypoints = sift.detect(gray, None)\n",
    "# print(\"Number of keypoints Detected: \", len(keypoints))\n",
    "\n",
    "# # Draw rich key points on input image\n",
    "# image = cv2.drawKeypoints(image, keypoints, flags=cv2.DRAW_MATCHES_FLAGS_DRAW_RICH_KEYPOINTS)\n",
    "\n",
    "# cv2.imshow('Feature Method - SIFT', image)\n",
    "# cv2.waitKey(0)\n",
    "# cv2.destroyAllWindows()\n",
    "\n",
    "## Has removed from OpenCV"
   ]
  },
  {
   "cell_type": "markdown",
   "metadata": {},
   "source": [
    "## SURF (Speeded-Up Robust Features)"
   ]
  },
  {
   "cell_type": "code",
   "execution_count": 8,
   "metadata": {},
   "outputs": [],
   "source": [
    "# import cv2\n",
    "# import numpy as np\n",
    "\n",
    "# image = cv2.imread('images/input.jpg')\n",
    "# gray = cv2.cvtColor(image, cv2.COLOR_BGR2GRAY)\n",
    "\n",
    "# # Create SURF Feature Detector object\n",
    "# surf = cv2.SURF()\n",
    "\n",
    "# # Only features, whose hessian is larger than hessianThreshold are retained by the detector\n",
    "# surf.hessianThreshold = 500\n",
    "# keypoints, descriptors = surf.detectAndCompute(gray, None)\n",
    "# print(\"Number of keypoints Detected: \", len(keypoints))\n",
    "\n",
    "# # Draw rich key points on input image\n",
    "# image = cv2.drawKeypoints(image, keypoints, flags=cv2.DRAW_MATCHES_FLAGS_DRAW_RICH_KEYPOINTS)\n",
    "\n",
    "# cv2.imshow('Feature Method - SURF', image)\n",
    "# cv2.waitKey()\n",
    "# cv2.destroyAllWindows()\n",
    "\n",
    "## Has removed from OpenCV"
   ]
  },
  {
   "cell_type": "markdown",
   "metadata": {},
   "source": [
    "## FAST (Features from Accelerated Segment Test)"
   ]
  },
  {
   "cell_type": "code",
   "execution_count": 9,
   "metadata": {},
   "outputs": [],
   "source": [
    "# It is several times faster than other existing corner detectors.\n",
    "# But it is not robust to high levels of noise. It is dependant on a threshold."
   ]
  },
  {
   "cell_type": "code",
   "execution_count": 10,
   "metadata": {},
   "outputs": [],
   "source": [
    "# import cv2\n",
    "# import numpy as np\n",
    "\n",
    "# image = cv2.imread('images/input.jpg')\n",
    "# gray = cv2.cvtColor(image, cv2.COLOR_BGR2GRAY)\n",
    "\n",
    "# # Create FAST Detector object\n",
    "# fast = cv2.FastFeatureDetector()\n",
    "\n",
    "# # Obtain Key points, by default non max suppression is On\n",
    "# # to turn off set fast.setBool('nonmaxSuppression', False)\n",
    "# keypoints = fast.detect(gray, None)\n",
    "# print(\"Number of keypoints Detected: \", len(keypoints))\n",
    "\n",
    "# # Draw rich keypoints on input image\n",
    "# image = cv2.drawKeypoints(image, keypoints, flags=cv2.DRAW_MATCHES_FLAGS_DRAW_RICH_KEYPOINTS)\n",
    "\n",
    "# cv2.imshow('Feature Method - FAST', image)\n",
    "# cv2.waitKey()\n",
    "# cv2.destroyAllWindows()\n",
    "\n",
    "## Has removed from OpenCV"
   ]
  },
  {
   "cell_type": "markdown",
   "metadata": {},
   "source": [
    "## BRIEF (Binary Robust Independent Elementary Features)"
   ]
  },
  {
   "cell_type": "code",
   "execution_count": 11,
   "metadata": {},
   "outputs": [],
   "source": [
    "# import cv2\n",
    "# import numpy as np\n",
    "\n",
    "# image = cv2.imread('images/input.jpg')\n",
    "# gray = cv2.cvtColor(image, cv2.COLOR_BGR2GRAY)\n",
    "\n",
    "# # Create FAST detector object\n",
    "# star = cv2.FeatureDetector_create(\"STAR\")\n",
    "\n",
    "# # Create BRIEF extractor object\n",
    "# brief = cv2.DescriptorExtractor_create(\"BRIEF\")\n",
    "\n",
    "# # Determine key points\n",
    "# keypoints = star.detect(gray, None)\n",
    "\n",
    "# # Obtain descriptors and new final keypoints using BRIEF\n",
    "# keypoints, descriptors = brief.compute(gray, keypoints)\n",
    "# print(\"Number of keypoints Detected: \", len(keypoints))\n",
    "\n",
    "# # Draw rich keypoints on input image\n",
    "# image = cv2.drawKeypoints(image, keypoints, flags=cv2.DRAW_MATCHES_FLAGS_DRAW_RICH_KEYPOINTS)\n",
    "                                    \n",
    "# cv2.imshow('Feature Method - BRIEF', image)\n",
    "# cv2.waitKey()\n",
    "# cv2.destroyAllWindows()\n",
    "\n",
    "## Has removed from OpenCV"
   ]
  },
  {
   "cell_type": "markdown",
   "metadata": {},
   "source": [
    "## ORB (Oriented FAST and Rotated BRIEF)"
   ]
  },
  {
   "cell_type": "code",
   "execution_count": 12,
   "metadata": {},
   "outputs": [
    {
     "name": "stdout",
     "output_type": "stream",
     "text": [
      "Number of keypoints Detected:  10\n"
     ]
    }
   ],
   "source": [
    "import cv2\n",
    "import numpy as np\n",
    "\n",
    "image = cv2.imread('images/input.jpg')\n",
    "gray = cv2.cvtColor(image, cv2.COLOR_BGR2GRAY)\n",
    "\n",
    "# Create ORB object, we can specify the number of key points we desire\n",
    "orb = cv2.ORB_create(10)\n",
    "\n",
    "# Determine key points\n",
    "keypoints, descriptors = orb.detectAndCompute(gray, None)\n",
    "\n",
    "# Obtain the descriptors\n",
    "#keypoints, descriptors = orb.compute(gray, keypoints)\n",
    "print(\"Number of keypoints Detected: \", len(keypoints))\n",
    "\n",
    "# Draw rich keypoints on input image\n",
    "image = cv2.drawKeypoints(image, keypoints, None, flags=cv2.DRAW_MATCHES_FLAGS_DRAW_RICH_KEYPOINTS)\n",
    "\n",
    "cv2.imshow('Feature Method - ORB', image)\n",
    "cv2.waitKey()\n",
    "cv2.destroyAllWindows()"
   ]
  },
  {
   "cell_type": "markdown",
   "metadata": {},
   "source": [
    "# Object Detection & Matching"
   ]
  },
  {
   "cell_type": "markdown",
   "metadata": {},
   "source": [
    "BFMatcher is going to try all the possibilities (which is the meaning of \"Brute Force\") and hence it will find the best matches.\n",
    "\n",
    "FLANN, meaning \"Fast Library for Approximate Nearest Neighbors\", will be much faster but will find an approximate nearest neighbors. It will find a good matching, but not necessarily the best possible one. You can play with FLANN's parameters in order to increase the precision (i.e. the \"quality\" of the matchings), but it will be at the cost of slowing the algorithm."
   ]
  },
  {
   "cell_type": "code",
   "execution_count": 13,
   "metadata": {},
   "outputs": [],
   "source": [
    "import cv2\n",
    "import numpy as np\n",
    "\n",
    "\n",
    "def ORB_detector(new_image, image_template):\n",
    "    # Function that compares input image to template\n",
    "    # It then returns the number of ORB matches between them\n",
    "    \n",
    "    image1 = cv2.cvtColor(new_image, cv2.COLOR_BGR2GRAY)\n",
    "\n",
    "    # Create ORB detector with 1000 keypoints with a scaling pyramid factor of 1.2\n",
    "    orb = cv2.ORB_create(1000, 1.2)\n",
    "\n",
    "    # Detect keypoints of original image\n",
    "    (kp1, des1) = orb.detectAndCompute(image1, None)\n",
    "\n",
    "    # Detect keypoints of rotated image\n",
    "    (kp2, des2) = orb.detectAndCompute(image_template, None)\n",
    "\n",
    "    # Create matcher \n",
    "    bf = cv2.BFMatcher(cv2.NORM_HAMMING, crossCheck=True)\n",
    "\n",
    "    # Do matching\n",
    "    matches = bf.match(des1, des2)\n",
    "\n",
    "    # Sort the matches based on distance. (Least distance is better)\n",
    "    matches = sorted(matches, key=lambda val: val.distance)\n",
    "\n",
    "    return len(matches)\n",
    "    \n",
    "#     # Define parameters for our Flann Matcher\n",
    "#     FLANN_INDEX_KDTREE = 0\n",
    "#     index_params = dict(algorithm = FLANN_INDEX_KDTREE, trees = 3)\n",
    "#     search_params = dict(checks = 100)\n",
    "\n",
    "#     # Create the Flann Matcher object\n",
    "#     flann = cv2.FlannBasedMatcher(index_params, search_params)\n",
    "\n",
    "#     # Obtain matches using K-Nearest Neighbor Method\n",
    "#     # the result 'matchs' is the number of similar matches found in both images\n",
    "#     matches = flann.knnMatch(des1, des1, k=2)\n",
    "\n",
    "#     # Store good matches using Lowe's ratio test\n",
    "#     good_matches = []\n",
    "#     for m,n in matches:\n",
    "#         if m.distance < 0.7 * n.distance:\n",
    "#             good_matches.append(m) \n",
    "\n",
    "#     return len(good_matches)\n",
    "\n",
    "# Video Capturing\n",
    "cap = cv2.VideoCapture(0)\n",
    "\n",
    "# Load our image template, this is our reference image\n",
    "image_template = cv2.imread('images/Rohit_Photo.jpg', 0)\n",
    "cv2.imshow('Template', image_template)\n",
    "\n",
    "while True:\n",
    "    # Get webcam images\n",
    "    ret, frame = cap.read()\n",
    "\n",
    "    # Get height and width of webcam frame\n",
    "    height, width = frame.shape[:2]\n",
    "\n",
    "    # Define ROI Box Dimensions (Note some of these things should be outside the loop)\n",
    "    top_left_x = int(width / 3)\n",
    "    top_left_y = int((height / 2) + (height / 4))\n",
    "    bottom_right_x = int((width / 3) * 2)\n",
    "    bottom_right_y = int((height / 2) - (height / 4))\n",
    "    \n",
    "    # Draw rectangular window for our region of interest\n",
    "    cv2.rectangle(frame, (top_left_x, top_left_y), (bottom_right_x, bottom_right_y), (255, 0, 0), 3)\n",
    "    \n",
    "    # Crop window of observation we defined above\n",
    "    cropped = frame[bottom_right_y:top_left_y, top_left_x:bottom_right_x]\n",
    "\n",
    "    # Flip frame orientation horizontally\n",
    "    frame = cv2.flip(frame, 1)\n",
    "    \n",
    "    # Get number of ORB matches \n",
    "    matches = ORB_detector(cropped, image_template)\n",
    "    \n",
    "    # Display status string showing the current no. of matches \n",
    "    output_string = \"Matches = \" + str(matches)\n",
    "    cv2.putText(frame, output_string, (50, 450), cv2.FONT_HERSHEY_COMPLEX, 2, (250, 0, 150), 2)\n",
    "    \n",
    "    # Our threshold to indicate object deteciton\n",
    "    # For new images or lightening conditions we may need to experiment a bit \n",
    "    # Note: The ORB detector to get the top 1000 matches, 350 is essentially a min 35% match\n",
    "    threshold = 80\n",
    "    \n",
    "    # If matches exceed our threshold then object has been detected\n",
    "    if matches > threshold:\n",
    "        cv2.rectangle(frame, (top_left_x, top_left_y), (bottom_right_x, bottom_right_y), (0, 255, 0), 3)\n",
    "        cv2.putText(frame, 'Found', (210, 50), cv2.FONT_HERSHEY_COMPLEX, 2, (0, 255, 0), 2)\n",
    "    \n",
    "    cv2.imshow('Object Detector using ORB', frame)\n",
    "    \n",
    "    if cv2.waitKey(1) == 13: #13 is the Enter Key\n",
    "        break\n",
    "\n",
    "cap.release()\n",
    "cv2.destroyAllWindows()"
   ]
  },
  {
   "cell_type": "markdown",
   "metadata": {},
   "source": [
    "The above implementation has very low accuracy wrt. face detection & is not the best way!"
   ]
  },
  {
   "cell_type": "markdown",
   "metadata": {},
   "source": [
    "# Histogram of Oriented Gradients (HoG)"
   ]
  },
  {
   "cell_type": "code",
   "execution_count": 15,
   "metadata": {},
   "outputs": [
    {
     "data": {
      "image/png": "[encoded data removed]",
      "text/plain": [
       "<Figure size 432x288 with 2 Axes>"
      ]
     },
     "metadata": {
      "needs_background": "light"
     },
     "output_type": "display_data"
    }
   ],
   "source": [
    "import numpy as np\n",
    "import cv2\n",
    "import matplotlib.pyplot as plt\n",
    "\n",
    "# Load image then grayscale\n",
    "image = cv2.imread('images/elephant.jpg')\n",
    "gray = cv2.cvtColor(image, cv2.COLOR_BGR2GRAY)\n",
    "\n",
    "# Show original Image\n",
    "cv2.imshow('Input Image', image)\n",
    "cv2.waitKey(0)\n",
    "\n",
    "# h x w in pixels\n",
    "cell_size = (8, 8) \n",
    "\n",
    " # h x w in cells\n",
    "block_size = (2, 2) \n",
    "\n",
    "# number of orientation bins\n",
    "nbins = 9\n",
    "\n",
    "# Using OpenCV's HOG Descriptor\n",
    "# winSize is the size of the image cropped to a multiple of the cell size\n",
    "hog = cv2.HOGDescriptor(_winSize=(gray.shape[1] // cell_size[1] * cell_size[1],\n",
    "                                  gray.shape[0] // cell_size[0] * cell_size[0]),\n",
    "                        _blockSize=(block_size[1] * cell_size[1],\n",
    "                                    block_size[0] * cell_size[0]),\n",
    "                        _blockStride=(cell_size[1], cell_size[0]),\n",
    "                        _cellSize=(cell_size[1], cell_size[0]),\n",
    "                        _nbins=nbins)\n",
    "\n",
    "# Create numpy array shape which we use to create hog_feats\n",
    "n_cells = (gray.shape[0] // cell_size[0], gray.shape[1] // cell_size[1])\n",
    "\n",
    "# We index blocks by rows first.\n",
    "# hog_feats now contains the gradient amplitudes for each direction,\n",
    "# for each cell of its group for each group. Indexing is by rows then columns.\n",
    "hog_feats = hog.compute(gray).reshape(n_cells[1] - block_size[1] + 1,\n",
    "                        n_cells[0] - block_size[0] + 1,\n",
    "                        block_size[0], block_size[1], nbins).transpose((1, 0, 2, 3, 4))  \n",
    "\n",
    "# Create our gradients array with nbin dimensions to store gradient orientations \n",
    "gradients = np.zeros((n_cells[0], n_cells[1], nbins))\n",
    "\n",
    "# Create array of dimensions \n",
    "cell_count = np.full((n_cells[0], n_cells[1], 1), 0, dtype=int)\n",
    "\n",
    "# Block Normalization\n",
    "for off_y in range(block_size[0]):\n",
    "    for off_x in range(block_size[1]):\n",
    "        gradients[off_y:n_cells[0] - block_size[0] + off_y + 1,\n",
    "                  off_x:n_cells[1] - block_size[1] + off_x + 1] += \\\n",
    "            hog_feats[:, :, off_y, off_x, :]\n",
    "        cell_count[off_y:n_cells[0] - block_size[0] + off_y + 1,\n",
    "                   off_x:n_cells[1] - block_size[1] + off_x + 1] += 1\n",
    "\n",
    "# Average gradients\n",
    "gradients /= cell_count\n",
    "\n",
    "# Plot HOGs using Matplotlib\n",
    "# angle is 360 / nbins * direction\n",
    "color_bins = 5\n",
    "plt.pcolor(gradients[:, :, color_bins])\n",
    "plt.gca().invert_yaxis()\n",
    "plt.gca().set_aspect('equal', adjustable='box')\n",
    "plt.colorbar()\n",
    "plt.show()\n",
    "cv2.destroyAllWindows()\n",
    "\n",
    "# Run this following block of code twice of the graphs to be displayed!"
   ]
  }
 ],
 "metadata": {
  "kernelspec": {
   "display_name": "Python 3",
   "language": "python",
   "name": "python3"
  },
  "language_info": {
   "codemirror_mode": {
    "name": "ipython",
    "version": 3
   },
   "file_extension": ".py",
   "mimetype": "text/x-python",
   "name": "python",
   "nbconvert_exporter": "python",
   "pygments_lexer": "ipython3",
   "version": "3.7.3"
  },
  "toc": {
   "base_numbering": 1,
   "nav_menu": {},
   "number_sections": true,
   "sideBar": true,
   "skip_h1_title": false,
   "title_cell": "Table of Contents",
   "title_sidebar": "Contents",
   "toc_cell": false,
   "toc_position": {},
   "toc_section_display": true,
   "toc_window_display": false
  },
  "varInspector": {
   "cols": {
    "lenName": 16,
    "lenType": 16,
    "lenVar": 40
   },
   "kernels_config": {
    "python": {
     "delete_cmd_postfix": "",
     "delete_cmd_prefix": "del ",
     "library": "var_list.py",
     "varRefreshCmd": "print(var_dic_list())"
    },
    "r": {
     "delete_cmd_postfix": ") ",
     "delete_cmd_prefix": "rm(",
     "library": "var_list.r",
     "varRefreshCmd": "cat(var_dic_list()) "
    }
   },
   "position": {
    "height": "399px",
    "left": "996px",
    "right": "20px",
    "top": "120px",
    "width": "350px"
   },
   "types_to_exclude": [
    "module",
    "function",
    "builtin_function_or_method",
    "instance",
    "_Feature"
   ],
   "window_display": false
  }
 },
 "nbformat": 4,
 "nbformat_minor": 2
}
