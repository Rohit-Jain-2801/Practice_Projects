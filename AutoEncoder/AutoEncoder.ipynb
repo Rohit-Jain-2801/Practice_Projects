{
 "cells": [
  {
   "cell_type": "markdown",
   "metadata": {},
   "source": [
    "# AutoEncoder"
   ]
  },
  {
   "cell_type": "markdown",
   "metadata": {},
   "source": [
    "+ AutoEncoder is a type of neural network where the output layer has the same dimensionality as the input layer.\n",
    "+ An autoencoder replicates the data from the input to the output in an unsupervised manner and is therefore sometimes referred to as a replicator neural network.\n",
    "+ **Applications**\n",
    "    - Data Compression\n",
    "    - Image Denoising\n",
    "    - Dimensionality Reduction\n",
    "    - Feature Extraction\n",
    "    - Image Generation\n",
    "    - Image colourisation"
   ]
  },
  {
   "cell_type": "markdown",
   "metadata": {},
   "source": [
    "## Importing Libraries"
   ]
  },
  {
   "cell_type": "code",
   "execution_count": 1,
   "metadata": {},
   "outputs": [],
   "source": [
    "import numpy as np\n",
    "import tensorflow as tf\n",
    "from tqdm.notebook import tqdm\n",
    "\n",
    "import matplotlib.pyplot as plt\n",
    "%matplotlib inline"
   ]
  },
  {
   "cell_type": "markdown",
   "metadata": {},
   "source": [
    "## Loading the Dataset"
   ]
  },
  {
   "cell_type": "code",
   "execution_count": 2,
   "metadata": {},
   "outputs": [],
   "source": [
    "(x_train, y_train), (x_test, y_test) = tf.keras.datasets.mnist.load_data()"
   ]
  },
  {
   "cell_type": "code",
   "execution_count": 3,
   "metadata": {},
   "outputs": [
    {
     "name": "stdout",
     "output_type": "stream",
     "text": [
      "X-train: (60000, 28, 28)\n",
      "Y-train: (60000,)\n",
      "X-test:  (10000, 28, 28)\n",
      "Y-test:  (10000,)\n"
     ]
    }
   ],
   "source": [
    "print('X-train:', x_train.shape)\n",
    "print('Y-train:', y_train.shape)\n",
    "print('X-test: ', x_test.shape)\n",
    "print('Y-test: ', y_test.shape)"
   ]
  },
  {
   "cell_type": "markdown",
   "metadata": {},
   "source": [
    "+ We will not be needing Y_labels for our model."
   ]
  },
  {
   "cell_type": "markdown",
   "metadata": {},
   "source": [
    "## Normalizing the Images"
   ]
  },
  {
   "cell_type": "code",
   "execution_count": 4,
   "metadata": {},
   "outputs": [],
   "source": [
    "x_train = x_train/255.\n",
    "x_test = x_test/255."
   ]
  },
  {
   "cell_type": "markdown",
   "metadata": {},
   "source": [
    "## Customizing the Dimensons"
   ]
  },
  {
   "cell_type": "markdown",
   "metadata": {},
   "source": [
    "+ Tensor format: (batch_size, height, width, depth)"
   ]
  },
  {
   "cell_type": "code",
   "execution_count": 5,
   "metadata": {},
   "outputs": [],
   "source": [
    "x_train = np.expand_dims(x_train, 3)\n",
    "x_test = np.expand_dims(x_test, 3)"
   ]
  },
  {
   "cell_type": "markdown",
   "metadata": {},
   "source": [
    "## Functions for later use"
   ]
  },
  {
   "cell_type": "code",
   "execution_count": 38,
   "metadata": {},
   "outputs": [],
   "source": [
    "def visual_results(x, y, n, cmap=None, size=None):\n",
    "    plt.figure(figsize=size)\n",
    "    for i in range(n):\n",
    "        plt.subplot(2, n, i+1)\n",
    "        plt.imshow(np.squeeze(x[i], axis=2), cmap=cmap)\n",
    "        plt.xticks(ticks=[])\n",
    "        plt.yticks(ticks=[])\n",
    "        plt.title(label='Real'+str(i+1))\n",
    "\n",
    "        plt.subplot(2, n, n+i+1)\n",
    "        plt.imshow(np.squeeze(y[i], axis=2), cmap=cmap)\n",
    "        plt.xticks(ticks=[])\n",
    "        plt.yticks(ticks=[])\n",
    "        plt.title(label='Generated'+str(i+1))"
   ]
  },
  {
   "cell_type": "markdown",
   "metadata": {},
   "source": [
    "## Defining some HyperParameters"
   ]
  },
  {
   "cell_type": "code",
   "execution_count": 45,
   "metadata": {},
   "outputs": [],
   "source": [
    "train_size = x_train.shape[0]\n",
    "test_size = x_test.shape[0]\n",
    "batch_size = 32\n",
    "train_batch_size = train_size//batch_size\n",
    "test_batch_size = test_size//batch_size\n",
    "epochs = 5\n",
    "learning_rate = 0.001\n",
    "intermediate_dim = 64"
   ]
  },
  {
   "cell_type": "markdown",
   "metadata": {},
   "source": [
    "## Types of AutoEncoders"
   ]
  },
  {
   "cell_type": "markdown",
   "metadata": {},
   "source": [
    "### Vanilla AutoEncoder"
   ]
  },
  {
   "cell_type": "markdown",
   "metadata": {},
   "source": [
    "+ In its simplest form, the autoencoder is a three layers net, i.e. a neural net with one hidden layer.\n",
    "+ On the basis of number of units in hidden layer, it can be further classified as-\n",
    "    - **UnderComplete AutoEncoder**: less units in hidden layer than input/output layer\n",
    "    - **OverComplete AutoEncoder**: more units in hidden layer than input/output layer\n",
    "+ The input and output are the same, and we learn how to reconstruct the input, for example using the adam optimizer and the mean squared error loss function.\n",
    "+ This can be extended by multiple hidden layers (i.e, **Multilayer AutoEncoder**)\n",
    "![UnderComplete AutoEncoder](https://miro.medium.com/max/1088/1*eE-jG_gXajuGcZYHFasAmA.png)"
   ]
  },
  {
   "cell_type": "markdown",
   "metadata": {},
   "source": [
    "#### Defining Model"
   ]
  },
  {
   "cell_type": "code",
   "execution_count": 64,
   "metadata": {},
   "outputs": [],
   "source": [
    "class VanillaAutoEncoder(tf.keras.Model):\n",
    "    '''Vanilla AutoEncoder Architecture'''\n",
    "    \n",
    "    def __init__(self, intermediate_dim, original_dim):\n",
    "        '''\n",
    "            Input: intermediate_dim => Bottleneck Dimension\n",
    "                   original_dim => Input Dimension\n",
    "                   \n",
    "            Output: It creates the architecture based on inputs.\n",
    "        '''\n",
    "        \n",
    "        super(VanillaAutoEncoder, self).__init__(name='VanillaAutoEncoder')\n",
    "        \n",
    "        self.encoder = tf.keras.Sequential([\n",
    "            tf.keras.Input(shape=original_dim, name='EncoderInput', dtype='float32'),\n",
    "            tf.keras.layers.Dense(units=intermediate_dim, activation='relu', name='EncoderOutput', dtype='float32')\n",
    "        ], name='Encoder')\n",
    "        \n",
    "        self.decoder = tf.keras.Sequential([\n",
    "            tf.keras.Input(shape=intermediate_dim, name='DecoderInput', dtype='float32'),\n",
    "            tf.keras.layers.Dense(units=original_dim, activation='sigmoid', name='DecoderOutput', dtype='float32')\n",
    "        ], name='Decoder')\n",
    "        \n",
    "        print(super(VanillaAutoEncoder, self).build((None, original_dim)))\n",
    "\n",
    "        \n",
    "    def call(self, input_features):\n",
    "        '''\n",
    "            Feeds input-data to the model architecture\n",
    "        '''\n",
    "        input_features = tf.cast(input_features, dtype='float32')\n",
    "        coded_features = self.encoder(input_features)\n",
    "        reconstructed = self.decoder(coded_features)\n",
    "        return reconstructed"
   ]
  },
  {
   "cell_type": "markdown",
   "metadata": {},
   "source": [
    "#### Defining Loss Function"
   ]
  },
  {
   "cell_type": "code",
   "execution_count": 65,
   "metadata": {},
   "outputs": [],
   "source": [
    "def model_loss(model, original):\n",
    "    '''\n",
    "        Returns loss defined for the model\n",
    "    '''\n",
    "    reconstruction_error = tf.reduce_mean(tf.square(tf.subtract(model(original), tf.cast(original, dtype='float32'))))\n",
    "    return reconstruction_error"
   ]
  },
  {
   "cell_type": "markdown",
   "metadata": {},
   "source": [
    "#### Defining Training Process"
   ]
  },
  {
   "cell_type": "code",
   "execution_count": 66,
   "metadata": {},
   "outputs": [],
   "source": [
    "@tf.function\n",
    "def train_model(loss, model, optimizer, original):\n",
    "    '''\n",
    "        Trains the model by computing loss and gradients\n",
    "    '''\n",
    "    with tf.GradientTape() as tape:\n",
    "        gradients = tape.gradient(loss(model, original), model.trainable_variables)\n",
    "        gradient_variables = zip(gradients, model.trainable_variables)\n",
    "        optimizer.apply_gradients(gradient_variables)"
   ]
  },
  {
   "cell_type": "markdown",
   "metadata": {},
   "source": [
    "#### Preparing Data for Model"
   ]
  },
  {
   "cell_type": "code",
   "execution_count": 67,
   "metadata": {},
   "outputs": [],
   "source": [
    "flat_x_train = x_train.reshape(x_train.shape[0], x_train.shape[1]*x_train.shape[2]*x_train.shape[3]).astype(np.float32)\n",
    "flat_x_test = x_test.reshape(x_test.shape[0], x_test.shape[1]*x_test.shape[2]*x_test.shape[3]).astype(np.float32)"
   ]
  },
  {
   "cell_type": "code",
   "execution_count": 68,
   "metadata": {},
   "outputs": [],
   "source": [
    "train_dataset = (tf.data.Dataset.from_tensor_slices(flat_x_train).shuffle(train_size).batch(batch_size))\n",
    "test_dataset = (tf.data.Dataset.from_tensor_slices(flat_x_test).shuffle(test_size).batch(batch_size))"
   ]
  },
  {
   "cell_type": "markdown",
   "metadata": {},
   "source": [
    "#### Defining Optimizer"
   ]
  },
  {
   "cell_type": "code",
   "execution_count": 69,
   "metadata": {},
   "outputs": [],
   "source": [
    "opt = tf.optimizers.Adam(learning_rate=learning_rate)"
   ]
  },
  {
   "cell_type": "markdown",
   "metadata": {},
   "source": [
    "#### Initializing Model"
   ]
  },
  {
   "cell_type": "code",
   "execution_count": 70,
   "metadata": {},
   "outputs": [
    {
     "name": "stdout",
     "output_type": "stream",
     "text": [
      "None\n",
      "Model: \"VanillaAutoEncoder\"\n",
      "_________________________________________________________________\n",
      "Layer (type)                 Output Shape              Param #   \n",
      "=================================================================\n",
      "Encoder (Sequential)         (None, 64)                50240     \n",
      "_________________________________________________________________\n",
      "Decoder (Sequential)         (None, 784)               50960     \n",
      "=================================================================\n",
      "Total params: 101,200\n",
      "Trainable params: 101,200\n",
      "Non-trainable params: 0\n",
      "_________________________________________________________________\n"
     ]
    }
   ],
   "source": [
    "autoencoder = VanillaAutoEncoder(intermediate_dim=intermediate_dim, original_dim=flat_x_train.shape[1])\n",
    "autoencoder.summary()"
   ]
  },
  {
   "cell_type": "code",
   "execution_count": 71,
   "metadata": {},
   "outputs": [
    {
     "name": "stdout",
     "output_type": "stream",
     "text": [
      "Model: \"Encoder\"\n",
      "_________________________________________________________________\n",
      "Layer (type)                 Output Shape              Param #   \n",
      "=================================================================\n",
      "EncoderOutput (Dense)        (None, 64)                50240     \n",
      "=================================================================\n",
      "Total params: 50,240\n",
      "Trainable params: 50,240\n",
      "Non-trainable params: 0\n",
      "_________________________________________________________________\n"
     ]
    }
   ],
   "source": [
    "autoencoder.encoder.summary()"
   ]
  },
  {
   "cell_type": "code",
   "execution_count": 72,
   "metadata": {},
   "outputs": [
    {
     "name": "stdout",
     "output_type": "stream",
     "text": [
      "Model: \"Decoder\"\n",
      "_________________________________________________________________\n",
      "Layer (type)                 Output Shape              Param #   \n",
      "=================================================================\n",
      "DecoderOutput (Dense)        (None, 784)               50960     \n",
      "=================================================================\n",
      "Total params: 50,960\n",
      "Trainable params: 50,960\n",
      "Non-trainable params: 0\n",
      "_________________________________________________________________\n"
     ]
    }
   ],
   "source": [
    "autoencoder.decoder.summary()"
   ]
  },
  {
   "cell_type": "markdown",
   "metadata": {},
   "source": [
    "#### Training Model"
   ]
  },
  {
   "cell_type": "code",
   "execution_count": 73,
   "metadata": {},
   "outputs": [
    {
     "data": {
      "application/vnd.jupyter.widget-view+json": {
       "model_id": "d4cd27553a8249d4a78836c1bbceb8a6",
       "version_major": 2,
       "version_minor": 0
      },
      "text/plain": [
       "HBox(children=(FloatProgress(value=0.0, description='Epoch - 1', max=1875.0, style=ProgressStyle(description_w…"
      ]
     },
     "metadata": {},
     "output_type": "display_data"
    },
    {
     "name": "stdout",
     "output_type": "stream",
     "text": [
      "\n",
      "Loss: 0.010281932540237904\n"
     ]
    },
    {
     "data": {
      "application/vnd.jupyter.widget-view+json": {
       "model_id": "57a050612eaa45d8a9971ac6e22cf612",
       "version_major": 2,
       "version_minor": 0
      },
      "text/plain": [
       "HBox(children=(FloatProgress(value=0.0, description='Epoch - 2', max=1875.0, style=ProgressStyle(description_w…"
      ]
     },
     "metadata": {},
     "output_type": "display_data"
    },
    {
     "name": "stdout",
     "output_type": "stream",
     "text": [
      "\n",
      "Loss: 0.005949992220848799\n"
     ]
    },
    {
     "data": {
      "application/vnd.jupyter.widget-view+json": {
       "model_id": "cc94747ab6fc4453a9e47ce2cbdcc0fb",
       "version_major": 2,
       "version_minor": 0
      },
      "text/plain": [
       "HBox(children=(FloatProgress(value=0.0, description='Epoch - 3', max=1875.0, style=ProgressStyle(description_w…"
      ]
     },
     "metadata": {},
     "output_type": "display_data"
    },
    {
     "name": "stdout",
     "output_type": "stream",
     "text": [
      "\n",
      "Loss: 0.004948663525283337\n"
     ]
    },
    {
     "data": {
      "application/vnd.jupyter.widget-view+json": {
       "model_id": "751974768aba483d94259244a1c73237",
       "version_major": 2,
       "version_minor": 0
      },
      "text/plain": [
       "HBox(children=(FloatProgress(value=0.0, description='Epoch - 4', max=1875.0, style=ProgressStyle(description_w…"
      ]
     },
     "metadata": {},
     "output_type": "display_data"
    },
    {
     "name": "stdout",
     "output_type": "stream",
     "text": [
      "\n",
      "Loss: 0.0045354412868618965\n"
     ]
    },
    {
     "data": {
      "application/vnd.jupyter.widget-view+json": {
       "model_id": "f9519b5549454e63b446506728473822",
       "version_major": 2,
       "version_minor": 0
      },
      "text/plain": [
       "HBox(children=(FloatProgress(value=0.0, description='Epoch - 5', max=1875.0, style=ProgressStyle(description_w…"
      ]
     },
     "metadata": {},
     "output_type": "display_data"
    },
    {
     "name": "stdout",
     "output_type": "stream",
     "text": [
      "\n",
      "Loss: 0.004431597422808409\n"
     ]
    }
   ],
   "source": [
    "for epoch in range(epochs):\n",
    "    for step, batch_input in tqdm(enumerate(train_dataset), desc='Epoch - '+str(epoch+1), total=train_batch_size):\n",
    "        train_model(loss=model_loss, model=autoencoder, optimizer=opt, original=batch_input)\n",
    "    print('Loss:', float(model_loss(model=autoencoder, original=batch_input)))"
   ]
  },
  {
   "cell_type": "code",
   "execution_count": 76,
   "metadata": {},
   "outputs": [],
   "source": [
    "# If this is used, we can ignore loss, train functions & data generated as batches\n",
    "# As they all are managed by TensorFlow\n",
    "\n",
    "# autoencoder.compile(optimizer='adam', loss='mse')\n",
    "# autoencoder.fit(\n",
    "#     x=flat_x_train,\n",
    "#     y=flat_x_train,\n",
    "#     epochs=epochs,\n",
    "#     batch_size=batch_size,\n",
    "#     steps_per_epoch=train_batch_size,\n",
    "#     validation_data=(flat_x_test, flat_x_test),\n",
    "#     validation_steps=test_batch_size\n",
    "# )"
   ]
  },
  {
   "cell_type": "markdown",
   "metadata": {},
   "source": [
    "#### Testing Model"
   ]
  },
  {
   "cell_type": "code",
   "execution_count": 74,
   "metadata": {},
   "outputs": [
    {
     "data": {
      "text/plain": [
       "(10000, 28, 28, 1)"
      ]
     },
     "execution_count": 74,
     "metadata": {},
     "output_type": "execute_result"
    }
   ],
   "source": [
    "pred1 = autoencoder.predict(flat_x_test).reshape(x_test.shape)\n",
    "pred1.shape"
   ]
  },
  {
   "cell_type": "markdown",
   "metadata": {},
   "source": [
    "#### Visualizing Results"
   ]
  },
  {
   "cell_type": "code",
   "execution_count": 75,
   "metadata": {},
   "outputs": [
    {
     "data": {
      "image/png": "[encoded data removed]",
      "text/plain": [
       "<Figure size 1080x360 with 10 Axes>"
      ]
     },
     "metadata": {},
     "output_type": "display_data"
    }
   ],
   "source": [
    "visual_results(x=x_test, y=pred1, n=5, cmap='gray', size=(15, 5))"
   ]
  },
  {
   "cell_type": "markdown",
   "metadata": {},
   "source": [
    "#### Encoder-Decoder"
   ]
  },
  {
   "cell_type": "code",
   "execution_count": 85,
   "metadata": {},
   "outputs": [
    {
     "data": {
      "text/plain": [
       "(10000, 64)"
      ]
     },
     "execution_count": 85,
     "metadata": {},
     "output_type": "execute_result"
    }
   ],
   "source": [
    "embeddings = autoencoder.encoder.predict(flat_x_test)\n",
    "embeddings.shape"
   ]
  },
  {
   "cell_type": "code",
   "execution_count": 86,
   "metadata": {},
   "outputs": [
    {
     "data": {
      "text/plain": [
       "(10000, 784)"
      ]
     },
     "execution_count": 86,
     "metadata": {},
     "output_type": "execute_result"
    }
   ],
   "source": [
    "output = autoencoder.decoder.predict(embeddings)\n",
    "output.shape"
   ]
  },
  {
   "cell_type": "code",
   "execution_count": 91,
   "metadata": {},
   "outputs": [
    {
     "data": {
      "text/plain": [
       "(10000, 28, 28, 1)"
      ]
     },
     "execution_count": 91,
     "metadata": {},
     "output_type": "execute_result"
    }
   ],
   "source": [
    "output = output.reshape(x_test.shape)\n",
    "output.shape"
   ]
  },
  {
   "cell_type": "markdown",
   "metadata": {},
   "source": [
    "### Convolutional AutoEncoder (CAE)"
   ]
  },
  {
   "cell_type": "markdown",
   "metadata": {},
   "source": [
    "+ CAE learn to encode the input image into a set of simple features and then reconstruct the input from them.\n",
    "+ In this type of autoencoder, encoder layers are known as convolution layers and decoder layers are also called deconvolution layers. The deconvolution side is also known as upsampling or transpose convolution.\n",
    "![Convolutional AutoEncoder](https://iq.opengenus.org/content/images/2019/07/a5.png)"
   ]
  },
  {
   "cell_type": "markdown",
   "metadata": {},
   "source": [
    "#### Defining Model"
   ]
  },
  {
   "cell_type": "code",
   "execution_count": 19,
   "metadata": {},
   "outputs": [],
   "source": [
    "class ConvolutionAutoEncoder:\n",
    "    \n",
    "    @staticmethod\n",
    "    def build(latent_dim, original_dim, filters=(32, 64)):\n",
    "        \n",
    "        # define the input to the encoder\n",
    "        encoder_input = tf.keras.Input(shape=original_dim)\n",
    "        x = encoder_input\n",
    "        \n",
    "        # loop over the number of filters\n",
    "        for f in filters:\n",
    "            # apply a CONV => RELU => BN operation\n",
    "            x = tf.keras.layers.Conv2D(filters=f, kernel_size=(3, 3), strides=2, padding='same')(x)\n",
    "            x = tf.keras.layers.LeakyReLU(alpha=0.2)(x)\n",
    "            x = tf.keras.layers.BatchNormalization(axis=-1)(x)\n",
    "        \n",
    "        # flatten the network and then construct our latent vector\n",
    "        volumeSize = x.shape\n",
    "        x = tf.keras.layers.Flatten()(x)\n",
    "        latent = tf.keras.layers.Dense(units=latent_dim)(x)\n",
    "        \n",
    "        # build the encoder model\n",
    "        encoder = tf.keras.Model(encoder_input, latent, name='Encoder')\n",
    "        \n",
    "        ###########################################################################################\n",
    "        \n",
    "        # define the input to the encoder\n",
    "        latent_input = tf.keras.Input(shape=latent_dim)\n",
    "        x = tf.keras.layers.Dense(np.prod(volumeSize[1:]))(latent_input)\n",
    "        x = tf.keras.layers.Reshape((volumeSize[1], volumeSize[2], volumeSize[3]))(x)\n",
    "        \n",
    "        # loop over the number of filters in reverse order\n",
    "        for f in filters[::-1]:\n",
    "            # apply a CONV_TRANSPOSE => RELU => BN operation\n",
    "            x = tf.keras.layers.Conv2DTranspose(filters=f, kernel_size=(3, 3), strides=2, padding='same')(x)\n",
    "            x = tf.keras.layers.LeakyReLU(alpha=0.2)(x)\n",
    "            x = tf.keras.layers.BatchNormalization(axis=-1)(x)\n",
    "        \n",
    "        # apply a single CONV_TRANSPOSE layer used to recover the original depth of the image\n",
    "        x = tf.keras.layers.Conv2DTranspose(filters=original_dim[-1], kernel_size=(3, 3), padding=\"same\")(x)\n",
    "        output = tf.keras.layers.Activation(\"sigmoid\")(x)\n",
    "        \n",
    "        # build the encoder model\n",
    "        decoder = tf.keras.Model(latent_input, output, name='Decoder')\n",
    "        \n",
    "        ###########################################################################################\n",
    "        \n",
    "        # our autoencoder is the encoder + decoder\n",
    "        autoencoder = tf.keras.Model(encoder_input, decoder(encoder(encoder_input)), name=\"ConvolutionAutoEncoder\")\n",
    "        \n",
    "        # return a 3-tuple of the encoder, decoder, and autoencoder\n",
    "        return (encoder, decoder, autoencoder)"
   ]
  },
  {
   "cell_type": "markdown",
   "metadata": {},
   "source": [
    "#### Initializing Model"
   ]
  },
  {
   "cell_type": "code",
   "execution_count": 49,
   "metadata": {},
   "outputs": [],
   "source": [
    "conv_encoder, conv_decoder, conv_autoencoder = ConvolutionAutoEncoder.build(\n",
    "    latent_dim=intermediate_dim,\n",
    "    original_dim=x_train.shape[1:]\n",
    ")"
   ]
  },
  {
   "cell_type": "code",
   "execution_count": 50,
   "metadata": {},
   "outputs": [
    {
     "name": "stdout",
     "output_type": "stream",
     "text": [
      "Model: \"ConvolutionAutoEncoder\"\n",
      "_________________________________________________________________\n",
      "Layer (type)                 Output Shape              Param #   \n",
      "=================================================================\n",
      "input_5 (InputLayer)         [(None, 28, 28, 1)]       0         \n",
      "_________________________________________________________________\n",
      "Encoder (Model)              (None, 64)                219968    \n",
      "_________________________________________________________________\n",
      "Decoder (Model)              (None, 28, 28, 1)         259905    \n",
      "=================================================================\n",
      "Total params: 479,873\n",
      "Trainable params: 479,489\n",
      "Non-trainable params: 384\n",
      "_________________________________________________________________\n"
     ]
    }
   ],
   "source": [
    "conv_autoencoder.summary()"
   ]
  },
  {
   "cell_type": "code",
   "execution_count": 24,
   "metadata": {},
   "outputs": [
    {
     "name": "stdout",
     "output_type": "stream",
     "text": [
      "Model: \"Encoder\"\n",
      "_________________________________________________________________\n",
      "Layer (type)                 Output Shape              Param #   \n",
      "=================================================================\n",
      "input_1 (InputLayer)         [(None, 28, 28, 1)]       0         \n",
      "_________________________________________________________________\n",
      "conv2d (Conv2D)              (None, 14, 14, 32)        320       \n",
      "_________________________________________________________________\n",
      "leaky_re_lu (LeakyReLU)      (None, 14, 14, 32)        0         \n",
      "_________________________________________________________________\n",
      "batch_normalization (BatchNo (None, 14, 14, 32)        128       \n",
      "_________________________________________________________________\n",
      "conv2d_1 (Conv2D)            (None, 7, 7, 64)          18496     \n",
      "_________________________________________________________________\n",
      "leaky_re_lu_1 (LeakyReLU)    (None, 7, 7, 64)          0         \n",
      "_________________________________________________________________\n",
      "batch_normalization_1 (Batch (None, 7, 7, 64)          256       \n",
      "_________________________________________________________________\n",
      "flatten (Flatten)            (None, 3136)              0         \n",
      "_________________________________________________________________\n",
      "dense (Dense)                (None, 64)                200768    \n",
      "=================================================================\n",
      "Total params: 219,968\n",
      "Trainable params: 219,776\n",
      "Non-trainable params: 192\n",
      "_________________________________________________________________\n"
     ]
    }
   ],
   "source": [
    "conv_encoder.summary()"
   ]
  },
  {
   "cell_type": "code",
   "execution_count": 25,
   "metadata": {},
   "outputs": [
    {
     "name": "stdout",
     "output_type": "stream",
     "text": [
      "Model: \"Decoder\"\n",
      "_________________________________________________________________\n",
      "Layer (type)                 Output Shape              Param #   \n",
      "=================================================================\n",
      "input_2 (InputLayer)         [(None, 64)]              0         \n",
      "_________________________________________________________________\n",
      "dense_1 (Dense)              (None, 3136)              203840    \n",
      "_________________________________________________________________\n",
      "reshape (Reshape)            (None, 7, 7, 64)          0         \n",
      "_________________________________________________________________\n",
      "conv2d_transpose (Conv2DTran (None, 14, 14, 64)        36928     \n",
      "_________________________________________________________________\n",
      "leaky_re_lu_2 (LeakyReLU)    (None, 14, 14, 64)        0         \n",
      "_________________________________________________________________\n",
      "batch_normalization_2 (Batch (None, 14, 14, 64)        256       \n",
      "_________________________________________________________________\n",
      "conv2d_transpose_1 (Conv2DTr (None, 28, 28, 32)        18464     \n",
      "_________________________________________________________________\n",
      "leaky_re_lu_3 (LeakyReLU)    (None, 28, 28, 32)        0         \n",
      "_________________________________________________________________\n",
      "batch_normalization_3 (Batch (None, 28, 28, 32)        128       \n",
      "_________________________________________________________________\n",
      "conv2d_transpose_2 (Conv2DTr (None, 28, 28, 1)         289       \n",
      "_________________________________________________________________\n",
      "activation (Activation)      (None, 28, 28, 1)         0         \n",
      "=================================================================\n",
      "Total params: 259,905\n",
      "Trainable params: 259,713\n",
      "Non-trainable params: 192\n",
      "_________________________________________________________________\n"
     ]
    }
   ],
   "source": [
    "conv_decoder.summary()"
   ]
  },
  {
   "cell_type": "markdown",
   "metadata": {},
   "source": [
    "#### Compiling Model"
   ]
  },
  {
   "cell_type": "code",
   "execution_count": 26,
   "metadata": {},
   "outputs": [],
   "source": [
    "conv_autoencoder.compile(optimizer=tf.keras.optimizers.Adam(learning_rate=learning_rate), loss='mse')"
   ]
  },
  {
   "cell_type": "markdown",
   "metadata": {},
   "source": [
    "#### Training Model"
   ]
  },
  {
   "cell_type": "code",
   "execution_count": 27,
   "metadata": {},
   "outputs": [
    {
     "name": "stdout",
     "output_type": "stream",
     "text": [
      "Epoch 1/5\n",
      "1875/1875 [==============================] - 185s 98ms/step - loss: 0.0090\n",
      "Epoch 2/5\n",
      "1875/1875 [==============================] - 179s 95ms/step - loss: 0.0028\n",
      "Epoch 3/5\n",
      "1875/1875 [==============================] - 184s 98ms/step - loss: 0.0023\n",
      "Epoch 4/5\n",
      "1875/1875 [==============================] - 185s 99ms/step - loss: 0.00210s - lo\n",
      "Epoch 5/5\n",
      "1875/1875 [==============================] - 187s 100ms/step - loss: 0.0019\n"
     ]
    }
   ],
   "source": [
    "history = conv_autoencoder.fit(\n",
    "    x=x_train,\n",
    "    y=x_train,\n",
    "    batch_size=batch_size,\n",
    "    steps_per_epoch=train_batch_size,\n",
    "    epochs=epochs,\n",
    "    validation_data=(x_test, x_test),\n",
    "    validation_steps=test_batc_size,\n",
    "    shuffle=True\n",
    ")"
   ]
  },
  {
   "cell_type": "markdown",
   "metadata": {},
   "source": [
    "#### Analyzing Model"
   ]
  },
  {
   "cell_type": "code",
   "execution_count": null,
   "metadata": {},
   "outputs": [],
   "source": [
    "def plot_result(component, color, label, title):\n",
    "    plt.figure(figsize=(20, 6))\n",
    "    plt.plot(history.history[component], marker='o', color=color, label=label)\n",
    "    plt.title(title)\n",
    "    plt.legend()\n",
    "    plt.xticks(history.epoch)\n",
    "    for x, y in zip(history.epoch, history.history['loss']):\n",
    "        label = \"{:.2f}\".format(y)\n",
    "        plt.annotate(label,                               # this is the text\n",
    "                     (x, y),                              # this is the point to label\n",
    "                     textcoords=\"offset points\",          # how to position the text\n",
    "                     xytext=(0, 5),                       # distance from text to points (x,y)\n",
    "                     ha='center')                         # horizontal alignment can be left, right or center"
   ]
  },
  {
   "cell_type": "code",
   "execution_count": 31,
   "metadata": {
    "scrolled": true
   },
   "outputs": [
    {
     "data": {
      "image/png": "[encoded data removed]",
      "text/plain": [
       "<Figure size 1440x432 with 1 Axes>"
      ]
     },
     "metadata": {
      "needs_background": "light"
     },
     "output_type": "display_data"
    }
   ],
   "source": [
    "plot_result(component='loss', color='b', label='Training loss', title='Loss')\n",
    "plot_result(component='val_loss', color='r', label='Validation loss', title='Loss')"
   ]
  },
  {
   "cell_type": "markdown",
   "metadata": {},
   "source": [
    "#### Testing Model"
   ]
  },
  {
   "cell_type": "code",
   "execution_count": 34,
   "metadata": {},
   "outputs": [
    {
     "data": {
      "text/plain": [
       "(10000, 28, 28, 1)"
      ]
     },
     "execution_count": 34,
     "metadata": {},
     "output_type": "execute_result"
    }
   ],
   "source": [
    "pred2 = conv_autoencoder.predict(x=x_test)\n",
    "pred2.shape"
   ]
  },
  {
   "cell_type": "markdown",
   "metadata": {},
   "source": [
    "#### Visualizing Results"
   ]
  },
  {
   "cell_type": "code",
   "execution_count": 41,
   "metadata": {},
   "outputs": [
    {
     "data": {
      "image/png": "[encoded data removed]",
      "text/plain": [
       "<Figure size 1080x360 with 10 Axes>"
      ]
     },
     "metadata": {},
     "output_type": "display_data"
    }
   ],
   "source": [
    "visual_results(x=x_test, y=pred2, n=5, cmap='gray', size=(15, 5))"
   ]
  },
  {
   "cell_type": "markdown",
   "metadata": {},
   "source": [
    "#### Encoder-Decoder"
   ]
  },
  {
   "cell_type": "code",
   "execution_count": 79,
   "metadata": {},
   "outputs": [
    {
     "data": {
      "text/plain": [
       "(10000, 64)"
      ]
     },
     "execution_count": 79,
     "metadata": {},
     "output_type": "execute_result"
    }
   ],
   "source": [
    "encodings = conv_encoder.predict(x=x_test)\n",
    "encodings.shape"
   ]
  },
  {
   "cell_type": "code",
   "execution_count": 80,
   "metadata": {},
   "outputs": [
    {
     "data": {
      "text/plain": [
       "(10000, 28, 28, 1)"
      ]
     },
     "execution_count": 80,
     "metadata": {},
     "output_type": "execute_result"
    }
   ],
   "source": [
    "output = conv_decoder.predict(x=encodings)\n",
    "output.shape"
   ]
  },
  {
   "cell_type": "markdown",
   "metadata": {},
   "source": [
    "### Sparse AutoEncoder"
   ]
  },
  {
   "cell_type": "markdown",
   "metadata": {},
   "source": [
    "+ Sparse autoencoders have hidden nodes greater than input nodes. They can still discover important features from the data.\n",
    "+ Sparsity constraint is introduced on the hidden layer. This is to prevent output layer copy input data.\n",
    "+ Sparse autoencoders have a sparsity penalty, Ω(h), a value close to zero but not zero. Sparsity penalty is applied on the hidden layer in addition to the reconstruction error. This prevents overfitting.\n",
    "+ We could, for example, add a reguralization term in the loss function. Doing this will make our autoencoder learn sparse representation of data.\n",
    "+ Another way is to take the highest activation values in the hidden layer and zero out the rest of the hidden nodes. This prevents autoencoders to use all of the hidden nodes at a time and forcing only a reduced number of hidden nodes to be used.\n",
    "+ As we activate and inactivate hidden nodes for each row in the dataset. Each hidden node extracts a feature from the data\n",
    "![Sparse AutoEncoder](https://miro.medium.com/max/990/1*19oadmQay1n7VNarX5sIPA.png)"
   ]
  },
  {
   "cell_type": "markdown",
   "metadata": {},
   "source": [
    "### Denoising AutoEncoder"
   ]
  },
  {
   "cell_type": "markdown",
   "metadata": {},
   "source": [
    "+ Denoising autoencoders add some noise to the input image and learn to remove it. Thus avoiding to copy the input to the output without learning features about the data. These autoencoders take a partially corrupted input while training to recover the original undistorted input.\n",
    "+ The model learns a vector field for mapping the input data towards a lower-dimensional manifold which describes the natural data to cancel out the added noise. By this means, the encoder will extract the most important features and learn a more robust representation of the data.\n",
    "![Denoising AutoEncoders](https://iq.opengenus.org/content/images/2019/07/a1.png)"
   ]
  },
  {
   "cell_type": "markdown",
   "metadata": {},
   "source": [
    "### Contractive AutoEncoder"
   ]
  },
  {
   "cell_type": "markdown",
   "metadata": {},
   "source": [
    "+ The objective of a contractive autoencoder is to have a robust learned representation which is less sensitive to small variation in the data. Robustness of the representation for the data is done by applying a penalty term to the loss function.\n",
    "+ Contractive autoencoder is another regularization technique just like sparse and denoising autoencoders. However, this regularizer corresponds to the Frobenius norm of the Jacobian matrix of the encoder activations with respect to the input. Frobenius norm of the Jacobian matrix for the hidden layer is calculated with respect to input and it is basically the sum of square of all elements.\n",
    "+ Contractive autoencoder is a better choice than denoising autoencoder to learn useful feature extraction.\n",
    "![Contractive AutoEncoder](https://iq.opengenus.org/content/images/2019/07/a4.png)\n",
    "![Loss function with penalty term — Frobenius norm of the Jacobian matrix](https://miro.medium.com/max/326/1*FjATD2EW-bFB4vTQ6ikR4w.png)"
   ]
  },
  {
   "cell_type": "markdown",
   "metadata": {},
   "source": [
    "### Deep AutoEncoder"
   ]
  },
  {
   "cell_type": "markdown",
   "metadata": {},
   "source": [
    "+ Deep Autoencoders consist of two identical deep belief networks, oOne network for encoding and another for decoding. Typically deep autoencoders have 4 to 5 layers for encoding and the next 4 to 5 layers for decoding. We use unsupervised layer by layer pre-training for this model.\n",
    "+ The layers are Restricted Boltzmann Machines which are the building blocks of deep-belief networks.\n",
    "+ Deep autoencoders are useful in topic modeling, or statistically modeling abstract topics that are distributed across a collection of documents. They are also capable of compressing images into 30 number vectors.\n",
    "![Deep AutoEncoder](https://miro.medium.com/max/1400/1*QM1b0gbKdMowkmyvO95DFA.png)"
   ]
  },
  {
   "cell_type": "markdown",
   "metadata": {},
   "source": [
    "### Convolutional Variational AutoEncoder (VAE)"
   ]
  },
  {
   "cell_type": "markdown",
   "metadata": {},
   "source": [
    "+ VAE is a probabilistic take on the autoencoder, a model which takes high dimensional input data compress it into a smaller representation.\n",
    "+ This type of autoencoder can generate new images just like GANs.\n",
    "+ Unlike a traditional autoencoder, which maps the input onto a latent vector, a VAE maps the input data into the parameters of a probability distribution, such as the mean and variance of a Gaussian.\n",
    "+ They use a variational approach for latent representation learning, which results in an additional loss component and a specific estimator for the training algorithm called the **Stochastic Gradient Variational Bayes** estimator.\n",
    "+ The probability distribution of the latent vector of a variational autoencoder typically matches the training data much closer than a standard autoencoder. \n",
    "+ This approach produces a continuous, structured latent space, which is useful for image generation.\n",
    "+ As VAEs are much more flexible and customisable in their generation behaviour than GANs, they are suitable for art generation of any kind.\n",
    "![Convolutional Variational AutoEncoder](https://iq.opengenus.org/content/images/2019/07/a6.png)"
   ]
  },
  {
   "cell_type": "code",
   "execution_count": 28,
   "metadata": {
    "code_folding": []
   },
   "outputs": [],
   "source": [
    "class CVAE(tf.keras.Model):\n",
    "    \"\"\"Convolutional Variational AutoEncoder.\"\"\"\n",
    "    \n",
    "    def __init__(self, latent_dim):\n",
    "        super(CVAE, self).__init__()\n",
    "        self.latent_dim = latent_dim\n",
    "        \n",
    "        self.encoder = tf.keras.Sequential([\n",
    "                tf.keras.layers.InputLayer(input_shape=(28, 28, 1)),\n",
    "                tf.keras.layers.Conv2D(filters=32, kernel_size=3, strides=(2, 2), activation='relu'),\n",
    "                tf.keras.layers.Conv2D(filters=64, kernel_size=3, strides=(2, 2), activation='relu'),\n",
    "                tf.keras.layers.Flatten(),\n",
    "                # No activation\n",
    "                tf.keras.layers.Dense(latent_dim + latent_dim),\n",
    "        ])\n",
    "\n",
    "        self.decoder = tf.keras.Sequential([\n",
    "                tf.keras.layers.InputLayer(input_shape=(latent_dim,)),\n",
    "                tf.keras.layers.Dense(units=7*7*32, activation=tf.nn.relu),\n",
    "                tf.keras.layers.Reshape(target_shape=(7, 7, 32)),\n",
    "                tf.keras.layers.Conv2DTranspose(filters=64, kernel_size=3, strides=2, padding='same', activation='relu'),\n",
    "                tf.keras.layers.Conv2DTranspose(filters=32, kernel_size=3, strides=2, padding='same', activation='relu'),\n",
    "                # No activation\n",
    "                tf.keras.layers.Conv2DTranspose(filters=1, kernel_size=3, strides=1, padding='same'),\n",
    "        ])\n",
    "\n",
    "    \n",
    "    @tf.function\n",
    "    def sample(self, eps=None):\n",
    "        if eps is None:\n",
    "            eps = tf.random.normal(shape=(100, self.latent_dim))\n",
    "        return self.decode(eps, apply_sigmoid=True)\n",
    "\n",
    "    \n",
    "    def encode(self, x):\n",
    "        mean, logvar = tf.split(self.encoder(x), num_or_size_splits=2, axis=1)\n",
    "        return mean, logvar\n",
    "\n",
    "    \n",
    "    def reparameterize(self, mean, logvar):\n",
    "        eps = tf.random.normal(shape=mean.shape)\n",
    "        return eps * tf.exp(logvar * .5) + mean\n",
    "\n",
    "    \n",
    "    def decode(self, z, apply_sigmoid=False):\n",
    "        logits = self.decoder(z)\n",
    "        if apply_sigmoid:\n",
    "            probs = tf.sigmoid(logits)\n",
    "            return probs\n",
    "        return logits"
   ]
  },
  {
   "cell_type": "code",
   "execution_count": 29,
   "metadata": {},
   "outputs": [],
   "source": [
    "optimizer = tf.keras.optimizers.Adam(1e-4)\n",
    "\n",
    "\n",
    "def log_normal_pdf(sample, mean, logvar, raxis=1):\n",
    "    log2pi = tf.math.log(2. * np.pi)\n",
    "    return tf.reduce_sum(-.5 * ((sample - mean) ** 2. * tf.exp(-logvar) + logvar + log2pi), axis=raxis)\n",
    "\n",
    "\n",
    "def compute_loss(model, x):\n",
    "    mean, logvar = model.encode(x)\n",
    "    z = model.reparameterize(mean, logvar)\n",
    "    x_logit = model.decode(z)\n",
    "    cross_ent = tf.nn.sigmoid_cross_entropy_with_logits(logits=x_logit, labels=x)\n",
    "    logpx_z = -tf.reduce_sum(cross_ent, axis=[1, 2, 3])\n",
    "    logpz = log_normal_pdf(z, 0., 0.)\n",
    "    logqz_x = log_normal_pdf(z, mean, logvar)\n",
    "    return -tf.reduce_mean(logpx_z + logpz - logqz_x)\n",
    "\n",
    "\n",
    "@tf.function\n",
    "def train_step(model, x, optimizer):\n",
    "    \"\"\"Executes one training step and returns the loss.\n",
    "\n",
    "    This function computes the loss and gradients, and uses the latter to\n",
    "    update the model's parameters.\n",
    "    \"\"\"\n",
    "    with tf.GradientTape() as tape:\n",
    "        loss = compute_loss(model, x)\n",
    "    \n",
    "    gradients = tape.gradient(loss, model.trainable_variables)\n",
    "    optimizer.apply_gradients(zip(gradients, model.trainable_variables))"
   ]
  },
  {
   "cell_type": "code",
   "execution_count": 30,
   "metadata": {},
   "outputs": [],
   "source": [
    "epochs = 10\n",
    "# set the dimensionality of the latent space to a plane for visualization later\n",
    "latent_dim = 2\n",
    "num_examples_to_generate = 16\n",
    "\n",
    "# keeping the random vector constant for generation (prediction) so\n",
    "# it will be easier to see the improvement.\n",
    "random_vector_for_generation = tf.random.normal(shape=[num_examples_to_generate, latent_dim])\n",
    "model = CVAE(latent_dim)"
   ]
  },
  {
   "cell_type": "markdown",
   "metadata": {},
   "source": [
    "+ Note: **Incomplete**\n",
    "    - https://www.tensorflow.org/tutorials/generative/cvae"
   ]
  }
 ],
 "metadata": {
  "kernelspec": {
   "display_name": "Python 3",
   "language": "python",
   "name": "python3"
  },
  "language_info": {
   "codemirror_mode": {
    "name": "ipython",
    "version": 3
   },
   "file_extension": ".py",
   "mimetype": "text/x-python",
   "name": "python",
   "nbconvert_exporter": "python",
   "pygments_lexer": "ipython3",
   "version": "3.7.6"
  },
  "toc": {
   "base_numbering": 1,
   "nav_menu": {},
   "number_sections": true,
   "sideBar": true,
   "skip_h1_title": false,
   "title_cell": "Table of Contents",
   "title_sidebar": "Contents",
   "toc_cell": false,
   "toc_position": {},
   "toc_section_display": true,
   "toc_window_display": false
  },
  "varInspector": {
   "cols": {
    "lenName": 16,
    "lenType": 16,
    "lenVar": 40
   },
   "kernels_config": {
    "python": {
     "delete_cmd_postfix": "",
     "delete_cmd_prefix": "del ",
     "library": "var_list.py",
     "varRefreshCmd": "print(var_dic_list())"
    },
    "r": {
     "delete_cmd_postfix": ") ",
     "delete_cmd_prefix": "rm(",
     "library": "var_list.r",
     "varRefreshCmd": "cat(var_dic_list()) "
    }
   },
   "types_to_exclude": [
    "module",
    "function",
    "builtin_function_or_method",
    "instance",
    "_Feature"
   ],
   "window_display": false
  },
  "widgets": {
   "application/vnd.jupyter.widget-state+json": {
    "state": {
     "02915194fb364726a39e251b384204d3": {
      "model_module": "@jupyter-widgets/controls",
      "model_module_version": "1.5.0",
      "model_name": "ProgressStyleModel",
      "state": {
       "description_width": "initial"
      }
     },
     "041d113224b94cb592d1a93d02d46a3e": {
      "model_module": "@jupyter-widgets/controls",
      "model_module_version": "1.5.0",
      "model_name": "FloatProgressModel",
      "state": {
       "bar_style": "success",
       "description": "Epoch - 1: 100%",
       "layout": "IPY_MODEL_47ab6f063dc04ba6b0b501f82e297676",
       "max": 1875,
       "style": "IPY_MODEL_66356bc6c0ac4ea69feb2ba6f54b03e6",
       "value": 1875
      }
     },
     "04ffe5717bb447acad18a6c612225ff5": {
      "model_module": "@jupyter-widgets/controls",
      "model_module_version": "1.5.0",
      "model_name": "HBoxModel",
      "state": {
       "children": [
        "IPY_MODEL_515495b3395247ccbf89038d5aeb7fa0",
        "IPY_MODEL_75b528fd7a8b4d4ea3bc196cab2e1123"
       ],
       "layout": "IPY_MODEL_2ac509b1c7434f06b66d7ae0e8b2161a"
      }
     },
     "054d8711d66b4a68880c150d9e6721b4": {
      "model_module": "@jupyter-widgets/controls",
      "model_module_version": "1.5.0",
      "model_name": "FloatProgressModel",
      "state": {
       "bar_style": "success",
       "description": "Epoch - 1: 100%",
       "layout": "IPY_MODEL_c619689516fc4242a4932d2249f029f1",
       "max": 1875,
       "style": "IPY_MODEL_c81b56e5f1b640578b1676e8a7ad59e9",
       "value": 1875
      }
     },
     "05cf73fa04ef4461aaca6d4b3be1fc9f": {
      "model_module": "@jupyter-widgets/base",
      "model_module_version": "1.2.0",
      "model_name": "LayoutModel",
      "state": {}
     },
     "0e5693ebfdd645969075fb55c169b6bc": {
      "model_module": "@jupyter-widgets/controls",
      "model_module_version": "1.5.0",
      "model_name": "ProgressStyleModel",
      "state": {
       "description_width": "initial"
      }
     },
     "170c202e11cd4d50b5efcdee7e529747": {
      "model_module": "@jupyter-widgets/base",
      "model_module_version": "1.2.0",
      "model_name": "LayoutModel",
      "state": {}
     },
     "175e32cbcc694ea9a0ca229c730d7dea": {
      "model_module": "@jupyter-widgets/base",
      "model_module_version": "1.2.0",
      "model_name": "LayoutModel",
      "state": {}
     },
     "190408c6dea447a88328204161caa090": {
      "model_module": "@jupyter-widgets/controls",
      "model_module_version": "1.5.0",
      "model_name": "HBoxModel",
      "state": {
       "children": [
        "IPY_MODEL_5e9fab8824664d689ade2c8ab5ad0306",
        "IPY_MODEL_20b3c9652f354519bf896fcc62fca607"
       ],
       "layout": "IPY_MODEL_a2ad4d4fa83e49be8655bd54fc3520ee"
      }
     },
     "1a3e5260484846c9b41b1b1d7d679907": {
      "model_module": "@jupyter-widgets/controls",
      "model_module_version": "1.5.0",
      "model_name": "FloatProgressModel",
      "state": {
       "bar_style": "success",
       "description": "Epoch - 5: 100%",
       "layout": "IPY_MODEL_785d605fe6334afa93d94d1f89cdfb09",
       "max": 1875,
       "style": "IPY_MODEL_0e5693ebfdd645969075fb55c169b6bc",
       "value": 1875
      }
     },
     "1c3d8a5685ff47fe92b25cf0287f19e1": {
      "model_module": "@jupyter-widgets/controls",
      "model_module_version": "1.5.0",
      "model_name": "DescriptionStyleModel",
      "state": {
       "description_width": ""
      }
     },
     "1ecf846284c24e8bac025905b7a8efeb": {
      "model_module": "@jupyter-widgets/base",
      "model_module_version": "1.2.0",
      "model_name": "LayoutModel",
      "state": {}
     },
     "1f0170ca31d84259b2bbd8a4a97d76ad": {
      "model_module": "@jupyter-widgets/controls",
      "model_module_version": "1.5.0",
      "model_name": "HTMLModel",
      "state": {
       "layout": "IPY_MODEL_48df1456383d4a90bd1fccdadfa11894",
       "style": "IPY_MODEL_1c3d8a5685ff47fe92b25cf0287f19e1",
       "value": " 1875/1875 [00:09&lt;00:00, 199.60it/s]"
      }
     },
     "1f15c8a3934845eb9d9278497654afb5": {
      "model_module": "@jupyter-widgets/controls",
      "model_module_version": "1.5.0",
      "model_name": "HTMLModel",
      "state": {
       "layout": "IPY_MODEL_05cf73fa04ef4461aaca6d4b3be1fc9f",
       "style": "IPY_MODEL_89290ab3b8134f7494ada3e0de77107c",
       "value": " 1875/1875 [00:07&lt;00:00, 236.12it/s]"
      }
     },
     "20b3c9652f354519bf896fcc62fca607": {
      "model_module": "@jupyter-widgets/controls",
      "model_module_version": "1.5.0",
      "model_name": "HTMLModel",
      "state": {
       "layout": "IPY_MODEL_48808357ebb648bfafbf11088da78c95",
       "style": "IPY_MODEL_e8cd76e11bec423294deb4e5802e63e2",
       "value": " 1875/1875 [12:47&lt;00:00,  2.44it/s]"
      }
     },
     "2310c59a5ee04043a2627324dadb8ef7": {
      "model_module": "@jupyter-widgets/base",
      "model_module_version": "1.2.0",
      "model_name": "LayoutModel",
      "state": {}
     },
     "26e3c83b5d094c8394949bac93060f12": {
      "model_module": "@jupyter-widgets/controls",
      "model_module_version": "1.5.0",
      "model_name": "DescriptionStyleModel",
      "state": {
       "description_width": ""
      }
     },
     "29a916c87e744840a886992d120868d2": {
      "model_module": "@jupyter-widgets/controls",
      "model_module_version": "1.5.0",
      "model_name": "FloatProgressModel",
      "state": {
       "bar_style": "success",
       "description": "Epoch - 4: 100%",
       "layout": "IPY_MODEL_9a8d40bd576143fd81e6171b8a9f651f",
       "max": 1875,
       "style": "IPY_MODEL_02915194fb364726a39e251b384204d3",
       "value": 1875
      }
     },
     "29fe58a9b5ec43849b9c35c166343f9a": {
      "model_module": "@jupyter-widgets/controls",
      "model_module_version": "1.5.0",
      "model_name": "FloatProgressModel",
      "state": {
       "bar_style": "success",
       "description": "Epoch - 2: 100%",
       "layout": "IPY_MODEL_7295e8e1900e4b5fa5d291f651eb00aa",
       "max": 1875,
       "style": "IPY_MODEL_449ca6e2f3df477dab269d306b33d7a5",
       "value": 1875
      }
     },
     "2a3d5bed9781459aa45dbbc0af539397": {
      "model_module": "@jupyter-widgets/controls",
      "model_module_version": "1.5.0",
      "model_name": "ProgressStyleModel",
      "state": {
       "description_width": "initial"
      }
     },
     "2ac509b1c7434f06b66d7ae0e8b2161a": {
      "model_module": "@jupyter-widgets/base",
      "model_module_version": "1.2.0",
      "model_name": "LayoutModel",
      "state": {}
     },
     "2ad6183d296741729577a710096b5c08": {
      "model_module": "@jupyter-widgets/base",
      "model_module_version": "1.2.0",
      "model_name": "LayoutModel",
      "state": {}
     },
     "2c775418830a4ada8daacee7d48efd80": {
      "model_module": "@jupyter-widgets/controls",
      "model_module_version": "1.5.0",
      "model_name": "DescriptionStyleModel",
      "state": {
       "description_width": ""
      }
     },
     "2e4f2784b65b4f4598dc27ce1fc2911e": {
      "model_module": "@jupyter-widgets/controls",
      "model_module_version": "1.5.0",
      "model_name": "HTMLModel",
      "state": {
       "layout": "IPY_MODEL_44aaeb3ed0214a01a4406c88b1b748c9",
       "style": "IPY_MODEL_50942f469721428c98aebddbae27e072",
       "value": " 1875/1875 [00:04&lt;00:00, 418.29it/s]"
      }
     },
     "37584647ef1f4e6f98fe21c34e8bdc77": {
      "model_module": "@jupyter-widgets/controls",
      "model_module_version": "1.5.0",
      "model_name": "HTMLModel",
      "state": {
       "layout": "IPY_MODEL_43a072c89c6f4dcf994f889960987cd9",
       "style": "IPY_MODEL_3e169903276d4afa89fbb9a7e764b7a4",
       "value": " 1875/1875 [00:04&lt;00:00, 411.66it/s]"
      }
     },
     "3a29557708ff4c569fb73616c0dad2a4": {
      "model_module": "@jupyter-widgets/controls",
      "model_module_version": "1.5.0",
      "model_name": "HTMLModel",
      "state": {
       "layout": "IPY_MODEL_732d91da6e6c4f689d9b4b49e446773b",
       "style": "IPY_MODEL_d4ff61f663d543259e7f6e94af2c4175",
       "value": " 1875/1875 [00:04&lt;00:00, 386.65it/s]"
      }
     },
     "3e169903276d4afa89fbb9a7e764b7a4": {
      "model_module": "@jupyter-widgets/controls",
      "model_module_version": "1.5.0",
      "model_name": "DescriptionStyleModel",
      "state": {
       "description_width": ""
      }
     },
     "43a072c89c6f4dcf994f889960987cd9": {
      "model_module": "@jupyter-widgets/base",
      "model_module_version": "1.2.0",
      "model_name": "LayoutModel",
      "state": {}
     },
     "449ca6e2f3df477dab269d306b33d7a5": {
      "model_module": "@jupyter-widgets/controls",
      "model_module_version": "1.5.0",
      "model_name": "ProgressStyleModel",
      "state": {
       "description_width": "initial"
      }
     },
     "44aaeb3ed0214a01a4406c88b1b748c9": {
      "model_module": "@jupyter-widgets/base",
      "model_module_version": "1.2.0",
      "model_name": "LayoutModel",
      "state": {}
     },
     "47ab6f063dc04ba6b0b501f82e297676": {
      "model_module": "@jupyter-widgets/base",
      "model_module_version": "1.2.0",
      "model_name": "LayoutModel",
      "state": {}
     },
     "47b15cb5621f40438006b79ef1793f45": {
      "model_module": "@jupyter-widgets/base",
      "model_module_version": "1.2.0",
      "model_name": "LayoutModel",
      "state": {}
     },
     "48808357ebb648bfafbf11088da78c95": {
      "model_module": "@jupyter-widgets/base",
      "model_module_version": "1.2.0",
      "model_name": "LayoutModel",
      "state": {}
     },
     "48df1456383d4a90bd1fccdadfa11894": {
      "model_module": "@jupyter-widgets/base",
      "model_module_version": "1.2.0",
      "model_name": "LayoutModel",
      "state": {}
     },
     "50942f469721428c98aebddbae27e072": {
      "model_module": "@jupyter-widgets/controls",
      "model_module_version": "1.5.0",
      "model_name": "DescriptionStyleModel",
      "state": {
       "description_width": ""
      }
     },
     "515495b3395247ccbf89038d5aeb7fa0": {
      "model_module": "@jupyter-widgets/controls",
      "model_module_version": "1.5.0",
      "model_name": "FloatProgressModel",
      "state": {
       "bar_style": "success",
       "description": "Epoch - 2: 100%",
       "layout": "IPY_MODEL_6acb0af5a2b748b787d80f105f90c558",
       "max": 1875,
       "style": "IPY_MODEL_8580dc727e514913b8719da1d576cff8",
       "value": 1875
      }
     },
     "547dab5b5e104d6e9ffe9120c390d666": {
      "model_module": "@jupyter-widgets/controls",
      "model_module_version": "1.5.0",
      "model_name": "FloatProgressModel",
      "state": {
       "bar_style": "success",
       "description": "Epoch - 3: 100%",
       "layout": "IPY_MODEL_b93a0ca1a340495588c66f8e7a79fe85",
       "max": 1875,
       "style": "IPY_MODEL_8b681471b993417a9abe7f41b5a43e72",
       "value": 1875
      }
     },
     "550ea44bc05546f1b87f85736fc7c369": {
      "model_module": "@jupyter-widgets/controls",
      "model_module_version": "1.5.0",
      "model_name": "HBoxModel",
      "state": {
       "children": [
        "IPY_MODEL_f66466c7fffe400a8cd9b1fe0d4dc4f9",
        "IPY_MODEL_d658f002808643a28f95db7aea79c460"
       ],
       "layout": "IPY_MODEL_5b7d681c14a74915b030ff1d4b4c8ced"
      }
     },
     "594f67d82c4541fd9ecccc44d073e94c": {
      "model_module": "@jupyter-widgets/controls",
      "model_module_version": "1.5.0",
      "model_name": "ProgressStyleModel",
      "state": {
       "description_width": "initial"
      }
     },
     "598719e9ddc4425e8aa442e1c92101c8": {
      "model_module": "@jupyter-widgets/base",
      "model_module_version": "1.2.0",
      "model_name": "LayoutModel",
      "state": {}
     },
     "5b0332a4ace94179979a3e475bf47711": {
      "model_module": "@jupyter-widgets/base",
      "model_module_version": "1.2.0",
      "model_name": "LayoutModel",
      "state": {}
     },
     "5b7d681c14a74915b030ff1d4b4c8ced": {
      "model_module": "@jupyter-widgets/base",
      "model_module_version": "1.2.0",
      "model_name": "LayoutModel",
      "state": {}
     },
     "5c2a7e4d1cba4ab2901de8e143621d77": {
      "model_module": "@jupyter-widgets/controls",
      "model_module_version": "1.5.0",
      "model_name": "DescriptionStyleModel",
      "state": {
       "description_width": ""
      }
     },
     "5ca464e9f4dd4f6fa3ca0a1a4b7bbe13": {
      "model_module": "@jupyter-widgets/controls",
      "model_module_version": "1.5.0",
      "model_name": "FloatProgressModel",
      "state": {
       "bar_style": "success",
       "description": "Epoch - 5: 100%",
       "layout": "IPY_MODEL_170c202e11cd4d50b5efcdee7e529747",
       "max": 1875,
       "style": "IPY_MODEL_ec4d663086a2435ebcee52508da043f6",
       "value": 1875
      }
     },
     "5d10592cb403441da7bfbc7bcd1d8721": {
      "model_module": "@jupyter-widgets/base",
      "model_module_version": "1.2.0",
      "model_name": "LayoutModel",
      "state": {}
     },
     "5e9fab8824664d689ade2c8ab5ad0306": {
      "model_module": "@jupyter-widgets/controls",
      "model_module_version": "1.5.0",
      "model_name": "FloatProgressModel",
      "state": {
       "bar_style": "success",
       "description": "Epoch - 4: 100%",
       "layout": "IPY_MODEL_f85a01fd912d42608f964e7cf6e82d9b",
       "max": 1875,
       "style": "IPY_MODEL_d27a056d896e4bcb8d1203da38a5061b",
       "value": 1875
      }
     },
     "60a6f8613c334343a76ab2329248d499": {
      "model_module": "@jupyter-widgets/controls",
      "model_module_version": "1.5.0",
      "model_name": "HBoxModel",
      "state": {
       "children": [
        "IPY_MODEL_29a916c87e744840a886992d120868d2",
        "IPY_MODEL_1f0170ca31d84259b2bbd8a4a97d76ad"
       ],
       "layout": "IPY_MODEL_7ba4a7ccc0894d3c91ed1f8b183ca107"
      }
     },
     "6196a433866145fd8f8c1ecbd5a3dc76": {
      "model_module": "@jupyter-widgets/controls",
      "model_module_version": "1.5.0",
      "model_name": "ProgressStyleModel",
      "state": {
       "description_width": "initial"
      }
     },
     "62bcf3baf33943878d1c4a4708db837d": {
      "model_module": "@jupyter-widgets/base",
      "model_module_version": "1.2.0",
      "model_name": "LayoutModel",
      "state": {}
     },
     "62d93f483069496297d2345d1beee328": {
      "model_module": "@jupyter-widgets/base",
      "model_module_version": "1.2.0",
      "model_name": "LayoutModel",
      "state": {}
     },
     "66356bc6c0ac4ea69feb2ba6f54b03e6": {
      "model_module": "@jupyter-widgets/controls",
      "model_module_version": "1.5.0",
      "model_name": "ProgressStyleModel",
      "state": {
       "description_width": "initial"
      }
     },
     "68489f45fd5a4b6e941d1483caa973d9": {
      "model_module": "@jupyter-widgets/controls",
      "model_module_version": "1.5.0",
      "model_name": "DescriptionStyleModel",
      "state": {
       "description_width": ""
      }
     },
     "6883d473fd7b4f5ab27d37dbbb4058e8": {
      "model_module": "@jupyter-widgets/controls",
      "model_module_version": "1.5.0",
      "model_name": "HBoxModel",
      "state": {
       "children": [
        "IPY_MODEL_1a3e5260484846c9b41b1b1d7d679907",
        "IPY_MODEL_3a29557708ff4c569fb73616c0dad2a4"
       ],
       "layout": "IPY_MODEL_bd6a9fdadc0b4f04bd9482dc22db4f8a"
      }
     },
     "68f66dddfb864dd1b4a4665fade83447": {
      "model_module": "@jupyter-widgets/base",
      "model_module_version": "1.2.0",
      "model_name": "LayoutModel",
      "state": {}
     },
     "6acb0af5a2b748b787d80f105f90c558": {
      "model_module": "@jupyter-widgets/base",
      "model_module_version": "1.2.0",
      "model_name": "LayoutModel",
      "state": {}
     },
     "6acc0cdc60d542a780a2a2f1f2858989": {
      "model_module": "@jupyter-widgets/controls",
      "model_module_version": "1.5.0",
      "model_name": "DescriptionStyleModel",
      "state": {
       "description_width": ""
      }
     },
     "6c092b5a3639495e9668a3acbc21969c": {
      "model_module": "@jupyter-widgets/controls",
      "model_module_version": "1.5.0",
      "model_name": "FloatProgressModel",
      "state": {
       "bar_style": "success",
       "description": "Epoch - 1: 100%",
       "layout": "IPY_MODEL_175e32cbcc694ea9a0ca229c730d7dea",
       "max": 1875,
       "style": "IPY_MODEL_d1261a22138d4628a171a4c93dae925d",
       "value": 1875
      }
     },
     "6c170a4663344fb79c16701ac0792b12": {
      "model_module": "@jupyter-widgets/controls",
      "model_module_version": "1.5.0",
      "model_name": "FloatProgressModel",
      "state": {
       "bar_style": "success",
       "description": "Epoch - 2: 100%",
       "layout": "IPY_MODEL_598719e9ddc4425e8aa442e1c92101c8",
       "max": 1875,
       "style": "IPY_MODEL_594f67d82c4541fd9ecccc44d073e94c",
       "value": 1875
      }
     },
     "6c97b97fcd6c4fcd9256c57e6de62883": {
      "model_module": "@jupyter-widgets/controls",
      "model_module_version": "1.5.0",
      "model_name": "HTMLModel",
      "state": {
       "layout": "IPY_MODEL_a468f6d867a541c0b6144d817176e7b4",
       "style": "IPY_MODEL_6acc0cdc60d542a780a2a2f1f2858989",
       "value": " 1875/1875 [00:03&lt;00:00, 477.87it/s]"
      }
     },
     "7295e8e1900e4b5fa5d291f651eb00aa": {
      "model_module": "@jupyter-widgets/base",
      "model_module_version": "1.2.0",
      "model_name": "LayoutModel",
      "state": {}
     },
     "7304e5081ffd44a995eacc28ca01a042": {
      "model_module": "@jupyter-widgets/base",
      "model_module_version": "1.2.0",
      "model_name": "LayoutModel",
      "state": {}
     },
     "732d91da6e6c4f689d9b4b49e446773b": {
      "model_module": "@jupyter-widgets/base",
      "model_module_version": "1.2.0",
      "model_name": "LayoutModel",
      "state": {}
     },
     "75b528fd7a8b4d4ea3bc196cab2e1123": {
      "model_module": "@jupyter-widgets/controls",
      "model_module_version": "1.5.0",
      "model_name": "HTMLModel",
      "state": {
       "layout": "IPY_MODEL_62d93f483069496297d2345d1beee328",
       "style": "IPY_MODEL_68489f45fd5a4b6e941d1483caa973d9",
       "value": " 1875/1875 [00:04&lt;00:00, 398.88it/s]"
      }
     },
     "7724d6d8099e46839551651f591e05e5": {
      "model_module": "@jupyter-widgets/controls",
      "model_module_version": "1.5.0",
      "model_name": "FloatProgressModel",
      "state": {
       "bar_style": "success",
       "description": "Epoch - 5: 100%",
       "layout": "IPY_MODEL_68f66dddfb864dd1b4a4665fade83447",
       "max": 1875,
       "style": "IPY_MODEL_6196a433866145fd8f8c1ecbd5a3dc76",
       "value": 1875
      }
     },
     "785d605fe6334afa93d94d1f89cdfb09": {
      "model_module": "@jupyter-widgets/base",
      "model_module_version": "1.2.0",
      "model_name": "LayoutModel",
      "state": {}
     },
     "7894ff0bf2144e558c0f4122fb0f0827": {
      "model_module": "@jupyter-widgets/controls",
      "model_module_version": "1.5.0",
      "model_name": "HBoxModel",
      "state": {
       "children": [
        "IPY_MODEL_5ca464e9f4dd4f6fa3ca0a1a4b7bbe13",
        "IPY_MODEL_6c97b97fcd6c4fcd9256c57e6de62883"
       ],
       "layout": "IPY_MODEL_47b15cb5621f40438006b79ef1793f45"
      }
     },
     "7ba4a7ccc0894d3c91ed1f8b183ca107": {
      "model_module": "@jupyter-widgets/base",
      "model_module_version": "1.2.0",
      "model_name": "LayoutModel",
      "state": {}
     },
     "82b7bfebea454a08944a87c03bd97b74": {
      "model_module": "@jupyter-widgets/base",
      "model_module_version": "1.2.0",
      "model_name": "LayoutModel",
      "state": {}
     },
     "82e08baa4819438a87875f5711688f80": {
      "model_module": "@jupyter-widgets/controls",
      "model_module_version": "1.5.0",
      "model_name": "DescriptionStyleModel",
      "state": {
       "description_width": ""
      }
     },
     "8580dc727e514913b8719da1d576cff8": {
      "model_module": "@jupyter-widgets/controls",
      "model_module_version": "1.5.0",
      "model_name": "ProgressStyleModel",
      "state": {
       "description_width": "initial"
      }
     },
     "89290ab3b8134f7494ada3e0de77107c": {
      "model_module": "@jupyter-widgets/controls",
      "model_module_version": "1.5.0",
      "model_name": "DescriptionStyleModel",
      "state": {
       "description_width": ""
      }
     },
     "8b681471b993417a9abe7f41b5a43e72": {
      "model_module": "@jupyter-widgets/controls",
      "model_module_version": "1.5.0",
      "model_name": "ProgressStyleModel",
      "state": {
       "description_width": "initial"
      }
     },
     "8c6f0a1ef97241e895461d6dff58dc48": {
      "model_module": "@jupyter-widgets/controls",
      "model_module_version": "1.5.0",
      "model_name": "HBoxModel",
      "state": {
       "children": [
        "IPY_MODEL_eb718ba5fbd149a9910548b95e9c38fc",
        "IPY_MODEL_1f15c8a3934845eb9d9278497654afb5"
       ],
       "layout": "IPY_MODEL_90c2778b5eb44ae6a3cef5a92df002e6"
      }
     },
     "8d427c0a84ed4f85a628318c94240eb6": {
      "model_module": "@jupyter-widgets/controls",
      "model_module_version": "1.5.0",
      "model_name": "HBoxModel",
      "state": {
       "children": [
        "IPY_MODEL_29fe58a9b5ec43849b9c35c166343f9a",
        "IPY_MODEL_f26c67f0473b4ab2ba573359f7b6ea9f"
       ],
       "layout": "IPY_MODEL_82b7bfebea454a08944a87c03bd97b74"
      }
     },
     "8e7346a284994adebf57ced30e36991d": {
      "model_module": "@jupyter-widgets/controls",
      "model_module_version": "1.5.0",
      "model_name": "ProgressStyleModel",
      "state": {
       "description_width": "initial"
      }
     },
     "8ea4ea024a0f496d8d62c5c0e26de29b": {
      "model_module": "@jupyter-widgets/controls",
      "model_module_version": "1.5.0",
      "model_name": "DescriptionStyleModel",
      "state": {
       "description_width": ""
      }
     },
     "90c2778b5eb44ae6a3cef5a92df002e6": {
      "model_module": "@jupyter-widgets/base",
      "model_module_version": "1.2.0",
      "model_name": "LayoutModel",
      "state": {}
     },
     "91a7642a1498476c80a8757b84002942": {
      "model_module": "@jupyter-widgets/controls",
      "model_module_version": "1.5.0",
      "model_name": "ProgressStyleModel",
      "state": {
       "description_width": "initial"
      }
     },
     "972b80d76b374b3eaa9a0dc63a65ecd7": {
      "model_module": "@jupyter-widgets/controls",
      "model_module_version": "1.5.0",
      "model_name": "HTMLModel",
      "state": {
       "layout": "IPY_MODEL_9f36b825324c4feeaf362f4ef167a846",
       "style": "IPY_MODEL_26e3c83b5d094c8394949bac93060f12",
       "value": " 1875/1875 [15:49&lt;00:00,  1.97it/s]"
      }
     },
     "9a8d40bd576143fd81e6171b8a9f651f": {
      "model_module": "@jupyter-widgets/base",
      "model_module_version": "1.2.0",
      "model_name": "LayoutModel",
      "state": {}
     },
     "9ed3c165bb4d4720900b39532165191f": {
      "model_module": "@jupyter-widgets/controls",
      "model_module_version": "1.5.0",
      "model_name": "HTMLModel",
      "state": {
       "layout": "IPY_MODEL_a75065cba29d4229a71f344e4c7ddb8f",
       "style": "IPY_MODEL_2c775418830a4ada8daacee7d48efd80",
       "value": " 1875/1875 [00:04&lt;00:00, 420.30it/s]"
      }
     },
     "9f36b825324c4feeaf362f4ef167a846": {
      "model_module": "@jupyter-widgets/base",
      "model_module_version": "1.2.0",
      "model_name": "LayoutModel",
      "state": {}
     },
     "9fb4ec819f4244769a639202b39d2003": {
      "model_module": "@jupyter-widgets/base",
      "model_module_version": "1.2.0",
      "model_name": "LayoutModel",
      "state": {}
     },
     "a2ad4d4fa83e49be8655bd54fc3520ee": {
      "model_module": "@jupyter-widgets/base",
      "model_module_version": "1.2.0",
      "model_name": "LayoutModel",
      "state": {}
     },
     "a468f6d867a541c0b6144d817176e7b4": {
      "model_module": "@jupyter-widgets/base",
      "model_module_version": "1.2.0",
      "model_name": "LayoutModel",
      "state": {}
     },
     "a6d3d2c8ed0f4c398b99be07088a6939": {
      "model_module": "@jupyter-widgets/controls",
      "model_module_version": "1.5.0",
      "model_name": "HBoxModel",
      "state": {
       "children": [
        "IPY_MODEL_7724d6d8099e46839551651f591e05e5",
        "IPY_MODEL_2e4f2784b65b4f4598dc27ce1fc2911e"
       ],
       "layout": "IPY_MODEL_5d10592cb403441da7bfbc7bcd1d8721"
      }
     },
     "a7449ad5c98b4644be439865eb5a3cf9": {
      "model_module": "@jupyter-widgets/controls",
      "model_module_version": "1.5.0",
      "model_name": "HBoxModel",
      "state": {
       "children": [
        "IPY_MODEL_054d8711d66b4a68880c150d9e6721b4",
        "IPY_MODEL_972b80d76b374b3eaa9a0dc63a65ecd7"
       ],
       "layout": "IPY_MODEL_2ad6183d296741729577a710096b5c08"
      }
     },
     "a75065cba29d4229a71f344e4c7ddb8f": {
      "model_module": "@jupyter-widgets/base",
      "model_module_version": "1.2.0",
      "model_name": "LayoutModel",
      "state": {}
     },
     "a9afed6764584b948652090b6a80688b": {
      "model_module": "@jupyter-widgets/controls",
      "model_module_version": "1.5.0",
      "model_name": "HTMLModel",
      "state": {
       "layout": "IPY_MODEL_e774eaf192c4441f9882856245853ec7",
       "style": "IPY_MODEL_5c2a7e4d1cba4ab2901de8e143621d77",
       "value": " 1875/1875 [00:09&lt;00:00, 205.93it/s]"
      }
     },
     "b1dafcc26876428f8cab1056860ec5a4": {
      "model_module": "@jupyter-widgets/base",
      "model_module_version": "1.2.0",
      "model_name": "LayoutModel",
      "state": {}
     },
     "b1e250beeb8d480faa9f7a8b2b47c0ba": {
      "model_module": "@jupyter-widgets/controls",
      "model_module_version": "1.5.0",
      "model_name": "FloatProgressModel",
      "state": {
       "bar_style": "success",
       "description": "Epoch - 3: 100%",
       "layout": "IPY_MODEL_7304e5081ffd44a995eacc28ca01a042",
       "max": 1875,
       "style": "IPY_MODEL_91a7642a1498476c80a8757b84002942",
       "value": 1875
      }
     },
     "b423be44003c4c86ae94c9638109ecc2": {
      "model_module": "@jupyter-widgets/controls",
      "model_module_version": "1.5.0",
      "model_name": "DescriptionStyleModel",
      "state": {
       "description_width": ""
      }
     },
     "b663001554be43b6b86d56deb9d32161": {
      "model_module": "@jupyter-widgets/controls",
      "model_module_version": "1.5.0",
      "model_name": "HTMLModel",
      "state": {
       "layout": "IPY_MODEL_eb5fa72ff0ca4afc86cd557606757d15",
       "style": "IPY_MODEL_82e08baa4819438a87875f5711688f80",
       "value": " 1875/1875 [00:23&lt;00:00, 78.53it/s]"
      }
     },
     "b93a0ca1a340495588c66f8e7a79fe85": {
      "model_module": "@jupyter-widgets/base",
      "model_module_version": "1.2.0",
      "model_name": "LayoutModel",
      "state": {}
     },
     "bd6a9fdadc0b4f04bd9482dc22db4f8a": {
      "model_module": "@jupyter-widgets/base",
      "model_module_version": "1.2.0",
      "model_name": "LayoutModel",
      "state": {}
     },
     "c13909b434084275a87271a3fbb67775": {
      "model_module": "@jupyter-widgets/base",
      "model_module_version": "1.2.0",
      "model_name": "LayoutModel",
      "state": {}
     },
     "c25124bc6f6145558eed50593cf4c7af": {
      "model_module": "@jupyter-widgets/controls",
      "model_module_version": "1.5.0",
      "model_name": "HBoxModel",
      "state": {
       "children": [
        "IPY_MODEL_041d113224b94cb592d1a93d02d46a3e",
        "IPY_MODEL_b663001554be43b6b86d56deb9d32161"
       ],
       "layout": "IPY_MODEL_d0db80283b814d75bc6d102be83a1cac"
      }
     },
     "c31f07fd632944659b7663d669663d8c": {
      "model_module": "@jupyter-widgets/controls",
      "model_module_version": "1.5.0",
      "model_name": "HBoxModel",
      "state": {
       "children": [
        "IPY_MODEL_b1e250beeb8d480faa9f7a8b2b47c0ba",
        "IPY_MODEL_37584647ef1f4e6f98fe21c34e8bdc77"
       ],
       "layout": "IPY_MODEL_5b0332a4ace94179979a3e475bf47711"
      }
     },
     "c619689516fc4242a4932d2249f029f1": {
      "model_module": "@jupyter-widgets/base",
      "model_module_version": "1.2.0",
      "model_name": "LayoutModel",
      "state": {}
     },
     "c81b56e5f1b640578b1676e8a7ad59e9": {
      "model_module": "@jupyter-widgets/controls",
      "model_module_version": "1.5.0",
      "model_name": "ProgressStyleModel",
      "state": {
       "description_width": "initial"
      }
     },
     "c8ae41c5abe847d9a40f87098f5eaa0a": {
      "model_module": "@jupyter-widgets/controls",
      "model_module_version": "1.5.0",
      "model_name": "HTMLModel",
      "state": {
       "layout": "IPY_MODEL_f62e8ab50ceb4152bf12a1ed7b2ac1dd",
       "style": "IPY_MODEL_8ea4ea024a0f496d8d62c5c0e26de29b",
       "value": " 1875/1875 [13:05&lt;00:00,  2.39it/s]"
      }
     },
     "d0db80283b814d75bc6d102be83a1cac": {
      "model_module": "@jupyter-widgets/base",
      "model_module_version": "1.2.0",
      "model_name": "LayoutModel",
      "state": {}
     },
     "d1261a22138d4628a171a4c93dae925d": {
      "model_module": "@jupyter-widgets/controls",
      "model_module_version": "1.5.0",
      "model_name": "ProgressStyleModel",
      "state": {
       "description_width": "initial"
      }
     },
     "d27a056d896e4bcb8d1203da38a5061b": {
      "model_module": "@jupyter-widgets/controls",
      "model_module_version": "1.5.0",
      "model_name": "ProgressStyleModel",
      "state": {
       "description_width": "initial"
      }
     },
     "d4ff61f663d543259e7f6e94af2c4175": {
      "model_module": "@jupyter-widgets/controls",
      "model_module_version": "1.5.0",
      "model_name": "DescriptionStyleModel",
      "state": {
       "description_width": ""
      }
     },
     "d658f002808643a28f95db7aea79c460": {
      "model_module": "@jupyter-widgets/controls",
      "model_module_version": "1.5.0",
      "model_name": "HTMLModel",
      "state": {
       "layout": "IPY_MODEL_b1dafcc26876428f8cab1056860ec5a4",
       "style": "IPY_MODEL_b423be44003c4c86ae94c9638109ecc2",
       "value": " 1875/1875 [00:04&lt;00:00, 467.60it/s]"
      }
     },
     "d952cb86ef094385aeb5a7205eedcaa3": {
      "model_module": "@jupyter-widgets/base",
      "model_module_version": "1.2.0",
      "model_name": "LayoutModel",
      "state": {}
     },
     "e774eaf192c4441f9882856245853ec7": {
      "model_module": "@jupyter-widgets/base",
      "model_module_version": "1.2.0",
      "model_name": "LayoutModel",
      "state": {}
     },
     "e8cd76e11bec423294deb4e5802e63e2": {
      "model_module": "@jupyter-widgets/controls",
      "model_module_version": "1.5.0",
      "model_name": "DescriptionStyleModel",
      "state": {
       "description_width": ""
      }
     },
     "eb5fa72ff0ca4afc86cd557606757d15": {
      "model_module": "@jupyter-widgets/base",
      "model_module_version": "1.2.0",
      "model_name": "LayoutModel",
      "state": {}
     },
     "eb718ba5fbd149a9910548b95e9c38fc": {
      "model_module": "@jupyter-widgets/controls",
      "model_module_version": "1.5.0",
      "model_name": "FloatProgressModel",
      "state": {
       "bar_style": "success",
       "description": "Epoch - 4: 100%",
       "layout": "IPY_MODEL_c13909b434084275a87271a3fbb67775",
       "max": 1875,
       "style": "IPY_MODEL_8e7346a284994adebf57ced30e36991d",
       "value": 1875
      }
     },
     "ec4d663086a2435ebcee52508da043f6": {
      "model_module": "@jupyter-widgets/controls",
      "model_module_version": "1.5.0",
      "model_name": "ProgressStyleModel",
      "state": {
       "description_width": "initial"
      }
     },
     "eddde61d13f84eee92ce88eb32cf3fb8": {
      "model_module": "@jupyter-widgets/controls",
      "model_module_version": "1.5.0",
      "model_name": "HBoxModel",
      "state": {
       "children": [
        "IPY_MODEL_6c092b5a3639495e9668a3acbc21969c",
        "IPY_MODEL_c8ae41c5abe847d9a40f87098f5eaa0a"
       ],
       "layout": "IPY_MODEL_1ecf846284c24e8bac025905b7a8efeb"
      }
     },
     "f058ec98e65548e7b4453dd03b948efc": {
      "model_module": "@jupyter-widgets/controls",
      "model_module_version": "1.5.0",
      "model_name": "HBoxModel",
      "state": {
       "children": [
        "IPY_MODEL_6c170a4663344fb79c16701ac0792b12",
        "IPY_MODEL_a9afed6764584b948652090b6a80688b"
       ],
       "layout": "IPY_MODEL_62bcf3baf33943878d1c4a4708db837d"
      }
     },
     "f26c67f0473b4ab2ba573359f7b6ea9f": {
      "model_module": "@jupyter-widgets/controls",
      "model_module_version": "1.5.0",
      "model_name": "HTMLModel",
      "state": {
       "layout": "IPY_MODEL_9fb4ec819f4244769a639202b39d2003",
       "style": "IPY_MODEL_ff37a5d35c9a437f97eef71890a69f3e",
       "value": " 1875/1875 [00:09&lt;00:00, 200.82it/s]"
      }
     },
     "f52e994165a342d39170a18c60727c39": {
      "model_module": "@jupyter-widgets/controls",
      "model_module_version": "1.5.0",
      "model_name": "HBoxModel",
      "state": {
       "children": [
        "IPY_MODEL_547dab5b5e104d6e9ffe9120c390d666",
        "IPY_MODEL_9ed3c165bb4d4720900b39532165191f"
       ],
       "layout": "IPY_MODEL_d952cb86ef094385aeb5a7205eedcaa3"
      }
     },
     "f62e8ab50ceb4152bf12a1ed7b2ac1dd": {
      "model_module": "@jupyter-widgets/base",
      "model_module_version": "1.2.0",
      "model_name": "LayoutModel",
      "state": {}
     },
     "f66466c7fffe400a8cd9b1fe0d4dc4f9": {
      "model_module": "@jupyter-widgets/controls",
      "model_module_version": "1.5.0",
      "model_name": "FloatProgressModel",
      "state": {
       "bar_style": "success",
       "description": "Epoch - 3: 100%",
       "layout": "IPY_MODEL_2310c59a5ee04043a2627324dadb8ef7",
       "max": 1875,
       "style": "IPY_MODEL_2a3d5bed9781459aa45dbbc0af539397",
       "value": 1875
      }
     },
     "f85a01fd912d42608f964e7cf6e82d9b": {
      "model_module": "@jupyter-widgets/base",
      "model_module_version": "1.2.0",
      "model_name": "LayoutModel",
      "state": {}
     },
     "ff37a5d35c9a437f97eef71890a69f3e": {
      "model_module": "@jupyter-widgets/controls",
      "model_module_version": "1.5.0",
      "model_name": "DescriptionStyleModel",
      "state": {
       "description_width": ""
      }
     }
    },
    "version_major": 2,
    "version_minor": 0
   }
  }
 },
 "nbformat": 4,
 "nbformat_minor": 4
}
