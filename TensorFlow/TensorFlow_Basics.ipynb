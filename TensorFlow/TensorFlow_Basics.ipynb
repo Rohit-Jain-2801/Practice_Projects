{
 "cells": [
  {
   "cell_type": "code",
   "execution_count": 1,
   "metadata": {
    "colab": {
     "base_uri": "https://localhost:8080/",
     "height": 63
    },
    "colab_type": "code",
    "executionInfo": {
     "elapsed": 5100,
     "status": "ok",
     "timestamp": 1576682940666,
     "user": {
      "displayName": "Rohit Jain",
      "photoUrl": "https://lh3.googleusercontent.com/a-/AAuE7mA5OHq2dqEOadPr6G50Y_hHLDlogQX7vbvS2kHp=s64",
      "userId": "15919354366530856473"
     },
     "user_tz": -330
    },
    "id": "C-gHzv2MxCty",
    "outputId": "1951b6c0-71fd-4800-c126-feadcb74212c"
   },
   "outputs": [
    {
     "name": "stdout",
     "output_type": "stream",
     "text": [
      "WARNING:tensorflow:From e:\\rohit\\python3.7\\lib\\site-packages\\tensorflow_core\\python\\compat\\v2_compat.py:88: disable_resource_variables (from tensorflow.python.ops.variable_scope) is deprecated and will be removed in a future version.\n",
      "Instructions for updating:\n",
      "non-resource variables are not supported in the long term\n"
     ]
    }
   ],
   "source": [
    "import numpy as np\n",
    "import pandas as pd\n",
    "import matplotlib.pyplot as plt\n",
    "%matplotlib inline\n",
    "\n",
    "# import tensorflow as tf\n",
    "import tensorflow.compat.v1 as tf\n",
    "tf.disable_v2_behavior()"
   ]
  },
  {
   "cell_type": "code",
   "execution_count": 2,
   "metadata": {
    "colab": {
     "base_uri": "https://localhost:8080/",
     "height": 34
    },
    "colab_type": "code",
    "executionInfo": {
     "elapsed": 5054,
     "status": "ok",
     "timestamp": 1576682940672,
     "user": {
      "displayName": "Rohit Jain",
      "photoUrl": "https://lh3.googleusercontent.com/a-/AAuE7mA5OHq2dqEOadPr6G50Y_hHLDlogQX7vbvS2kHp=s64",
      "userId": "15919354366530856473"
     },
     "user_tz": -330
    },
    "id": "OaPbuu6CxTwo",
    "outputId": "270fd96c-6c2a-4650-c206-71c7d0ce52d7"
   },
   "outputs": [
    {
     "name": "stdout",
     "output_type": "stream",
     "text": [
      "2.1.0\n"
     ]
    }
   ],
   "source": [
    "print(tf.__version__)"
   ]
  },
  {
   "cell_type": "markdown",
   "metadata": {
    "colab_type": "text",
    "id": "2CfSiwsMz8jw"
   },
   "source": [
    "## Tensors"
   ]
  },
  {
   "cell_type": "code",
   "execution_count": 3,
   "metadata": {
    "colab": {},
    "colab_type": "code",
    "id": "6yPgxf3ExyDk"
   },
   "outputs": [],
   "source": [
    "a = tf.constant(\"Hello \")\n",
    "b = tf.constant(\"World!\")"
   ]
  },
  {
   "cell_type": "code",
   "execution_count": 4,
   "metadata": {
    "colab": {
     "base_uri": "https://localhost:8080/",
     "height": 34
    },
    "colab_type": "code",
    "executionInfo": {
     "elapsed": 4955,
     "status": "ok",
     "timestamp": 1576682940675,
     "user": {
      "displayName": "Rohit Jain",
      "photoUrl": "https://lh3.googleusercontent.com/a-/AAuE7mA5OHq2dqEOadPr6G50Y_hHLDlogQX7vbvS2kHp=s64",
      "userId": "15919354366530856473"
     },
     "user_tz": -330
    },
    "id": "BmvoSXCZx_kZ",
    "outputId": "7433e304-a194-4afc-9cbe-696caf181d46"
   },
   "outputs": [
    {
     "data": {
      "text/plain": [
       "tensorflow.python.framework.ops.Tensor"
      ]
     },
     "execution_count": 4,
     "metadata": {},
     "output_type": "execute_result"
    }
   ],
   "source": [
    "type(a)"
   ]
  },
  {
   "cell_type": "code",
   "execution_count": 5,
   "metadata": {
    "colab": {
     "base_uri": "https://localhost:8080/",
     "height": 34
    },
    "colab_type": "code",
    "executionInfo": {
     "elapsed": 4902,
     "status": "ok",
     "timestamp": 1576682940676,
     "user": {
      "displayName": "Rohit Jain",
      "photoUrl": "https://lh3.googleusercontent.com/a-/AAuE7mA5OHq2dqEOadPr6G50Y_hHLDlogQX7vbvS2kHp=s64",
      "userId": "15919354366530856473"
     },
     "user_tz": -330
    },
    "id": "gfCQAP3NyBUd",
    "outputId": "642344e6-b132-437d-e243-d075bd19a869"
   },
   "outputs": [
    {
     "name": "stdout",
     "output_type": "stream",
     "text": [
      "Tensor(\"Const:0\", shape=(), dtype=string)\n"
     ]
    }
   ],
   "source": [
    "print(a)"
   ]
  },
  {
   "cell_type": "code",
   "execution_count": 6,
   "metadata": {
    "colab": {
     "base_uri": "https://localhost:8080/",
     "height": 34
    },
    "colab_type": "code",
    "executionInfo": {
     "elapsed": 4867,
     "status": "ok",
     "timestamp": 1576682940678,
     "user": {
      "displayName": "Rohit Jain",
      "photoUrl": "https://lh3.googleusercontent.com/a-/AAuE7mA5OHq2dqEOadPr6G50Y_hHLDlogQX7vbvS2kHp=s64",
      "userId": "15919354366530856473"
     },
     "user_tz": -330
    },
    "id": "jxoGymPDyFSV",
    "outputId": "2ac3fb8e-5d81-4e30-f059-9baa4a078204"
   },
   "outputs": [
    {
     "data": {
      "text/plain": [
       "b'Hello World!'"
      ]
     },
     "execution_count": 6,
     "metadata": {},
     "output_type": "execute_result"
    }
   ],
   "source": [
    "with tf.Session() as sess:\n",
    "    ab = sess.run(a+b)\n",
    "\n",
    "ab"
   ]
  },
  {
   "cell_type": "code",
   "execution_count": 7,
   "metadata": {
    "colab": {
     "base_uri": "https://localhost:8080/",
     "height": 34
    },
    "colab_type": "code",
    "executionInfo": {
     "elapsed": 4837,
     "status": "ok",
     "timestamp": 1576682940679,
     "user": {
      "displayName": "Rohit Jain",
      "photoUrl": "https://lh3.googleusercontent.com/a-/AAuE7mA5OHq2dqEOadPr6G50Y_hHLDlogQX7vbvS2kHp=s64",
      "userId": "15919354366530856473"
     },
     "user_tz": -330
    },
    "id": "wAdfrG3UzjGR",
    "outputId": "9743f2fb-ac9d-45c3-8ac9-04c50e920467"
   },
   "outputs": [
    {
     "data": {
      "text/plain": [
       "<tf.Tensor 'add_1:0' shape=() dtype=string>"
      ]
     },
     "execution_count": 7,
     "metadata": {},
     "output_type": "execute_result"
    }
   ],
   "source": [
    "a + b"
   ]
  },
  {
   "cell_type": "code",
   "execution_count": 8,
   "metadata": {
    "colab": {
     "base_uri": "https://localhost:8080/",
     "height": 34
    },
    "colab_type": "code",
    "executionInfo": {
     "elapsed": 4812,
     "status": "ok",
     "timestamp": 1576682940680,
     "user": {
      "displayName": "Rohit Jain",
      "photoUrl": "https://lh3.googleusercontent.com/a-/AAuE7mA5OHq2dqEOadPr6G50Y_hHLDlogQX7vbvS2kHp=s64",
      "userId": "15919354366530856473"
     },
     "user_tz": -330
    },
    "id": "iJAJ7xiEzU_-",
    "outputId": "00520137-1435-46a2-bd8c-296bbd43f1c5"
   },
   "outputs": [
    {
     "data": {
      "text/plain": [
       "tensorflow.python.framework.ops.Tensor"
      ]
     },
     "execution_count": 8,
     "metadata": {},
     "output_type": "execute_result"
    }
   ],
   "source": [
    "type(a+b)"
   ]
  },
  {
   "cell_type": "code",
   "execution_count": 9,
   "metadata": {
    "colab": {
     "base_uri": "https://localhost:8080/",
     "height": 34
    },
    "colab_type": "code",
    "executionInfo": {
     "elapsed": 4793,
     "status": "ok",
     "timestamp": 1576682940684,
     "user": {
      "displayName": "Rohit Jain",
      "photoUrl": "https://lh3.googleusercontent.com/a-/AAuE7mA5OHq2dqEOadPr6G50Y_hHLDlogQX7vbvS2kHp=s64",
      "userId": "15919354366530856473"
     },
     "user_tz": -330
    },
    "id": "pD3ZmQMrzCI1",
    "outputId": "5fbc6ace-4f83-4a44-fa07-8b810514df15"
   },
   "outputs": [
    {
     "data": {
      "text/plain": [
       "bytes"
      ]
     },
     "execution_count": 9,
     "metadata": {},
     "output_type": "execute_result"
    }
   ],
   "source": [
    "type(ab)"
   ]
  },
  {
   "cell_type": "code",
   "execution_count": 10,
   "metadata": {
    "colab": {
     "base_uri": "https://localhost:8080/",
     "height": 34
    },
    "colab_type": "code",
    "executionInfo": {
     "elapsed": 4772,
     "status": "ok",
     "timestamp": 1576682940688,
     "user": {
      "displayName": "Rohit Jain",
      "photoUrl": "https://lh3.googleusercontent.com/a-/AAuE7mA5OHq2dqEOadPr6G50Y_hHLDlogQX7vbvS2kHp=s64",
      "userId": "15919354366530856473"
     },
     "user_tz": -330
    },
    "id": "9oMHCqIkyUMY",
    "outputId": "1125fb96-d23f-492c-92b5-eb1720ef151d"
   },
   "outputs": [
    {
     "data": {
      "text/plain": [
       "30"
      ]
     },
     "execution_count": 10,
     "metadata": {},
     "output_type": "execute_result"
    }
   ],
   "source": [
    "x = tf.constant(10)\n",
    "y = tf.constant(20)\n",
    "\n",
    "with tf.Session() as sess:\n",
    "    num = sess.run(x+y)\n",
    "\n",
    "num"
   ]
  },
  {
   "cell_type": "markdown",
   "metadata": {
    "colab_type": "text",
    "id": "JU8Mjziy0v3G"
   },
   "source": [
    "## Matrices"
   ]
  },
  {
   "cell_type": "code",
   "execution_count": 11,
   "metadata": {
    "colab": {
     "base_uri": "https://localhost:8080/",
     "height": 34
    },
    "colab_type": "code",
    "executionInfo": {
     "elapsed": 4746,
     "status": "ok",
     "timestamp": 1576682940690,
     "user": {
      "displayName": "Rohit Jain",
      "photoUrl": "https://lh3.googleusercontent.com/a-/AAuE7mA5OHq2dqEOadPr6G50Y_hHLDlogQX7vbvS2kHp=s64",
      "userId": "15919354366530856473"
     },
     "user_tz": -330
    },
    "id": "6qaiOGvK0ydr",
    "outputId": "ef9550dc-3972-4203-e885-75be2e77bbf4"
   },
   "outputs": [
    {
     "data": {
      "text/plain": [
       "<tf.Tensor 'Fill:0' shape=(4, 4) dtype=int32>"
      ]
     },
     "execution_count": 11,
     "metadata": {},
     "output_type": "execute_result"
    }
   ],
   "source": [
    "fill_mat = tf.fill((4, 4), 10)\n",
    "fill_mat"
   ]
  },
  {
   "cell_type": "code",
   "execution_count": 12,
   "metadata": {
    "colab": {
     "base_uri": "https://localhost:8080/",
     "height": 34
    },
    "colab_type": "code",
    "executionInfo": {
     "elapsed": 4716,
     "status": "ok",
     "timestamp": 1576682940692,
     "user": {
      "displayName": "Rohit Jain",
      "photoUrl": "https://lh3.googleusercontent.com/a-/AAuE7mA5OHq2dqEOadPr6G50Y_hHLDlogQX7vbvS2kHp=s64",
      "userId": "15919354366530856473"
     },
     "user_tz": -330
    },
    "id": "wYTU_5sm07To",
    "outputId": "f0f027e6-6f69-474b-8242-6b1fa589b469"
   },
   "outputs": [
    {
     "data": {
      "text/plain": [
       "<tf.Tensor 'zeros:0' shape=(4, 4) dtype=float32>"
      ]
     },
     "execution_count": 12,
     "metadata": {},
     "output_type": "execute_result"
    }
   ],
   "source": [
    "my_zeros = tf.zeros((4, 4))\n",
    "my_zeros"
   ]
  },
  {
   "cell_type": "code",
   "execution_count": 13,
   "metadata": {
    "colab": {
     "base_uri": "https://localhost:8080/",
     "height": 34
    },
    "colab_type": "code",
    "executionInfo": {
     "elapsed": 4692,
     "status": "ok",
     "timestamp": 1576682940695,
     "user": {
      "displayName": "Rohit Jain",
      "photoUrl": "https://lh3.googleusercontent.com/a-/AAuE7mA5OHq2dqEOadPr6G50Y_hHLDlogQX7vbvS2kHp=s64",
      "userId": "15919354366530856473"
     },
     "user_tz": -330
    },
    "id": "NDX8rMom1Gva",
    "outputId": "a75a951e-57ea-40db-fa54-8a8859d09c40"
   },
   "outputs": [
    {
     "data": {
      "text/plain": [
       "<tf.Tensor 'ones:0' shape=(4, 4) dtype=float32>"
      ]
     },
     "execution_count": 13,
     "metadata": {},
     "output_type": "execute_result"
    }
   ],
   "source": [
    "my_ones = tf.ones((4, 4))\n",
    "my_ones"
   ]
  },
  {
   "cell_type": "code",
   "execution_count": 14,
   "metadata": {
    "colab": {
     "base_uri": "https://localhost:8080/",
     "height": 34
    },
    "colab_type": "code",
    "executionInfo": {
     "elapsed": 4669,
     "status": "ok",
     "timestamp": 1576682940696,
     "user": {
      "displayName": "Rohit Jain",
      "photoUrl": "https://lh3.googleusercontent.com/a-/AAuE7mA5OHq2dqEOadPr6G50Y_hHLDlogQX7vbvS2kHp=s64",
      "userId": "15919354366530856473"
     },
     "user_tz": -330
    },
    "id": "6cv9Yc9H1RPA",
    "outputId": "b9e580ff-da6c-456d-cd5f-bdb5f170bf3a"
   },
   "outputs": [
    {
     "data": {
      "text/plain": [
       "<tf.Tensor 'random_normal:0' shape=(4, 4) dtype=float32>"
      ]
     },
     "execution_count": 14,
     "metadata": {},
     "output_type": "execute_result"
    }
   ],
   "source": [
    "my_randn = tf.random_normal((4, 4), mean=0, stddev=1)\n",
    "my_randn"
   ]
  },
  {
   "cell_type": "code",
   "execution_count": 15,
   "metadata": {
    "colab": {
     "base_uri": "https://localhost:8080/",
     "height": 34
    },
    "colab_type": "code",
    "executionInfo": {
     "elapsed": 4636,
     "status": "ok",
     "timestamp": 1576682940698,
     "user": {
      "displayName": "Rohit Jain",
      "photoUrl": "https://lh3.googleusercontent.com/a-/AAuE7mA5OHq2dqEOadPr6G50Y_hHLDlogQX7vbvS2kHp=s64",
      "userId": "15919354366530856473"
     },
     "user_tz": -330
    },
    "id": "VD6DKR3R1fzQ",
    "outputId": "8098d39f-dc0f-45f6-b3ea-1271d093a17b"
   },
   "outputs": [
    {
     "data": {
      "text/plain": [
       "<tf.Tensor 'random_uniform:0' shape=(4, 4) dtype=float32>"
      ]
     },
     "execution_count": 15,
     "metadata": {},
     "output_type": "execute_result"
    }
   ],
   "source": [
    "my_randu = tf.random_uniform((4, 4), minval=0, maxval=1)\n",
    "my_randu"
   ]
  },
  {
   "cell_type": "code",
   "execution_count": 16,
   "metadata": {
    "colab": {
     "base_uri": "https://localhost:8080/",
     "height": 442
    },
    "colab_type": "code",
    "executionInfo": {
     "elapsed": 4607,
     "status": "ok",
     "timestamp": 1576682940700,
     "user": {
      "displayName": "Rohit Jain",
      "photoUrl": "https://lh3.googleusercontent.com/a-/AAuE7mA5OHq2dqEOadPr6G50Y_hHLDlogQX7vbvS2kHp=s64",
      "userId": "15919354366530856473"
     },
     "user_tz": -330
    },
    "id": "d4rpoFOn1s9S",
    "outputId": "38c8fc69-2368-437b-f3b8-bbfaa412afe4"
   },
   "outputs": [
    {
     "name": "stdout",
     "output_type": "stream",
     "text": [
      "[[10 10 10 10]\n",
      " [10 10 10 10]\n",
      " [10 10 10 10]\n",
      " [10 10 10 10]]\n",
      "\n",
      "[[0. 0. 0. 0.]\n",
      " [0. 0. 0. 0.]\n",
      " [0. 0. 0. 0.]\n",
      " [0. 0. 0. 0.]]\n",
      "\n",
      "[[1. 1. 1. 1.]\n",
      " [1. 1. 1. 1.]\n",
      " [1. 1. 1. 1.]\n",
      " [1. 1. 1. 1.]]\n",
      "\n",
      "[[ 0.47439775 -0.4058101   0.6788152   0.12168979]\n",
      " [ 0.00961587  1.0669624  -1.5080503   0.621505  ]\n",
      " [ 0.63679045 -0.86044174 -0.28593498 -0.5638193 ]\n",
      " [ 0.78093827  1.088256   -3.4343815  -0.47194457]]\n",
      "\n",
      "[[0.9521899  0.11571133 0.97276497 0.8465171 ]\n",
      " [0.50389075 0.9509487  0.41958308 0.12067425]\n",
      " [0.5192795  0.16419089 0.09242737 0.9113871 ]\n",
      " [0.4030764  0.03327119 0.0866977  0.44482732]]\n",
      "\n"
     ]
    }
   ],
   "source": [
    "matrices = [fill_mat, my_zeros, my_ones, my_randn, my_randu]\n",
    "with tf.Session() as sess:\n",
    "    for matrix in matrices:\n",
    "        print(sess.run(matrix), end='\\n\\n')"
   ]
  },
  {
   "cell_type": "markdown",
   "metadata": {
    "colab_type": "text",
    "id": "6T81cQlo2_MC"
   },
   "source": [
    "## InteractiveSession"
   ]
  },
  {
   "cell_type": "code",
   "execution_count": 17,
   "metadata": {
    "colab": {
     "base_uri": "https://localhost:8080/",
     "height": 34
    },
    "colab_type": "code",
    "executionInfo": {
     "elapsed": 4575,
     "status": "ok",
     "timestamp": 1576682940701,
     "user": {
      "displayName": "Rohit Jain",
      "photoUrl": "https://lh3.googleusercontent.com/a-/AAuE7mA5OHq2dqEOadPr6G50Y_hHLDlogQX7vbvS2kHp=s64",
      "userId": "15919354366530856473"
     },
     "user_tz": -330
    },
    "id": "s-HAwjrM3FP-",
    "outputId": "86b91796-1f1f-40db-9a61-6284d57949a0"
   },
   "outputs": [
    {
     "data": {
      "text/plain": [
       "TensorShape([Dimension(2), Dimension(2)])"
      ]
     },
     "execution_count": 17,
     "metadata": {},
     "output_type": "execute_result"
    }
   ],
   "source": [
    "m = tf.constant([[1, 2], [3, 4]])\n",
    "m.get_shape()"
   ]
  },
  {
   "cell_type": "code",
   "execution_count": 18,
   "metadata": {
    "colab": {
     "base_uri": "https://localhost:8080/",
     "height": 34
    },
    "colab_type": "code",
    "executionInfo": {
     "elapsed": 4542,
     "status": "ok",
     "timestamp": 1576682940703,
     "user": {
      "displayName": "Rohit Jain",
      "photoUrl": "https://lh3.googleusercontent.com/a-/AAuE7mA5OHq2dqEOadPr6G50Y_hHLDlogQX7vbvS2kHp=s64",
      "userId": "15919354366530856473"
     },
     "user_tz": -330
    },
    "id": "IegpRF0x3YCD",
    "outputId": "ae823640-ff36-428c-c4ec-63c78e22e87e"
   },
   "outputs": [
    {
     "data": {
      "text/plain": [
       "TensorShape([Dimension(2), Dimension(1)])"
      ]
     },
     "execution_count": 18,
     "metadata": {},
     "output_type": "execute_result"
    }
   ],
   "source": [
    "n = tf.constant([[10], [100]])\n",
    "n.get_shape()"
   ]
  },
  {
   "cell_type": "code",
   "execution_count": 19,
   "metadata": {
    "colab": {
     "base_uri": "https://localhost:8080/",
     "height": 34
    },
    "colab_type": "code",
    "executionInfo": {
     "elapsed": 4507,
     "status": "ok",
     "timestamp": 1576682940705,
     "user": {
      "displayName": "Rohit Jain",
      "photoUrl": "https://lh3.googleusercontent.com/a-/AAuE7mA5OHq2dqEOadPr6G50Y_hHLDlogQX7vbvS2kHp=s64",
      "userId": "15919354366530856473"
     },
     "user_tz": -330
    },
    "id": "u1jQVp-M3qby",
    "outputId": "6c683c79-e1ad-4a0f-9d41-334b86ff24a8"
   },
   "outputs": [
    {
     "data": {
      "text/plain": [
       "<tf.Tensor 'MatMul:0' shape=(2, 1) dtype=int32>"
      ]
     },
     "execution_count": 19,
     "metadata": {},
     "output_type": "execute_result"
    }
   ],
   "source": [
    "result = tf.matmul(m, n)\n",
    "result"
   ]
  },
  {
   "cell_type": "code",
   "execution_count": 20,
   "metadata": {
    "colab": {},
    "colab_type": "code",
    "id": "ZzH9O1ai2Kue"
   },
   "outputs": [],
   "source": [
    "# using InteractiveSession, session can be called from anywhere\n",
    "session = tf.InteractiveSession()"
   ]
  },
  {
   "cell_type": "code",
   "execution_count": 21,
   "metadata": {
    "colab": {
     "base_uri": "https://localhost:8080/",
     "height": 51
    },
    "colab_type": "code",
    "executionInfo": {
     "elapsed": 4424,
     "status": "ok",
     "timestamp": 1576682940709,
     "user": {
      "displayName": "Rohit Jain",
      "photoUrl": "https://lh3.googleusercontent.com/a-/AAuE7mA5OHq2dqEOadPr6G50Y_hHLDlogQX7vbvS2kHp=s64",
      "userId": "15919354366530856473"
     },
     "user_tz": -330
    },
    "id": "yHoOfup-2ug5",
    "outputId": "a9579f72-16eb-40e9-a576-40fe076371e5"
   },
   "outputs": [
    {
     "data": {
      "text/plain": [
       "array([[210],\n",
       "       [430]])"
      ]
     },
     "execution_count": 21,
     "metadata": {},
     "output_type": "execute_result"
    }
   ],
   "source": [
    "session.run(result)"
   ]
  },
  {
   "cell_type": "code",
   "execution_count": 22,
   "metadata": {
    "colab": {
     "base_uri": "https://localhost:8080/",
     "height": 51
    },
    "colab_type": "code",
    "executionInfo": {
     "elapsed": 4393,
     "status": "ok",
     "timestamp": 1576682940710,
     "user": {
      "displayName": "Rohit Jain",
      "photoUrl": "https://lh3.googleusercontent.com/a-/AAuE7mA5OHq2dqEOadPr6G50Y_hHLDlogQX7vbvS2kHp=s64",
      "userId": "15919354366530856473"
     },
     "user_tz": -330
    },
    "id": "s_E-XKp82zFt",
    "outputId": "11b63c2d-13c4-43dd-b3f5-8f9d92879cf1"
   },
   "outputs": [
    {
     "data": {
      "text/plain": [
       "array([[210],\n",
       "       [430]])"
      ]
     },
     "execution_count": 22,
     "metadata": {},
     "output_type": "execute_result"
    }
   ],
   "source": [
    "# equivalent to session.run(result)\n",
    "result.eval()"
   ]
  },
  {
   "cell_type": "markdown",
   "metadata": {
    "colab_type": "text",
    "id": "chIIo8yb22Bw"
   },
   "source": [
    "## Graph"
   ]
  },
  {
   "cell_type": "code",
   "execution_count": 23,
   "metadata": {
    "colab": {
     "base_uri": "https://localhost:8080/",
     "height": 34
    },
    "colab_type": "code",
    "executionInfo": {
     "elapsed": 4271,
     "status": "ok",
     "timestamp": 1576682940711,
     "user": {
      "displayName": "Rohit Jain",
      "photoUrl": "https://lh3.googleusercontent.com/a-/AAuE7mA5OHq2dqEOadPr6G50Y_hHLDlogQX7vbvS2kHp=s64",
      "userId": "15919354366530856473"
     },
     "user_tz": -330
    },
    "id": "SXwEJ_sP5W6v",
    "outputId": "ede569bd-7350-459b-a736-deedb50d9c67"
   },
   "outputs": [
    {
     "name": "stdout",
     "output_type": "stream",
     "text": [
      "<tensorflow.python.framework.ops.Graph object at 0x000002340834AC48>\n"
     ]
    }
   ],
   "source": [
    "print(tf.get_default_graph())"
   ]
  },
  {
   "cell_type": "code",
   "execution_count": 24,
   "metadata": {
    "colab": {
     "base_uri": "https://localhost:8080/",
     "height": 34
    },
    "colab_type": "code",
    "executionInfo": {
     "elapsed": 4253,
     "status": "ok",
     "timestamp": 1576682940712,
     "user": {
      "displayName": "Rohit Jain",
      "photoUrl": "https://lh3.googleusercontent.com/a-/AAuE7mA5OHq2dqEOadPr6G50Y_hHLDlogQX7vbvS2kHp=s64",
      "userId": "15919354366530856473"
     },
     "user_tz": -330
    },
    "id": "032G0JrE5bSO",
    "outputId": "9332c15b-431e-4fa0-a11d-bd7d34be9431"
   },
   "outputs": [
    {
     "data": {
      "text/plain": [
       "<tensorflow.python.framework.ops.Graph at 0x2340834ac48>"
      ]
     },
     "execution_count": 24,
     "metadata": {},
     "output_type": "execute_result"
    }
   ],
   "source": [
    "graph_ori = tf.get_default_graph()\n",
    "graph_ori"
   ]
  },
  {
   "cell_type": "code",
   "execution_count": 25,
   "metadata": {
    "colab": {
     "base_uri": "https://localhost:8080/",
     "height": 34
    },
    "colab_type": "code",
    "executionInfo": {
     "elapsed": 4224,
     "status": "ok",
     "timestamp": 1576682940712,
     "user": {
      "displayName": "Rohit Jain",
      "photoUrl": "https://lh3.googleusercontent.com/a-/AAuE7mA5OHq2dqEOadPr6G50Y_hHLDlogQX7vbvS2kHp=s64",
      "userId": "15919354366530856473"
     },
     "user_tz": -330
    },
    "id": "l8r33VLT5lDL",
    "outputId": "18f80f89-4301-4418-9364-3de134103c54"
   },
   "outputs": [
    {
     "data": {
      "text/plain": [
       "<tensorflow.python.framework.ops.Graph at 0x23408389208>"
      ]
     },
     "execution_count": 25,
     "metadata": {},
     "output_type": "execute_result"
    }
   ],
   "source": [
    "graph_second = tf.Graph()\n",
    "graph_second"
   ]
  },
  {
   "cell_type": "code",
   "execution_count": 26,
   "metadata": {
    "colab": {
     "base_uri": "https://localhost:8080/",
     "height": 34
    },
    "colab_type": "code",
    "executionInfo": {
     "elapsed": 4209,
     "status": "ok",
     "timestamp": 1576682940713,
     "user": {
      "displayName": "Rohit Jain",
      "photoUrl": "https://lh3.googleusercontent.com/a-/AAuE7mA5OHq2dqEOadPr6G50Y_hHLDlogQX7vbvS2kHp=s64",
      "userId": "15919354366530856473"
     },
     "user_tz": -330
    },
    "id": "GCK_NmJc5xZz",
    "outputId": "a4fef4b7-84db-4690-d19f-e285eecc60ed"
   },
   "outputs": [
    {
     "name": "stdout",
     "output_type": "stream",
     "text": [
      "True\n"
     ]
    }
   ],
   "source": [
    "with graph_second.as_default():\n",
    "    print(graph_second is tf.get_default_graph())"
   ]
  },
  {
   "cell_type": "code",
   "execution_count": 27,
   "metadata": {
    "colab": {
     "base_uri": "https://localhost:8080/",
     "height": 34
    },
    "colab_type": "code",
    "executionInfo": {
     "elapsed": 4196,
     "status": "ok",
     "timestamp": 1576682940714,
     "user": {
      "displayName": "Rohit Jain",
      "photoUrl": "https://lh3.googleusercontent.com/a-/AAuE7mA5OHq2dqEOadPr6G50Y_hHLDlogQX7vbvS2kHp=s64",
      "userId": "15919354366530856473"
     },
     "user_tz": -330
    },
    "id": "sxAUbyS78q2d",
    "outputId": "1c32a1c0-7d0a-40e7-c671-56e6f92737f7"
   },
   "outputs": [
    {
     "name": "stdout",
     "output_type": "stream",
     "text": [
      "False\n"
     ]
    }
   ],
   "source": [
    "print(graph_second is tf.get_default_graph())"
   ]
  },
  {
   "cell_type": "markdown",
   "metadata": {
    "colab_type": "text",
    "id": "d8u31APv8xG6"
   },
   "source": [
    "## Variables & Placeholders"
   ]
  },
  {
   "cell_type": "code",
   "execution_count": 28,
   "metadata": {
    "colab": {
     "base_uri": "https://localhost:8080/",
     "height": 34
    },
    "colab_type": "code",
    "executionInfo": {
     "elapsed": 4173,
     "status": "ok",
     "timestamp": 1576682940715,
     "user": {
      "displayName": "Rohit Jain",
      "photoUrl": "https://lh3.googleusercontent.com/a-/AAuE7mA5OHq2dqEOadPr6G50Y_hHLDlogQX7vbvS2kHp=s64",
      "userId": "15919354366530856473"
     },
     "user_tz": -330
    },
    "id": "6zOAiyhb9kjj",
    "outputId": "c5d35541-47de-441f-92d2-4efde3107d27"
   },
   "outputs": [
    {
     "data": {
      "text/plain": [
       "<tf.Tensor 'random_uniform_1:0' shape=(4, 4) dtype=float32>"
      ]
     },
     "execution_count": 28,
     "metadata": {},
     "output_type": "execute_result"
    }
   ],
   "source": [
    "my_tensor = tf.random_uniform((4, 4), minval=0, maxval=1)\n",
    "my_tensor"
   ]
  },
  {
   "cell_type": "code",
   "execution_count": 29,
   "metadata": {
    "colab": {
     "base_uri": "https://localhost:8080/",
     "height": 34
    },
    "colab_type": "code",
    "executionInfo": {
     "elapsed": 4161,
     "status": "ok",
     "timestamp": 1576682940716,
     "user": {
      "displayName": "Rohit Jain",
      "photoUrl": "https://lh3.googleusercontent.com/a-/AAuE7mA5OHq2dqEOadPr6G50Y_hHLDlogQX7vbvS2kHp=s64",
      "userId": "15919354366530856473"
     },
     "user_tz": -330
    },
    "id": "euiWmXWmueO4",
    "outputId": "4a799e8e-2c6d-4889-9b1d-30401d373904"
   },
   "outputs": [
    {
     "data": {
      "text/plain": [
       "<tf.Variable 'Variable:0' shape=(4, 4) dtype=float32_ref>"
      ]
     },
     "execution_count": 29,
     "metadata": {},
     "output_type": "execute_result"
    }
   ],
   "source": [
    "my_var = tf.Variable(initial_value=my_tensor)\n",
    "my_var"
   ]
  },
  {
   "cell_type": "code",
   "execution_count": 30,
   "metadata": {
    "colab": {},
    "colab_type": "code",
    "id": "bM9wDrT1uoA0"
   },
   "outputs": [],
   "source": [
    "# for initializing variables\n",
    "init = tf.global_variables_initializer()"
   ]
  },
  {
   "cell_type": "code",
   "execution_count": 31,
   "metadata": {
    "colab": {
     "base_uri": "https://localhost:8080/",
     "height": 85
    },
    "colab_type": "code",
    "executionInfo": {
     "elapsed": 5053,
     "status": "ok",
     "timestamp": 1576682941751,
     "user": {
      "displayName": "Rohit Jain",
      "photoUrl": "https://lh3.googleusercontent.com/a-/AAuE7mA5OHq2dqEOadPr6G50Y_hHLDlogQX7vbvS2kHp=s64",
      "userId": "15919354366530856473"
     },
     "user_tz": -330
    },
    "id": "VtYyjJmsuwRb",
    "outputId": "cfe52785-d45d-4de5-f463-c5b64f47ada8"
   },
   "outputs": [
    {
     "name": "stdout",
     "output_type": "stream",
     "text": [
      "[[0.79728127 0.7047727  0.45760953 0.15946436]\n",
      " [0.7859838  0.02083683 0.5191344  0.4004612 ]\n",
      " [0.38900518 0.28882718 0.5741836  0.50394607]\n",
      " [0.12569833 0.17853391 0.14837968 0.00464451]]\n"
     ]
    }
   ],
   "source": [
    "with tf.Session() as sess:\n",
    "    sess.run(init)\n",
    "    print(sess.run(my_var))"
   ]
  },
  {
   "cell_type": "code",
   "execution_count": 32,
   "metadata": {
    "colab": {
     "base_uri": "https://localhost:8080/",
     "height": 34
    },
    "colab_type": "code",
    "executionInfo": {
     "elapsed": 5030,
     "status": "ok",
     "timestamp": 1576682941754,
     "user": {
      "displayName": "Rohit Jain",
      "photoUrl": "https://lh3.googleusercontent.com/a-/AAuE7mA5OHq2dqEOadPr6G50Y_hHLDlogQX7vbvS2kHp=s64",
      "userId": "15919354366530856473"
     },
     "user_tz": -330
    },
    "id": "TroZ5_hcvKz_",
    "outputId": "72d5f9e7-146d-4b29-e85b-fda5ee26cafa"
   },
   "outputs": [
    {
     "data": {
      "text/plain": [
       "<tf.Tensor 'Placeholder:0' shape=(?, 3) dtype=float32>"
      ]
     },
     "execution_count": 32,
     "metadata": {},
     "output_type": "execute_result"
    }
   ],
   "source": [
    "my_ph = tf.placeholder(tf.float32, shape=(None, 3))\n",
    "my_ph"
   ]
  },
  {
   "cell_type": "markdown",
   "metadata": {
    "colab_type": "text",
    "id": "ThOVZHd9w37E"
   },
   "source": [
    "## Simple Neural Network"
   ]
  },
  {
   "cell_type": "code",
   "execution_count": 33,
   "metadata": {
    "colab": {},
    "colab_type": "code",
    "id": "eGI2choUw8yV"
   },
   "outputs": [],
   "source": [
    "n_features = 10\n",
    "n_dense_neurons = 3"
   ]
  },
  {
   "cell_type": "code",
   "execution_count": 34,
   "metadata": {
    "colab": {
     "base_uri": "https://localhost:8080/",
     "height": 34
    },
    "colab_type": "code",
    "executionInfo": {
     "elapsed": 5008,
     "status": "ok",
     "timestamp": 1576682941756,
     "user": {
      "displayName": "Rohit Jain",
      "photoUrl": "https://lh3.googleusercontent.com/a-/AAuE7mA5OHq2dqEOadPr6G50Y_hHLDlogQX7vbvS2kHp=s64",
      "userId": "15919354366530856473"
     },
     "user_tz": -330
    },
    "id": "Dqi7ih5qbq80",
    "outputId": "3f764c18-d32b-4245-8776-70ac82bb8f35"
   },
   "outputs": [
    {
     "data": {
      "text/plain": [
       "<tf.Tensor 'Placeholder_1:0' shape=(?, 10) dtype=float32>"
      ]
     },
     "execution_count": 34,
     "metadata": {},
     "output_type": "execute_result"
    }
   ],
   "source": [
    "x = tf.placeholder(tf.float32, (None, n_features))\n",
    "x"
   ]
  },
  {
   "cell_type": "code",
   "execution_count": 35,
   "metadata": {
    "colab": {},
    "colab_type": "code",
    "id": "fr_SGtd7b1LJ"
   },
   "outputs": [],
   "source": [
    "W = tf.Variable(tf.random_normal([n_features, n_dense_neurons]))\n",
    "b = tf.Variable(tf.ones([n_dense_neurons]))"
   ]
  },
  {
   "cell_type": "code",
   "execution_count": 36,
   "metadata": {
    "colab": {},
    "colab_type": "code",
    "id": "aGdhcuHscTQb"
   },
   "outputs": [],
   "source": [
    "xW = tf.matmul(x, W)\n",
    "z = tf.add(xW, b)"
   ]
  },
  {
   "cell_type": "code",
   "execution_count": 37,
   "metadata": {
    "colab": {
     "base_uri": "https://localhost:8080/",
     "height": 34
    },
    "colab_type": "code",
    "executionInfo": {
     "elapsed": 4951,
     "status": "ok",
     "timestamp": 1576682941759,
     "user": {
      "displayName": "Rohit Jain",
      "photoUrl": "https://lh3.googleusercontent.com/a-/AAuE7mA5OHq2dqEOadPr6G50Y_hHLDlogQX7vbvS2kHp=s64",
      "userId": "15919354366530856473"
     },
     "user_tz": -330
    },
    "id": "a9FhGkktcfmC",
    "outputId": "e19ee4af-889f-4669-c0f4-50234ac9c580"
   },
   "outputs": [
    {
     "data": {
      "text/plain": [
       "<tf.Tensor 'Sigmoid:0' shape=(?, 3) dtype=float32>"
      ]
     },
     "execution_count": 37,
     "metadata": {},
     "output_type": "execute_result"
    }
   ],
   "source": [
    "a = tf.sigmoid(z)\n",
    "a"
   ]
  },
  {
   "cell_type": "code",
   "execution_count": 38,
   "metadata": {
    "colab": {},
    "colab_type": "code",
    "id": "ZMxSjC9JczKK"
   },
   "outputs": [],
   "source": [
    "init = tf.global_variables_initializer()"
   ]
  },
  {
   "cell_type": "code",
   "execution_count": 39,
   "metadata": {
    "colab": {
     "base_uri": "https://localhost:8080/",
     "height": 51
    },
    "colab_type": "code",
    "executionInfo": {
     "elapsed": 4915,
     "status": "ok",
     "timestamp": 1576682941762,
     "user": {
      "displayName": "Rohit Jain",
      "photoUrl": "https://lh3.googleusercontent.com/a-/AAuE7mA5OHq2dqEOadPr6G50Y_hHLDlogQX7vbvS2kHp=s64",
      "userId": "15919354366530856473"
     },
     "user_tz": -330
    },
    "id": "CfeO4OrUdi0U",
    "outputId": "3452c6b1-d4b9-4a4c-860b-deb248e407b4"
   },
   "outputs": [
    {
     "data": {
      "text/plain": [
       "array([[0.57338075, 0.67702256, 0.84397986, 0.74075277, 0.68697281,\n",
       "        0.30590224, 0.94224771, 0.14399889, 0.12947841, 0.51766385]])"
      ]
     },
     "execution_count": 39,
     "metadata": {},
     "output_type": "execute_result"
    }
   ],
   "source": [
    "np.random.random([1, n_features])"
   ]
  },
  {
   "cell_type": "code",
   "execution_count": 40,
   "metadata": {
    "colab": {
     "base_uri": "https://localhost:8080/",
     "height": 255
    },
    "colab_type": "code",
    "executionInfo": {
     "elapsed": 4899,
     "status": "ok",
     "timestamp": 1576682941763,
     "user": {
      "displayName": "Rohit Jain",
      "photoUrl": "https://lh3.googleusercontent.com/a-/AAuE7mA5OHq2dqEOadPr6G50Y_hHLDlogQX7vbvS2kHp=s64",
      "userId": "15919354366530856473"
     },
     "user_tz": -330
    },
    "id": "fQQf5mSQc4MD",
    "outputId": "f1c98302-9265-4eab-ce0a-a8a080903801"
   },
   "outputs": [
    {
     "name": "stdout",
     "output_type": "stream",
     "text": [
      "Layer Output: [[0.9731706  0.25569257 0.34007895]]\n",
      "\n",
      "W: [[ 0.632389   -0.3700951  -0.9995069 ]\n",
      " [ 0.00842225  2.243087    1.6217493 ]\n",
      " [ 1.3617216  -1.0393635  -1.2935131 ]\n",
      " [ 0.46096474  0.09354579 -0.1039722 ]\n",
      " [-0.28589985 -0.4493898   0.3164834 ]\n",
      " [ 1.354111    0.18388906  0.78242344]\n",
      " [-0.03499292 -1.4697933  -2.2464342 ]\n",
      " [ 0.6854706  -2.367286    0.11846804]\n",
      " [ 1.1564901   0.1354943  -1.4138904 ]\n",
      " [ 2.0610454  -0.5236195   0.24242695]]\n",
      "\n",
      "b: [1. 1. 1.]\n"
     ]
    }
   ],
   "source": [
    "with tf.Session() as sess:\n",
    "    sess.run(init)\n",
    "    layer_out = sess.run(a, feed_dict={x:np.random.random([1, n_features])})\n",
    "    W_var, b_var = sess.run([W, b])\n",
    "\n",
    "print('Layer Output:', layer_out, end='\\n\\n')\n",
    "print('W:', W_var, end='\\n\\n')\n",
    "print('b:', b_var)"
   ]
  },
  {
   "cell_type": "markdown",
   "metadata": {
    "colab_type": "text",
    "id": "b6CmaayTeP_M"
   },
   "source": [
    "+ The result above is a single process & not an iteractive process (i.e., values are not updated...), since it lacks a cost function & an optimizer to minimize it."
   ]
  },
  {
   "cell_type": "markdown",
   "metadata": {
    "colab_type": "text",
    "id": "QrfdQ0q9gL9v"
   },
   "source": [
    "## Simple Regression Example"
   ]
  },
  {
   "cell_type": "code",
   "execution_count": 41,
   "metadata": {
    "colab": {
     "base_uri": "https://localhost:8080/",
     "height": 51
    },
    "colab_type": "code",
    "executionInfo": {
     "elapsed": 4879,
     "status": "ok",
     "timestamp": 1576682941764,
     "user": {
      "displayName": "Rohit Jain",
      "photoUrl": "https://lh3.googleusercontent.com/a-/AAuE7mA5OHq2dqEOadPr6G50Y_hHLDlogQX7vbvS2kHp=s64",
      "userId": "15919354366530856473"
     },
     "user_tz": -330
    },
    "id": "3Bj20i2ogPrA",
    "outputId": "e837ccb6-26bf-48f8-8bec-641d48f2e810"
   },
   "outputs": [
    {
     "data": {
      "text/plain": [
       "array([-0.90493677, -0.09052686,  1.77854124,  3.45197369,  3.47813135,\n",
       "        4.7638773 ,  6.58584413,  7.06120485,  7.455168  , 11.42818568])"
      ]
     },
     "execution_count": 41,
     "metadata": {},
     "output_type": "execute_result"
    }
   ],
   "source": [
    "x_data = np.linspace(0, 10, 10) + np.random.uniform(-1.5, 1.5, 10)\n",
    "x_data"
   ]
  },
  {
   "cell_type": "code",
   "execution_count": 42,
   "metadata": {
    "colab": {
     "base_uri": "https://localhost:8080/",
     "height": 51
    },
    "colab_type": "code",
    "executionInfo": {
     "elapsed": 4865,
     "status": "ok",
     "timestamp": 1576682941765,
     "user": {
      "displayName": "Rohit Jain",
      "photoUrl": "https://lh3.googleusercontent.com/a-/AAuE7mA5OHq2dqEOadPr6G50Y_hHLDlogQX7vbvS2kHp=s64",
      "userId": "15919354366530856473"
     },
     "user_tz": -330
    },
    "id": "R_grLj43heHA",
    "outputId": "ffaddfa8-f315-417c-c5c7-18cb45235ba0"
   },
   "outputs": [
    {
     "data": {
      "text/plain": [
       "array([1.12113302, 0.79577466, 2.32604224, 3.34827185, 5.36675513,\n",
       "       4.4594637 , 5.95070203, 6.61098572, 7.97802417, 9.10262865])"
      ]
     },
     "execution_count": 42,
     "metadata": {},
     "output_type": "execute_result"
    }
   ],
   "source": [
    "y_label = np.linspace(0, 10, 10) + np.random.uniform(-1.5, 1.5, 10)\n",
    "y_label"
   ]
  },
  {
   "cell_type": "code",
   "execution_count": 43,
   "metadata": {
    "colab": {
     "base_uri": "https://localhost:8080/",
     "height": 282
    },
    "colab_type": "code",
    "executionInfo": {
     "elapsed": 4847,
     "status": "ok",
     "timestamp": 1576682941766,
     "user": {
      "displayName": "Rohit Jain",
      "photoUrl": "https://lh3.googleusercontent.com/a-/AAuE7mA5OHq2dqEOadPr6G50Y_hHLDlogQX7vbvS2kHp=s64",
      "userId": "15919354366530856473"
     },
     "user_tz": -330
    },
    "id": "kV8CNw8xhpzz",
    "outputId": "6dfe16ef-85ef-4546-8eec-e726ded38c79"
   },
   "outputs": [
    {
     "data": {
      "text/plain": [
       "[<matplotlib.lines.Line2D at 0x234083df588>]"
      ]
     },
     "execution_count": 43,
     "metadata": {},
     "output_type": "execute_result"
    },
    {
     "data": {
      "image/png": "[encoded data removed]",
      "text/plain": [
       "<Figure size 432x288 with 1 Axes>"
      ]
     },
     "metadata": {
      "needs_background": "light"
     },
     "output_type": "display_data"
    }
   ],
   "source": [
    "plt.plot(x_data, y_label, '*')"
   ]
  },
  {
   "cell_type": "code",
   "execution_count": 44,
   "metadata": {
    "colab": {
     "base_uri": "https://localhost:8080/",
     "height": 34
    },
    "colab_type": "code",
    "executionInfo": {
     "elapsed": 4833,
     "status": "ok",
     "timestamp": 1576682941767,
     "user": {
      "displayName": "Rohit Jain",
      "photoUrl": "https://lh3.googleusercontent.com/a-/AAuE7mA5OHq2dqEOadPr6G50Y_hHLDlogQX7vbvS2kHp=s64",
      "userId": "15919354366530856473"
     },
     "user_tz": -330
    },
    "id": "HPM0ooPph1Nk",
    "outputId": "6639e0d9-ab8b-4ea8-eb9e-bee09504d6d6"
   },
   "outputs": [
    {
     "data": {
      "text/plain": [
       "array([0.60255622, 0.53529578])"
      ]
     },
     "execution_count": 44,
     "metadata": {},
     "output_type": "execute_result"
    }
   ],
   "source": [
    "a = np.random.rand(2)\n",
    "a"
   ]
  },
  {
   "cell_type": "code",
   "execution_count": 45,
   "metadata": {
    "colab": {
     "base_uri": "https://localhost:8080/",
     "height": 282
    },
    "colab_type": "code",
    "executionInfo": {
     "elapsed": 5475,
     "status": "ok",
     "timestamp": 1576682942425,
     "user": {
      "displayName": "Rohit Jain",
      "photoUrl": "https://lh3.googleusercontent.com/a-/AAuE7mA5OHq2dqEOadPr6G50Y_hHLDlogQX7vbvS2kHp=s64",
      "userId": "15919354366530856473"
     },
     "user_tz": -330
    },
    "id": "rldrdIaKmmL-",
    "outputId": "5bceefea-a49f-446d-b284-997aa8084ce9"
   },
   "outputs": [
    {
     "data": {
      "text/plain": [
       "[<matplotlib.lines.Line2D at 0x2340a5108c8>]"
      ]
     },
     "execution_count": 45,
     "metadata": {},
     "output_type": "execute_result"
    },
    {
     "data": {
      "image/png": "[encoded data removed]",
      "text/plain": [
       "<Figure size 432x288 with 1 Axes>"
      ]
     },
     "metadata": {
      "needs_background": "light"
     },
     "output_type": "display_data"
    }
   ],
   "source": [
    "# initially\n",
    "x_test = np.linspace(-1, 11, 10)\n",
    "y_pred = a[0]*x_test + a[1]\n",
    "\n",
    "plt.plot(x_data, y_label, '*')\n",
    "plt.plot(x_test, y_pred, 'r')"
   ]
  },
  {
   "cell_type": "code",
   "execution_count": 46,
   "metadata": {
    "colab": {},
    "colab_type": "code",
    "id": "bt5w4Rm7iEE3"
   },
   "outputs": [],
   "source": [
    "m = tf.Variable(a[0])\n",
    "b = tf.Variable(a[1])"
   ]
  },
  {
   "cell_type": "code",
   "execution_count": 47,
   "metadata": {
    "colab": {},
    "colab_type": "code",
    "id": "ZBTqXexxiPSq"
   },
   "outputs": [],
   "source": [
    "error = 0\n",
    "for x, y in zip(x_data, y_label):\n",
    "    y_hat = m*x + b\n",
    "    error += (y - y_hat)**2"
   ]
  },
  {
   "cell_type": "code",
   "execution_count": 48,
   "metadata": {
    "colab": {
     "base_uri": "https://localhost:8080/",
     "height": 34
    },
    "colab_type": "code",
    "executionInfo": {
     "elapsed": 5418,
     "status": "ok",
     "timestamp": 1576682942430,
     "user": {
      "displayName": "Rohit Jain",
      "photoUrl": "https://lh3.googleusercontent.com/a-/AAuE7mA5OHq2dqEOadPr6G50Y_hHLDlogQX7vbvS2kHp=s64",
      "userId": "15919354366530856473"
     },
     "user_tz": -330
    },
    "id": "T5yD8Uu5i4M8",
    "outputId": "c08b9845-a485-47d0-9368-fa309f3cee6f"
   },
   "outputs": [
    {
     "data": {
      "text/plain": [
       "<tf.Tensor 'add_24:0' shape=() dtype=float64>"
      ]
     },
     "execution_count": 48,
     "metadata": {},
     "output_type": "execute_result"
    }
   ],
   "source": [
    "error"
   ]
  },
  {
   "cell_type": "code",
   "execution_count": 49,
   "metadata": {
    "colab": {
     "base_uri": "https://localhost:8080/",
     "height": 88
    },
    "colab_type": "code",
    "executionInfo": {
     "elapsed": 5392,
     "status": "ok",
     "timestamp": 1576682942431,
     "user": {
      "displayName": "Rohit Jain",
      "photoUrl": "https://lh3.googleusercontent.com/a-/AAuE7mA5OHq2dqEOadPr6G50Y_hHLDlogQX7vbvS2kHp=s64",
      "userId": "15919354366530856473"
     },
     "user_tz": -330
    },
    "id": "hg74_LhIi7Vz",
    "outputId": "34f806f5-ccc6-48b2-aaba-da6c54d26614"
   },
   "outputs": [],
   "source": [
    "optimizer = tf.train.GradientDescentOptimizer(learning_rate=0.001)\n",
    "train = optimizer.minimize(error)"
   ]
  },
  {
   "cell_type": "code",
   "execution_count": 50,
   "metadata": {
    "colab": {},
    "colab_type": "code",
    "id": "S9kI0PiUjckb"
   },
   "outputs": [],
   "source": [
    "init = tf.global_variables_initializer()"
   ]
  },
  {
   "cell_type": "code",
   "execution_count": 51,
   "metadata": {
    "colab": {},
    "colab_type": "code",
    "id": "eE-ZIrkRlgY2"
   },
   "outputs": [],
   "source": [
    "with tf.Session() as sess:\n",
    "    sess.run(init)\n",
    "\n",
    "    training_steps = 100\n",
    "    for i in range(training_steps):\n",
    "        sess.run(train)\n",
    "\n",
    "    final_slope, final_intercept = sess.run([m, b])"
   ]
  },
  {
   "cell_type": "code",
   "execution_count": 52,
   "metadata": {
    "colab": {
     "base_uri": "https://localhost:8080/",
     "height": 51
    },
    "colab_type": "code",
    "executionInfo": {
     "elapsed": 5346,
     "status": "ok",
     "timestamp": 1576682942435,
     "user": {
      "displayName": "Rohit Jain",
      "photoUrl": "https://lh3.googleusercontent.com/a-/AAuE7mA5OHq2dqEOadPr6G50Y_hHLDlogQX7vbvS2kHp=s64",
      "userId": "15919354366530856473"
     },
     "user_tz": -330
    },
    "id": "cMO9iKGHl88o",
    "outputId": "16c1e0e4-af45-4d93-f54f-62181839666c"
   },
   "outputs": [
    {
     "name": "stdout",
     "output_type": "stream",
     "text": [
      "Slope:  0.7791916615803067\n",
      "Intercept:  1.0418023810483423\n"
     ]
    }
   ],
   "source": [
    "print('Slope: ', final_slope)\n",
    "print('Intercept: ', final_intercept)"
   ]
  },
  {
   "cell_type": "code",
   "execution_count": 53,
   "metadata": {
    "colab": {
     "base_uri": "https://localhost:8080/",
     "height": 282
    },
    "colab_type": "code",
    "executionInfo": {
     "elapsed": 5322,
     "status": "ok",
     "timestamp": 1576682942437,
     "user": {
      "displayName": "Rohit Jain",
      "photoUrl": "https://lh3.googleusercontent.com/a-/AAuE7mA5OHq2dqEOadPr6G50Y_hHLDlogQX7vbvS2kHp=s64",
      "userId": "15919354366530856473"
     },
     "user_tz": -330
    },
    "id": "fg3oHrokng_-",
    "outputId": "2485f7d6-5a02-4543-9960-c0704fd41dfb"
   },
   "outputs": [
    {
     "data": {
      "text/plain": [
       "[<matplotlib.lines.Line2D at 0x2340a670b88>]"
      ]
     },
     "execution_count": 53,
     "metadata": {},
     "output_type": "execute_result"
    },
    {
     "data": {
      "image/png": "[encoded data removed]",
      "text/plain": [
       "<Figure size 432x288 with 1 Axes>"
      ]
     },
     "metadata": {
      "needs_background": "light"
     },
     "output_type": "display_data"
    }
   ],
   "source": [
    "# after\n",
    "x_test = np.linspace(-1, 11, 10)\n",
    "y_pred = final_slope*x_test + final_intercept\n",
    "\n",
    "plt.plot(x_data, y_label, '*')\n",
    "plt.plot(x_test, y_pred, 'r')"
   ]
  },
  {
   "cell_type": "markdown",
   "metadata": {},
   "source": [
    "## Saving & loading model"
   ]
  },
  {
   "cell_type": "code",
   "execution_count": 54,
   "metadata": {},
   "outputs": [],
   "source": [
    "saver = tf.train.Saver()"
   ]
  },
  {
   "cell_type": "code",
   "execution_count": 55,
   "metadata": {},
   "outputs": [
    {
     "name": "stdout",
     "output_type": "stream",
     "text": [
      "Final Slope:  0.7791916615803067\n",
      "Final Intercept:  1.0418023810483423\n"
     ]
    }
   ],
   "source": [
    "with tf.Session() as sess:\n",
    "    sess.run(init)\n",
    "\n",
    "    training_steps = 100\n",
    "    for i in range(training_steps):\n",
    "        sess.run(train)\n",
    "\n",
    "    print('Final Slope: ', sess.run(m))\n",
    "    print('Final Intercept: ', sess.run(b))\n",
    "    \n",
    "    saver.save(sess, 'models/first_model.ckpt')"
   ]
  },
  {
   "cell_type": "code",
   "execution_count": 56,
   "metadata": {},
   "outputs": [
    {
     "name": "stdout",
     "output_type": "stream",
     "text": [
      "INFO:tensorflow:Restoring parameters from models/first_model.ckpt\n",
      "Final Slope:  0.7791916615803067\n",
      "Final Intercept:  1.0418023810483423\n"
     ]
    }
   ],
   "source": [
    "with tf.Session() as sess:\n",
    "    saver.restore(sess, 'models/first_model.ckpt')\n",
    "    \n",
    "    print('Final Slope: ', sess.run(m))\n",
    "    print('Final Intercept: ', sess.run(b))"
   ]
  }
 ],
 "metadata": {
  "colab": {
   "collapsed_sections": [],
   "name": "TensorFlow_Basics.ipynb",
   "provenance": []
  },
  "kernelspec": {
   "display_name": "Python 3",
   "language": "python",
   "name": "python3"
  },
  "language_info": {
   "codemirror_mode": {
    "name": "ipython",
    "version": 3
   },
   "file_extension": ".py",
   "mimetype": "text/x-python",
   "name": "python",
   "nbconvert_exporter": "python",
   "pygments_lexer": "ipython3",
   "version": "3.7.6"
  },
  "toc": {
   "base_numbering": 1,
   "nav_menu": {},
   "number_sections": true,
   "sideBar": true,
   "skip_h1_title": false,
   "title_cell": "Table of Contents",
   "title_sidebar": "Contents",
   "toc_cell": false,
   "toc_position": {},
   "toc_section_display": true,
   "toc_window_display": false
  },
  "varInspector": {
   "cols": {
    "lenName": 16,
    "lenType": 16,
    "lenVar": 40
   },
   "kernels_config": {
    "python": {
     "delete_cmd_postfix": "",
     "delete_cmd_prefix": "del ",
     "library": "var_list.py",
     "varRefreshCmd": "print(var_dic_list())"
    },
    "r": {
     "delete_cmd_postfix": ") ",
     "delete_cmd_prefix": "rm(",
     "library": "var_list.r",
     "varRefreshCmd": "cat(var_dic_list()) "
    }
   },
   "types_to_exclude": [
    "module",
    "function",
    "builtin_function_or_method",
    "instance",
    "_Feature"
   ],
   "window_display": false
  }
 },
 "nbformat": 4,
 "nbformat_minor": 1
}
