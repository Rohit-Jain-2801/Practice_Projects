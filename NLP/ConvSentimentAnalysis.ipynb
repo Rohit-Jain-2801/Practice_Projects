{
  "nbformat": 4,
  "nbformat_minor": 0,
  "metadata": {
    "colab": {
      "name": "Untitled",
      "provenance": [],
      "collapsed_sections": []
    },
    "kernelspec": {
      "name": "python3",
      "display_name": "Python 3"
    },
    "accelerator": "GPU"
  },
  "cells": [
    {
      "cell_type": "markdown",
      "metadata": {
        "id": "_PZrFpNITkg1",
        "colab_type": "text"
      },
      "source": [
        "## Importing Libraries"
      ]
    },
    {
      "cell_type": "code",
      "metadata": {
        "id": "hBuYAir3-OKE",
        "colab_type": "code",
        "colab": {}
      },
      "source": [
        "!pip install -q gdown"
      ],
      "execution_count": 16,
      "outputs": []
    },
    {
      "cell_type": "code",
      "metadata": {
        "id": "1WpBBI90RqM2",
        "colab_type": "code",
        "colab": {}
      },
      "source": [
        "import re\n",
        "import gdown\n",
        "import pickle\n",
        "import zipfile\n",
        "import numpy as np\n",
        "import pandas as pd\n",
        "import tensorflow as tf\n",
        "\n",
        "import matplotlib.pyplot as plt\n",
        "%matplotlib inline"
      ],
      "execution_count": 17,
      "outputs": []
    },
    {
      "cell_type": "markdown",
      "metadata": {
        "id": "cHSix7N_T17Y",
        "colab_type": "text"
      },
      "source": [
        "## Loading Dataset"
      ]
    },
    {
      "cell_type": "code",
      "metadata": {
        "id": "Z6WX0sOIT1I-",
        "colab_type": "code",
        "colab": {
          "base_uri": "https://localhost:8080/",
          "height": 34
        },
        "outputId": "e58875ad-d4fd-4faa-ee86-9279e401e706"
      },
      "source": [
        "!pip install -q kaggle\n",
        "!mkdir -p ~/.kaggle\n",
        "!cp '/content/drive/My Drive/Colab Notebooks/kaggle.json' ~/.kaggle/\n",
        "!ls ~/.kaggle\n",
        "!chmod 600 /root/.kaggle/kaggle.json"
      ],
      "execution_count": 18,
      "outputs": [
        {
          "output_type": "stream",
          "text": [
            "kaggle.json\n"
          ],
          "name": "stdout"
        }
      ]
    },
    {
      "cell_type": "code",
      "metadata": {
        "id": "5CL8mh3kUZBG",
        "colab_type": "code",
        "colab": {
          "base_uri": "https://localhost:8080/",
          "height": 34
        },
        "outputId": "351426da-e0b3-473f-edbc-aa242d18cf02"
      },
      "source": [
        "!kaggle datasets download -d kazanova/sentiment140 -p /tmp/"
      ],
      "execution_count": 19,
      "outputs": [
        {
          "output_type": "stream",
          "text": [
            "sentiment140.zip: Skipping, found more recently modified local copy (use --force to force download)\n"
          ],
          "name": "stdout"
        }
      ]
    },
    {
      "cell_type": "code",
      "metadata": {
        "id": "8vsaKs8EUfmV",
        "colab_type": "code",
        "colab": {}
      },
      "source": [
        "local_training_zip = '/tmp/sentiment140.zip'\n",
        "if zipfile.is_zipfile(local_training_zip):\n",
        "    zip_ref = zipfile.ZipFile(file=local_training_zip, mode='r')\n",
        "    zip_ref.extractall('/tmp/')\n",
        "    zip_ref.close()"
      ],
      "execution_count": 20,
      "outputs": []
    },
    {
      "cell_type": "code",
      "metadata": {
        "id": "LR8K1fIpVmwh",
        "colab_type": "code",
        "colab": {}
      },
      "source": [
        "DATASET_COLUMNS = [\"target\", \"ids\", \"date\", \"flag\", \"user\", \"text\"]\n",
        "DATASET_ENCODING = \"ISO-8859-1\""
      ],
      "execution_count": 21,
      "outputs": []
    },
    {
      "cell_type": "code",
      "metadata": {
        "id": "XcGVezHDWdNl",
        "colab_type": "code",
        "colab": {}
      },
      "source": [
        "pd.set_option('display.max_columns', None)\n",
        "pd.set_option('max_colwidth', None)"
      ],
      "execution_count": 22,
      "outputs": []
    },
    {
      "cell_type": "code",
      "metadata": {
        "id": "8hjWgEvNUwwH",
        "colab_type": "code",
        "colab": {
          "base_uri": "https://localhost:8080/",
          "height": 589
        },
        "outputId": "24b417ed-aa97-4d4c-c991-87cad4167a3c"
      },
      "source": [
        "df = pd.read_csv('/tmp/training.1600000.processed.noemoticon.csv', sep=',', encoding=DATASET_ENCODING, names=DATASET_COLUMNS)\n",
        "df"
      ],
      "execution_count": 23,
      "outputs": [
        {
          "output_type": "execute_result",
          "data": {
            "text/html": [
              "<div>\n",
              "<style scoped>\n",
              "    .dataframe tbody tr th:only-of-type {\n",
              "        vertical-align: middle;\n",
              "    }\n",
              "\n",
              "    .dataframe tbody tr th {\n",
              "        vertical-align: top;\n",
              "    }\n",
              "\n",
              "    .dataframe thead th {\n",
              "        text-align: right;\n",
              "    }\n",
              "</style>\n",
              "<table border=\"1\" class=\"dataframe\">\n",
              "  <thead>\n",
              "    <tr style=\"text-align: right;\">\n",
              "      <th></th>\n",
              "      <th>target</th>\n",
              "      <th>ids</th>\n",
              "      <th>date</th>\n",
              "      <th>flag</th>\n",
              "      <th>user</th>\n",
              "      <th>text</th>\n",
              "    </tr>\n",
              "  </thead>\n",
              "  <tbody>\n",
              "    <tr>\n",
              "      <th>0</th>\n",
              "      <td>0</td>\n",
              "      <td>1467810369</td>\n",
              "      <td>Mon Apr 06 22:19:45 PDT 2009</td>\n",
              "      <td>NO_QUERY</td>\n",
              "      <td>_TheSpecialOne_</td>\n",
              "      <td>@switchfoot http://twitpic.com/2y1zl - Awww, that's a bummer.  You shoulda got David Carr of Third Day to do it. ;D</td>\n",
              "    </tr>\n",
              "    <tr>\n",
              "      <th>1</th>\n",
              "      <td>0</td>\n",
              "      <td>1467810672</td>\n",
              "      <td>Mon Apr 06 22:19:49 PDT 2009</td>\n",
              "      <td>NO_QUERY</td>\n",
              "      <td>scotthamilton</td>\n",
              "      <td>is upset that he can't update his Facebook by texting it... and might cry as a result  School today also. Blah!</td>\n",
              "    </tr>\n",
              "    <tr>\n",
              "      <th>2</th>\n",
              "      <td>0</td>\n",
              "      <td>1467810917</td>\n",
              "      <td>Mon Apr 06 22:19:53 PDT 2009</td>\n",
              "      <td>NO_QUERY</td>\n",
              "      <td>mattycus</td>\n",
              "      <td>@Kenichan I dived many times for the ball. Managed to save 50%  The rest go out of bounds</td>\n",
              "    </tr>\n",
              "    <tr>\n",
              "      <th>3</th>\n",
              "      <td>0</td>\n",
              "      <td>1467811184</td>\n",
              "      <td>Mon Apr 06 22:19:57 PDT 2009</td>\n",
              "      <td>NO_QUERY</td>\n",
              "      <td>ElleCTF</td>\n",
              "      <td>my whole body feels itchy and like its on fire</td>\n",
              "    </tr>\n",
              "    <tr>\n",
              "      <th>4</th>\n",
              "      <td>0</td>\n",
              "      <td>1467811193</td>\n",
              "      <td>Mon Apr 06 22:19:57 PDT 2009</td>\n",
              "      <td>NO_QUERY</td>\n",
              "      <td>Karoli</td>\n",
              "      <td>@nationwideclass no, it's not behaving at all. i'm mad. why am i here? because I can't see you all over there.</td>\n",
              "    </tr>\n",
              "    <tr>\n",
              "      <th>...</th>\n",
              "      <td>...</td>\n",
              "      <td>...</td>\n",
              "      <td>...</td>\n",
              "      <td>...</td>\n",
              "      <td>...</td>\n",
              "      <td>...</td>\n",
              "    </tr>\n",
              "    <tr>\n",
              "      <th>1599995</th>\n",
              "      <td>4</td>\n",
              "      <td>2193601966</td>\n",
              "      <td>Tue Jun 16 08:40:49 PDT 2009</td>\n",
              "      <td>NO_QUERY</td>\n",
              "      <td>AmandaMarie1028</td>\n",
              "      <td>Just woke up. Having no school is the best feeling ever</td>\n",
              "    </tr>\n",
              "    <tr>\n",
              "      <th>1599996</th>\n",
              "      <td>4</td>\n",
              "      <td>2193601969</td>\n",
              "      <td>Tue Jun 16 08:40:49 PDT 2009</td>\n",
              "      <td>NO_QUERY</td>\n",
              "      <td>TheWDBoards</td>\n",
              "      <td>TheWDB.com - Very cool to hear old Walt interviews!  â« http://blip.fm/~8bmta</td>\n",
              "    </tr>\n",
              "    <tr>\n",
              "      <th>1599997</th>\n",
              "      <td>4</td>\n",
              "      <td>2193601991</td>\n",
              "      <td>Tue Jun 16 08:40:49 PDT 2009</td>\n",
              "      <td>NO_QUERY</td>\n",
              "      <td>bpbabe</td>\n",
              "      <td>Are you ready for your MoJo Makeover? Ask me for details</td>\n",
              "    </tr>\n",
              "    <tr>\n",
              "      <th>1599998</th>\n",
              "      <td>4</td>\n",
              "      <td>2193602064</td>\n",
              "      <td>Tue Jun 16 08:40:49 PDT 2009</td>\n",
              "      <td>NO_QUERY</td>\n",
              "      <td>tinydiamondz</td>\n",
              "      <td>Happy 38th Birthday to my boo of alll time!!! Tupac Amaru Shakur</td>\n",
              "    </tr>\n",
              "    <tr>\n",
              "      <th>1599999</th>\n",
              "      <td>4</td>\n",
              "      <td>2193602129</td>\n",
              "      <td>Tue Jun 16 08:40:50 PDT 2009</td>\n",
              "      <td>NO_QUERY</td>\n",
              "      <td>RyanTrevMorris</td>\n",
              "      <td>happy #charitytuesday @theNSPCC @SparksCharity @SpeakingUpH4H</td>\n",
              "    </tr>\n",
              "  </tbody>\n",
              "</table>\n",
              "<p>1600000 rows × 6 columns</p>\n",
              "</div>"
            ],
            "text/plain": [
              "         target         ids                          date      flag  \\\n",
              "0             0  1467810369  Mon Apr 06 22:19:45 PDT 2009  NO_QUERY   \n",
              "1             0  1467810672  Mon Apr 06 22:19:49 PDT 2009  NO_QUERY   \n",
              "2             0  1467810917  Mon Apr 06 22:19:53 PDT 2009  NO_QUERY   \n",
              "3             0  1467811184  Mon Apr 06 22:19:57 PDT 2009  NO_QUERY   \n",
              "4             0  1467811193  Mon Apr 06 22:19:57 PDT 2009  NO_QUERY   \n",
              "...         ...         ...                           ...       ...   \n",
              "1599995       4  2193601966  Tue Jun 16 08:40:49 PDT 2009  NO_QUERY   \n",
              "1599996       4  2193601969  Tue Jun 16 08:40:49 PDT 2009  NO_QUERY   \n",
              "1599997       4  2193601991  Tue Jun 16 08:40:49 PDT 2009  NO_QUERY   \n",
              "1599998       4  2193602064  Tue Jun 16 08:40:49 PDT 2009  NO_QUERY   \n",
              "1599999       4  2193602129  Tue Jun 16 08:40:50 PDT 2009  NO_QUERY   \n",
              "\n",
              "                    user  \\\n",
              "0        _TheSpecialOne_   \n",
              "1          scotthamilton   \n",
              "2               mattycus   \n",
              "3                ElleCTF   \n",
              "4                 Karoli   \n",
              "...                  ...   \n",
              "1599995  AmandaMarie1028   \n",
              "1599996      TheWDBoards   \n",
              "1599997           bpbabe   \n",
              "1599998     tinydiamondz   \n",
              "1599999   RyanTrevMorris   \n",
              "\n",
              "                                                                                                                        text  \n",
              "0        @switchfoot http://twitpic.com/2y1zl - Awww, that's a bummer.  You shoulda got David Carr of Third Day to do it. ;D  \n",
              "1            is upset that he can't update his Facebook by texting it... and might cry as a result  School today also. Blah!  \n",
              "2                                  @Kenichan I dived many times for the ball. Managed to save 50%  The rest go out of bounds  \n",
              "3                                                                            my whole body feels itchy and like its on fire   \n",
              "4            @nationwideclass no, it's not behaving at all. i'm mad. why am i here? because I can't see you all over there.   \n",
              "...                                                                                                                      ...  \n",
              "1599995                                                             Just woke up. Having no school is the best feeling ever   \n",
              "1599996                                       TheWDB.com - Very cool to hear old Walt interviews!  â« http://blip.fm/~8bmta  \n",
              "1599997                                                            Are you ready for your MoJo Makeover? Ask me for details   \n",
              "1599998                                                    Happy 38th Birthday to my boo of alll time!!! Tupac Amaru Shakur   \n",
              "1599999                                                       happy #charitytuesday @theNSPCC @SparksCharity @SpeakingUpH4H   \n",
              "\n",
              "[1600000 rows x 6 columns]"
            ]
          },
          "metadata": {
            "tags": []
          },
          "execution_count": 23
        }
      ]
    },
    {
      "cell_type": "markdown",
      "metadata": {
        "id": "xty04iX6zoHL",
        "colab_type": "text"
      },
      "source": [
        "## Preprocessing Data"
      ]
    },
    {
      "cell_type": "markdown",
      "metadata": {
        "id": "dqQF2oTczrWU",
        "colab_type": "text"
      },
      "source": [
        "### Removing unwanted data"
      ]
    },
    {
      "cell_type": "code",
      "metadata": {
        "id": "JAlSl60MzvUZ",
        "colab_type": "code",
        "colab": {}
      },
      "source": [
        "df.drop(columns=[\"ids\", \"date\", \"flag\", \"user\"], inplace=True)"
      ],
      "execution_count": 24,
      "outputs": []
    },
    {
      "cell_type": "code",
      "metadata": {
        "id": "r2I8E0j50Gxf",
        "colab_type": "code",
        "colab": {
          "base_uri": "https://localhost:8080/",
          "height": 419
        },
        "outputId": "79d16493-fee8-45bb-bfe1-b73541e446c6"
      },
      "source": [
        "df"
      ],
      "execution_count": 25,
      "outputs": [
        {
          "output_type": "execute_result",
          "data": {
            "text/html": [
              "<div>\n",
              "<style scoped>\n",
              "    .dataframe tbody tr th:only-of-type {\n",
              "        vertical-align: middle;\n",
              "    }\n",
              "\n",
              "    .dataframe tbody tr th {\n",
              "        vertical-align: top;\n",
              "    }\n",
              "\n",
              "    .dataframe thead th {\n",
              "        text-align: right;\n",
              "    }\n",
              "</style>\n",
              "<table border=\"1\" class=\"dataframe\">\n",
              "  <thead>\n",
              "    <tr style=\"text-align: right;\">\n",
              "      <th></th>\n",
              "      <th>target</th>\n",
              "      <th>text</th>\n",
              "    </tr>\n",
              "  </thead>\n",
              "  <tbody>\n",
              "    <tr>\n",
              "      <th>0</th>\n",
              "      <td>0</td>\n",
              "      <td>@switchfoot http://twitpic.com/2y1zl - Awww, that's a bummer.  You shoulda got David Carr of Third Day to do it. ;D</td>\n",
              "    </tr>\n",
              "    <tr>\n",
              "      <th>1</th>\n",
              "      <td>0</td>\n",
              "      <td>is upset that he can't update his Facebook by texting it... and might cry as a result  School today also. Blah!</td>\n",
              "    </tr>\n",
              "    <tr>\n",
              "      <th>2</th>\n",
              "      <td>0</td>\n",
              "      <td>@Kenichan I dived many times for the ball. Managed to save 50%  The rest go out of bounds</td>\n",
              "    </tr>\n",
              "    <tr>\n",
              "      <th>3</th>\n",
              "      <td>0</td>\n",
              "      <td>my whole body feels itchy and like its on fire</td>\n",
              "    </tr>\n",
              "    <tr>\n",
              "      <th>4</th>\n",
              "      <td>0</td>\n",
              "      <td>@nationwideclass no, it's not behaving at all. i'm mad. why am i here? because I can't see you all over there.</td>\n",
              "    </tr>\n",
              "    <tr>\n",
              "      <th>...</th>\n",
              "      <td>...</td>\n",
              "      <td>...</td>\n",
              "    </tr>\n",
              "    <tr>\n",
              "      <th>1599995</th>\n",
              "      <td>4</td>\n",
              "      <td>Just woke up. Having no school is the best feeling ever</td>\n",
              "    </tr>\n",
              "    <tr>\n",
              "      <th>1599996</th>\n",
              "      <td>4</td>\n",
              "      <td>TheWDB.com - Very cool to hear old Walt interviews!  â« http://blip.fm/~8bmta</td>\n",
              "    </tr>\n",
              "    <tr>\n",
              "      <th>1599997</th>\n",
              "      <td>4</td>\n",
              "      <td>Are you ready for your MoJo Makeover? Ask me for details</td>\n",
              "    </tr>\n",
              "    <tr>\n",
              "      <th>1599998</th>\n",
              "      <td>4</td>\n",
              "      <td>Happy 38th Birthday to my boo of alll time!!! Tupac Amaru Shakur</td>\n",
              "    </tr>\n",
              "    <tr>\n",
              "      <th>1599999</th>\n",
              "      <td>4</td>\n",
              "      <td>happy #charitytuesday @theNSPCC @SparksCharity @SpeakingUpH4H</td>\n",
              "    </tr>\n",
              "  </tbody>\n",
              "</table>\n",
              "<p>1600000 rows × 2 columns</p>\n",
              "</div>"
            ],
            "text/plain": [
              "         target  \\\n",
              "0             0   \n",
              "1             0   \n",
              "2             0   \n",
              "3             0   \n",
              "4             0   \n",
              "...         ...   \n",
              "1599995       4   \n",
              "1599996       4   \n",
              "1599997       4   \n",
              "1599998       4   \n",
              "1599999       4   \n",
              "\n",
              "                                                                                                                        text  \n",
              "0        @switchfoot http://twitpic.com/2y1zl - Awww, that's a bummer.  You shoulda got David Carr of Third Day to do it. ;D  \n",
              "1            is upset that he can't update his Facebook by texting it... and might cry as a result  School today also. Blah!  \n",
              "2                                  @Kenichan I dived many times for the ball. Managed to save 50%  The rest go out of bounds  \n",
              "3                                                                            my whole body feels itchy and like its on fire   \n",
              "4            @nationwideclass no, it's not behaving at all. i'm mad. why am i here? because I can't see you all over there.   \n",
              "...                                                                                                                      ...  \n",
              "1599995                                                             Just woke up. Having no school is the best feeling ever   \n",
              "1599996                                       TheWDB.com - Very cool to hear old Walt interviews!  â« http://blip.fm/~8bmta  \n",
              "1599997                                                            Are you ready for your MoJo Makeover? Ask me for details   \n",
              "1599998                                                    Happy 38th Birthday to my boo of alll time!!! Tupac Amaru Shakur   \n",
              "1599999                                                       happy #charitytuesday @theNSPCC @SparksCharity @SpeakingUpH4H   \n",
              "\n",
              "[1600000 rows x 2 columns]"
            ]
          },
          "metadata": {
            "tags": []
          },
          "execution_count": 25
        }
      ]
    },
    {
      "cell_type": "markdown",
      "metadata": {
        "id": "6KoNHoer_Zsu",
        "colab_type": "text"
      },
      "source": [
        "### Preprocess text"
      ]
    },
    {
      "cell_type": "markdown",
      "metadata": {
        "id": "NIVRdN77zLuC",
        "colab_type": "text"
      },
      "source": [
        "+ [Text Preprocessing: Handle Emoji & Emoticon](https://studymachinelearning.com/text-preprocessing-handle-emoji-emoticon/)"
      ]
    },
    {
      "cell_type": "code",
      "metadata": {
        "id": "PCxpJDn69X3f",
        "colab_type": "code",
        "colab": {}
      },
      "source": [
        "EMOTICON_DICT_PATH = '/tmp/Emoticon_Dict.p'"
      ],
      "execution_count": 26,
      "outputs": []
    },
    {
      "cell_type": "code",
      "metadata": {
        "id": "K4aEaRQE0dP6",
        "colab_type": "code",
        "colab": {
          "base_uri": "https://localhost:8080/",
          "height": 103
        },
        "outputId": "7a4f0fdc-1621-4f73-ec84-fcf7a24eba6f"
      },
      "source": [
        "gdown.download(url='https://drive.google.com/uc?id=1HDpafp97gCl9xZTQWMgP2kKK_NuhENlE', output=EMOTICON_DICT_PATH, quiet=False)"
      ],
      "execution_count": 27,
      "outputs": [
        {
          "output_type": "stream",
          "text": [
            "Downloading...\n",
            "From: https://drive.google.com/uc?id=1HDpafp97gCl9xZTQWMgP2kKK_NuhENlE\n",
            "To: /tmp/Emoticon_Dict.p\n",
            "100%|██████████| 3.48k/3.48k [00:00<00:00, 1.37MB/s]\n"
          ],
          "name": "stderr"
        },
        {
          "output_type": "execute_result",
          "data": {
            "application/vnd.google.colaboratory.intrinsic": {
              "type": "string"
            },
            "text/plain": [
              "'/tmp/Emoticon_Dict.p'"
            ]
          },
          "metadata": {
            "tags": []
          },
          "execution_count": 27
        }
      ]
    },
    {
      "cell_type": "code",
      "metadata": {
        "id": "pNi5DBu91VqP",
        "colab_type": "code",
        "colab": {}
      },
      "source": [
        "with open(EMOTICON_DICT_PATH, 'rb') as fp:\n",
        "    emoticon_dict = pickle.load(fp)\n",
        "emoticon_pattern = re.compile(u'(' + u'|'.join(k for k in emoticon_dict) + u')')"
      ],
      "execution_count": 28,
      "outputs": []
    },
    {
      "cell_type": "code",
      "metadata": {
        "id": "ScOPlAIb_lQX",
        "colab_type": "code",
        "colab": {}
      },
      "source": [
        "def process_txt(text, emoticon_pattern):\n",
        "    # handling mentions, links, hashtags\n",
        "    txt = re.sub(pattern=r\"(?:\\@|\\#|https?\\://)\\S+\", repl=\"\", string=text)\n",
        "    txt = re.sub(pattern=r'\\w+.com\\s?', repl='', string=txt)\n",
        "\n",
        "    # handling emoticons\n",
        "    txt = emoticon_pattern.sub(repl=r'', string=txt)\n",
        "\n",
        "    # handling spaces\n",
        "    txt = txt.strip()\n",
        "    txt = re.sub(pattern=r'  ', repl=' ', string=txt)\n",
        "\n",
        "    # removing words of length one\n",
        "    txt = ' '.join([w for w in txt.split() if len(w)>1])\n",
        "    return txt"
      ],
      "execution_count": 29,
      "outputs": []
    },
    {
      "cell_type": "code",
      "metadata": {
        "id": "6RrhIoJlDHsJ",
        "colab_type": "code",
        "colab": {}
      },
      "source": [
        "df['text'] = df['text'].apply(func=process_txt, emoticon_pattern=emoticon_pattern)"
      ],
      "execution_count": 30,
      "outputs": []
    },
    {
      "cell_type": "code",
      "metadata": {
        "id": "cQiiT-bFPB4b",
        "colab_type": "code",
        "colab": {
          "base_uri": "https://localhost:8080/",
          "height": 419
        },
        "outputId": "87e82be4-cc65-47de-adbb-3d78a196e738"
      },
      "source": [
        "df"
      ],
      "execution_count": 31,
      "outputs": [
        {
          "output_type": "execute_result",
          "data": {
            "text/html": [
              "<div>\n",
              "<style scoped>\n",
              "    .dataframe tbody tr th:only-of-type {\n",
              "        vertical-align: middle;\n",
              "    }\n",
              "\n",
              "    .dataframe tbody tr th {\n",
              "        vertical-align: top;\n",
              "    }\n",
              "\n",
              "    .dataframe thead th {\n",
              "        text-align: right;\n",
              "    }\n",
              "</style>\n",
              "<table border=\"1\" class=\"dataframe\">\n",
              "  <thead>\n",
              "    <tr style=\"text-align: right;\">\n",
              "      <th></th>\n",
              "      <th>target</th>\n",
              "      <th>text</th>\n",
              "    </tr>\n",
              "  </thead>\n",
              "  <tbody>\n",
              "    <tr>\n",
              "      <th>0</th>\n",
              "      <td>0</td>\n",
              "      <td>Awww, that's bummer. You shoulda got David Carr of Third Day to do it.</td>\n",
              "    </tr>\n",
              "    <tr>\n",
              "      <th>1</th>\n",
              "      <td>0</td>\n",
              "      <td>is upset that he can't update his Facebook by texting it... and might cry as result School today also. Blah!</td>\n",
              "    </tr>\n",
              "    <tr>\n",
              "      <th>2</th>\n",
              "      <td>0</td>\n",
              "      <td>dived many times for the ball. Managed to save 50% The rest go out of bounds</td>\n",
              "    </tr>\n",
              "    <tr>\n",
              "      <th>3</th>\n",
              "      <td>0</td>\n",
              "      <td>my whole body feels itchy and like its on fire</td>\n",
              "    </tr>\n",
              "    <tr>\n",
              "      <th>4</th>\n",
              "      <td>0</td>\n",
              "      <td>no, it's not behaving at all. i'm mad. why am here? because can't see you all over there.</td>\n",
              "    </tr>\n",
              "    <tr>\n",
              "      <th>...</th>\n",
              "      <td>...</td>\n",
              "      <td>...</td>\n",
              "    </tr>\n",
              "    <tr>\n",
              "      <th>1599995</th>\n",
              "      <td>4</td>\n",
              "      <td>Just woke up. Having no school is the best feeling ever</td>\n",
              "    </tr>\n",
              "    <tr>\n",
              "      <th>1599996</th>\n",
              "      <td>4</td>\n",
              "      <td>Very cool to hear old Walt interviews! â«</td>\n",
              "    </tr>\n",
              "    <tr>\n",
              "      <th>1599997</th>\n",
              "      <td>4</td>\n",
              "      <td>Are you ready for your MoJo Makeover? Ask me for details</td>\n",
              "    </tr>\n",
              "    <tr>\n",
              "      <th>1599998</th>\n",
              "      <td>4</td>\n",
              "      <td>Happy 38th Birthday to my boo of alll time!!! Tupac Amaru Shakur</td>\n",
              "    </tr>\n",
              "    <tr>\n",
              "      <th>1599999</th>\n",
              "      <td>4</td>\n",
              "      <td>happy</td>\n",
              "    </tr>\n",
              "  </tbody>\n",
              "</table>\n",
              "<p>1600000 rows × 2 columns</p>\n",
              "</div>"
            ],
            "text/plain": [
              "         target  \\\n",
              "0             0   \n",
              "1             0   \n",
              "2             0   \n",
              "3             0   \n",
              "4             0   \n",
              "...         ...   \n",
              "1599995       4   \n",
              "1599996       4   \n",
              "1599997       4   \n",
              "1599998       4   \n",
              "1599999       4   \n",
              "\n",
              "                                                                                                                 text  \n",
              "0                                              Awww, that's bummer. You shoulda got David Carr of Third Day to do it.  \n",
              "1        is upset that he can't update his Facebook by texting it... and might cry as result School today also. Blah!  \n",
              "2                                        dived many times for the ball. Managed to save 50% The rest go out of bounds  \n",
              "3                                                                      my whole body feels itchy and like its on fire  \n",
              "4                           no, it's not behaving at all. i'm mad. why am here? because can't see you all over there.  \n",
              "...                                                                                                               ...  \n",
              "1599995                                                       Just woke up. Having no school is the best feeling ever  \n",
              "1599996                                                                    Very cool to hear old Walt interviews! â«  \n",
              "1599997                                                      Are you ready for your MoJo Makeover? Ask me for details  \n",
              "1599998                                              Happy 38th Birthday to my boo of alll time!!! Tupac Amaru Shakur  \n",
              "1599999                                                                                                         happy  \n",
              "\n",
              "[1600000 rows x 2 columns]"
            ]
          },
          "metadata": {
            "tags": []
          },
          "execution_count": 31
        }
      ]
    },
    {
      "cell_type": "markdown",
      "metadata": {
        "id": "s4T8zNwyTCpD",
        "colab_type": "text"
      },
      "source": [
        "### Splitting dataset"
      ]
    },
    {
      "cell_type": "code",
      "metadata": {
        "id": "RbMM_CxHFSgh",
        "colab_type": "code",
        "colab": {}
      },
      "source": [
        "X = df['text'].values\n",
        "Y = df['target'].values"
      ],
      "execution_count": 32,
      "outputs": []
    },
    {
      "cell_type": "markdown",
      "metadata": {
        "id": "dmj5S4NpTfBj",
        "colab_type": "text"
      },
      "source": [
        "### Preprocess labels"
      ]
    },
    {
      "cell_type": "code",
      "metadata": {
        "id": "6UaaFFUPQ068",
        "colab_type": "code",
        "colab": {
          "base_uri": "https://localhost:8080/",
          "height": 428
        },
        "outputId": "9a47a762-5bf5-4742-9f7b-3f832d3ad697"
      },
      "source": [
        "plt.figure(figsize=(12, 7))\n",
        "plt.hist(x=Y, bins=50);"
      ],
      "execution_count": 33,
      "outputs": [
        {
          "output_type": "display_data",
          "data": {
            "image/png": "[encoded data removed]",
            "text/plain": [
              "<Figure size 864x504 with 1 Axes>"
            ]
          },
          "metadata": {
            "tags": [],
            "needs_background": "light"
          }
        }
      ]
    },
    {
      "cell_type": "code",
      "metadata": {
        "id": "Y9y6AITBTLnf",
        "colab_type": "code",
        "colab": {
          "base_uri": "https://localhost:8080/",
          "height": 34
        },
        "outputId": "6ce8300a-967b-415e-f13e-f44b0b161cc3"
      },
      "source": [
        "np.unique(ar=Y)"
      ],
      "execution_count": 34,
      "outputs": [
        {
          "output_type": "execute_result",
          "data": {
            "text/plain": [
              "array([0, 4])"
            ]
          },
          "metadata": {
            "tags": []
          },
          "execution_count": 34
        }
      ]
    },
    {
      "cell_type": "code",
      "metadata": {
        "id": "joI8cmhqTvIj",
        "colab_type": "code",
        "colab": {
          "base_uri": "https://localhost:8080/",
          "height": 34
        },
        "outputId": "07816a9f-598a-4f0f-bf15-3814ac447bd6"
      },
      "source": [
        "Y = np.array(list(map(int, Y>0)))\n",
        "Y"
      ],
      "execution_count": 35,
      "outputs": [
        {
          "output_type": "execute_result",
          "data": {
            "text/plain": [
              "array([0, 0, 0, ..., 1, 1, 1])"
            ]
          },
          "metadata": {
            "tags": []
          },
          "execution_count": 35
        }
      ]
    },
    {
      "cell_type": "markdown",
      "metadata": {
        "id": "ZygompGiUYuV",
        "colab_type": "text"
      },
      "source": [
        "## Tokenization"
      ]
    },
    {
      "cell_type": "code",
      "metadata": {
        "id": "31kcO8bIVTNy",
        "colab_type": "code",
        "colab": {
          "base_uri": "https://localhost:8080/",
          "height": 34
        },
        "outputId": "2bddf9b1-c0bc-476a-af6c-02f5a6486d9a"
      },
      "source": [
        "words = []\n",
        "for sentence in X:\n",
        "    for word in sentence.split():\n",
        "        words.append(word)\n",
        "words = list(set(words))\n",
        "print('No. of unique words:', len(words))"
      ],
      "execution_count": 36,
      "outputs": [
        {
          "output_type": "stream",
          "text": [
            "No. of unique words: 889298\n"
          ],
          "name": "stdout"
        }
      ]
    },
    {
      "cell_type": "code",
      "metadata": {
        "id": "YiayXiPGVLEs",
        "colab_type": "code",
        "colab": {}
      },
      "source": [
        "VOCAB_SIZE = 5000"
      ],
      "execution_count": 37,
      "outputs": []
    },
    {
      "cell_type": "code",
      "metadata": {
        "id": "igyylNP1T8dq",
        "colab_type": "code",
        "colab": {}
      },
      "source": [
        "tokenizer = tf.keras.preprocessing.text.Tokenizer(\n",
        "    num_words=VOCAB_SIZE,\n",
        "    filters='!\"#$%&()*+,-./:;<=>?@[\\\\]^_`{|}~\\t\\n',\n",
        "    lower=True,\n",
        "    split=' ',\n",
        "    char_level=False,\n",
        "    oov_token=None\n",
        ")"
      ],
      "execution_count": 38,
      "outputs": []
    },
    {
      "cell_type": "code",
      "metadata": {
        "id": "THAfmvBJVJzX",
        "colab_type": "code",
        "colab": {}
      },
      "source": [
        "tokenizer.fit_on_texts(texts=X)"
      ],
      "execution_count": 39,
      "outputs": []
    },
    {
      "cell_type": "code",
      "metadata": {
        "id": "XH8UGGFsWUQm",
        "colab_type": "code",
        "colab": {
          "base_uri": "https://localhost:8080/",
          "height": 1000
        },
        "outputId": "df317628-3645-4971-d603-5f6a96ea82b7"
      },
      "source": [
        "tokenizer.word_index"
      ],
      "execution_count": 40,
      "outputs": [
        {
          "output_type": "execute_result",
          "data": {
            "text/plain": [
              "{'to': 1,\n",
              " 'the': 2,\n",
              " 'my': 3,\n",
              " 'and': 4,\n",
              " 'you': 5,\n",
              " 'is': 6,\n",
              " 'it': 7,\n",
              " 'in': 8,\n",
              " 'for': 9,\n",
              " 'of': 10,\n",
              " 'on': 11,\n",
              " 'me': 12,\n",
              " 'so': 13,\n",
              " 'have': 14,\n",
              " 'that': 15,\n",
              " 'but': 16,\n",
              " \"i'm\": 17,\n",
              " 'just': 18,\n",
              " 'with': 19,\n",
              " 'be': 20,\n",
              " 'at': 21,\n",
              " 'not': 22,\n",
              " 'was': 23,\n",
              " 'this': 24,\n",
              " 'now': 25,\n",
              " 'up': 26,\n",
              " 'good': 27,\n",
              " 'day': 28,\n",
              " 'out': 29,\n",
              " 'all': 30,\n",
              " 'get': 31,\n",
              " 'like': 32,\n",
              " 'are': 33,\n",
              " 'no': 34,\n",
              " 'go': 35,\n",
              " 'quot': 36,\n",
              " 'today': 37,\n",
              " 'do': 38,\n",
              " \"it's\": 39,\n",
              " 'too': 40,\n",
              " 'your': 41,\n",
              " 'work': 42,\n",
              " 'going': 43,\n",
              " 'love': 44,\n",
              " 'got': 45,\n",
              " 'lol': 46,\n",
              " 'time': 47,\n",
              " 'back': 48,\n",
              " 'from': 49,\n",
              " 'what': 50,\n",
              " 'one': 51,\n",
              " 'know': 52,\n",
              " 'will': 53,\n",
              " 'we': 54,\n",
              " 'about': 55,\n",
              " 'im': 56,\n",
              " 'really': 57,\n",
              " \"don't\": 58,\n",
              " 'am': 59,\n",
              " 'amp': 60,\n",
              " 'had': 61,\n",
              " 'can': 62,\n",
              " 'see': 63,\n",
              " 'some': 64,\n",
              " \"can't\": 65,\n",
              " 'its': 66,\n",
              " 'if': 67,\n",
              " 'still': 68,\n",
              " 'well': 69,\n",
              " 'night': 70,\n",
              " 'want': 71,\n",
              " 'new': 72,\n",
              " 'think': 73,\n",
              " 'how': 74,\n",
              " 'home': 75,\n",
              " 'thanks': 76,\n",
              " 'oh': 77,\n",
              " 'when': 78,\n",
              " 'as': 79,\n",
              " 'there': 80,\n",
              " 'more': 81,\n",
              " 'off': 82,\n",
              " 'much': 83,\n",
              " 'here': 84,\n",
              " 'miss': 85,\n",
              " 'they': 86,\n",
              " 'need': 87,\n",
              " 'last': 88,\n",
              " 'an': 89,\n",
              " 'then': 90,\n",
              " 'morning': 91,\n",
              " 'hope': 92,\n",
              " 'tomorrow': 93,\n",
              " 'been': 94,\n",
              " 'great': 95,\n",
              " 'has': 96,\n",
              " 'twitter': 97,\n",
              " 'or': 98,\n",
              " 'haha': 99,\n",
              " 'her': 100,\n",
              " 'again': 101,\n",
              " 'feel': 102,\n",
              " 'sad': 103,\n",
              " 'he': 104,\n",
              " 'fun': 105,\n",
              " 'why': 106,\n",
              " 'wish': 107,\n",
              " 'only': 108,\n",
              " 'sleep': 109,\n",
              " 'right': 110,\n",
              " 'bad': 111,\n",
              " 'happy': 112,\n",
              " 'very': 113,\n",
              " 'would': 114,\n",
              " 'sorry': 115,\n",
              " 'tonight': 116,\n",
              " 'did': 117,\n",
              " \"i'll\": 118,\n",
              " 'by': 119,\n",
              " 'make': 120,\n",
              " 'them': 121,\n",
              " 'way': 122,\n",
              " 'getting': 123,\n",
              " 'i': 124,\n",
              " 'though': 125,\n",
              " 'gonna': 126,\n",
              " 'over': 127,\n",
              " 'nice': 128,\n",
              " 'better': 129,\n",
              " 'watching': 130,\n",
              " 'she': 131,\n",
              " 'yeah': 132,\n",
              " 'wait': 133,\n",
              " 'bed': 134,\n",
              " \"that's\": 135,\n",
              " 'should': 136,\n",
              " 'week': 137,\n",
              " 'could': 138,\n",
              " 'school': 139,\n",
              " \"didn't\": 140,\n",
              " 'people': 141,\n",
              " \"i've\": 142,\n",
              " 'hate': 143,\n",
              " 'him': 144,\n",
              " \"you're\": 145,\n",
              " 'days': 146,\n",
              " 'even': 147,\n",
              " 'hey': 148,\n",
              " 'after': 149,\n",
              " '3': 150,\n",
              " 'yes': 151,\n",
              " 'next': 152,\n",
              " 'down': 153,\n",
              " 'lt': 154,\n",
              " 'weekend': 155,\n",
              " 'awesome': 156,\n",
              " 'dont': 157,\n",
              " 'thank': 158,\n",
              " 'soon': 159,\n",
              " 'never': 160,\n",
              " 'were': 161,\n",
              " 'cant': 162,\n",
              " 'long': 163,\n",
              " 'take': 164,\n",
              " 'little': 165,\n",
              " 'working': 166,\n",
              " 'first': 167,\n",
              " 'who': 168,\n",
              " 'say': 169,\n",
              " 'best': 170,\n",
              " 'tired': 171,\n",
              " 'show': 172,\n",
              " 'wanna': 173,\n",
              " 'ok': 174,\n",
              " 'doing': 175,\n",
              " 'sick': 176,\n",
              " 'having': 177,\n",
              " 'please': 178,\n",
              " 'being': 179,\n",
              " 'life': 180,\n",
              " 'everyone': 181,\n",
              " 'watch': 182,\n",
              " 'his': 183,\n",
              " 'done': 184,\n",
              " 'any': 185,\n",
              " 'our': 186,\n",
              " 'feeling': 187,\n",
              " 'sure': 188,\n",
              " 'always': 189,\n",
              " 'thing': 190,\n",
              " 'already': 191,\n",
              " 'another': 192,\n",
              " 'cool': 193,\n",
              " 'than': 194,\n",
              " 'friends': 195,\n",
              " 'us': 196,\n",
              " 'something': 197,\n",
              " 'find': 198,\n",
              " 'ready': 199,\n",
              " 'guys': 200,\n",
              " 'man': 201,\n",
              " 'made': 202,\n",
              " 'where': 203,\n",
              " 'yay': 204,\n",
              " 'because': 205,\n",
              " 'looking': 206,\n",
              " 'yet': 207,\n",
              " 'phone': 208,\n",
              " 'went': 209,\n",
              " 'look': 210,\n",
              " 'hours': 211,\n",
              " 'house': 212,\n",
              " 'before': 213,\n",
              " 'ur': 214,\n",
              " 'movie': 215,\n",
              " 'pretty': 216,\n",
              " 'ever': 217,\n",
              " 'maybe': 218,\n",
              " 'trying': 219,\n",
              " 'away': 220,\n",
              " 'omg': 221,\n",
              " 'tweet': 222,\n",
              " 'summer': 223,\n",
              " 'old': 224,\n",
              " 'finally': 225,\n",
              " 'early': 226,\n",
              " 'amazing': 227,\n",
              " 'help': 228,\n",
              " 'let': 229,\n",
              " 'damn': 230,\n",
              " 'follow': 231,\n",
              " 'guess': 232,\n",
              " 'things': 233,\n",
              " 'left': 234,\n",
              " 'lost': 235,\n",
              " 'into': 236,\n",
              " 'keep': 237,\n",
              " 'thought': 238,\n",
              " 'big': 239,\n",
              " 'wow': 240,\n",
              " 'bit': 241,\n",
              " 'someone': 242,\n",
              " 'year': 243,\n",
              " 'missed': 244,\n",
              " 'hot': 245,\n",
              " 'same': 246,\n",
              " 'sucks': 247,\n",
              " 'while': 248,\n",
              " 'nothing': 249,\n",
              " 'rain': 250,\n",
              " 'friend': 251,\n",
              " 'bored': 252,\n",
              " 'glad': 253,\n",
              " 'start': 254,\n",
              " 'try': 255,\n",
              " 'looks': 256,\n",
              " 'also': 257,\n",
              " 'tell': 258,\n",
              " 'other': 259,\n",
              " 'birthday': 260,\n",
              " 'girl': 261,\n",
              " 'live': 262,\n",
              " \"won't\": 263,\n",
              " 'two': 264,\n",
              " 'later': 265,\n",
              " 'does': 266,\n",
              " \"doesn't\": 267,\n",
              " 'ing': 268,\n",
              " 'baby': 269,\n",
              " 'weather': 270,\n",
              " 'ugh': 271,\n",
              " 'hear': 272,\n",
              " 'song': 273,\n",
              " 'actually': 274,\n",
              " 'ya': 275,\n",
              " 'sun': 276,\n",
              " 'those': 277,\n",
              " 'saw': 278,\n",
              " 'stuff': 279,\n",
              " 'party': 280,\n",
              " 'makes': 281,\n",
              " 'excited': 282,\n",
              " 'waiting': 283,\n",
              " 'hard': 284,\n",
              " 'might': 285,\n",
              " 'play': 286,\n",
              " 'game': 287,\n",
              " 'said': 288,\n",
              " 'thats': 289,\n",
              " 'since': 290,\n",
              " 'until': 291,\n",
              " 'yesterday': 292,\n",
              " 'god': 293,\n",
              " 'hi': 294,\n",
              " 'gotta': 295,\n",
              " 'few': 296,\n",
              " 'late': 297,\n",
              " 'such': 298,\n",
              " 'world': 299,\n",
              " 'lot': 300,\n",
              " 'myself': 301,\n",
              " 'around': 302,\n",
              " 'car': 303,\n",
              " 'many': 304,\n",
              " 'music': 305,\n",
              " 'sounds': 306,\n",
              " 'check': 307,\n",
              " 'found': 308,\n",
              " 'luck': 309,\n",
              " 'head': 310,\n",
              " 'friday': 311,\n",
              " 'job': 312,\n",
              " 'w': 313,\n",
              " 'cold': 314,\n",
              " 'call': 315,\n",
              " 'give': 316,\n",
              " 'beautiful': 317,\n",
              " 'read': 318,\n",
              " 'must': 319,\n",
              " 'their': 320,\n",
              " 'aww': 321,\n",
              " 'making': 322,\n",
              " 'sunday': 323,\n",
              " \"he's\": 324,\n",
              " \"haven't\": 325,\n",
              " 'gone': 326,\n",
              " 'talk': 327,\n",
              " 'missing': 328,\n",
              " 'may': 329,\n",
              " 'put': 330,\n",
              " 'poor': 331,\n",
              " 'anything': 332,\n",
              " 'mom': 333,\n",
              " 'monday': 334,\n",
              " 'stop': 335,\n",
              " 'least': 336,\n",
              " 'woke': 337,\n",
              " 'okay': 338,\n",
              " 'leave': 339,\n",
              " 'most': 340,\n",
              " 'use': 341,\n",
              " 'almost': 342,\n",
              " 'cute': 343,\n",
              " 'times': 344,\n",
              " 'till': 345,\n",
              " 'lunch': 346,\n",
              " 'free': 347,\n",
              " 'hair': 348,\n",
              " 'tho': 349,\n",
              " 'listening': 350,\n",
              " 'far': 351,\n",
              " \"i'd\": 352,\n",
              " 'hurts': 353,\n",
              " 'end': 354,\n",
              " 'eat': 355,\n",
              " 'family': 356,\n",
              " 'mean': 357,\n",
              " 'wanted': 358,\n",
              " \"isn't\": 359,\n",
              " 'funny': 360,\n",
              " 'food': 361,\n",
              " 'dinner': 362,\n",
              " '10': 363,\n",
              " 'hour': 364,\n",
              " 'enjoy': 365,\n",
              " 'finished': 366,\n",
              " 'gt': 367,\n",
              " 'shit': 368,\n",
              " 'playing': 369,\n",
              " 'believe': 370,\n",
              " 'followers': 371,\n",
              " 'thinking': 372,\n",
              " 'anyone': 373,\n",
              " 'iphone': 374,\n",
              " 'forward': 375,\n",
              " 'everything': 376,\n",
              " 'sweet': 377,\n",
              " 'without': 378,\n",
              " 'which': 379,\n",
              " 'video': 380,\n",
              " '2': 381,\n",
              " 'hahaha': 382,\n",
              " 'outside': 383,\n",
              " 'totally': 384,\n",
              " 'these': 385,\n",
              " 'enough': 386,\n",
              " 'coffee': 387,\n",
              " 'stupid': 388,\n",
              " 'buy': 389,\n",
              " 'mine': 390,\n",
              " 'real': 391,\n",
              " 'wrong': 392,\n",
              " 'anymore': 393,\n",
              " 'ill': 394,\n",
              " 'through': 395,\n",
              " 'every': 396,\n",
              " \"we're\": 397,\n",
              " 'probably': 398,\n",
              " 'didnt': 399,\n",
              " 'room': 400,\n",
              " 'e': 401,\n",
              " 'place': 402,\n",
              " 'ha': 403,\n",
              " 'weeks': 404,\n",
              " 'once': 405,\n",
              " 'eating': 406,\n",
              " 'u': 407,\n",
              " 'tweets': 408,\n",
              " 'cause': 409,\n",
              " 'stay': 410,\n",
              " 'busy': 411,\n",
              " 'money': 412,\n",
              " 'tv': 413,\n",
              " 'win': 414,\n",
              " 'sooo': 415,\n",
              " 'wants': 416,\n",
              " 'following': 417,\n",
              " 'xx': 418,\n",
              " 'p': 419,\n",
              " \"she's\": 420,\n",
              " 'lovely': 421,\n",
              " '1': 422,\n",
              " 'saturday': 423,\n",
              " 'class': 424,\n",
              " 'came': 425,\n",
              " 'seen': 426,\n",
              " 'whole': 427,\n",
              " 'pic': 428,\n",
              " 'taking': 429,\n",
              " 'kinda': 430,\n",
              " \"there's\": 431,\n",
              " 'says': 432,\n",
              " 'kids': 433,\n",
              " 'beach': 434,\n",
              " 'hopefully': 435,\n",
              " 'exam': 436,\n",
              " 'super': 437,\n",
              " 'crazy': 438,\n",
              " 'both': 439,\n",
              " 'took': 440,\n",
              " 'headache': 441,\n",
              " 'half': 442,\n",
              " 'name': 443,\n",
              " 'hello': 444,\n",
              " 'idea': 445,\n",
              " 'awww': 446,\n",
              " 'post': 447,\n",
              " 'true': 448,\n",
              " 'a': 449,\n",
              " 'news': 450,\n",
              " 'dad': 451,\n",
              " 'years': 452,\n",
              " \"what's\": 453,\n",
              " 'face': 454,\n",
              " 'book': 455,\n",
              " 'goodnight': 456,\n",
              " 'hell': 457,\n",
              " 'guy': 458,\n",
              " 'able': 459,\n",
              " 'forgot': 460,\n",
              " 'ago': 461,\n",
              " 'meet': 462,\n",
              " 'come': 463,\n",
              " 'lots': 464,\n",
              " 'either': 465,\n",
              " 'reading': 466,\n",
              " \"wasn't\": 467,\n",
              " 'rest': 468,\n",
              " 'leaving': 469,\n",
              " 'run': 470,\n",
              " 'full': 471,\n",
              " 'sitting': 472,\n",
              " 'shopping': 473,\n",
              " 'send': 474,\n",
              " 'used': 475,\n",
              " 'else': 476,\n",
              " 'ah': 477,\n",
              " 'girls': 478,\n",
              " 'soo': 479,\n",
              " 'hurt': 480,\n",
              " 'feels': 481,\n",
              " 'boo': 482,\n",
              " 'seems': 483,\n",
              " \"they're\": 484,\n",
              " 'alone': 485,\n",
              " 'raining': 486,\n",
              " 'remember': 487,\n",
              " 'cuz': 488,\n",
              " 'talking': 489,\n",
              " 'fuck': 490,\n",
              " 'blog': 491,\n",
              " 'hehe': 492,\n",
              " 'btw': 493,\n",
              " 'hit': 494,\n",
              " 'tried': 495,\n",
              " 'watched': 496,\n",
              " 'office': 497,\n",
              " \"couldn't\": 498,\n",
              " 'stuck': 499,\n",
              " 'own': 500,\n",
              " 'heard': 501,\n",
              " 'heart': 502,\n",
              " 'trip': 503,\n",
              " 'needs': 504,\n",
              " 'dog': 505,\n",
              " 'mind': 506,\n",
              " 'www': 507,\n",
              " 'started': 508,\n",
              " 'course': 509,\n",
              " 'internet': 510,\n",
              " 'kind': 511,\n",
              " 'part': 512,\n",
              " 'puter': 513,\n",
              " 'seeing': 514,\n",
              " 'wont': 515,\n",
              " 'online': 516,\n",
              " 'boy': 517,\n",
              " 'using': 518,\n",
              " 'quite': 519,\n",
              " 'picture': 520,\n",
              " 'awake': 521,\n",
              " 'break': 522,\n",
              " 'add': 523,\n",
              " 'pain': 524,\n",
              " 'fine': 525,\n",
              " 't': 526,\n",
              " 'cry': 527,\n",
              " 'breakfast': 528,\n",
              " 'loved': 529,\n",
              " 'pics': 530,\n",
              " 'told': 531,\n",
              " 'goes': 532,\n",
              " 'boring': 533,\n",
              " 'change': 534,\n",
              " '5': 535,\n",
              " 'seriously': 536,\n",
              " 'wake': 537,\n",
              " 'sunny': 538,\n",
              " 'person': 539,\n",
              " 'facebook': 540,\n",
              " 'lmao': 541,\n",
              " 'bought': 542,\n",
              " 'broke': 543,\n",
              " 'update': 544,\n",
              " 'care': 545,\n",
              " 'minutes': 546,\n",
              " 'ass': 547,\n",
              " 'gets': 548,\n",
              " 'open': 549,\n",
              " 'concert': 550,\n",
              " 'lucky': 551,\n",
              " 'called': 552,\n",
              " 'dude': 553,\n",
              " 'starting': 554,\n",
              " 'june': 555,\n",
              " 'season': 556,\n",
              " 'asleep': 557,\n",
              " 'hungry': 558,\n",
              " 'anyway': 559,\n",
              " 'pay': 560,\n",
              " 'aw': 561,\n",
              " 'la': 562,\n",
              " 'crap': 563,\n",
              " 'link': 564,\n",
              " 'bring': 565,\n",
              " 'afternoon': 566,\n",
              " 'site': 567,\n",
              " 'month': 568,\n",
              " 's': 569,\n",
              " 'drive': 570,\n",
              " 'shower': 571,\n",
              " 'reply': 572,\n",
              " 'walk': 573,\n",
              " 'sleeping': 574,\n",
              " 'favorite': 575,\n",
              " 'heading': 576,\n",
              " 'til': 577,\n",
              " 'instead': 578,\n",
              " \"you'll\": 579,\n",
              " 'study': 580,\n",
              " 'fan': 581,\n",
              " 'o': 582,\n",
              " '100': 583,\n",
              " 'ice': 584,\n",
              " 'jealous': 585,\n",
              " 'red': 586,\n",
              " 'bye': 587,\n",
              " 'train': 588,\n",
              " 'text': 589,\n",
              " 'yea': 590,\n",
              " 'enjoying': 591,\n",
              " 'exams': 592,\n",
              " 'mad': 593,\n",
              " 'hoping': 594,\n",
              " 'rock': 595,\n",
              " 'wonderful': 596,\n",
              " 'high': 597,\n",
              " 'move': 598,\n",
              " 'es': 599,\n",
              " 'sore': 600,\n",
              " 'b': 601,\n",
              " 'soooo': 602,\n",
              " 'together': 603,\n",
              " 'definitely': 604,\n",
              " 'problem': 605,\n",
              " 'running': 606,\n",
              " 'homework': 607,\n",
              " 'sometimes': 608,\n",
              " 'congrats': 609,\n",
              " 'sister': 610,\n",
              " 'city': 611,\n",
              " 'dead': 612,\n",
              " 'finish': 613,\n",
              " 'died': 614,\n",
              " 'ask': 615,\n",
              " 'means': 616,\n",
              " 'fucking': 617,\n",
              " 'happened': 618,\n",
              " 'write': 619,\n",
              " 'works': 620,\n",
              " 'bout': 621,\n",
              " 'email': 622,\n",
              " 'dear': 623,\n",
              " 'won': 624,\n",
              " 'movies': 625,\n",
              " 'sigh': 626,\n",
              " 'drink': 627,\n",
              " 'town': 628,\n",
              " 'suck': 629,\n",
              " 'couple': 630,\n",
              " \"we'll\": 631,\n",
              " 'cut': 632,\n",
              " 'top': 633,\n",
              " 'laptop': 634,\n",
              " '20': 635,\n",
              " 'boys': 636,\n",
              " 'brother': 637,\n",
              " 'church': 638,\n",
              " 'album': 639,\n",
              " 'set': 640,\n",
              " 'eyes': 641,\n",
              " 'nite': 642,\n",
              " 'evening': 643,\n",
              " 'youtube': 644,\n",
              " 'tour': 645,\n",
              " '12': 646,\n",
              " 'goin': 647,\n",
              " 'ppl': 648,\n",
              " 'months': 649,\n",
              " 'less': 650,\n",
              " 'tea': 651,\n",
              " 'loves': 652,\n",
              " 'reason': 653,\n",
              " 'water': 654,\n",
              " 'perfect': 655,\n",
              " 'happen': 656,\n",
              " 'ipod': 657,\n",
              " 'weird': 658,\n",
              " 'nap': 659,\n",
              " 'ive': 660,\n",
              " 'final': 661,\n",
              " 'cream': 662,\n",
              " 'studying': 663,\n",
              " 'side': 664,\n",
              " 'gym': 665,\n",
              " 'sound': 666,\n",
              " 'visit': 667,\n",
              " 'meeting': 668,\n",
              " '30': 669,\n",
              " 'songs': 670,\n",
              " 're': 671,\n",
              " 'fail': 672,\n",
              " '0': 673,\n",
              " 'dream': 674,\n",
              " 'listen': 675,\n",
              " 'close': 676,\n",
              " 'ones': 677,\n",
              " 'test': 678,\n",
              " 'fall': 679,\n",
              " 'dance': 680,\n",
              " 'loving': 681,\n",
              " 'seem': 682,\n",
              " 'english': 683,\n",
              " 'tickets': 684,\n",
              " 'interesting': 685,\n",
              " 'm': 686,\n",
              " 'hang': 687,\n",
              " 'catch': 688,\n",
              " \"let's\": 689,\n",
              " 'store': 690,\n",
              " 'mood': 691,\n",
              " 'ate': 692,\n",
              " 'cat': 693,\n",
              " 'clean': 694,\n",
              " 'agree': 695,\n",
              " 'list': 696,\n",
              " 'moment': 697,\n",
              " 'story': 698,\n",
              " 'knew': 699,\n",
              " '4': 700,\n",
              " 'ahh': 701,\n",
              " 'second': 702,\n",
              " 'writing': 703,\n",
              " 'turn': 704,\n",
              " 'fast': 705,\n",
              " 'pool': 706,\n",
              " 'worst': 707,\n",
              " 'awards': 708,\n",
              " 'broken': 709,\n",
              " 'lil': 710,\n",
              " 'ride': 711,\n",
              " 'chocolate': 712,\n",
              " 'wishing': 713,\n",
              " 'smile': 714,\n",
              " 'air': 715,\n",
              " 'word': 716,\n",
              " 'saying': 717,\n",
              " 'hmm': 718,\n",
              " 'page': 719,\n",
              " 'unfortunately': 720,\n",
              " 'london': 721,\n",
              " 'yep': 722,\n",
              " 'worth': 723,\n",
              " 'supposed': 724,\n",
              " 'moving': 725,\n",
              " 'three': 726,\n",
              " 'driving': 727,\n",
              " 'via': 728,\n",
              " 'past': 729,\n",
              " 'short': 730,\n",
              " '1st': 731,\n",
              " 'black': 732,\n",
              " 'throat': 733,\n",
              " 'sleepy': 734,\n",
              " 'cleaning': 735,\n",
              " 'xxx': 736,\n",
              " 'wedding': 737,\n",
              " 'forget': 738,\n",
              " 'pictures': 739,\n",
              " 'park': 740,\n",
              " 'sunshine': 741,\n",
              " 'sent': 742,\n",
              " '11': 743,\n",
              " 'da': 744,\n",
              " 'photo': 745,\n",
              " 'gave': 746,\n",
              " 'horrible': 747,\n",
              " 'understand': 748,\n",
              " 'dreams': 749,\n",
              " 'tweeting': 750,\n",
              " 'star': 751,\n",
              " 'drinking': 752,\n",
              " 'college': 753,\n",
              " 'pick': 754,\n",
              " 'account': 755,\n",
              " 'plan': 756,\n",
              " 'wonder': 757,\n",
              " 'chance': 758,\n",
              " 'c': 759,\n",
              " 'whats': 760,\n",
              " 'jonas': 761,\n",
              " 'hugs': 762,\n",
              " 'sat': 763,\n",
              " 'worse': 764,\n",
              " 'slow': 765,\n",
              " 'team': 766,\n",
              " 'date': 767,\n",
              " '15': 768,\n",
              " 'under': 769,\n",
              " \"wouldn't\": 770,\n",
              " 'easy': 771,\n",
              " 'green': 772,\n",
              " 'rather': 773,\n",
              " 'apparently': 774,\n",
              " 'longer': 775,\n",
              " 'fell': 776,\n",
              " 'scared': 777,\n",
              " 'upset': 778,\n",
              " 'lady': 779,\n",
              " 'doesnt': 780,\n",
              " 'vote': 781,\n",
              " 'bet': 782,\n",
              " 'point': 783,\n",
              " 'flight': 784,\n",
              " 'hand': 785,\n",
              " 'special': 786,\n",
              " 'moon': 787,\n",
              " 'mac': 788,\n",
              " 'bday': 789,\n",
              " 'cannot': 790,\n",
              " 'flu': 791,\n",
              " 'nope': 792,\n",
              " 'mr': 793,\n",
              " 'spent': 794,\n",
              " 'holiday': 795,\n",
              " 'wtf': 796,\n",
              " 'due': 797,\n",
              " 'uk': 798,\n",
              " \"aren't\": 799,\n",
              " 'updates': 800,\n",
              " 'tuesday': 801,\n",
              " 'mum': 802,\n",
              " 'plus': 803,\n",
              " 'huge': 804,\n",
              " 'plans': 805,\n",
              " 'band': 806,\n",
              " 'thx': 807,\n",
              " 'mtv': 808,\n",
              " 'earlier': 809,\n",
              " 'hanging': 810,\n",
              " 'fair': 811,\n",
              " 'spend': 812,\n",
              " 'ahhh': 813,\n",
              " 'wondering': 814,\n",
              " 'miley': 815,\n",
              " 'words': 816,\n",
              " 'shame': 817,\n",
              " \"you've\": 818,\n",
              " 'forever': 819,\n",
              " 'parents': 820,\n",
              " 'body': 821,\n",
              " 'lazy': 822,\n",
              " 'join': 823,\n",
              " 'idk': 824,\n",
              " 'worry': 825,\n",
              " 'vacation': 826,\n",
              " 'website': 827,\n",
              " 'message': 828,\n",
              " 'bus': 829,\n",
              " 'white': 830,\n",
              " 'especially': 831,\n",
              " 'slept': 832,\n",
              " 'line': 833,\n",
              " 'during': 834,\n",
              " 'shows': 835,\n",
              " 'answer': 836,\n",
              " 'wear': 837,\n",
              " 'lets': 838,\n",
              " 'beer': 839,\n",
              " 'sadly': 840,\n",
              " 'stomach': 841,\n",
              " 'july': 842,\n",
              " 'thursday': 843,\n",
              " 'thinks': 844,\n",
              " 'warm': 845,\n",
              " 'voice': 846,\n",
              " 'cake': 847,\n",
              " 'die': 848,\n",
              " 'learn': 849,\n",
              " 'fans': 850,\n",
              " 'looked': 851,\n",
              " 'xd': 852,\n",
              " 'support': 853,\n",
              " 'myspace': 854,\n",
              " 'figure': 855,\n",
              " 'chat': 856,\n",
              " 'different': 857,\n",
              " 'havent': 858,\n",
              " 'inside': 859,\n",
              " 'yummy': 860,\n",
              " 'meant': 861,\n",
              " '6': 862,\n",
              " 'number': 863,\n",
              " 'met': 864,\n",
              " 'airport': 865,\n",
              " 'david': 866,\n",
              " 'safe': 867,\n",
              " 'rainy': 868,\n",
              " 'fix': 869,\n",
              " 'crying': 870,\n",
              " 'liked': 871,\n",
              " 'tom': 872,\n",
              " 'episode': 873,\n",
              " 'google': 874,\n",
              " 'dress': 875,\n",
              " 'pizza': 876,\n",
              " 'd': 877,\n",
              " 'luv': 878,\n",
              " 'sims': 879,\n",
              " 'eye': 880,\n",
              " 'except': 881,\n",
              " 'officially': 882,\n",
              " 'camera': 883,\n",
              " 'paper': 884,\n",
              " 'bbq': 885,\n",
              " 'small': 886,\n",
              " 'shop': 887,\n",
              " 'photos': 888,\n",
              " '2day': 889,\n",
              " 'graduation': 890,\n",
              " 'shirt': 891,\n",
              " 'boyfriend': 892,\n",
              " 'absolutely': 893,\n",
              " 'finals': 894,\n",
              " 'tummy': 895,\n",
              " 'radio': 896,\n",
              " 'power': 897,\n",
              " 'laugh': 898,\n",
              " 'games': 899,\n",
              " 'shoes': 900,\n",
              " 'worked': 901,\n",
              " 'garden': 902,\n",
              " '8': 903,\n",
              " 'project': 904,\n",
              " 'blue': 905,\n",
              " 'felt': 906,\n",
              " 'proud': 907,\n",
              " 'save': 908,\n",
              " '7': 909,\n",
              " 'decided': 910,\n",
              " 'shall': 911,\n",
              " 'alright': 912,\n",
              " 'yourself': 913,\n",
              " 'each': 914,\n",
              " 'beat': 915,\n",
              " 'needed': 916,\n",
              " \"it'll\": 917,\n",
              " 'road': 918,\n",
              " 'bike': 919,\n",
              " 'chicken': 920,\n",
              " 'lonely': 921,\n",
              " 'kill': 922,\n",
              " 'yup': 923,\n",
              " 'hug': 924,\n",
              " 'hospital': 925,\n",
              " 'gorgeous': 926,\n",
              " 'played': 927,\n",
              " 'books': 928,\n",
              " 'twilight': 929,\n",
              " 'kid': 930,\n",
              " 'exciting': 931,\n",
              " 'woo': 932,\n",
              " 'brothers': 933,\n",
              " 'case': 934,\n",
              " 'sign': 935,\n",
              " 'exactly': 936,\n",
              " 'wit': 937,\n",
              " 'hmmm': 938,\n",
              " 'starts': 939,\n",
              " 'annoying': 940,\n",
              " 'wine': 941,\n",
              " 'son': 942,\n",
              " 'apple': 943,\n",
              " 'lame': 944,\n",
              " 'card': 945,\n",
              " 'wishes': 946,\n",
              " 'front': 947,\n",
              " 'babe': 948,\n",
              " 'feet': 949,\n",
              " 'ouch': 950,\n",
              " 'taken': 951,\n",
              " 'living': 952,\n",
              " 'keeps': 953,\n",
              " 'packing': 954,\n",
              " 'wednesday': 955,\n",
              " 'xoxo': 956,\n",
              " 'french': 957,\n",
              " 'hubby': 958,\n",
              " 'club': 959,\n",
              " 'scary': 960,\n",
              " 'hates': 961,\n",
              " 'dm': 962,\n",
              " 'near': 963,\n",
              " 'fact': 964,\n",
              " 'cd': 965,\n",
              " 'turned': 966,\n",
              " 'happens': 967,\n",
              " 'goodbye': 968,\n",
              " 'pass': 969,\n",
              " 'question': 970,\n",
              " 'order': 971,\n",
              " 'share': 972,\n",
              " 'knows': 973,\n",
              " '2nd': 974,\n",
              " 'business': 975,\n",
              " 'service': 976,\n",
              " 'realized': 977,\n",
              " 'behind': 978,\n",
              " 'jus': 979,\n",
              " 'cos': 980,\n",
              " 'sold': 981,\n",
              " 'cup': 982,\n",
              " 'isnt': 983,\n",
              " 'drunk': 984,\n",
              " 'waking': 985,\n",
              " 'download': 986,\n",
              " 'although': 987,\n",
              " 'mothers': 988,\n",
              " 'clothes': 989,\n",
              " 'yo': 990,\n",
              " 'minute': 991,\n",
              " 'relaxing': 992,\n",
              " 'walking': 993,\n",
              " \"mother's\": 994,\n",
              " 'lose': 995,\n",
              " '50': 996,\n",
              " 'whatever': 997,\n",
              " 'giving': 998,\n",
              " 'bro': 999,\n",
              " 'yours': 1000,\n",
              " ...}"
            ]
          },
          "metadata": {
            "tags": []
          },
          "execution_count": 40
        }
      ]
    },
    {
      "cell_type": "code",
      "metadata": {
        "id": "yM2PYpiBWiGr",
        "colab_type": "code",
        "colab": {}
      },
      "source": [
        "seq = tokenizer.texts_to_sequences(texts=X)"
      ],
      "execution_count": 41,
      "outputs": []
    },
    {
      "cell_type": "code",
      "metadata": {
        "id": "nD8hTyHqW46Q",
        "colab_type": "code",
        "colab": {
          "base_uri": "https://localhost:8080/",
          "height": 34
        },
        "outputId": "0f652df9-2877-42b7-9707-dbda1105b9a9"
      },
      "source": [
        "mx = -1\n",
        "for i in seq:\n",
        "    mx = max(mx, len(i))\n",
        "print('Max. length of sequence:', mx)"
      ],
      "execution_count": 42,
      "outputs": [
        {
          "output_type": "stream",
          "text": [
            "Max. length of sequence: 50\n"
          ],
          "name": "stdout"
        }
      ]
    },
    {
      "cell_type": "markdown",
      "metadata": {
        "id": "TG-BqrFYYU3X",
        "colab_type": "text"
      },
      "source": [
        "## Padding"
      ]
    },
    {
      "cell_type": "code",
      "metadata": {
        "id": "kJG0-5JLXv2q",
        "colab_type": "code",
        "colab": {}
      },
      "source": [
        "MAX_LENGTH = 50\n",
        "PADDING_TYPE = 'post'\n",
        "TRUNCATING_TYPE = 'post'"
      ],
      "execution_count": 43,
      "outputs": []
    },
    {
      "cell_type": "code",
      "metadata": {
        "id": "fEhLagFzXQLg",
        "colab_type": "code",
        "colab": {
          "base_uri": "https://localhost:8080/",
          "height": 136
        },
        "outputId": "4dc7477e-2344-4d57-99db-9623f9257aa1"
      },
      "source": [
        "padded_seq = tf.keras.preprocessing.sequence.pad_sequences(\n",
        "    sequences=seq,\n",
        "    maxlen=MAX_LENGTH,\n",
        "    padding=PADDING_TYPE,\n",
        "    truncating=TRUNCATING_TYPE\n",
        ")\n",
        "\n",
        "padded_seq"
      ],
      "execution_count": 44,
      "outputs": [
        {
          "output_type": "execute_result",
          "data": {
            "text/plain": [
              "array([[ 446,  135, 1184, ...,    0,    0,    0],\n",
              "       [   6,  778,   15, ...,    0,    0,    0],\n",
              "       [ 304,  344,    9, ...,    0,    0,    0],\n",
              "       ...,\n",
              "       [  33,    5,  199, ...,    0,    0,    0],\n",
              "       [ 112,  260,    1, ...,    0,    0,    0],\n",
              "       [ 112,    0,    0, ...,    0,    0,    0]], dtype=int32)"
            ]
          },
          "metadata": {
            "tags": []
          },
          "execution_count": 44
        }
      ]
    },
    {
      "cell_type": "code",
      "metadata": {
        "id": "Gfj1ZIcJhFtT",
        "colab_type": "code",
        "colab": {
          "base_uri": "https://localhost:8080/",
          "height": 34
        },
        "outputId": "68a2a354-e0db-4ea9-a8b0-dab17a862551"
      },
      "source": [
        "padded_seq.shape"
      ],
      "execution_count": 45,
      "outputs": [
        {
          "output_type": "execute_result",
          "data": {
            "text/plain": [
              "(1600000, 50)"
            ]
          },
          "metadata": {
            "tags": []
          },
          "execution_count": 45
        }
      ]
    },
    {
      "cell_type": "markdown",
      "metadata": {
        "id": "BNhyp-CTYYc3",
        "colab_type": "text"
      },
      "source": [
        "## Creating Model"
      ]
    },
    {
      "cell_type": "code",
      "metadata": {
        "id": "fbTGFB-SYBhB",
        "colab_type": "code",
        "colab": {}
      },
      "source": [
        "class DCNN():\n",
        "\n",
        "    def __init__(self, vocab_size, input_len, batch_size, emb_dim=128, nb_filters=50, ffn_units=512, nb_classes=2, dropout_rate=0.2):\n",
        "        self.vocab_size = vocab_size\n",
        "        self.input_len = input_len\n",
        "        self.emb_dim = emb_dim\n",
        "        self.nb_filters = nb_filters\n",
        "        self.ffn_units = ffn_units\n",
        "        self.nb_classes = nb_classes\n",
        "        self.dropout_rate = dropout_rate\n",
        "\n",
        "    \n",
        "    def build(self):\n",
        "        input_x = tf.keras.Input(shape=self.input_len, name='Inputs')\n",
        "\n",
        "        # Input: (batch_size, input_len) => Output: (batch_size, input_len, output_dim)\n",
        "        x = tf.keras.layers.Embedding(input_dim=self.vocab_size, output_dim=self.emb_dim, input_length=self.input_len, name='Embeddings')(input_x)\n",
        "\n",
        "        # Input: (batch_size, steps, input_dim) => Output: (batch_size, new_steps, filters)\n",
        "        x1 = tf.keras.layers.Conv1D(filters=self.nb_filters, kernel_size=2, strides=1, padding='valid', activation='relu', name='Bigram')(x)\n",
        "        # Input: (batch_size, steps, features) => Output: (batch_size, features)\n",
        "        x1 = tf.keras.layers.GlobalMaxPool1D(data_format='channels_last', name='Bipool')(x1)\n",
        "\n",
        "        # Input: (batch_size, steps, input_dim) => Output: (batch_size, new_steps, filters)\n",
        "        x2 = tf.keras.layers.Conv1D(filters=self.nb_filters, kernel_size=3, strides=1, padding='valid', activation='relu', name='Trigram')(x)\n",
        "        # Input: (batch_size, steps, features) => Output: (batch_size, features)\n",
        "        x2 = tf.keras.layers.GlobalMaxPool1D(data_format='channels_last', name='Tripool')(x2)\n",
        "\n",
        "        # Input: (batch_size, steps, input_dim) => Output: (batch_size, new_steps, filters)\n",
        "        x3 = tf.keras.layers.Conv1D(filters=self.nb_filters, kernel_size=4, strides=1, padding='valid', activation='relu', name='Quadgram')(x)\n",
        "        # Input: (batch_size, steps, features) => Output: (batch_size, features)\n",
        "        x3 = tf.keras.layers.GlobalMaxPool1D(data_format='channels_last', name='Quadpool')(x3)\n",
        "\n",
        "        # Output: (batch_size, 3*nb_filters)\n",
        "        x = tf.concat(values=[x1, x2, x3], axis=-1, name='Merge')\n",
        "\n",
        "        # Input: (batch_size, input_dim) => Output: (batch_size, units)\n",
        "        x = tf.keras.layers.Dense(units=self.ffn_units, activation='relu', name='Dense')(x)\n",
        "        x = tf.keras.layers.Dropout(rate=self.dropout_rate, name='DropOut')(x)\n",
        "\n",
        "        if self.nb_classes == 1 or self.nb_classes == 2:\n",
        "            output_dense = tf.keras.layers.Dense(units=1, activation='sigmoid', name='Output')(x)\n",
        "        else:\n",
        "            output_dense = tf.keras.layers.Dense(units=self.nb_classes, activation='softmax', name='Output')(x)\n",
        "\n",
        "        return tf.keras.Model(inputs=input_x, outputs=output_dense, name='DCNN')"
      ],
      "execution_count": 61,
      "outputs": []
    },
    {
      "cell_type": "markdown",
      "metadata": {
        "id": "LLWS4eKCjvVG",
        "colab_type": "text"
      },
      "source": [
        "## Initiating Model"
      ]
    },
    {
      "cell_type": "code",
      "metadata": {
        "id": "tMGGR73Tng5h",
        "colab_type": "code",
        "colab": {}
      },
      "source": [
        "NB_CLASSES = 2\n",
        "BATCH_SIZE = 128\n",
        "EPOCHS = 10"
      ],
      "execution_count": 62,
      "outputs": []
    },
    {
      "cell_type": "code",
      "metadata": {
        "id": "n_JejiQzepIl",
        "colab_type": "code",
        "colab": {}
      },
      "source": [
        "dcnn = DCNN(vocab_size=VOCAB_SIZE, emb_dim=128, input_len=MAX_LENGTH, batch_size=BATCH_SIZE, nb_filters=50, ffn_units=512, \n",
        "            nb_classes=NB_CLASSES, dropout_rate=0.2)\n",
        "dcnn_model = dcnn.build()"
      ],
      "execution_count": 63,
      "outputs": []
    },
    {
      "cell_type": "code",
      "metadata": {
        "id": "ZOV9T4aI4VSO",
        "colab_type": "code",
        "colab": {
          "base_uri": "https://localhost:8080/",
          "height": 595
        },
        "outputId": "c40cf56e-563a-4d2c-d1ab-7de0817f3693"
      },
      "source": [
        "dcnn_model.summary(line_length=125)"
      ],
      "execution_count": 70,
      "outputs": [
        {
          "output_type": "stream",
          "text": [
            "Model: \"DCNN\"\n",
            "_____________________________________________________________________________________________________________________________\n",
            "Layer (type)                             Output Shape               Param #        Connected to                              \n",
            "=============================================================================================================================\n",
            "Inputs (InputLayer)                      [(None, 50)]               0                                                        \n",
            "_____________________________________________________________________________________________________________________________\n",
            "Embeddings (Embedding)                   (None, 50, 128)            640000         Inputs[0][0]                              \n",
            "_____________________________________________________________________________________________________________________________\n",
            "Bigram (Conv1D)                          (None, 49, 50)             12850          Embeddings[0][0]                          \n",
            "_____________________________________________________________________________________________________________________________\n",
            "Trigram (Conv1D)                         (None, 48, 50)             19250          Embeddings[0][0]                          \n",
            "_____________________________________________________________________________________________________________________________\n",
            "Quadgram (Conv1D)                        (None, 47, 50)             25650          Embeddings[0][0]                          \n",
            "_____________________________________________________________________________________________________________________________\n",
            "Bipool (GlobalMaxPooling1D)              (None, 50)                 0              Bigram[0][0]                              \n",
            "_____________________________________________________________________________________________________________________________\n",
            "Tripool (GlobalMaxPooling1D)             (None, 50)                 0              Trigram[0][0]                             \n",
            "_____________________________________________________________________________________________________________________________\n",
            "Quadpool (GlobalMaxPooling1D)            (None, 50)                 0              Quadgram[0][0]                            \n",
            "_____________________________________________________________________________________________________________________________\n",
            "tf_op_layer_Merge (TensorFlowOpLayer)    [(None, 150)]              0              Bipool[0][0]                              \n",
            "                                                                                   Tripool[0][0]                             \n",
            "                                                                                   Quadpool[0][0]                            \n",
            "_____________________________________________________________________________________________________________________________\n",
            "Dense (Dense)                            (None, 512)                77312          tf_op_layer_Merge[0][0]                   \n",
            "_____________________________________________________________________________________________________________________________\n",
            "DropOut (Dropout)                        (None, 512)                0              Dense[0][0]                               \n",
            "_____________________________________________________________________________________________________________________________\n",
            "Output (Dense)                           (None, 1)                  513            DropOut[0][0]                             \n",
            "=============================================================================================================================\n",
            "Total params: 775,575\n",
            "Trainable params: 775,575\n",
            "Non-trainable params: 0\n",
            "_____________________________________________________________________________________________________________________________\n"
          ],
          "name": "stdout"
        }
      ]
    },
    {
      "cell_type": "code",
      "metadata": {
        "id": "iuBdFnzIa174",
        "colab_type": "code",
        "colab": {
          "base_uri": "https://localhost:8080/",
          "height": 771
        },
        "outputId": "3b0a4148-cb33-45ed-c6a3-b9eea0f36acf"
      },
      "source": [
        "tf.keras.utils.plot_model(\n",
        "    model = dcnn_model,\n",
        "    to_file='model.png',\n",
        "    show_shapes=True,\n",
        "    show_layer_names=True,\n",
        "    rankdir='TB',\n",
        "    expand_nested=True,\n",
        "    dpi=96\n",
        ")"
      ],
      "execution_count": 66,
      "outputs": [
        {
          "output_type": "execute_result",
          "data": {
            "image/png": "[encoded data removed]",
            "text/plain": [
              "<IPython.core.display.Image object>"
            ]
          },
          "metadata": {
            "tags": []
          },
          "execution_count": 66
        }
      ]
    },
    {
      "cell_type": "markdown",
      "metadata": {
        "id": "Lk0u2oyOjzgr",
        "colab_type": "text"
      },
      "source": [
        "## Compiling Model"
      ]
    },
    {
      "cell_type": "code",
      "metadata": {
        "id": "CQdzETjFfPiG",
        "colab_type": "code",
        "colab": {}
      },
      "source": [
        "if NB_CLASSES == 2:\n",
        "    dcnn.compile(optimizer=tf.keras.optimizers.Adam(), loss=tf.keras.losses.binary_crossentropy, metrics=['acc'])\n",
        "else:\n",
        "    dcnn.compile(optimizer=tf.keras.optimizers.Adam(), loss=tf.keras.losses.sparse_categorical_crossentropy, metrics=['sparse_categorical_accuracy'])"
      ],
      "execution_count": null,
      "outputs": []
    },
    {
      "cell_type": "markdown",
      "metadata": {
        "id": "mIu-VNhpj2DD",
        "colab_type": "text"
      },
      "source": [
        "## Training Model"
      ]
    },
    {
      "cell_type": "code",
      "metadata": {
        "id": "W-67UMkdix4z",
        "colab_type": "code",
        "colab": {
          "base_uri": "https://localhost:8080/",
          "height": 357
        },
        "outputId": "01218d1a-197a-4eab-dbff-e2a11c893923"
      },
      "source": [
        "history = dcnn.fit(\n",
        "    x=padded_seq,\n",
        "    y=Y,\n",
        "    batch_size=BATCH_SIZE,\n",
        "    epochs=EPOCHS,\n",
        "    verbose=1,\n",
        "    validation_split=0.2,\n",
        "    shuffle=True\n",
        ")"
      ],
      "execution_count": null,
      "outputs": [
        {
          "output_type": "stream",
          "text": [
            "Epoch 1/10\n",
            "10000/10000 [==============================] - 97s 10ms/step - loss: 0.4080 - acc: 0.8136 - val_loss: 0.5992 - val_acc: 0.7048\n",
            "Epoch 2/10\n",
            "10000/10000 [==============================] - 96s 10ms/step - loss: 0.3780 - acc: 0.8302 - val_loss: 0.6339 - val_acc: 0.6765\n",
            "Epoch 3/10\n",
            "10000/10000 [==============================] - 96s 10ms/step - loss: 0.3629 - acc: 0.8381 - val_loss: 0.5817 - val_acc: 0.7222\n",
            "Epoch 4/10\n",
            "10000/10000 [==============================] - 97s 10ms/step - loss: 0.3505 - acc: 0.8447 - val_loss: 0.5583 - val_acc: 0.7263\n",
            "Epoch 5/10\n",
            "10000/10000 [==============================] - 97s 10ms/step - loss: 0.3395 - acc: 0.8506 - val_loss: 0.5708 - val_acc: 0.7184\n",
            "Epoch 6/10\n",
            "10000/10000 [==============================] - 97s 10ms/step - loss: 0.3297 - acc: 0.8552 - val_loss: 0.6051 - val_acc: 0.7084\n",
            "Epoch 7/10\n",
            "10000/10000 [==============================] - 98s 10ms/step - loss: 0.3206 - acc: 0.8598 - val_loss: 0.5559 - val_acc: 0.7258\n",
            "Epoch 8/10\n",
            "10000/10000 [==============================] - 98s 10ms/step - loss: 0.3125 - acc: 0.8639 - val_loss: 0.7042 - val_acc: 0.6997\n",
            "Epoch 9/10\n",
            "10000/10000 [==============================] - 97s 10ms/step - loss: 0.3047 - acc: 0.8678 - val_loss: 0.6526 - val_acc: 0.6850\n",
            "Epoch 10/10\n",
            "10000/10000 [==============================] - 97s 10ms/step - loss: 0.2977 - acc: 0.8708 - val_loss: 0.6403 - val_acc: 0.7168\n"
          ],
          "name": "stdout"
        }
      ]
    },
    {
      "cell_type": "markdown",
      "metadata": {
        "id": "dNxN5q-vqGmX",
        "colab_type": "text"
      },
      "source": [
        "## Analyzing Model"
      ]
    },
    {
      "cell_type": "code",
      "metadata": {
        "id": "H7mi7Vc9jedk",
        "colab_type": "code",
        "colab": {
          "base_uri": "https://localhost:8080/",
          "height": 444
        },
        "outputId": "0df1aaa3-58a0-4672-9805-1b474322720b"
      },
      "source": [
        "plt.figure(figsize=(20, 7))\n",
        "plt.plot(history.epoch, history.history['loss'], label='Model Loss')\n",
        "plt.legend()\n",
        "plt.title('Training Loss')\n",
        "plt.xticks(history.epoch)\n",
        "for x, y in zip(history.epoch, history.history['loss']):\n",
        "    label = \"{:.3f}\".format(y)\n",
        "    plt.annotate(label,                              # this is the text\n",
        "                (x, y),                              # this is the point to label\n",
        "                textcoords=\"offset points\",          # how to position the text\n",
        "                xytext=(0, 5),                       # distance from text to points (x,y)\n",
        "                ha='center')                         # horizontal alignment can be left, right or center"
      ],
      "execution_count": null,
      "outputs": [
        {
          "output_type": "display_data",
          "data": {
            "image/png": "[encoded data removed]",
            "text/plain": [
              "<Figure size 1440x504 with 1 Axes>"
            ]
          },
          "metadata": {
            "tags": [],
            "needs_background": "light"
          }
        }
      ]
    }
  ]
}