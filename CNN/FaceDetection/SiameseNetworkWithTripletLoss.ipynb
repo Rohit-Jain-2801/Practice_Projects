{
 "cells": [
  {
   "cell_type": "markdown",
   "metadata": {},
   "source": [
    "# Siamese Network with Triplet Loss"
   ]
  },
  {
   "cell_type": "markdown",
   "metadata": {},
   "source": [
    "## Importing Libraries"
   ]
  },
  {
   "cell_type": "code",
   "execution_count": 1,
   "metadata": {},
   "outputs": [],
   "source": [
    "import random\n",
    "import numpy as np\n",
    "import tensorflow as tf\n",
    "from sklearn.utils import shuffle\n",
    "from sklearn.metrics.pairwise import cosine_distances, euclidean_distances\n",
    "from sklearn.metrics import classification_report, confusion_matrix, accuracy_score\n",
    "from sklearn.decomposition import PCA\n",
    "from sklearn.svm import SVC\n",
    "\n",
    "import matplotlib.pyplot as plt\n",
    "%matplotlib inline"
   ]
  },
  {
   "cell_type": "markdown",
   "metadata": {},
   "source": [
    "**Siamese Network**\n",
    "+ We will use three images for each training example:\n",
    "    - Anchor Example\n",
    "    - Positive Example\n",
    "    - Negative Example\n",
    "+ All the three images of an example pass through the model, and we get the three Embeddings: One for the Anchor Example, one for the Positive Example, and one for the Negative Example.\n",
    "+ The three instances of the EmbeddingModel are not different instances. It's the same, shared model instance - i.e. the parameters are shared, and are updated for all the three paths simultaneously.\n",
    "![Siamese Network](siamese.png)"
   ]
  },
  {
   "cell_type": "markdown",
   "metadata": {},
   "source": [
    "## Importing the Dataset"
   ]
  },
  {
   "cell_type": "code",
   "execution_count": 2,
   "metadata": {},
   "outputs": [],
   "source": [
    "(x_train, y_train), (x_test, y_test) = tf.keras.datasets.mnist.load_data()"
   ]
  },
  {
   "cell_type": "code",
   "execution_count": 3,
   "metadata": {},
   "outputs": [
    {
     "name": "stdout",
     "output_type": "stream",
     "text": [
      "X-train: (60000, 28, 28)\n",
      "Y-train: (60000,)\n",
      "X-test:  (10000, 28, 28)\n",
      "Y-test:  (10000,)\n"
     ]
    }
   ],
   "source": [
    "print('X-train:', x_train.shape)\n",
    "print('Y-train:', y_train.shape)\n",
    "print('X-test: ', x_test.shape)\n",
    "print('Y-test: ', y_test.shape)"
   ]
  },
  {
   "cell_type": "markdown",
   "metadata": {},
   "source": [
    "## Normalizing the Images"
   ]
  },
  {
   "cell_type": "code",
   "execution_count": 4,
   "metadata": {},
   "outputs": [],
   "source": [
    "x_train = x_train/255.\n",
    "x_test = x_test/255."
   ]
  },
  {
   "cell_type": "markdown",
   "metadata": {},
   "source": [
    "## Customizing Dimensions"
   ]
  },
  {
   "cell_type": "markdown",
   "metadata": {},
   "source": [
    "+ Conv2D expects tensor format i.e., (batch_size, height, width, depth)"
   ]
  },
  {
   "cell_type": "code",
   "execution_count": 5,
   "metadata": {},
   "outputs": [],
   "source": [
    "x_train = np.expand_dims(x_train, 3)\n",
    "x_test = np.expand_dims(x_test, 3)"
   ]
  },
  {
   "cell_type": "markdown",
   "metadata": {},
   "source": [
    "## Visualizing the Triplets"
   ]
  },
  {
   "cell_type": "code",
   "execution_count": 6,
   "metadata": {},
   "outputs": [],
   "source": [
    "def plot_triplet(triplet, titles=['Anchor', 'Positive', 'Negative'], size=(10, 5)):\n",
    "    plt.figure(figsize=size)\n",
    "    for i in range(3):\n",
    "        plt.subplot(1, 3, i+1)\n",
    "        plt.xticks(ticks=[])\n",
    "        plt.yticks(ticks=[])\n",
    "        plt.title(titles[i])\n",
    "        \n",
    "        img = triplet[i]\n",
    "        if(len(img.shape)==4):\n",
    "            img = img[0]\n",
    "        plt.imshow(np.squeeze(img, axis=2), cmap='binary')"
   ]
  },
  {
   "cell_type": "code",
   "execution_count": 7,
   "metadata": {},
   "outputs": [
    {
     "data": {
      "image/png": "[encoded data removed]",
      "text/plain": [
       "<Figure size 720x360 with 3 Axes>"
      ]
     },
     "metadata": {},
     "output_type": "display_data"
    }
   ],
   "source": [
    "# demo\n",
    "plot_triplet((x_train[0], x_train[1], x_train[2]))"
   ]
  },
  {
   "cell_type": "markdown",
   "metadata": {},
   "source": [
    "## A Batch of Triplets"
   ]
  },
  {
   "cell_type": "code",
   "execution_count": 8,
   "metadata": {},
   "outputs": [],
   "source": [
    "def create_batch(batch_size, x, y):\n",
    "    anchors = np.zeros((batch_size, x.shape[1], x.shape[2], x.shape[3]))\n",
    "    positives = np.zeros((batch_size, x.shape[1], x.shape[2], x.shape[3]))\n",
    "    negatives = np.zeros((batch_size, x.shape[1], x.shape[2], x.shape[3]))\n",
    "        \n",
    "    for i in range(batch_size):\n",
    "        index = random.randint(0, x.shape[0]-1)\n",
    "        anchor = x[index]\n",
    "        \n",
    "        indices_for_pos = np.squeeze(np.where(y == y[index]))\n",
    "        indices_for_neg = np.squeeze(np.where(y != y[index]))\n",
    "        \n",
    "        pos = x[indices_for_pos[random.randint(0, len(indices_for_pos)-1)]]\n",
    "        neg = x[indices_for_neg[random.randint(0, len(indices_for_neg)-1)]]\n",
    "        \n",
    "        anchors[i] = anchor\n",
    "        positives[i] = pos\n",
    "        negatives[i] = neg\n",
    "        \n",
    "    return [anchors, positives, negatives]"
   ]
  },
  {
   "cell_type": "code",
   "execution_count": 9,
   "metadata": {},
   "outputs": [
    {
     "data": {
      "image/png": "[encoded data removed]",
      "text/plain": [
       "<Figure size 720x360 with 3 Axes>"
      ]
     },
     "metadata": {},
     "output_type": "display_data"
    }
   ],
   "source": [
    "plot_triplet(create_batch(1, x_train, y_train))"
   ]
  },
  {
   "cell_type": "markdown",
   "metadata": {},
   "source": [
    "## Embedding Model"
   ]
  },
  {
   "cell_type": "code",
   "execution_count": 10,
   "metadata": {},
   "outputs": [],
   "source": [
    "emb_dim = 32\n",
    "input_shape = (28, 28, 1)\n",
    "\n",
    "embedding_model = tf.keras.models.Sequential([\n",
    "    tf.keras.layers.Conv2D(16, (3, 3), activation='relu', input_shape=input_shape),\n",
    "    tf.keras.layers.MaxPooling2D((2, 2)),\n",
    "    tf.keras.layers.Flatten(),\n",
    "    tf.keras.layers.Dense(64, activation='relu'),\n",
    "    tf.keras.layers.Dense(emb_dim, activation='softmax')\n",
    "])"
   ]
  },
  {
   "cell_type": "code",
   "execution_count": 11,
   "metadata": {},
   "outputs": [
    {
     "name": "stdout",
     "output_type": "stream",
     "text": [
      "Model: \"sequential\"\n",
      "_________________________________________________________________\n",
      "Layer (type)                 Output Shape              Param #   \n",
      "=================================================================\n",
      "conv2d (Conv2D)              (None, 26, 26, 16)        160       \n",
      "_________________________________________________________________\n",
      "max_pooling2d (MaxPooling2D) (None, 13, 13, 16)        0         \n",
      "_________________________________________________________________\n",
      "flatten (Flatten)            (None, 2704)              0         \n",
      "_________________________________________________________________\n",
      "dense (Dense)                (None, 64)                173120    \n",
      "_________________________________________________________________\n",
      "dense_1 (Dense)              (None, 32)                2080      \n",
      "=================================================================\n",
      "Total params: 175,360\n",
      "Trainable params: 175,360\n",
      "Non-trainable params: 0\n",
      "_________________________________________________________________\n"
     ]
    }
   ],
   "source": [
    "embedding_model.summary()"
   ]
  },
  {
   "cell_type": "markdown",
   "metadata": {},
   "source": [
    "## Siamese Model"
   ]
  },
  {
   "cell_type": "code",
   "execution_count": 12,
   "metadata": {},
   "outputs": [],
   "source": [
    "in_anch = tf.keras.layers.Input(shape=input_shape)\n",
    "in_pos = tf.keras.layers.Input(shape=input_shape)\n",
    "in_neg = tf.keras.layers.Input(shape=input_shape)\n",
    "\n",
    "emb_anch = embedding_model(in_anch)\n",
    "emb_pos = embedding_model(in_pos)\n",
    "emb_neg = embedding_model(in_neg)\n",
    "\n",
    "stacked_output = tf.keras.layers.concatenate([emb_anch, emb_pos, emb_neg], axis=-1)"
   ]
  },
  {
   "cell_type": "code",
   "execution_count": 13,
   "metadata": {},
   "outputs": [
    {
     "name": "stdout",
     "output_type": "stream",
     "text": [
      "Model: \"model\"\n",
      "__________________________________________________________________________________________________\n",
      "Layer (type)                    Output Shape         Param #     Connected to                     \n",
      "==================================================================================================\n",
      "input_1 (InputLayer)            [(None, 28, 28, 1)]  0                                            \n",
      "__________________________________________________________________________________________________\n",
      "input_2 (InputLayer)            [(None, 28, 28, 1)]  0                                            \n",
      "__________________________________________________________________________________________________\n",
      "input_3 (InputLayer)            [(None, 28, 28, 1)]  0                                            \n",
      "__________________________________________________________________________________________________\n",
      "sequential (Sequential)         (None, 32)           175360      input_1[0][0]                    \n",
      "                                                                 input_2[0][0]                    \n",
      "                                                                 input_3[0][0]                    \n",
      "__________________________________________________________________________________________________\n",
      "concatenate (Concatenate)       (None, 96)           0           sequential[1][0]                 \n",
      "                                                                 sequential[2][0]                 \n",
      "                                                                 sequential[3][0]                 \n",
      "==================================================================================================\n",
      "Total params: 175,360\n",
      "Trainable params: 175,360\n",
      "Non-trainable params: 0\n",
      "__________________________________________________________________________________________________\n"
     ]
    }
   ],
   "source": [
    "model = tf.keras.models.Model([in_anch, in_pos, in_neg], stacked_output)\n",
    "model.summary()"
   ]
  },
  {
   "cell_type": "markdown",
   "metadata": {},
   "source": [
    "## Triplet Loss"
   ]
  },
  {
   "cell_type": "markdown",
   "metadata": {},
   "source": [
    "Root mean square difference between Anchor and Positive examples in a batch of N images is:\n",
    "$\n",
    "\\begin{equation}\n",
    "d_p = \\sqrt{\\frac{\\sum_{i=0}^{N-1}(f(a_i) - f(p_i))^2}{N}}\n",
    "\\end{equation}\n",
    "$\n",
    "\n",
    "Root mean square difference between Anchor and Negative examples in a batch of N images is:\n",
    "$\n",
    "\\begin{equation}\n",
    "d_n = \\sqrt{\\frac{\\sum_{i=0}^{N-1}(f(a_i) - f(n_i))^2}{N}}\n",
    "\\end{equation}\n",
    "$\n",
    "\n",
    "For each example, we want:\n",
    "$\n",
    "\\begin{equation}\n",
    "d_p \\leq d_n\n",
    "\\end{equation}\n",
    "$\n",
    "\n",
    "Therefore,\n",
    "$\n",
    "\\begin{equation}\n",
    "d_p - d_n \\leq 0\n",
    "\\end{equation}\n",
    "$\n",
    "\n",
    "This condition is quite easily satisfied during the training.\n",
    "\n",
    "We will make it non-trivial by adding a margin (alpha):\n",
    "$\n",
    "\\begin{equation}\n",
    "d_p - d_n + \\alpha \\leq 0\n",
    "\\end{equation}\n",
    "$\n",
    "\n",
    "Given the condition above, the Triplet Loss L is defined as:\n",
    "$\n",
    "\\begin{equation}\n",
    "L = max(d_p - d_n + \\alpha, 0)\n",
    "\\end{equation}\n",
    "$"
   ]
  },
  {
   "cell_type": "code",
   "execution_count": 14,
   "metadata": {},
   "outputs": [],
   "source": [
    "def triplet_loss(emb_dim, alpha=0.2):\n",
    "    def loss(y_true, y_pred):\n",
    "        anch, pos, neg = y_pred[:, :emb_dim], y_pred[:, emb_dim:2*emb_dim], y_pred[:, 2*emb_dim:3*emb_dim]\n",
    "        dp = tf.reduce_mean(tf.square(anch - pos), axis=-1)\n",
    "        dn = tf.reduce_mean(tf.square(anch - neg), axis=-1)\n",
    "        return tf.maximum(dp-dn+alpha, 0)\n",
    "    return loss"
   ]
  },
  {
   "cell_type": "markdown",
   "metadata": {},
   "source": [
    "## Compiling the Model"
   ]
  },
  {
   "cell_type": "markdown",
   "metadata": {},
   "source": [
    "+ Here metrics for 'acc' doesn't matter"
   ]
  },
  {
   "cell_type": "code",
   "execution_count": 15,
   "metadata": {},
   "outputs": [],
   "source": [
    "model.compile(loss=triplet_loss(emb_dim, alpha=0.2), optimizer='adam')"
   ]
  },
  {
   "cell_type": "markdown",
   "metadata": {},
   "source": [
    "## Data Generator"
   ]
  },
  {
   "cell_type": "code",
   "execution_count": 16,
   "metadata": {},
   "outputs": [],
   "source": [
    "def data_generator(batch_size, emb_dim):\n",
    "    while True:\n",
    "        x = create_batch(batch_size, x_train, y_train)\n",
    "        y = np.zeros((batch_size, 3*emb_dim))            # doesn't really take into account\n",
    "        yield x, y"
   ]
  },
  {
   "cell_type": "markdown",
   "metadata": {},
   "source": [
    "## Model Training"
   ]
  },
  {
   "cell_type": "code",
   "execution_count": 17,
   "metadata": {},
   "outputs": [],
   "source": [
    "epochs = 10\n",
    "batch_size = 1024\n",
    "steps_per_epoch = int(x_train.shape[0]/batch_size)\n",
    "val_batch_size = 64\n",
    "validation_steps = int(x_test.shape[0]/val_batch_size)"
   ]
  },
  {
   "cell_type": "code",
   "execution_count": 18,
   "metadata": {},
   "outputs": [
    {
     "name": "stdout",
     "output_type": "stream",
     "text": [
      "WARNING:tensorflow:sample_weight modes were coerced from\n",
      "  ...\n",
      "    to  \n",
      "  ['...']\n",
      "WARNING:tensorflow:sample_weight modes were coerced from\n",
      "  ...\n",
      "    to  \n",
      "  ['...']\n",
      "Train for 58 steps, validate for 156 steps\n",
      "Epoch 1/10\n",
      "58/58 [==============================] - 59s 1s/step - loss: 0.1866 - val_loss: 0.1682\n",
      "Epoch 2/10\n",
      "58/58 [==============================] - 54s 931ms/step - loss: 0.1669 - val_loss: 0.1661\n",
      "Epoch 3/10\n",
      "58/58 [==============================] - 65s 1s/step - loss: 0.1656 - val_loss: 0.1652\n",
      "Epoch 4/10\n",
      "58/58 [==============================] - 67s 1s/step - loss: 0.1651 - val_loss: 0.1651\n",
      "Epoch 5/10\n",
      "58/58 [==============================] - 65s 1s/step - loss: 0.1650 - val_loss: 0.1646\n",
      "Epoch 6/10\n",
      "58/58 [==============================] - 59s 1s/step - loss: 0.1645 - val_loss: 0.1644\n",
      "Epoch 7/10\n",
      "58/58 [==============================] - 58s 996ms/step - loss: 0.1643 - val_loss: 0.1639\n",
      "Epoch 8/10\n",
      "58/58 [==============================] - 56s 961ms/step - loss: 0.1641 - val_loss: 0.1636\n",
      "Epoch 9/10\n",
      "58/58 [==============================] - 70s 1s/step - loss: 0.1641 - val_loss: 0.1638\n",
      "Epoch 10/10\n",
      "58/58 [==============================] - 62s 1s/step - loss: 0.1638 - val_loss: 0.1636\n"
     ]
    }
   ],
   "source": [
    "history = model.fit(\n",
    "    data_generator(batch_size, emb_dim),\n",
    "    epochs=epochs,\n",
    "    steps_per_epoch=steps_per_epoch,\n",
    "    validation_data=data_generator(val_batch_size, emb_dim),\n",
    "    validation_steps=validation_steps    \n",
    ")"
   ]
  },
  {
   "cell_type": "markdown",
   "metadata": {},
   "source": [
    "## Analyzing the training"
   ]
  },
  {
   "cell_type": "code",
   "execution_count": 19,
   "metadata": {},
   "outputs": [
    {
     "data": {
      "image/png": "[encoded data removed]",
      "text/plain": [
       "<Figure size 1440x432 with 1 Axes>"
      ]
     },
     "metadata": {
      "needs_background": "light"
     },
     "output_type": "display_data"
    }
   ],
   "source": [
    "plt.figure(figsize=(20, 6))\n",
    "\n",
    "plt.subplot(1, 2, 1)\n",
    "plt.plot(history.history['loss'], marker='o', label='Training loss')\n",
    "plt.title('Loss')\n",
    "plt.legend()\n",
    "plt.xticks(history.epoch)\n",
    "for x, y in zip(history.epoch, history.history['loss']):\n",
    "    label = \"{:.2f}\".format(y)\n",
    "    plt.annotate(label,                               # this is the text\n",
    "                 (x, y),                              # this is the point to label\n",
    "                 textcoords=\"offset points\",          # how to position the text\n",
    "                 xytext=(0, 5),                       # distance from text to points (x,y)\n",
    "                 ha='center')                         # horizontal alignment can be left, right or center\n",
    "\n",
    "plt.plot(history.history['val_loss'], color='r', marker='o', label='Validation loss')\n",
    "plt.title('Loss')\n",
    "plt.legend()\n",
    "plt.xticks(history.epoch)\n",
    "for x, y in zip(history.epoch, history.history['val_loss']):\n",
    "    label = \"{:.2f}\".format(y)\n",
    "    plt.annotate(label,                               # this is the text\n",
    "                 (x, y),                              # this is the point to label\n",
    "                 textcoords=\"offset points\",          # how to position the text\n",
    "                 xytext=(0, 5),                       # distance from text to points (x,y)\n",
    "                 ha='center')                         # horizontal alignment can be left, right or center"
   ]
  },
  {
   "cell_type": "markdown",
   "metadata": {},
   "source": [
    "+ We have completed successfully Siamese Network.\n",
    "+ The output is the embedding vector which can be used for classification (verification)."
   ]
  },
  {
   "cell_type": "markdown",
   "metadata": {},
   "source": [
    "## Saving the Model"
   ]
  },
  {
   "cell_type": "code",
   "execution_count": 20,
   "metadata": {},
   "outputs": [],
   "source": [
    "model.save('siamese_model.h5')\n",
    "\n",
    "embedding_model.save('embedding_model.h5')"
   ]
  },
  {
   "cell_type": "markdown",
   "metadata": {},
   "source": [
    "## Loading the Model"
   ]
  },
  {
   "cell_type": "code",
   "execution_count": 21,
   "metadata": {},
   "outputs": [],
   "source": [
    "# We have to load the custom_objects of loss\n",
    "# model = tf.keras.models.load_model('siamese_model.h5', custom_objects={'loss': triplet_loss(emb_dim)})\n",
    "\n",
    "# However, if we wish to just perform inference with our model & not further optimize or train our model,\n",
    "# we can simply wish to ignore the loss function\n",
    "# model = tf.keras.models.load_model('siamese_model.h5', compile=False)\n",
    "\n",
    "# only loading embedding model as we will be only interested in embeddings now\n",
    "model = tf.keras.models.load_model('embedding_model.h5', compile=False)"
   ]
  },
  {
   "cell_type": "markdown",
   "metadata": {},
   "source": [
    "## Testing the Model"
   ]
  },
  {
   "cell_type": "markdown",
   "metadata": {},
   "source": [
    "### Type-1"
   ]
  },
  {
   "cell_type": "markdown",
   "metadata": {},
   "source": [
    "+ **Input**: Two images\n",
    "+ **Output**: Are they of same identity based on embeddings"
   ]
  },
  {
   "cell_type": "code",
   "execution_count": 22,
   "metadata": {},
   "outputs": [],
   "source": [
    "# returns one list having two seperate list of images and second list of 0's & 1's as one-to-one mapping\n",
    "def create_data(size, x, y):\n",
    "    if(size%2!=0):\n",
    "        size += 1\n",
    "        \n",
    "    new_x1 = np.zeros((size, x.shape[1], x.shape[2], x.shape[3]))\n",
    "    new_x2 = np.zeros((size, x.shape[1], x.shape[2], x.shape[3]))\n",
    "    new_y = np.zeros((size, 1))\n",
    "    \n",
    "    for i in range(0, size, 2):\n",
    "        index1 = random.randint(0, x.shape[0]-1)\n",
    "        \n",
    "        indices2 = np.squeeze(np.where(y == y[index1]))\n",
    "        index2 = indices2[random.randint(0, len(indices2)-1)]\n",
    "        \n",
    "        indices3 = np.squeeze(np.where(y != y[index1]))\n",
    "        index3 = indices3[random.randint(0, len(indices3)-1)]\n",
    "        \n",
    "        new_x1[i], new_x2[i], new_y[i] = x[index1], x[index2], 1\n",
    "        new_x1[i+1], new_x2[i+1] = x[index1], x[index3]\n",
    "        \n",
    "    new_x1, new_x2, new_y = shuffle(new_x1, new_x2, new_y)\n",
    "    return np.array([new_x1, new_x2]), new_y"
   ]
  },
  {
   "cell_type": "code",
   "execution_count": 23,
   "metadata": {},
   "outputs": [
    {
     "name": "stdout",
     "output_type": "stream",
     "text": [
      "(2, 64, 28, 28, 1)\n",
      "(64, 1)\n"
     ]
    }
   ],
   "source": [
    "img_train, label_train = create_data(size=64, x=x_train, y=y_train)\n",
    "\n",
    "print(img_train.shape)\n",
    "print(label_train.shape)"
   ]
  },
  {
   "cell_type": "code",
   "execution_count": 24,
   "metadata": {},
   "outputs": [
    {
     "name": "stdout",
     "output_type": "stream",
     "text": [
      "1.0\n"
     ]
    },
    {
     "data": {
      "text/plain": [
       "<matplotlib.image.AxesImage at 0x23f9a443488>"
      ]
     },
     "execution_count": 24,
     "metadata": {},
     "output_type": "execute_result"
    },
    {
     "data": {
      "image/png": "[encoded data removed]",
      "text/plain": [
       "<Figure size 432x288 with 2 Axes>"
      ]
     },
     "metadata": {
      "needs_background": "light"
     },
     "output_type": "display_data"
    }
   ],
   "source": [
    "n = 1\n",
    "print(label_train[n][0])\n",
    "plt.subplot(1, 2, 1)\n",
    "plt.imshow(np.squeeze(img_train[0][n], axis=2), cmap='binary')\n",
    "plt.subplot(1, 2, 2)\n",
    "plt.imshow(np.squeeze(img_train[1][n], axis=2), cmap='binary')"
   ]
  },
  {
   "cell_type": "code",
   "execution_count": 25,
   "metadata": {},
   "outputs": [],
   "source": [
    "embeddings1 = model.predict(img_train[0])\n",
    "embeddings2 = model.predict(img_train[1])"
   ]
  },
  {
   "cell_type": "code",
   "execution_count": 26,
   "metadata": {},
   "outputs": [
    {
     "name": "stdout",
     "output_type": "stream",
     "text": [
      "(64, 32)\n",
      "(64, 32)\n"
     ]
    }
   ],
   "source": [
    "print(embeddings1.shape)\n",
    "print(embeddings2.shape)"
   ]
  },
  {
   "cell_type": "code",
   "execution_count": 27,
   "metadata": {},
   "outputs": [],
   "source": [
    "# Cosine_Similarity => cos0 where 0 is the angle between two pts. => [-1, 1]\n",
    "# Cosine_Distance => 1-cosine_similarity => [0, 2] => lower means higher similarity\n",
    "def measure_distance(x, y, threshold=0.4, metrics=0):\n",
    "    '''\n",
    "        metrics: 0 (cosine-distance) or 1 (euclidean-distance)\n",
    "    '''\n",
    "    result = []\n",
    "    for i in range(x.shape[0]):\n",
    "        a, b = np.expand_dims(x[i], axis=0), np.expand_dims(y[i], axis=0)\n",
    "        if(metrics):\n",
    "            result.append(int(euclidean_distances(a, b)[0][0] < threshold))\n",
    "        else:\n",
    "            result.append(int(cosine_distances(a, b)[0][0] < threshold))\n",
    "    return result"
   ]
  },
  {
   "cell_type": "code",
   "execution_count": 28,
   "metadata": {},
   "outputs": [
    {
     "name": "stdout",
     "output_type": "stream",
     "text": [
      "Confusion Matrix:\n",
      " [[19 13]\n",
      " [ 0 32]]\n",
      "\n",
      "Accuracy Score:\n",
      " 0.796875\n",
      "\n",
      "Classification Report:\n",
      "               precision    recall  f1-score   support\n",
      "\n",
      "         0.0       1.00      0.59      0.75        32\n",
      "         1.0       0.71      1.00      0.83        32\n",
      "\n",
      "    accuracy                           0.80        64\n",
      "   macro avg       0.86      0.80      0.79        64\n",
      "weighted avg       0.86      0.80      0.79        64\n",
      "\n"
     ]
    }
   ],
   "source": [
    "label_pred = measure_distance(x=embeddings1, y=embeddings2, threshold=0.4, metrics=0)\n",
    "\n",
    "# By definition a confusion matrix 'C' is such that 'C(i,j)' is\n",
    "# equal to the number of observations known to be in group 'i' & predicted to be in group 'j'.\n",
    "# Thus in binary classification, the count of true negatives is 'C(0,0)', false negatives is 'C(1,0)',\n",
    "# true positives is 'C(1,1)' and false positives is 'C(0,1)'.\n",
    "\n",
    "print('Confusion Matrix:\\n', confusion_matrix(label_train, label_pred), end='\\n\\n')\n",
    "print('Accuracy Score:\\n', accuracy_score(label_train, label_pred), end='\\n\\n')\n",
    "print('Classification Report:\\n', classification_report(label_train, label_pred))"
   ]
  },
  {
   "cell_type": "markdown",
   "metadata": {},
   "source": [
    "### Type-2"
   ]
  },
  {
   "cell_type": "markdown",
   "metadata": {},
   "source": [
    "+ **Input**: A single image\n",
    "+ **Output**: Predicting class"
   ]
  },
  {
   "cell_type": "code",
   "execution_count": 29,
   "metadata": {},
   "outputs": [],
   "source": [
    "embeddings = model.predict(x_train)"
   ]
  },
  {
   "cell_type": "code",
   "execution_count": 30,
   "metadata": {},
   "outputs": [
    {
     "data": {
      "text/plain": [
       "(60000, 32)"
      ]
     },
     "execution_count": 30,
     "metadata": {},
     "output_type": "execute_result"
    }
   ],
   "source": [
    "embeddings.shape"
   ]
  },
  {
   "cell_type": "code",
   "execution_count": 31,
   "metadata": {},
   "outputs": [
    {
     "name": "stdout",
     "output_type": "stream",
     "text": [
      "Train on 60000 samples, validate on 10000 samples\n",
      "Epoch 1/10\n",
      "60000/60000 [==============================] - 6s 93us/sample - loss: 1.5339 - acc: 0.3051 - val_loss: 1.4586 - val_acc: 0.3132\n",
      "Epoch 2/10\n",
      "60000/60000 [==============================] - 3s 58us/sample - loss: 1.4481 - acc: 0.3124 - val_loss: 1.4580 - val_acc: 0.3048\n",
      "Epoch 3/10\n",
      "60000/60000 [==============================] - 4s 60us/sample - loss: 1.4482 - acc: 0.3086 - val_loss: 1.4576 - val_acc: 0.3092\n",
      "Epoch 4/10\n",
      "60000/60000 [==============================] - 4s 59us/sample - loss: 1.4479 - acc: 0.3103 - val_loss: 1.4577 - val_acc: 0.3076\n",
      "Epoch 5/10\n",
      "60000/60000 [==============================] - 4s 59us/sample - loss: 1.4477 - acc: 0.3077 - val_loss: 1.4570 - val_acc: 0.3122\n",
      "Epoch 6/10\n",
      "60000/60000 [==============================] - 3s 58us/sample - loss: 1.4474 - acc: 0.3105 - val_loss: 1.4579 - val_acc: 0.3121\n",
      "Epoch 7/10\n",
      "60000/60000 [==============================] - 3s 58us/sample - loss: 1.4473 - acc: 0.3121 - val_loss: 1.4561 - val_acc: 0.3092\n",
      "Epoch 8/10\n",
      "60000/60000 [==============================] - 3s 58us/sample - loss: 1.4468 - acc: 0.3103 - val_loss: 1.4561 - val_acc: 0.3064\n",
      "Epoch 9/10\n",
      "60000/60000 [==============================] - 4s 62us/sample - loss: 1.4467 - acc: 0.3100 - val_loss: 1.4556 - val_acc: 0.3127\n",
      "Epoch 10/10\n",
      "60000/60000 [==============================] - 4s 65us/sample - loss: 1.4462 - acc: 0.3128 - val_loss: 1.4551 - val_acc: 0.3109\n"
     ]
    },
    {
     "data": {
      "text/plain": [
       "<tensorflow.python.keras.callbacks.History at 0x23f9a4c6d48>"
      ]
     },
     "execution_count": 31,
     "metadata": {},
     "output_type": "execute_result"
    }
   ],
   "source": [
    "classifier = tf.keras.Sequential([\n",
    "    tf.keras.layers.Dense(units=emb_dim, activation='relu', input_dim=emb_dim),\n",
    "    tf.keras.layers.Dense(units=10, activation='softmax')\n",
    "])\n",
    "\n",
    "classifier.compile(optimizer='adam', loss='sparse_categorical_crossentropy', metrics=['acc'])\n",
    "\n",
    "classifier.fit(\n",
    "    x=model.predict(x_train),\n",
    "    y=y_train,\n",
    "    batch_size=32,\n",
    "    epochs=10,\n",
    "    validation_data=(model.predict(x_test), y_test)\n",
    ")"
   ]
  },
  {
   "cell_type": "code",
   "execution_count": 32,
   "metadata": {},
   "outputs": [
    {
     "name": "stdout",
     "output_type": "stream",
     "text": [
      "Accuracy: train=31.568, test=31.090\n"
     ]
    }
   ],
   "source": [
    "# predict\n",
    "yhat_train = np.argmax(classifier.predict(model.predict(x_train)), axis=1)\n",
    "yhat_test = np.argmax(classifier.predict(model.predict(x_test)), axis=1)\n",
    "\n",
    "# score\n",
    "score_train = accuracy_score(y_train, yhat_train)\n",
    "score_test = accuracy_score(y_test, yhat_test)\n",
    "\n",
    "# summarize\n",
    "print('Accuracy: train=%.3f, test=%.3f' % (score_train*100, score_test*100))"
   ]
  },
  {
   "cell_type": "code",
   "execution_count": 33,
   "metadata": {},
   "outputs": [],
   "source": [
    "# # dimensional reduction\n",
    "# pca = PCA(n_components=2)\n",
    "# pca_x_train = pca.fit_transform(embeddings)\n",
    "# pca_x_test = pca.transform(model.predict(x_test))\n",
    "\n",
    "# # building the classifier\n",
    "# classifier = SVC(kernel='linear', probability=True)\n",
    "# classifier.fit(pca_x_train, y_train)\n",
    "\n",
    "# # predict\n",
    "# yhat_train = classifier.predict(pca_x_train)\n",
    "# yhat_test = classifier.predict(pca_x_test)\n",
    "\n",
    "# # score\n",
    "# score_train = accuracy_score(y_train, yhat_train)\n",
    "# score_test = accuracy_score(y_test, yhat_test)\n",
    "\n",
    "# # summarize\n",
    "# print('Accuracy: train=%.3f, test=%.3f' % (score_train*100, score_test*100))"
   ]
  }
 ],
 "metadata": {
  "kernelspec": {
   "display_name": "Python 3",
   "language": "python",
   "name": "python3"
  },
  "language_info": {
   "codemirror_mode": {
    "name": "ipython",
    "version": 3
   },
   "file_extension": ".py",
   "mimetype": "text/x-python",
   "name": "python",
   "nbconvert_exporter": "python",
   "pygments_lexer": "ipython3",
   "version": "3.7.6"
  },
  "toc": {
   "base_numbering": 1,
   "nav_menu": {},
   "number_sections": true,
   "sideBar": true,
   "skip_h1_title": false,
   "title_cell": "Table of Contents",
   "title_sidebar": "Contents",
   "toc_cell": false,
   "toc_position": {},
   "toc_section_display": true,
   "toc_window_display": false
  },
  "varInspector": {
   "cols": {
    "lenName": 16,
    "lenType": 16,
    "lenVar": 40
   },
   "kernels_config": {
    "python": {
     "delete_cmd_postfix": "",
     "delete_cmd_prefix": "del ",
     "library": "var_list.py",
     "varRefreshCmd": "print(var_dic_list())"
    },
    "r": {
     "delete_cmd_postfix": ") ",
     "delete_cmd_prefix": "rm(",
     "library": "var_list.r",
     "varRefreshCmd": "cat(var_dic_list()) "
    }
   },
   "types_to_exclude": [
    "module",
    "function",
    "builtin_function_or_method",
    "instance",
    "_Feature"
   ],
   "window_display": false
  }
 },
 "nbformat": 4,
 "nbformat_minor": 4
}
