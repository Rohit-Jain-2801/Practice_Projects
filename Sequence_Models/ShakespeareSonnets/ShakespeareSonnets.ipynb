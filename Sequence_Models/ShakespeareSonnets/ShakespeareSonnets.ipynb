{
 "cells": [
  {
   "cell_type": "markdown",
   "metadata": {},
   "source": [
    "## Importing Libraries"
   ]
  },
  {
   "cell_type": "code",
   "execution_count": 18,
   "metadata": {},
   "outputs": [],
   "source": [
    "import numpy as np\n",
    "import tensorflow as tf\n",
    "\n",
    "import matplotlib.pyplot as plt\n",
    "%matplotlib inline"
   ]
  },
  {
   "cell_type": "markdown",
   "metadata": {},
   "source": [
    "## Loading Dataset"
   ]
  },
  {
   "cell_type": "code",
   "execution_count": 2,
   "metadata": {},
   "outputs": [],
   "source": [
    "data = open('sonnet.txt').read()"
   ]
  },
  {
   "cell_type": "markdown",
   "metadata": {},
   "source": [
    "## Extracting sentences"
   ]
  },
  {
   "cell_type": "code",
   "execution_count": 3,
   "metadata": {},
   "outputs": [
    {
     "data": {
      "text/plain": [
       "['I',\n",
       " '',\n",
       " '  From fairest creatures we desire increase,',\n",
       " \"  That thereby beauty's rose might never die,\",\n",
       " '  But as the riper should by time decease,',\n",
       " '  His tender heir might bear his memory:',\n",
       " '  But thou, contracted to thine own bright eyes,',\n",
       " \"  Feed'st thy light's flame with self-substantial fuel,\",\n",
       " '  Making a famine where abundance lies,',\n",
       " '  Thy self thy foe, to thy sweet self too cruel:']"
      ]
     },
     "execution_count": 3,
     "metadata": {},
     "output_type": "execute_result"
    }
   ],
   "source": [
    "# excluding credentials/citations\n",
    "corpus = data[740:100967].split('\\n')\n",
    "corpus[:10]"
   ]
  },
  {
   "cell_type": "code",
   "execution_count": 4,
   "metadata": {},
   "outputs": [
    {
     "data": {
      "text/plain": [
       "['From fairest creatures we desire increase ,',\n",
       " \"That thereby beauty's rose might never die ,\",\n",
       " 'But as the riper should by time decease ,',\n",
       " 'His tender heir might bear his memory:',\n",
       " 'But thou , contracted to thine own bright eyes ,',\n",
       " \"Feed'st thy light's flame with self-substantial fuel ,\",\n",
       " 'Making a famine where abundance lies ,',\n",
       " 'Thy self thy foe , to thy sweet self too cruel:',\n",
       " \"Thou that art now the world's fresh ornament ,\",\n",
       " 'And only herald to the gaudy spring ,']"
      ]
     },
     "execution_count": 4,
     "metadata": {},
     "output_type": "execute_result"
    }
   ],
   "source": [
    "punctations = [',', '!', '?']\n",
    "processed_corpus = []\n",
    "\n",
    "for i in corpus:\n",
    "    # removing extra spaces at start & end\n",
    "    i = i.strip()\n",
    "    \n",
    "    # excluding stanza numbers\n",
    "    if(len(i)>4):\n",
    "        for j in punctations:\n",
    "            i = i.replace(j, ' '+j)\n",
    "        processed_corpus.append(i)\n",
    "        \n",
    "processed_corpus[:10]"
   ]
  },
  {
   "cell_type": "markdown",
   "metadata": {},
   "source": [
    "## Tokenization"
   ]
  },
  {
   "cell_type": "code",
   "execution_count": 5,
   "metadata": {},
   "outputs": [],
   "source": [
    "tokenizer = tf.keras.preprocessing.text.Tokenizer(\n",
    "    num_words=None,\n",
    "    filters='\"#$%&()*+-./:;<=>@[\\\\]^_`{|}~\\t\\n',\n",
    "    lower=True,\n",
    "    split=' ',\n",
    "    char_level=False,\n",
    "    oov_token=None\n",
    ")\n",
    "\n",
    "tokenizer.fit_on_texts(processed_corpus)"
   ]
  },
  {
   "cell_type": "code",
   "execution_count": 6,
   "metadata": {},
   "outputs": [
    {
     "name": "stdout",
     "output_type": "stream",
     "text": [
      "Total words: 3296\n"
     ]
    }
   ],
   "source": [
    "total_intake = len(tokenizer.word_index) + 1\n",
    "print('Total words:', total_intake)\n",
    "# actual_words + punctuations + unknown_word"
   ]
  },
  {
   "cell_type": "markdown",
   "metadata": {},
   "source": [
    "## Mapping to sequences"
   ]
  },
  {
   "cell_type": "code",
   "execution_count": 7,
   "metadata": {},
   "outputs": [
    {
     "data": {
      "text/plain": [
       "[[37, 418, 875, 166, 215, 516, 1]]"
      ]
     },
     "execution_count": 7,
     "metadata": {},
     "output_type": "execute_result"
    }
   ],
   "source": [
    "# example of mapping\n",
    "tokenizer.texts_to_sequences([processed_corpus[0]])"
   ]
  },
  {
   "cell_type": "code",
   "execution_count": 8,
   "metadata": {},
   "outputs": [
    {
     "data": {
      "text/plain": [
       "[[37, 418],\n",
       " [37, 418, 875],\n",
       " [37, 418, 875, 166],\n",
       " [37, 418, 875, 166, 215],\n",
       " [37, 418, 875, 166, 215, 516],\n",
       " [37, 418, 875, 166, 215, 516, 1],\n",
       " [9, 876],\n",
       " [9, 876, 136],\n",
       " [9, 876, 136, 353],\n",
       " [9, 876, 136, 353, 104]]"
      ]
     },
     "execution_count": 8,
     "metadata": {},
     "output_type": "execute_result"
    }
   ],
   "source": [
    "sequences = []\n",
    "\n",
    "for line in processed_corpus:\n",
    "    token_list = tokenizer.texts_to_sequences([line])[0]\n",
    "    \n",
    "    for i in range(1, len(token_list)):\n",
    "        n_gram_seq = token_list[:(i+1)]\n",
    "        sequences.append(n_gram_seq)\n",
    "        \n",
    "sequences[:10]"
   ]
  },
  {
   "cell_type": "markdown",
   "metadata": {},
   "source": [
    "## Padding sequences"
   ]
  },
  {
   "cell_type": "code",
   "execution_count": 26,
   "metadata": {},
   "outputs": [],
   "source": [
    "pad_type = 'pre'"
   ]
  },
  {
   "cell_type": "code",
   "execution_count": 9,
   "metadata": {},
   "outputs": [
    {
     "data": {
      "text/plain": [
       "array([[  0,   0,   0,   0,   0,   0,   0,   0,   0,   0,   0,   0,   0,\n",
       "         37, 418],\n",
       "       [  0,   0,   0,   0,   0,   0,   0,   0,   0,   0,   0,   0,  37,\n",
       "        418, 875],\n",
       "       [  0,   0,   0,   0,   0,   0,   0,   0,   0,   0,   0,  37, 418,\n",
       "        875, 166],\n",
       "       [  0,   0,   0,   0,   0,   0,   0,   0,   0,   0,  37, 418, 875,\n",
       "        166, 215],\n",
       "       [  0,   0,   0,   0,   0,   0,   0,   0,   0,  37, 418, 875, 166,\n",
       "        215, 516],\n",
       "       [  0,   0,   0,   0,   0,   0,   0,   0,  37, 418, 875, 166, 215,\n",
       "        516,   1],\n",
       "       [  0,   0,   0,   0,   0,   0,   0,   0,   0,   0,   0,   0,   0,\n",
       "          9, 876],\n",
       "       [  0,   0,   0,   0,   0,   0,   0,   0,   0,   0,   0,   0,   9,\n",
       "        876, 136],\n",
       "       [  0,   0,   0,   0,   0,   0,   0,   0,   0,   0,   0,   9, 876,\n",
       "        136, 353],\n",
       "       [  0,   0,   0,   0,   0,   0,   0,   0,   0,   0,   9, 876, 136,\n",
       "        353, 104]])"
      ]
     },
     "execution_count": 9,
     "metadata": {},
     "output_type": "execute_result"
    }
   ],
   "source": [
    "max_length = max([len(x) for x in sequences])\n",
    "\n",
    "padded_sequences = tf.keras.preprocessing.sequence.pad_sequences(sequences, maxlen=max_length, padding=pad_type)\n",
    "padded_sequences[:10]"
   ]
  },
  {
   "cell_type": "markdown",
   "metadata": {},
   "source": [
    "## Splitting into predictors & labels"
   ]
  },
  {
   "cell_type": "code",
   "execution_count": 10,
   "metadata": {},
   "outputs": [],
   "source": [
    "predictors, labels = padded_sequences[:, :-1], padded_sequences[:, -1]"
   ]
  },
  {
   "cell_type": "code",
   "execution_count": 11,
   "metadata": {},
   "outputs": [
    {
     "data": {
      "text/plain": [
       "array([[  0,   0,   0,   0,   0,   0,   0,   0,   0,   0,   0,   0,   0,\n",
       "         37],\n",
       "       [  0,   0,   0,   0,   0,   0,   0,   0,   0,   0,   0,   0,  37,\n",
       "        418],\n",
       "       [  0,   0,   0,   0,   0,   0,   0,   0,   0,   0,   0,  37, 418,\n",
       "        875],\n",
       "       [  0,   0,   0,   0,   0,   0,   0,   0,   0,   0,  37, 418, 875,\n",
       "        166],\n",
       "       [  0,   0,   0,   0,   0,   0,   0,   0,   0,  37, 418, 875, 166,\n",
       "        215],\n",
       "       [  0,   0,   0,   0,   0,   0,   0,   0,  37, 418, 875, 166, 215,\n",
       "        516],\n",
       "       [  0,   0,   0,   0,   0,   0,   0,   0,   0,   0,   0,   0,   0,\n",
       "          9],\n",
       "       [  0,   0,   0,   0,   0,   0,   0,   0,   0,   0,   0,   0,   9,\n",
       "        876],\n",
       "       [  0,   0,   0,   0,   0,   0,   0,   0,   0,   0,   0,   9, 876,\n",
       "        136],\n",
       "       [  0,   0,   0,   0,   0,   0,   0,   0,   0,   0,   9, 876, 136,\n",
       "        353]])"
      ]
     },
     "execution_count": 11,
     "metadata": {},
     "output_type": "execute_result"
    }
   ],
   "source": [
    "predictors[:10]"
   ]
  },
  {
   "cell_type": "code",
   "execution_count": 12,
   "metadata": {},
   "outputs": [
    {
     "data": {
      "text/plain": [
       "array([418, 875, 166, 215, 516,   1, 876, 136, 353, 104])"
      ]
     },
     "execution_count": 12,
     "metadata": {},
     "output_type": "execute_result"
    }
   ],
   "source": [
    "labels[:10]"
   ]
  },
  {
   "cell_type": "markdown",
   "metadata": {},
   "source": [
    "## Converting labels to categorical-values"
   ]
  },
  {
   "cell_type": "code",
   "execution_count": 13,
   "metadata": {},
   "outputs": [
    {
     "data": {
      "text/plain": [
       "(17468, 3296)"
      ]
     },
     "execution_count": 13,
     "metadata": {},
     "output_type": "execute_result"
    }
   ],
   "source": [
    "categorical_labels = tf.keras.utils.to_categorical(labels, num_classes=total_intake)\n",
    "categorical_labels.shape"
   ]
  },
  {
   "cell_type": "markdown",
   "metadata": {},
   "source": [
    "## Creating model"
   ]
  },
  {
   "cell_type": "code",
   "execution_count": 14,
   "metadata": {},
   "outputs": [],
   "source": [
    "embedding_dim = 100"
   ]
  },
  {
   "cell_type": "code",
   "execution_count": 15,
   "metadata": {},
   "outputs": [
    {
     "name": "stdout",
     "output_type": "stream",
     "text": [
      "Model: \"sequential\"\n",
      "_________________________________________________________________\n",
      "Layer (type)                 Output Shape              Param #   \n",
      "=================================================================\n",
      "embedding (Embedding)        (None, 14, 100)           329600    \n",
      "_________________________________________________________________\n",
      "bidirectional (Bidirectional (None, 14, 300)           301200    \n",
      "_________________________________________________________________\n",
      "dropout (Dropout)            (None, 14, 300)           0         \n",
      "_________________________________________________________________\n",
      "lstm_1 (LSTM)                (None, 100)               160400    \n",
      "_________________________________________________________________\n",
      "dense (Dense)                (None, 1648)              166448    \n",
      "_________________________________________________________________\n",
      "dense_1 (Dense)              (None, 3296)              5435104   \n",
      "=================================================================\n",
      "Total params: 6,392,752\n",
      "Trainable params: 6,392,752\n",
      "Non-trainable params: 0\n",
      "_________________________________________________________________\n"
     ]
    }
   ],
   "source": [
    "model = tf.keras.Sequential([\n",
    "    tf.keras.layers.Embedding(input_dim=total_intake, output_dim=embedding_dim, input_length=(max_length-1)),\n",
    "    tf.keras.layers.Bidirectional(tf.keras.layers.LSTM(units=150, return_sequences=True)),\n",
    "    tf.keras.layers.Dropout(rate=0.2),\n",
    "    tf.keras.layers.LSTM(units=100),\n",
    "    tf.keras.layers.Dense(units=(total_intake//2), activation='relu', kernel_regularizer=tf.keras.regularizers.l2(0.01)),\n",
    "    tf.keras.layers.Dense(units=(total_intake), activation='softmax')\n",
    "])\n",
    "model.summary()"
   ]
  },
  {
   "cell_type": "markdown",
   "metadata": {},
   "source": [
    "## Compiling model"
   ]
  },
  {
   "cell_type": "code",
   "execution_count": 16,
   "metadata": {},
   "outputs": [],
   "source": [
    "model.compile(loss='categorical_crossentropy', optimizer='adam', metrics=['acc'])"
   ]
  },
  {
   "cell_type": "markdown",
   "metadata": {},
   "source": [
    "## Training model"
   ]
  },
  {
   "cell_type": "code",
   "execution_count": 17,
   "metadata": {},
   "outputs": [
    {
     "name": "stdout",
     "output_type": "stream",
     "text": [
      "Epoch 1/10\n",
      "546/546 [==============================] - 58s 106ms/step - loss: 6.5416 - acc: 0.1020\n",
      "Epoch 2/10\n",
      "546/546 [==============================] - 57s 105ms/step - loss: 6.1289 - acc: 0.1025\n",
      "Epoch 3/10\n",
      "546/546 [==============================] - 58s 105ms/step - loss: 6.0057 - acc: 0.1045\n",
      "Epoch 4/10\n",
      "546/546 [==============================] - 57s 105ms/step - loss: 5.8918 - acc: 0.1049\n",
      "Epoch 5/10\n",
      "546/546 [==============================] - 58s 106ms/step - loss: 5.8005 - acc: 0.1051\n",
      "Epoch 6/10\n",
      "546/546 [==============================] - 56s 102ms/step - loss: 5.7159 - acc: 0.1085\n",
      "Epoch 7/10\n",
      "546/546 [==============================] - 59s 108ms/step - loss: 5.6240 - acc: 0.1168\n",
      "Epoch 8/10\n",
      "546/546 [==============================] - 58s 106ms/step - loss: 5.5311 - acc: 0.1219\n",
      "Epoch 9/10\n",
      "546/546 [==============================] - 60s 110ms/step - loss: 5.4346 - acc: 0.1282\n",
      "Epoch 10/10\n",
      "546/546 [==============================] - 58s 106ms/step - loss: 5.3476 - acc: 0.1332\n"
     ]
    }
   ],
   "source": [
    "history = model.fit(x=predictors, y=categorical_labels, epochs=10, shuffle=True)"
   ]
  },
  {
   "cell_type": "markdown",
   "metadata": {},
   "source": [
    "+ The above model is depicting low accuracy as it is **only** trained for 10 epochs."
   ]
  },
  {
   "cell_type": "markdown",
   "metadata": {},
   "source": [
    "## Visualizing results"
   ]
  },
  {
   "cell_type": "code",
   "execution_count": 25,
   "metadata": {},
   "outputs": [
    {
     "data": {
      "text/plain": [
       "<matplotlib.legend.Legend at 0x1acc8e78408>"
      ]
     },
     "execution_count": 25,
     "metadata": {},
     "output_type": "execute_result"
    },
    {
     "data": {
      "image/png": "[encoded data removed]",
      "text/plain": [
       "<Figure size 864x360 with 2 Axes>"
      ]
     },
     "metadata": {
      "needs_background": "light"
     },
     "output_type": "display_data"
    }
   ],
   "source": [
    "acc = history.history['acc']\n",
    "loss = history.history['loss']\n",
    "epochs = range(len(acc))\n",
    "\n",
    "plt.figure(figsize=(12, 5))\n",
    "\n",
    "plt.subplot(1, 2, 1)\n",
    "plt.plot(epochs, acc, 'b', label='Training accuracy')\n",
    "plt.title('Training accuracy')\n",
    "plt.legend()\n",
    "\n",
    "plt.subplot(1, 2, 2)\n",
    "plt.plot(epochs, loss, 'r', label='Training Loss')\n",
    "plt.title('Training loss')\n",
    "plt.legend()"
   ]
  },
  {
   "cell_type": "markdown",
   "metadata": {},
   "source": [
    "## Testing"
   ]
  },
  {
   "cell_type": "code",
   "execution_count": 38,
   "metadata": {},
   "outputs": [
    {
     "name": "stdout",
     "output_type": "stream",
     "text": [
      "Help me Obi Wan Kenobi, you're my only hope, and my love, and thee,, and thee, to thee,\n"
     ]
    }
   ],
   "source": [
    "seed_text = \"Help me Obi Wan Kenobi, you're my only hope\"\n",
    "next_words = 15\n",
    "  \n",
    "for _ in range(next_words):\n",
    "    token_list = tokenizer.texts_to_sequences([seed_text])[0]\n",
    "    token_list = tf.keras.preprocessing.sequence.pad_sequences([token_list], maxlen=(max_length-1), padding=pad_type)\n",
    "    \n",
    "#     predicted = model.predict_classes(token_list)\n",
    "    predicted = np.argmax(model.predict(token_list), axis=-1)\n",
    "    \n",
    "    output_word = \"\"\n",
    "    for word, index in tokenizer.word_index.items():\n",
    "        if index == predicted:\n",
    "            output_word = word\n",
    "            break\n",
    "            \n",
    "    seed_text += ' ' + output_word\n",
    "    \n",
    "for i in punctations:    \n",
    "    seed_text = seed_text.replace(' '+i, i)\n",
    "print(seed_text)"
   ]
  }
 ],
 "metadata": {
  "kernelspec": {
   "display_name": "Python 3",
   "language": "python",
   "name": "python3"
  },
  "language_info": {
   "codemirror_mode": {
    "name": "ipython",
    "version": 3
   },
   "file_extension": ".py",
   "mimetype": "text/x-python",
   "name": "python",
   "nbconvert_exporter": "python",
   "pygments_lexer": "ipython3",
   "version": "3.7.6"
  },
  "toc": {
   "base_numbering": 1,
   "nav_menu": {},
   "number_sections": true,
   "sideBar": true,
   "skip_h1_title": false,
   "title_cell": "Table of Contents",
   "title_sidebar": "Contents",
   "toc_cell": false,
   "toc_position": {},
   "toc_section_display": true,
   "toc_window_display": false
  },
  "varInspector": {
   "cols": {
    "lenName": 16,
    "lenType": 16,
    "lenVar": 40
   },
   "kernels_config": {
    "python": {
     "delete_cmd_postfix": "",
     "delete_cmd_prefix": "del ",
     "library": "var_list.py",
     "varRefreshCmd": "print(var_dic_list())"
    },
    "r": {
     "delete_cmd_postfix": ") ",
     "delete_cmd_prefix": "rm(",
     "library": "var_list.r",
     "varRefreshCmd": "cat(var_dic_list()) "
    }
   },
   "types_to_exclude": [
    "module",
    "function",
    "builtin_function_or_method",
    "instance",
    "_Feature"
   ],
   "window_display": false
  }
 },
 "nbformat": 4,
 "nbformat_minor": 4
}
