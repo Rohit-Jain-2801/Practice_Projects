{
  "nbformat": 4,
  "nbformat_minor": 0,
  "metadata": {
    "colab": {
      "name": "Seq-to-Seq.ipynb",
      "provenance": [],
      "collapsed_sections": []
    },
    "kernelspec": {
      "name": "python3",
      "display_name": "Python 3"
    },
    "widgets": {
      "application/vnd.jupyter.widget-state+json": {
        "acbb4f8558fe4ecf99f5295c992e1f0f": {
          "model_module": "@jupyter-widgets/controls",
          "model_name": "HBoxModel",
          "state": {
            "_view_name": "HBoxView",
            "_dom_classes": [],
            "_model_name": "HBoxModel",
            "_view_module": "@jupyter-widgets/controls",
            "_model_module_version": "1.5.0",
            "_view_count": null,
            "_view_module_version": "1.5.0",
            "box_style": "",
            "layout": "IPY_MODEL_cc216adc45564f15845dbf7ffe41b943",
            "_model_module": "@jupyter-widgets/controls",
            "children": [
              "IPY_MODEL_dcb3330336344494b9edae6268289a41",
              "IPY_MODEL_76d537b74ee443eeb028459bf726c920"
            ]
          }
        },
        "cc216adc45564f15845dbf7ffe41b943": {
          "model_module": "@jupyter-widgets/base",
          "model_name": "LayoutModel",
          "state": {
            "_view_name": "LayoutView",
            "grid_template_rows": null,
            "right": null,
            "justify_content": null,
            "_view_module": "@jupyter-widgets/base",
            "overflow": null,
            "_model_module_version": "1.2.0",
            "_view_count": null,
            "flex_flow": null,
            "width": null,
            "min_width": null,
            "border": null,
            "align_items": null,
            "bottom": null,
            "_model_module": "@jupyter-widgets/base",
            "top": null,
            "grid_column": null,
            "overflow_y": null,
            "overflow_x": null,
            "grid_auto_flow": null,
            "grid_area": null,
            "grid_template_columns": null,
            "flex": null,
            "_model_name": "LayoutModel",
            "justify_items": null,
            "grid_row": null,
            "max_height": null,
            "align_content": null,
            "visibility": null,
            "align_self": null,
            "height": null,
            "min_height": null,
            "padding": null,
            "grid_auto_rows": null,
            "grid_gap": null,
            "max_width": null,
            "order": null,
            "_view_module_version": "1.2.0",
            "grid_template_areas": null,
            "object_position": null,
            "object_fit": null,
            "grid_auto_columns": null,
            "margin": null,
            "display": null,
            "left": null
          }
        },
        "dcb3330336344494b9edae6268289a41": {
          "model_module": "@jupyter-widgets/controls",
          "model_name": "FloatProgressModel",
          "state": {
            "_view_name": "ProgressView",
            "style": "IPY_MODEL_8483a02c04e149c4927f09cd8365c4ac",
            "_dom_classes": [],
            "description": "Epoch - 1: 100%",
            "_model_name": "FloatProgressModel",
            "bar_style": "success",
            "max": 2426,
            "_view_module": "@jupyter-widgets/controls",
            "_model_module_version": "1.5.0",
            "value": 2426,
            "_view_count": null,
            "_view_module_version": "1.5.0",
            "orientation": "horizontal",
            "min": 0,
            "description_tooltip": null,
            "_model_module": "@jupyter-widgets/controls",
            "layout": "IPY_MODEL_a0bbcbbb963a4ec3b94cda2faf1f45ba"
          }
        },
        "76d537b74ee443eeb028459bf726c920": {
          "model_module": "@jupyter-widgets/controls",
          "model_name": "HTMLModel",
          "state": {
            "_view_name": "HTMLView",
            "style": "IPY_MODEL_518c016ed95447ce8fe06419a26748ec",
            "_dom_classes": [],
            "description": "",
            "_model_name": "HTMLModel",
            "placeholder": "​",
            "_view_module": "@jupyter-widgets/controls",
            "_model_module_version": "1.5.0",
            "value": " 2426/2426 [51:44&lt;00:00,  1.28s/it]",
            "_view_count": null,
            "_view_module_version": "1.5.0",
            "description_tooltip": null,
            "_model_module": "@jupyter-widgets/controls",
            "layout": "IPY_MODEL_9b78eb28862b4eddb120c9fc29f7cbde"
          }
        },
        "8483a02c04e149c4927f09cd8365c4ac": {
          "model_module": "@jupyter-widgets/controls",
          "model_name": "ProgressStyleModel",
          "state": {
            "_view_name": "StyleView",
            "_model_name": "ProgressStyleModel",
            "description_width": "initial",
            "_view_module": "@jupyter-widgets/base",
            "_model_module_version": "1.5.0",
            "_view_count": null,
            "_view_module_version": "1.2.0",
            "bar_color": null,
            "_model_module": "@jupyter-widgets/controls"
          }
        },
        "a0bbcbbb963a4ec3b94cda2faf1f45ba": {
          "model_module": "@jupyter-widgets/base",
          "model_name": "LayoutModel",
          "state": {
            "_view_name": "LayoutView",
            "grid_template_rows": null,
            "right": null,
            "justify_content": null,
            "_view_module": "@jupyter-widgets/base",
            "overflow": null,
            "_model_module_version": "1.2.0",
            "_view_count": null,
            "flex_flow": null,
            "width": null,
            "min_width": null,
            "border": null,
            "align_items": null,
            "bottom": null,
            "_model_module": "@jupyter-widgets/base",
            "top": null,
            "grid_column": null,
            "overflow_y": null,
            "overflow_x": null,
            "grid_auto_flow": null,
            "grid_area": null,
            "grid_template_columns": null,
            "flex": null,
            "_model_name": "LayoutModel",
            "justify_items": null,
            "grid_row": null,
            "max_height": null,
            "align_content": null,
            "visibility": null,
            "align_self": null,
            "height": null,
            "min_height": null,
            "padding": null,
            "grid_auto_rows": null,
            "grid_gap": null,
            "max_width": null,
            "order": null,
            "_view_module_version": "1.2.0",
            "grid_template_areas": null,
            "object_position": null,
            "object_fit": null,
            "grid_auto_columns": null,
            "margin": null,
            "display": null,
            "left": null
          }
        },
        "518c016ed95447ce8fe06419a26748ec": {
          "model_module": "@jupyter-widgets/controls",
          "model_name": "DescriptionStyleModel",
          "state": {
            "_view_name": "StyleView",
            "_model_name": "DescriptionStyleModel",
            "description_width": "",
            "_view_module": "@jupyter-widgets/base",
            "_model_module_version": "1.5.0",
            "_view_count": null,
            "_view_module_version": "1.2.0",
            "_model_module": "@jupyter-widgets/controls"
          }
        },
        "9b78eb28862b4eddb120c9fc29f7cbde": {
          "model_module": "@jupyter-widgets/base",
          "model_name": "LayoutModel",
          "state": {
            "_view_name": "LayoutView",
            "grid_template_rows": null,
            "right": null,
            "justify_content": null,
            "_view_module": "@jupyter-widgets/base",
            "overflow": null,
            "_model_module_version": "1.2.0",
            "_view_count": null,
            "flex_flow": null,
            "width": null,
            "min_width": null,
            "border": null,
            "align_items": null,
            "bottom": null,
            "_model_module": "@jupyter-widgets/base",
            "top": null,
            "grid_column": null,
            "overflow_y": null,
            "overflow_x": null,
            "grid_auto_flow": null,
            "grid_area": null,
            "grid_template_columns": null,
            "flex": null,
            "_model_name": "LayoutModel",
            "justify_items": null,
            "grid_row": null,
            "max_height": null,
            "align_content": null,
            "visibility": null,
            "align_self": null,
            "height": null,
            "min_height": null,
            "padding": null,
            "grid_auto_rows": null,
            "grid_gap": null,
            "max_width": null,
            "order": null,
            "_view_module_version": "1.2.0",
            "grid_template_areas": null,
            "object_position": null,
            "object_fit": null,
            "grid_auto_columns": null,
            "margin": null,
            "display": null,
            "left": null
          }
        },
        "7c275f80c97c49a0a19834cb003de685": {
          "model_module": "@jupyter-widgets/controls",
          "model_name": "HBoxModel",
          "state": {
            "_view_name": "HBoxView",
            "_dom_classes": [],
            "_model_name": "HBoxModel",
            "_view_module": "@jupyter-widgets/controls",
            "_model_module_version": "1.5.0",
            "_view_count": null,
            "_view_module_version": "1.5.0",
            "box_style": "",
            "layout": "IPY_MODEL_755bf0be3bf142008ec1f2356e59bcb3",
            "_model_module": "@jupyter-widgets/controls",
            "children": [
              "IPY_MODEL_1d5323576fbd4bb0a47b819b081e0729",
              "IPY_MODEL_b3f360266dec4c9982a954e6252540c4"
            ]
          }
        },
        "755bf0be3bf142008ec1f2356e59bcb3": {
          "model_module": "@jupyter-widgets/base",
          "model_name": "LayoutModel",
          "state": {
            "_view_name": "LayoutView",
            "grid_template_rows": null,
            "right": null,
            "justify_content": null,
            "_view_module": "@jupyter-widgets/base",
            "overflow": null,
            "_model_module_version": "1.2.0",
            "_view_count": null,
            "flex_flow": null,
            "width": null,
            "min_width": null,
            "border": null,
            "align_items": null,
            "bottom": null,
            "_model_module": "@jupyter-widgets/base",
            "top": null,
            "grid_column": null,
            "overflow_y": null,
            "overflow_x": null,
            "grid_auto_flow": null,
            "grid_area": null,
            "grid_template_columns": null,
            "flex": null,
            "_model_name": "LayoutModel",
            "justify_items": null,
            "grid_row": null,
            "max_height": null,
            "align_content": null,
            "visibility": null,
            "align_self": null,
            "height": null,
            "min_height": null,
            "padding": null,
            "grid_auto_rows": null,
            "grid_gap": null,
            "max_width": null,
            "order": null,
            "_view_module_version": "1.2.0",
            "grid_template_areas": null,
            "object_position": null,
            "object_fit": null,
            "grid_auto_columns": null,
            "margin": null,
            "display": null,
            "left": null
          }
        },
        "1d5323576fbd4bb0a47b819b081e0729": {
          "model_module": "@jupyter-widgets/controls",
          "model_name": "FloatProgressModel",
          "state": {
            "_view_name": "ProgressView",
            "style": "IPY_MODEL_2eaaea9fdcd54db79fa938cb5a0c37f6",
            "_dom_classes": [],
            "description": "Epoch - 2: 100%",
            "_model_name": "FloatProgressModel",
            "bar_style": "success",
            "max": 2426,
            "_view_module": "@jupyter-widgets/controls",
            "_model_module_version": "1.5.0",
            "value": 2426,
            "_view_count": null,
            "_view_module_version": "1.5.0",
            "orientation": "horizontal",
            "min": 0,
            "description_tooltip": null,
            "_model_module": "@jupyter-widgets/controls",
            "layout": "IPY_MODEL_e66faf0484fb4bf59d564be93503dbfe"
          }
        },
        "b3f360266dec4c9982a954e6252540c4": {
          "model_module": "@jupyter-widgets/controls",
          "model_name": "HTMLModel",
          "state": {
            "_view_name": "HTMLView",
            "style": "IPY_MODEL_45cbf1c7427c4f5b9a1f67225d7a5de3",
            "_dom_classes": [],
            "description": "",
            "_model_name": "HTMLModel",
            "placeholder": "​",
            "_view_module": "@jupyter-widgets/controls",
            "_model_module_version": "1.5.0",
            "value": " 2426/2426 [00:56&lt;00:00, 42.94it/s]",
            "_view_count": null,
            "_view_module_version": "1.5.0",
            "description_tooltip": null,
            "_model_module": "@jupyter-widgets/controls",
            "layout": "IPY_MODEL_f4bac13dae144ceb8c2afd4b87623eea"
          }
        },
        "2eaaea9fdcd54db79fa938cb5a0c37f6": {
          "model_module": "@jupyter-widgets/controls",
          "model_name": "ProgressStyleModel",
          "state": {
            "_view_name": "StyleView",
            "_model_name": "ProgressStyleModel",
            "description_width": "initial",
            "_view_module": "@jupyter-widgets/base",
            "_model_module_version": "1.5.0",
            "_view_count": null,
            "_view_module_version": "1.2.0",
            "bar_color": null,
            "_model_module": "@jupyter-widgets/controls"
          }
        },
        "e66faf0484fb4bf59d564be93503dbfe": {
          "model_module": "@jupyter-widgets/base",
          "model_name": "LayoutModel",
          "state": {
            "_view_name": "LayoutView",
            "grid_template_rows": null,
            "right": null,
            "justify_content": null,
            "_view_module": "@jupyter-widgets/base",
            "overflow": null,
            "_model_module_version": "1.2.0",
            "_view_count": null,
            "flex_flow": null,
            "width": null,
            "min_width": null,
            "border": null,
            "align_items": null,
            "bottom": null,
            "_model_module": "@jupyter-widgets/base",
            "top": null,
            "grid_column": null,
            "overflow_y": null,
            "overflow_x": null,
            "grid_auto_flow": null,
            "grid_area": null,
            "grid_template_columns": null,
            "flex": null,
            "_model_name": "LayoutModel",
            "justify_items": null,
            "grid_row": null,
            "max_height": null,
            "align_content": null,
            "visibility": null,
            "align_self": null,
            "height": null,
            "min_height": null,
            "padding": null,
            "grid_auto_rows": null,
            "grid_gap": null,
            "max_width": null,
            "order": null,
            "_view_module_version": "1.2.0",
            "grid_template_areas": null,
            "object_position": null,
            "object_fit": null,
            "grid_auto_columns": null,
            "margin": null,
            "display": null,
            "left": null
          }
        },
        "45cbf1c7427c4f5b9a1f67225d7a5de3": {
          "model_module": "@jupyter-widgets/controls",
          "model_name": "DescriptionStyleModel",
          "state": {
            "_view_name": "StyleView",
            "_model_name": "DescriptionStyleModel",
            "description_width": "",
            "_view_module": "@jupyter-widgets/base",
            "_model_module_version": "1.5.0",
            "_view_count": null,
            "_view_module_version": "1.2.0",
            "_model_module": "@jupyter-widgets/controls"
          }
        },
        "f4bac13dae144ceb8c2afd4b87623eea": {
          "model_module": "@jupyter-widgets/base",
          "model_name": "LayoutModel",
          "state": {
            "_view_name": "LayoutView",
            "grid_template_rows": null,
            "right": null,
            "justify_content": null,
            "_view_module": "@jupyter-widgets/base",
            "overflow": null,
            "_model_module_version": "1.2.0",
            "_view_count": null,
            "flex_flow": null,
            "width": null,
            "min_width": null,
            "border": null,
            "align_items": null,
            "bottom": null,
            "_model_module": "@jupyter-widgets/base",
            "top": null,
            "grid_column": null,
            "overflow_y": null,
            "overflow_x": null,
            "grid_auto_flow": null,
            "grid_area": null,
            "grid_template_columns": null,
            "flex": null,
            "_model_name": "LayoutModel",
            "justify_items": null,
            "grid_row": null,
            "max_height": null,
            "align_content": null,
            "visibility": null,
            "align_self": null,
            "height": null,
            "min_height": null,
            "padding": null,
            "grid_auto_rows": null,
            "grid_gap": null,
            "max_width": null,
            "order": null,
            "_view_module_version": "1.2.0",
            "grid_template_areas": null,
            "object_position": null,
            "object_fit": null,
            "grid_auto_columns": null,
            "margin": null,
            "display": null,
            "left": null
          }
        },
        "c3191780f8754c5caceb1e7e95be25e2": {
          "model_module": "@jupyter-widgets/controls",
          "model_name": "HBoxModel",
          "state": {
            "_view_name": "HBoxView",
            "_dom_classes": [],
            "_model_name": "HBoxModel",
            "_view_module": "@jupyter-widgets/controls",
            "_model_module_version": "1.5.0",
            "_view_count": null,
            "_view_module_version": "1.5.0",
            "box_style": "",
            "layout": "IPY_MODEL_ca2b396d5bd14777a0b92a1b59993ccd",
            "_model_module": "@jupyter-widgets/controls",
            "children": [
              "IPY_MODEL_8ae4ba0efaec49bc99aa28b3d510d92e",
              "IPY_MODEL_058a195ad2124ab29858cd750e9997b0"
            ]
          }
        },
        "ca2b396d5bd14777a0b92a1b59993ccd": {
          "model_module": "@jupyter-widgets/base",
          "model_name": "LayoutModel",
          "state": {
            "_view_name": "LayoutView",
            "grid_template_rows": null,
            "right": null,
            "justify_content": null,
            "_view_module": "@jupyter-widgets/base",
            "overflow": null,
            "_model_module_version": "1.2.0",
            "_view_count": null,
            "flex_flow": null,
            "width": null,
            "min_width": null,
            "border": null,
            "align_items": null,
            "bottom": null,
            "_model_module": "@jupyter-widgets/base",
            "top": null,
            "grid_column": null,
            "overflow_y": null,
            "overflow_x": null,
            "grid_auto_flow": null,
            "grid_area": null,
            "grid_template_columns": null,
            "flex": null,
            "_model_name": "LayoutModel",
            "justify_items": null,
            "grid_row": null,
            "max_height": null,
            "align_content": null,
            "visibility": null,
            "align_self": null,
            "height": null,
            "min_height": null,
            "padding": null,
            "grid_auto_rows": null,
            "grid_gap": null,
            "max_width": null,
            "order": null,
            "_view_module_version": "1.2.0",
            "grid_template_areas": null,
            "object_position": null,
            "object_fit": null,
            "grid_auto_columns": null,
            "margin": null,
            "display": null,
            "left": null
          }
        },
        "8ae4ba0efaec49bc99aa28b3d510d92e": {
          "model_module": "@jupyter-widgets/controls",
          "model_name": "FloatProgressModel",
          "state": {
            "_view_name": "ProgressView",
            "style": "IPY_MODEL_16a48e3dec334b13b1ca9d9c975ffca7",
            "_dom_classes": [],
            "description": "Epoch - 3: 100%",
            "_model_name": "FloatProgressModel",
            "bar_style": "success",
            "max": 2426,
            "_view_module": "@jupyter-widgets/controls",
            "_model_module_version": "1.5.0",
            "value": 2426,
            "_view_count": null,
            "_view_module_version": "1.5.0",
            "orientation": "horizontal",
            "min": 0,
            "description_tooltip": null,
            "_model_module": "@jupyter-widgets/controls",
            "layout": "IPY_MODEL_0da7a59f49ba4a5db73b032ab7835b6e"
          }
        },
        "058a195ad2124ab29858cd750e9997b0": {
          "model_module": "@jupyter-widgets/controls",
          "model_name": "HTMLModel",
          "state": {
            "_view_name": "HTMLView",
            "style": "IPY_MODEL_44e16e217362489bbb999893a58c523a",
            "_dom_classes": [],
            "description": "",
            "_model_name": "HTMLModel",
            "placeholder": "​",
            "_view_module": "@jupyter-widgets/controls",
            "_model_module_version": "1.5.0",
            "value": " 2426/2426 [07:31&lt;00:00,  5.38it/s]",
            "_view_count": null,
            "_view_module_version": "1.5.0",
            "description_tooltip": null,
            "_model_module": "@jupyter-widgets/controls",
            "layout": "IPY_MODEL_52e804df5fa24c5b9a78c1288ecfcef3"
          }
        },
        "16a48e3dec334b13b1ca9d9c975ffca7": {
          "model_module": "@jupyter-widgets/controls",
          "model_name": "ProgressStyleModel",
          "state": {
            "_view_name": "StyleView",
            "_model_name": "ProgressStyleModel",
            "description_width": "initial",
            "_view_module": "@jupyter-widgets/base",
            "_model_module_version": "1.5.0",
            "_view_count": null,
            "_view_module_version": "1.2.0",
            "bar_color": null,
            "_model_module": "@jupyter-widgets/controls"
          }
        },
        "0da7a59f49ba4a5db73b032ab7835b6e": {
          "model_module": "@jupyter-widgets/base",
          "model_name": "LayoutModel",
          "state": {
            "_view_name": "LayoutView",
            "grid_template_rows": null,
            "right": null,
            "justify_content": null,
            "_view_module": "@jupyter-widgets/base",
            "overflow": null,
            "_model_module_version": "1.2.0",
            "_view_count": null,
            "flex_flow": null,
            "width": null,
            "min_width": null,
            "border": null,
            "align_items": null,
            "bottom": null,
            "_model_module": "@jupyter-widgets/base",
            "top": null,
            "grid_column": null,
            "overflow_y": null,
            "overflow_x": null,
            "grid_auto_flow": null,
            "grid_area": null,
            "grid_template_columns": null,
            "flex": null,
            "_model_name": "LayoutModel",
            "justify_items": null,
            "grid_row": null,
            "max_height": null,
            "align_content": null,
            "visibility": null,
            "align_self": null,
            "height": null,
            "min_height": null,
            "padding": null,
            "grid_auto_rows": null,
            "grid_gap": null,
            "max_width": null,
            "order": null,
            "_view_module_version": "1.2.0",
            "grid_template_areas": null,
            "object_position": null,
            "object_fit": null,
            "grid_auto_columns": null,
            "margin": null,
            "display": null,
            "left": null
          }
        },
        "44e16e217362489bbb999893a58c523a": {
          "model_module": "@jupyter-widgets/controls",
          "model_name": "DescriptionStyleModel",
          "state": {
            "_view_name": "StyleView",
            "_model_name": "DescriptionStyleModel",
            "description_width": "",
            "_view_module": "@jupyter-widgets/base",
            "_model_module_version": "1.5.0",
            "_view_count": null,
            "_view_module_version": "1.2.0",
            "_model_module": "@jupyter-widgets/controls"
          }
        },
        "52e804df5fa24c5b9a78c1288ecfcef3": {
          "model_module": "@jupyter-widgets/base",
          "model_name": "LayoutModel",
          "state": {
            "_view_name": "LayoutView",
            "grid_template_rows": null,
            "right": null,
            "justify_content": null,
            "_view_module": "@jupyter-widgets/base",
            "overflow": null,
            "_model_module_version": "1.2.0",
            "_view_count": null,
            "flex_flow": null,
            "width": null,
            "min_width": null,
            "border": null,
            "align_items": null,
            "bottom": null,
            "_model_module": "@jupyter-widgets/base",
            "top": null,
            "grid_column": null,
            "overflow_y": null,
            "overflow_x": null,
            "grid_auto_flow": null,
            "grid_area": null,
            "grid_template_columns": null,
            "flex": null,
            "_model_name": "LayoutModel",
            "justify_items": null,
            "grid_row": null,
            "max_height": null,
            "align_content": null,
            "visibility": null,
            "align_self": null,
            "height": null,
            "min_height": null,
            "padding": null,
            "grid_auto_rows": null,
            "grid_gap": null,
            "max_width": null,
            "order": null,
            "_view_module_version": "1.2.0",
            "grid_template_areas": null,
            "object_position": null,
            "object_fit": null,
            "grid_auto_columns": null,
            "margin": null,
            "display": null,
            "left": null
          }
        },
        "b96ee0315d474050949cfa834b6cecc0": {
          "model_module": "@jupyter-widgets/controls",
          "model_name": "HBoxModel",
          "state": {
            "_view_name": "HBoxView",
            "_dom_classes": [],
            "_model_name": "HBoxModel",
            "_view_module": "@jupyter-widgets/controls",
            "_model_module_version": "1.5.0",
            "_view_count": null,
            "_view_module_version": "1.5.0",
            "box_style": "",
            "layout": "IPY_MODEL_443c1e87a65341a59790d631d2a2cbc9",
            "_model_module": "@jupyter-widgets/controls",
            "children": [
              "IPY_MODEL_57945b5caf2349a8aa4fcf27effe9d34",
              "IPY_MODEL_364793162d814405b16d168f06a03c18"
            ]
          }
        },
        "443c1e87a65341a59790d631d2a2cbc9": {
          "model_module": "@jupyter-widgets/base",
          "model_name": "LayoutModel",
          "state": {
            "_view_name": "LayoutView",
            "grid_template_rows": null,
            "right": null,
            "justify_content": null,
            "_view_module": "@jupyter-widgets/base",
            "overflow": null,
            "_model_module_version": "1.2.0",
            "_view_count": null,
            "flex_flow": null,
            "width": null,
            "min_width": null,
            "border": null,
            "align_items": null,
            "bottom": null,
            "_model_module": "@jupyter-widgets/base",
            "top": null,
            "grid_column": null,
            "overflow_y": null,
            "overflow_x": null,
            "grid_auto_flow": null,
            "grid_area": null,
            "grid_template_columns": null,
            "flex": null,
            "_model_name": "LayoutModel",
            "justify_items": null,
            "grid_row": null,
            "max_height": null,
            "align_content": null,
            "visibility": null,
            "align_self": null,
            "height": null,
            "min_height": null,
            "padding": null,
            "grid_auto_rows": null,
            "grid_gap": null,
            "max_width": null,
            "order": null,
            "_view_module_version": "1.2.0",
            "grid_template_areas": null,
            "object_position": null,
            "object_fit": null,
            "grid_auto_columns": null,
            "margin": null,
            "display": null,
            "left": null
          }
        },
        "57945b5caf2349a8aa4fcf27effe9d34": {
          "model_module": "@jupyter-widgets/controls",
          "model_name": "FloatProgressModel",
          "state": {
            "_view_name": "ProgressView",
            "style": "IPY_MODEL_1fda025025a148b9b78b2e318761811b",
            "_dom_classes": [],
            "description": "Epoch - 4: 100%",
            "_model_name": "FloatProgressModel",
            "bar_style": "success",
            "max": 2426,
            "_view_module": "@jupyter-widgets/controls",
            "_model_module_version": "1.5.0",
            "value": 2426,
            "_view_count": null,
            "_view_module_version": "1.5.0",
            "orientation": "horizontal",
            "min": 0,
            "description_tooltip": null,
            "_model_module": "@jupyter-widgets/controls",
            "layout": "IPY_MODEL_8f6deed20d794b5b9b0bc903f506c9f4"
          }
        },
        "364793162d814405b16d168f06a03c18": {
          "model_module": "@jupyter-widgets/controls",
          "model_name": "HTMLModel",
          "state": {
            "_view_name": "HTMLView",
            "style": "IPY_MODEL_08ef43de15c243e8ba1249ace7534603",
            "_dom_classes": [],
            "description": "",
            "_model_name": "HTMLModel",
            "placeholder": "​",
            "_view_module": "@jupyter-widgets/controls",
            "_model_module_version": "1.5.0",
            "value": " 2426/2426 [01:52&lt;00:00, 21.57it/s]",
            "_view_count": null,
            "_view_module_version": "1.5.0",
            "description_tooltip": null,
            "_model_module": "@jupyter-widgets/controls",
            "layout": "IPY_MODEL_854da0c214934450958303a165f34def"
          }
        },
        "1fda025025a148b9b78b2e318761811b": {
          "model_module": "@jupyter-widgets/controls",
          "model_name": "ProgressStyleModel",
          "state": {
            "_view_name": "StyleView",
            "_model_name": "ProgressStyleModel",
            "description_width": "initial",
            "_view_module": "@jupyter-widgets/base",
            "_model_module_version": "1.5.0",
            "_view_count": null,
            "_view_module_version": "1.2.0",
            "bar_color": null,
            "_model_module": "@jupyter-widgets/controls"
          }
        },
        "8f6deed20d794b5b9b0bc903f506c9f4": {
          "model_module": "@jupyter-widgets/base",
          "model_name": "LayoutModel",
          "state": {
            "_view_name": "LayoutView",
            "grid_template_rows": null,
            "right": null,
            "justify_content": null,
            "_view_module": "@jupyter-widgets/base",
            "overflow": null,
            "_model_module_version": "1.2.0",
            "_view_count": null,
            "flex_flow": null,
            "width": null,
            "min_width": null,
            "border": null,
            "align_items": null,
            "bottom": null,
            "_model_module": "@jupyter-widgets/base",
            "top": null,
            "grid_column": null,
            "overflow_y": null,
            "overflow_x": null,
            "grid_auto_flow": null,
            "grid_area": null,
            "grid_template_columns": null,
            "flex": null,
            "_model_name": "LayoutModel",
            "justify_items": null,
            "grid_row": null,
            "max_height": null,
            "align_content": null,
            "visibility": null,
            "align_self": null,
            "height": null,
            "min_height": null,
            "padding": null,
            "grid_auto_rows": null,
            "grid_gap": null,
            "max_width": null,
            "order": null,
            "_view_module_version": "1.2.0",
            "grid_template_areas": null,
            "object_position": null,
            "object_fit": null,
            "grid_auto_columns": null,
            "margin": null,
            "display": null,
            "left": null
          }
        },
        "08ef43de15c243e8ba1249ace7534603": {
          "model_module": "@jupyter-widgets/controls",
          "model_name": "DescriptionStyleModel",
          "state": {
            "_view_name": "StyleView",
            "_model_name": "DescriptionStyleModel",
            "description_width": "",
            "_view_module": "@jupyter-widgets/base",
            "_model_module_version": "1.5.0",
            "_view_count": null,
            "_view_module_version": "1.2.0",
            "_model_module": "@jupyter-widgets/controls"
          }
        },
        "854da0c214934450958303a165f34def": {
          "model_module": "@jupyter-widgets/base",
          "model_name": "LayoutModel",
          "state": {
            "_view_name": "LayoutView",
            "grid_template_rows": null,
            "right": null,
            "justify_content": null,
            "_view_module": "@jupyter-widgets/base",
            "overflow": null,
            "_model_module_version": "1.2.0",
            "_view_count": null,
            "flex_flow": null,
            "width": null,
            "min_width": null,
            "border": null,
            "align_items": null,
            "bottom": null,
            "_model_module": "@jupyter-widgets/base",
            "top": null,
            "grid_column": null,
            "overflow_y": null,
            "overflow_x": null,
            "grid_auto_flow": null,
            "grid_area": null,
            "grid_template_columns": null,
            "flex": null,
            "_model_name": "LayoutModel",
            "justify_items": null,
            "grid_row": null,
            "max_height": null,
            "align_content": null,
            "visibility": null,
            "align_self": null,
            "height": null,
            "min_height": null,
            "padding": null,
            "grid_auto_rows": null,
            "grid_gap": null,
            "max_width": null,
            "order": null,
            "_view_module_version": "1.2.0",
            "grid_template_areas": null,
            "object_position": null,
            "object_fit": null,
            "grid_auto_columns": null,
            "margin": null,
            "display": null,
            "left": null
          }
        },
        "7c5b0ef281e94a4fb9e28d5a44e281c8": {
          "model_module": "@jupyter-widgets/controls",
          "model_name": "HBoxModel",
          "state": {
            "_view_name": "HBoxView",
            "_dom_classes": [],
            "_model_name": "HBoxModel",
            "_view_module": "@jupyter-widgets/controls",
            "_model_module_version": "1.5.0",
            "_view_count": null,
            "_view_module_version": "1.5.0",
            "box_style": "",
            "layout": "IPY_MODEL_d02fd7483e494aba8b5736754a0ec501",
            "_model_module": "@jupyter-widgets/controls",
            "children": [
              "IPY_MODEL_8d5f690b8afd40518a651e369f0a940c",
              "IPY_MODEL_c330baee24934976b14228107586c56a"
            ]
          }
        },
        "d02fd7483e494aba8b5736754a0ec501": {
          "model_module": "@jupyter-widgets/base",
          "model_name": "LayoutModel",
          "state": {
            "_view_name": "LayoutView",
            "grid_template_rows": null,
            "right": null,
            "justify_content": null,
            "_view_module": "@jupyter-widgets/base",
            "overflow": null,
            "_model_module_version": "1.2.0",
            "_view_count": null,
            "flex_flow": null,
            "width": null,
            "min_width": null,
            "border": null,
            "align_items": null,
            "bottom": null,
            "_model_module": "@jupyter-widgets/base",
            "top": null,
            "grid_column": null,
            "overflow_y": null,
            "overflow_x": null,
            "grid_auto_flow": null,
            "grid_area": null,
            "grid_template_columns": null,
            "flex": null,
            "_model_name": "LayoutModel",
            "justify_items": null,
            "grid_row": null,
            "max_height": null,
            "align_content": null,
            "visibility": null,
            "align_self": null,
            "height": null,
            "min_height": null,
            "padding": null,
            "grid_auto_rows": null,
            "grid_gap": null,
            "max_width": null,
            "order": null,
            "_view_module_version": "1.2.0",
            "grid_template_areas": null,
            "object_position": null,
            "object_fit": null,
            "grid_auto_columns": null,
            "margin": null,
            "display": null,
            "left": null
          }
        },
        "8d5f690b8afd40518a651e369f0a940c": {
          "model_module": "@jupyter-widgets/controls",
          "model_name": "FloatProgressModel",
          "state": {
            "_view_name": "ProgressView",
            "style": "IPY_MODEL_8d17c3c2e3be41f7993a46170fa02a04",
            "_dom_classes": [],
            "description": "Epoch - 5: 100%",
            "_model_name": "FloatProgressModel",
            "bar_style": "success",
            "max": 2426,
            "_view_module": "@jupyter-widgets/controls",
            "_model_module_version": "1.5.0",
            "value": 2426,
            "_view_count": null,
            "_view_module_version": "1.5.0",
            "orientation": "horizontal",
            "min": 0,
            "description_tooltip": null,
            "_model_module": "@jupyter-widgets/controls",
            "layout": "IPY_MODEL_a3feb119c4084597a7768caae1f52783"
          }
        },
        "c330baee24934976b14228107586c56a": {
          "model_module": "@jupyter-widgets/controls",
          "model_name": "HTMLModel",
          "state": {
            "_view_name": "HTMLView",
            "style": "IPY_MODEL_3677152278644d4b8c91fce74c51f3b7",
            "_dom_classes": [],
            "description": "",
            "_model_name": "HTMLModel",
            "placeholder": "​",
            "_view_module": "@jupyter-widgets/controls",
            "_model_module_version": "1.5.0",
            "value": " 2426/2426 [00:56&lt;00:00, 42.90it/s]",
            "_view_count": null,
            "_view_module_version": "1.5.0",
            "description_tooltip": null,
            "_model_module": "@jupyter-widgets/controls",
            "layout": "IPY_MODEL_03baefe2a59443bfba5bd3a3722d1992"
          }
        },
        "8d17c3c2e3be41f7993a46170fa02a04": {
          "model_module": "@jupyter-widgets/controls",
          "model_name": "ProgressStyleModel",
          "state": {
            "_view_name": "StyleView",
            "_model_name": "ProgressStyleModel",
            "description_width": "initial",
            "_view_module": "@jupyter-widgets/base",
            "_model_module_version": "1.5.0",
            "_view_count": null,
            "_view_module_version": "1.2.0",
            "bar_color": null,
            "_model_module": "@jupyter-widgets/controls"
          }
        },
        "a3feb119c4084597a7768caae1f52783": {
          "model_module": "@jupyter-widgets/base",
          "model_name": "LayoutModel",
          "state": {
            "_view_name": "LayoutView",
            "grid_template_rows": null,
            "right": null,
            "justify_content": null,
            "_view_module": "@jupyter-widgets/base",
            "overflow": null,
            "_model_module_version": "1.2.0",
            "_view_count": null,
            "flex_flow": null,
            "width": null,
            "min_width": null,
            "border": null,
            "align_items": null,
            "bottom": null,
            "_model_module": "@jupyter-widgets/base",
            "top": null,
            "grid_column": null,
            "overflow_y": null,
            "overflow_x": null,
            "grid_auto_flow": null,
            "grid_area": null,
            "grid_template_columns": null,
            "flex": null,
            "_model_name": "LayoutModel",
            "justify_items": null,
            "grid_row": null,
            "max_height": null,
            "align_content": null,
            "visibility": null,
            "align_self": null,
            "height": null,
            "min_height": null,
            "padding": null,
            "grid_auto_rows": null,
            "grid_gap": null,
            "max_width": null,
            "order": null,
            "_view_module_version": "1.2.0",
            "grid_template_areas": null,
            "object_position": null,
            "object_fit": null,
            "grid_auto_columns": null,
            "margin": null,
            "display": null,
            "left": null
          }
        },
        "3677152278644d4b8c91fce74c51f3b7": {
          "model_module": "@jupyter-widgets/controls",
          "model_name": "DescriptionStyleModel",
          "state": {
            "_view_name": "StyleView",
            "_model_name": "DescriptionStyleModel",
            "description_width": "",
            "_view_module": "@jupyter-widgets/base",
            "_model_module_version": "1.5.0",
            "_view_count": null,
            "_view_module_version": "1.2.0",
            "_model_module": "@jupyter-widgets/controls"
          }
        },
        "03baefe2a59443bfba5bd3a3722d1992": {
          "model_module": "@jupyter-widgets/base",
          "model_name": "LayoutModel",
          "state": {
            "_view_name": "LayoutView",
            "grid_template_rows": null,
            "right": null,
            "justify_content": null,
            "_view_module": "@jupyter-widgets/base",
            "overflow": null,
            "_model_module_version": "1.2.0",
            "_view_count": null,
            "flex_flow": null,
            "width": null,
            "min_width": null,
            "border": null,
            "align_items": null,
            "bottom": null,
            "_model_module": "@jupyter-widgets/base",
            "top": null,
            "grid_column": null,
            "overflow_y": null,
            "overflow_x": null,
            "grid_auto_flow": null,
            "grid_area": null,
            "grid_template_columns": null,
            "flex": null,
            "_model_name": "LayoutModel",
            "justify_items": null,
            "grid_row": null,
            "max_height": null,
            "align_content": null,
            "visibility": null,
            "align_self": null,
            "height": null,
            "min_height": null,
            "padding": null,
            "grid_auto_rows": null,
            "grid_gap": null,
            "max_width": null,
            "order": null,
            "_view_module_version": "1.2.0",
            "grid_template_areas": null,
            "object_position": null,
            "object_fit": null,
            "grid_auto_columns": null,
            "margin": null,
            "display": null,
            "left": null
          }
        },
        "bbf24fa3f2934b69a540fd20a59954a4": {
          "model_module": "@jupyter-widgets/controls",
          "model_name": "HBoxModel",
          "state": {
            "_view_name": "HBoxView",
            "_dom_classes": [],
            "_model_name": "HBoxModel",
            "_view_module": "@jupyter-widgets/controls",
            "_model_module_version": "1.5.0",
            "_view_count": null,
            "_view_module_version": "1.5.0",
            "box_style": "",
            "layout": "IPY_MODEL_c5ebd400ce8f4dff8b980a15afc132aa",
            "_model_module": "@jupyter-widgets/controls",
            "children": [
              "IPY_MODEL_02423d19136d4e20a4e9c8503e22ae78",
              "IPY_MODEL_fb6da16df63e49e0af066c88a44c2a0e"
            ]
          }
        },
        "c5ebd400ce8f4dff8b980a15afc132aa": {
          "model_module": "@jupyter-widgets/base",
          "model_name": "LayoutModel",
          "state": {
            "_view_name": "LayoutView",
            "grid_template_rows": null,
            "right": null,
            "justify_content": null,
            "_view_module": "@jupyter-widgets/base",
            "overflow": null,
            "_model_module_version": "1.2.0",
            "_view_count": null,
            "flex_flow": null,
            "width": null,
            "min_width": null,
            "border": null,
            "align_items": null,
            "bottom": null,
            "_model_module": "@jupyter-widgets/base",
            "top": null,
            "grid_column": null,
            "overflow_y": null,
            "overflow_x": null,
            "grid_auto_flow": null,
            "grid_area": null,
            "grid_template_columns": null,
            "flex": null,
            "_model_name": "LayoutModel",
            "justify_items": null,
            "grid_row": null,
            "max_height": null,
            "align_content": null,
            "visibility": null,
            "align_self": null,
            "height": null,
            "min_height": null,
            "padding": null,
            "grid_auto_rows": null,
            "grid_gap": null,
            "max_width": null,
            "order": null,
            "_view_module_version": "1.2.0",
            "grid_template_areas": null,
            "object_position": null,
            "object_fit": null,
            "grid_auto_columns": null,
            "margin": null,
            "display": null,
            "left": null
          }
        },
        "02423d19136d4e20a4e9c8503e22ae78": {
          "model_module": "@jupyter-widgets/controls",
          "model_name": "FloatProgressModel",
          "state": {
            "_view_name": "ProgressView",
            "style": "IPY_MODEL_8c97c2d57e4a409ba77cb38bf1748676",
            "_dom_classes": [],
            "description": "Epoch - 6: 100%",
            "_model_name": "FloatProgressModel",
            "bar_style": "success",
            "max": 2426,
            "_view_module": "@jupyter-widgets/controls",
            "_model_module_version": "1.5.0",
            "value": 2426,
            "_view_count": null,
            "_view_module_version": "1.5.0",
            "orientation": "horizontal",
            "min": 0,
            "description_tooltip": null,
            "_model_module": "@jupyter-widgets/controls",
            "layout": "IPY_MODEL_bb2499bf4af64bbd8cb0b5d02b4e0e03"
          }
        },
        "fb6da16df63e49e0af066c88a44c2a0e": {
          "model_module": "@jupyter-widgets/controls",
          "model_name": "HTMLModel",
          "state": {
            "_view_name": "HTMLView",
            "style": "IPY_MODEL_af93eef8aa1f4039b651155c6d3b2eb2",
            "_dom_classes": [],
            "description": "",
            "_model_name": "HTMLModel",
            "placeholder": "​",
            "_view_module": "@jupyter-widgets/controls",
            "_model_module_version": "1.5.0",
            "value": " 2426/2426 [04:42&lt;00:00,  8.59it/s]",
            "_view_count": null,
            "_view_module_version": "1.5.0",
            "description_tooltip": null,
            "_model_module": "@jupyter-widgets/controls",
            "layout": "IPY_MODEL_77d93933402743b2b20374ebc64c5016"
          }
        },
        "8c97c2d57e4a409ba77cb38bf1748676": {
          "model_module": "@jupyter-widgets/controls",
          "model_name": "ProgressStyleModel",
          "state": {
            "_view_name": "StyleView",
            "_model_name": "ProgressStyleModel",
            "description_width": "initial",
            "_view_module": "@jupyter-widgets/base",
            "_model_module_version": "1.5.0",
            "_view_count": null,
            "_view_module_version": "1.2.0",
            "bar_color": null,
            "_model_module": "@jupyter-widgets/controls"
          }
        },
        "bb2499bf4af64bbd8cb0b5d02b4e0e03": {
          "model_module": "@jupyter-widgets/base",
          "model_name": "LayoutModel",
          "state": {
            "_view_name": "LayoutView",
            "grid_template_rows": null,
            "right": null,
            "justify_content": null,
            "_view_module": "@jupyter-widgets/base",
            "overflow": null,
            "_model_module_version": "1.2.0",
            "_view_count": null,
            "flex_flow": null,
            "width": null,
            "min_width": null,
            "border": null,
            "align_items": null,
            "bottom": null,
            "_model_module": "@jupyter-widgets/base",
            "top": null,
            "grid_column": null,
            "overflow_y": null,
            "overflow_x": null,
            "grid_auto_flow": null,
            "grid_area": null,
            "grid_template_columns": null,
            "flex": null,
            "_model_name": "LayoutModel",
            "justify_items": null,
            "grid_row": null,
            "max_height": null,
            "align_content": null,
            "visibility": null,
            "align_self": null,
            "height": null,
            "min_height": null,
            "padding": null,
            "grid_auto_rows": null,
            "grid_gap": null,
            "max_width": null,
            "order": null,
            "_view_module_version": "1.2.0",
            "grid_template_areas": null,
            "object_position": null,
            "object_fit": null,
            "grid_auto_columns": null,
            "margin": null,
            "display": null,
            "left": null
          }
        },
        "af93eef8aa1f4039b651155c6d3b2eb2": {
          "model_module": "@jupyter-widgets/controls",
          "model_name": "DescriptionStyleModel",
          "state": {
            "_view_name": "StyleView",
            "_model_name": "DescriptionStyleModel",
            "description_width": "",
            "_view_module": "@jupyter-widgets/base",
            "_model_module_version": "1.5.0",
            "_view_count": null,
            "_view_module_version": "1.2.0",
            "_model_module": "@jupyter-widgets/controls"
          }
        },
        "77d93933402743b2b20374ebc64c5016": {
          "model_module": "@jupyter-widgets/base",
          "model_name": "LayoutModel",
          "state": {
            "_view_name": "LayoutView",
            "grid_template_rows": null,
            "right": null,
            "justify_content": null,
            "_view_module": "@jupyter-widgets/base",
            "overflow": null,
            "_model_module_version": "1.2.0",
            "_view_count": null,
            "flex_flow": null,
            "width": null,
            "min_width": null,
            "border": null,
            "align_items": null,
            "bottom": null,
            "_model_module": "@jupyter-widgets/base",
            "top": null,
            "grid_column": null,
            "overflow_y": null,
            "overflow_x": null,
            "grid_auto_flow": null,
            "grid_area": null,
            "grid_template_columns": null,
            "flex": null,
            "_model_name": "LayoutModel",
            "justify_items": null,
            "grid_row": null,
            "max_height": null,
            "align_content": null,
            "visibility": null,
            "align_self": null,
            "height": null,
            "min_height": null,
            "padding": null,
            "grid_auto_rows": null,
            "grid_gap": null,
            "max_width": null,
            "order": null,
            "_view_module_version": "1.2.0",
            "grid_template_areas": null,
            "object_position": null,
            "object_fit": null,
            "grid_auto_columns": null,
            "margin": null,
            "display": null,
            "left": null
          }
        },
        "6defe4117855459699faa9a3245a2a86": {
          "model_module": "@jupyter-widgets/controls",
          "model_name": "HBoxModel",
          "state": {
            "_view_name": "HBoxView",
            "_dom_classes": [],
            "_model_name": "HBoxModel",
            "_view_module": "@jupyter-widgets/controls",
            "_model_module_version": "1.5.0",
            "_view_count": null,
            "_view_module_version": "1.5.0",
            "box_style": "",
            "layout": "IPY_MODEL_22cc979817254e2085ca3752e8f901db",
            "_model_module": "@jupyter-widgets/controls",
            "children": [
              "IPY_MODEL_2211dc1370db47eab858ce6647e57ea1",
              "IPY_MODEL_8f1b74283ec948e88c1ef94d5c3e3bb8"
            ]
          }
        },
        "22cc979817254e2085ca3752e8f901db": {
          "model_module": "@jupyter-widgets/base",
          "model_name": "LayoutModel",
          "state": {
            "_view_name": "LayoutView",
            "grid_template_rows": null,
            "right": null,
            "justify_content": null,
            "_view_module": "@jupyter-widgets/base",
            "overflow": null,
            "_model_module_version": "1.2.0",
            "_view_count": null,
            "flex_flow": null,
            "width": null,
            "min_width": null,
            "border": null,
            "align_items": null,
            "bottom": null,
            "_model_module": "@jupyter-widgets/base",
            "top": null,
            "grid_column": null,
            "overflow_y": null,
            "overflow_x": null,
            "grid_auto_flow": null,
            "grid_area": null,
            "grid_template_columns": null,
            "flex": null,
            "_model_name": "LayoutModel",
            "justify_items": null,
            "grid_row": null,
            "max_height": null,
            "align_content": null,
            "visibility": null,
            "align_self": null,
            "height": null,
            "min_height": null,
            "padding": null,
            "grid_auto_rows": null,
            "grid_gap": null,
            "max_width": null,
            "order": null,
            "_view_module_version": "1.2.0",
            "grid_template_areas": null,
            "object_position": null,
            "object_fit": null,
            "grid_auto_columns": null,
            "margin": null,
            "display": null,
            "left": null
          }
        },
        "2211dc1370db47eab858ce6647e57ea1": {
          "model_module": "@jupyter-widgets/controls",
          "model_name": "FloatProgressModel",
          "state": {
            "_view_name": "ProgressView",
            "style": "IPY_MODEL_e50969c05a314806ace68fe08982e53d",
            "_dom_classes": [],
            "description": "Epoch - 7: 100%",
            "_model_name": "FloatProgressModel",
            "bar_style": "success",
            "max": 2426,
            "_view_module": "@jupyter-widgets/controls",
            "_model_module_version": "1.5.0",
            "value": 2426,
            "_view_count": null,
            "_view_module_version": "1.5.0",
            "orientation": "horizontal",
            "min": 0,
            "description_tooltip": null,
            "_model_module": "@jupyter-widgets/controls",
            "layout": "IPY_MODEL_47690775e45e4e78abfbf015aa060fb1"
          }
        },
        "8f1b74283ec948e88c1ef94d5c3e3bb8": {
          "model_module": "@jupyter-widgets/controls",
          "model_name": "HTMLModel",
          "state": {
            "_view_name": "HTMLView",
            "style": "IPY_MODEL_16a554d595fa4934830f17812ca66a9d",
            "_dom_classes": [],
            "description": "",
            "_model_name": "HTMLModel",
            "placeholder": "​",
            "_view_module": "@jupyter-widgets/controls",
            "_model_module_version": "1.5.0",
            "value": " 2426/2426 [01:52&lt;00:00, 21.55it/s]",
            "_view_count": null,
            "_view_module_version": "1.5.0",
            "description_tooltip": null,
            "_model_module": "@jupyter-widgets/controls",
            "layout": "IPY_MODEL_7b5a63cb40764f20a9fe3c8c5f888467"
          }
        },
        "e50969c05a314806ace68fe08982e53d": {
          "model_module": "@jupyter-widgets/controls",
          "model_name": "ProgressStyleModel",
          "state": {
            "_view_name": "StyleView",
            "_model_name": "ProgressStyleModel",
            "description_width": "initial",
            "_view_module": "@jupyter-widgets/base",
            "_model_module_version": "1.5.0",
            "_view_count": null,
            "_view_module_version": "1.2.0",
            "bar_color": null,
            "_model_module": "@jupyter-widgets/controls"
          }
        },
        "47690775e45e4e78abfbf015aa060fb1": {
          "model_module": "@jupyter-widgets/base",
          "model_name": "LayoutModel",
          "state": {
            "_view_name": "LayoutView",
            "grid_template_rows": null,
            "right": null,
            "justify_content": null,
            "_view_module": "@jupyter-widgets/base",
            "overflow": null,
            "_model_module_version": "1.2.0",
            "_view_count": null,
            "flex_flow": null,
            "width": null,
            "min_width": null,
            "border": null,
            "align_items": null,
            "bottom": null,
            "_model_module": "@jupyter-widgets/base",
            "top": null,
            "grid_column": null,
            "overflow_y": null,
            "overflow_x": null,
            "grid_auto_flow": null,
            "grid_area": null,
            "grid_template_columns": null,
            "flex": null,
            "_model_name": "LayoutModel",
            "justify_items": null,
            "grid_row": null,
            "max_height": null,
            "align_content": null,
            "visibility": null,
            "align_self": null,
            "height": null,
            "min_height": null,
            "padding": null,
            "grid_auto_rows": null,
            "grid_gap": null,
            "max_width": null,
            "order": null,
            "_view_module_version": "1.2.0",
            "grid_template_areas": null,
            "object_position": null,
            "object_fit": null,
            "grid_auto_columns": null,
            "margin": null,
            "display": null,
            "left": null
          }
        },
        "16a554d595fa4934830f17812ca66a9d": {
          "model_module": "@jupyter-widgets/controls",
          "model_name": "DescriptionStyleModel",
          "state": {
            "_view_name": "StyleView",
            "_model_name": "DescriptionStyleModel",
            "description_width": "",
            "_view_module": "@jupyter-widgets/base",
            "_model_module_version": "1.5.0",
            "_view_count": null,
            "_view_module_version": "1.2.0",
            "_model_module": "@jupyter-widgets/controls"
          }
        },
        "7b5a63cb40764f20a9fe3c8c5f888467": {
          "model_module": "@jupyter-widgets/base",
          "model_name": "LayoutModel",
          "state": {
            "_view_name": "LayoutView",
            "grid_template_rows": null,
            "right": null,
            "justify_content": null,
            "_view_module": "@jupyter-widgets/base",
            "overflow": null,
            "_model_module_version": "1.2.0",
            "_view_count": null,
            "flex_flow": null,
            "width": null,
            "min_width": null,
            "border": null,
            "align_items": null,
            "bottom": null,
            "_model_module": "@jupyter-widgets/base",
            "top": null,
            "grid_column": null,
            "overflow_y": null,
            "overflow_x": null,
            "grid_auto_flow": null,
            "grid_area": null,
            "grid_template_columns": null,
            "flex": null,
            "_model_name": "LayoutModel",
            "justify_items": null,
            "grid_row": null,
            "max_height": null,
            "align_content": null,
            "visibility": null,
            "align_self": null,
            "height": null,
            "min_height": null,
            "padding": null,
            "grid_auto_rows": null,
            "grid_gap": null,
            "max_width": null,
            "order": null,
            "_view_module_version": "1.2.0",
            "grid_template_areas": null,
            "object_position": null,
            "object_fit": null,
            "grid_auto_columns": null,
            "margin": null,
            "display": null,
            "left": null
          }
        },
        "82e848c3ad39477dbdae8694f70fe6eb": {
          "model_module": "@jupyter-widgets/controls",
          "model_name": "HBoxModel",
          "state": {
            "_view_name": "HBoxView",
            "_dom_classes": [],
            "_model_name": "HBoxModel",
            "_view_module": "@jupyter-widgets/controls",
            "_model_module_version": "1.5.0",
            "_view_count": null,
            "_view_module_version": "1.5.0",
            "box_style": "",
            "layout": "IPY_MODEL_e49a2d4499a34851a6c8e3a32b2132e1",
            "_model_module": "@jupyter-widgets/controls",
            "children": [
              "IPY_MODEL_79a136a08b744e8ebbf061717ad70a78",
              "IPY_MODEL_bac7763f62154950b5a0095165b95625"
            ]
          }
        },
        "e49a2d4499a34851a6c8e3a32b2132e1": {
          "model_module": "@jupyter-widgets/base",
          "model_name": "LayoutModel",
          "state": {
            "_view_name": "LayoutView",
            "grid_template_rows": null,
            "right": null,
            "justify_content": null,
            "_view_module": "@jupyter-widgets/base",
            "overflow": null,
            "_model_module_version": "1.2.0",
            "_view_count": null,
            "flex_flow": null,
            "width": null,
            "min_width": null,
            "border": null,
            "align_items": null,
            "bottom": null,
            "_model_module": "@jupyter-widgets/base",
            "top": null,
            "grid_column": null,
            "overflow_y": null,
            "overflow_x": null,
            "grid_auto_flow": null,
            "grid_area": null,
            "grid_template_columns": null,
            "flex": null,
            "_model_name": "LayoutModel",
            "justify_items": null,
            "grid_row": null,
            "max_height": null,
            "align_content": null,
            "visibility": null,
            "align_self": null,
            "height": null,
            "min_height": null,
            "padding": null,
            "grid_auto_rows": null,
            "grid_gap": null,
            "max_width": null,
            "order": null,
            "_view_module_version": "1.2.0",
            "grid_template_areas": null,
            "object_position": null,
            "object_fit": null,
            "grid_auto_columns": null,
            "margin": null,
            "display": null,
            "left": null
          }
        },
        "79a136a08b744e8ebbf061717ad70a78": {
          "model_module": "@jupyter-widgets/controls",
          "model_name": "FloatProgressModel",
          "state": {
            "_view_name": "ProgressView",
            "style": "IPY_MODEL_27e6b21ec6db4c2bbad67c1e3356bd50",
            "_dom_classes": [],
            "description": "Epoch - 8: 100%",
            "_model_name": "FloatProgressModel",
            "bar_style": "success",
            "max": 2426,
            "_view_module": "@jupyter-widgets/controls",
            "_model_module_version": "1.5.0",
            "value": 2426,
            "_view_count": null,
            "_view_module_version": "1.5.0",
            "orientation": "horizontal",
            "min": 0,
            "description_tooltip": null,
            "_model_module": "@jupyter-widgets/controls",
            "layout": "IPY_MODEL_4ac856ec37334573bfc3a5f36ac90e0b"
          }
        },
        "bac7763f62154950b5a0095165b95625": {
          "model_module": "@jupyter-widgets/controls",
          "model_name": "HTMLModel",
          "state": {
            "_view_name": "HTMLView",
            "style": "IPY_MODEL_f349bb3c2347419e967875227d0121a5",
            "_dom_classes": [],
            "description": "",
            "_model_name": "HTMLModel",
            "placeholder": "​",
            "_view_module": "@jupyter-widgets/controls",
            "_model_module_version": "1.5.0",
            "value": " 2426/2426 [00:56&lt;00:00, 43.12it/s]",
            "_view_count": null,
            "_view_module_version": "1.5.0",
            "description_tooltip": null,
            "_model_module": "@jupyter-widgets/controls",
            "layout": "IPY_MODEL_641f465ecfd947eaa9dbee8ef767776f"
          }
        },
        "27e6b21ec6db4c2bbad67c1e3356bd50": {
          "model_module": "@jupyter-widgets/controls",
          "model_name": "ProgressStyleModel",
          "state": {
            "_view_name": "StyleView",
            "_model_name": "ProgressStyleModel",
            "description_width": "initial",
            "_view_module": "@jupyter-widgets/base",
            "_model_module_version": "1.5.0",
            "_view_count": null,
            "_view_module_version": "1.2.0",
            "bar_color": null,
            "_model_module": "@jupyter-widgets/controls"
          }
        },
        "4ac856ec37334573bfc3a5f36ac90e0b": {
          "model_module": "@jupyter-widgets/base",
          "model_name": "LayoutModel",
          "state": {
            "_view_name": "LayoutView",
            "grid_template_rows": null,
            "right": null,
            "justify_content": null,
            "_view_module": "@jupyter-widgets/base",
            "overflow": null,
            "_model_module_version": "1.2.0",
            "_view_count": null,
            "flex_flow": null,
            "width": null,
            "min_width": null,
            "border": null,
            "align_items": null,
            "bottom": null,
            "_model_module": "@jupyter-widgets/base",
            "top": null,
            "grid_column": null,
            "overflow_y": null,
            "overflow_x": null,
            "grid_auto_flow": null,
            "grid_area": null,
            "grid_template_columns": null,
            "flex": null,
            "_model_name": "LayoutModel",
            "justify_items": null,
            "grid_row": null,
            "max_height": null,
            "align_content": null,
            "visibility": null,
            "align_self": null,
            "height": null,
            "min_height": null,
            "padding": null,
            "grid_auto_rows": null,
            "grid_gap": null,
            "max_width": null,
            "order": null,
            "_view_module_version": "1.2.0",
            "grid_template_areas": null,
            "object_position": null,
            "object_fit": null,
            "grid_auto_columns": null,
            "margin": null,
            "display": null,
            "left": null
          }
        },
        "f349bb3c2347419e967875227d0121a5": {
          "model_module": "@jupyter-widgets/controls",
          "model_name": "DescriptionStyleModel",
          "state": {
            "_view_name": "StyleView",
            "_model_name": "DescriptionStyleModel",
            "description_width": "",
            "_view_module": "@jupyter-widgets/base",
            "_model_module_version": "1.5.0",
            "_view_count": null,
            "_view_module_version": "1.2.0",
            "_model_module": "@jupyter-widgets/controls"
          }
        },
        "641f465ecfd947eaa9dbee8ef767776f": {
          "model_module": "@jupyter-widgets/base",
          "model_name": "LayoutModel",
          "state": {
            "_view_name": "LayoutView",
            "grid_template_rows": null,
            "right": null,
            "justify_content": null,
            "_view_module": "@jupyter-widgets/base",
            "overflow": null,
            "_model_module_version": "1.2.0",
            "_view_count": null,
            "flex_flow": null,
            "width": null,
            "min_width": null,
            "border": null,
            "align_items": null,
            "bottom": null,
            "_model_module": "@jupyter-widgets/base",
            "top": null,
            "grid_column": null,
            "overflow_y": null,
            "overflow_x": null,
            "grid_auto_flow": null,
            "grid_area": null,
            "grid_template_columns": null,
            "flex": null,
            "_model_name": "LayoutModel",
            "justify_items": null,
            "grid_row": null,
            "max_height": null,
            "align_content": null,
            "visibility": null,
            "align_self": null,
            "height": null,
            "min_height": null,
            "padding": null,
            "grid_auto_rows": null,
            "grid_gap": null,
            "max_width": null,
            "order": null,
            "_view_module_version": "1.2.0",
            "grid_template_areas": null,
            "object_position": null,
            "object_fit": null,
            "grid_auto_columns": null,
            "margin": null,
            "display": null,
            "left": null
          }
        },
        "bb49b268560f44e18310eb9510bb9eeb": {
          "model_module": "@jupyter-widgets/controls",
          "model_name": "HBoxModel",
          "state": {
            "_view_name": "HBoxView",
            "_dom_classes": [],
            "_model_name": "HBoxModel",
            "_view_module": "@jupyter-widgets/controls",
            "_model_module_version": "1.5.0",
            "_view_count": null,
            "_view_module_version": "1.5.0",
            "box_style": "",
            "layout": "IPY_MODEL_00674c4a9778416ab7bfcc92661d8dbb",
            "_model_module": "@jupyter-widgets/controls",
            "children": [
              "IPY_MODEL_00874af9a0b34c0694541c1726684a10",
              "IPY_MODEL_4848642eaef44349b5c964cdbccecd24"
            ]
          }
        },
        "00674c4a9778416ab7bfcc92661d8dbb": {
          "model_module": "@jupyter-widgets/base",
          "model_name": "LayoutModel",
          "state": {
            "_view_name": "LayoutView",
            "grid_template_rows": null,
            "right": null,
            "justify_content": null,
            "_view_module": "@jupyter-widgets/base",
            "overflow": null,
            "_model_module_version": "1.2.0",
            "_view_count": null,
            "flex_flow": null,
            "width": null,
            "min_width": null,
            "border": null,
            "align_items": null,
            "bottom": null,
            "_model_module": "@jupyter-widgets/base",
            "top": null,
            "grid_column": null,
            "overflow_y": null,
            "overflow_x": null,
            "grid_auto_flow": null,
            "grid_area": null,
            "grid_template_columns": null,
            "flex": null,
            "_model_name": "LayoutModel",
            "justify_items": null,
            "grid_row": null,
            "max_height": null,
            "align_content": null,
            "visibility": null,
            "align_self": null,
            "height": null,
            "min_height": null,
            "padding": null,
            "grid_auto_rows": null,
            "grid_gap": null,
            "max_width": null,
            "order": null,
            "_view_module_version": "1.2.0",
            "grid_template_areas": null,
            "object_position": null,
            "object_fit": null,
            "grid_auto_columns": null,
            "margin": null,
            "display": null,
            "left": null
          }
        },
        "00874af9a0b34c0694541c1726684a10": {
          "model_module": "@jupyter-widgets/controls",
          "model_name": "FloatProgressModel",
          "state": {
            "_view_name": "ProgressView",
            "style": "IPY_MODEL_2c390f1ce65e4851ab207ad771b37008",
            "_dom_classes": [],
            "description": "Epoch - 9: 100%",
            "_model_name": "FloatProgressModel",
            "bar_style": "success",
            "max": 2426,
            "_view_module": "@jupyter-widgets/controls",
            "_model_module_version": "1.5.0",
            "value": 2426,
            "_view_count": null,
            "_view_module_version": "1.5.0",
            "orientation": "horizontal",
            "min": 0,
            "description_tooltip": null,
            "_model_module": "@jupyter-widgets/controls",
            "layout": "IPY_MODEL_946ee7036bd64d42af4e070d0561a7e2"
          }
        },
        "4848642eaef44349b5c964cdbccecd24": {
          "model_module": "@jupyter-widgets/controls",
          "model_name": "HTMLModel",
          "state": {
            "_view_name": "HTMLView",
            "style": "IPY_MODEL_f3a8a1fd234c450e9482db134eda0a54",
            "_dom_classes": [],
            "description": "",
            "_model_name": "HTMLModel",
            "placeholder": "​",
            "_view_module": "@jupyter-widgets/controls",
            "_model_module_version": "1.5.0",
            "value": " 2426/2426 [01:52&lt;00:00, 21.51it/s]",
            "_view_count": null,
            "_view_module_version": "1.5.0",
            "description_tooltip": null,
            "_model_module": "@jupyter-widgets/controls",
            "layout": "IPY_MODEL_51ea93a8805946f59f430378fc2a3809"
          }
        },
        "2c390f1ce65e4851ab207ad771b37008": {
          "model_module": "@jupyter-widgets/controls",
          "model_name": "ProgressStyleModel",
          "state": {
            "_view_name": "StyleView",
            "_model_name": "ProgressStyleModel",
            "description_width": "initial",
            "_view_module": "@jupyter-widgets/base",
            "_model_module_version": "1.5.0",
            "_view_count": null,
            "_view_module_version": "1.2.0",
            "bar_color": null,
            "_model_module": "@jupyter-widgets/controls"
          }
        },
        "946ee7036bd64d42af4e070d0561a7e2": {
          "model_module": "@jupyter-widgets/base",
          "model_name": "LayoutModel",
          "state": {
            "_view_name": "LayoutView",
            "grid_template_rows": null,
            "right": null,
            "justify_content": null,
            "_view_module": "@jupyter-widgets/base",
            "overflow": null,
            "_model_module_version": "1.2.0",
            "_view_count": null,
            "flex_flow": null,
            "width": null,
            "min_width": null,
            "border": null,
            "align_items": null,
            "bottom": null,
            "_model_module": "@jupyter-widgets/base",
            "top": null,
            "grid_column": null,
            "overflow_y": null,
            "overflow_x": null,
            "grid_auto_flow": null,
            "grid_area": null,
            "grid_template_columns": null,
            "flex": null,
            "_model_name": "LayoutModel",
            "justify_items": null,
            "grid_row": null,
            "max_height": null,
            "align_content": null,
            "visibility": null,
            "align_self": null,
            "height": null,
            "min_height": null,
            "padding": null,
            "grid_auto_rows": null,
            "grid_gap": null,
            "max_width": null,
            "order": null,
            "_view_module_version": "1.2.0",
            "grid_template_areas": null,
            "object_position": null,
            "object_fit": null,
            "grid_auto_columns": null,
            "margin": null,
            "display": null,
            "left": null
          }
        },
        "f3a8a1fd234c450e9482db134eda0a54": {
          "model_module": "@jupyter-widgets/controls",
          "model_name": "DescriptionStyleModel",
          "state": {
            "_view_name": "StyleView",
            "_model_name": "DescriptionStyleModel",
            "description_width": "",
            "_view_module": "@jupyter-widgets/base",
            "_model_module_version": "1.5.0",
            "_view_count": null,
            "_view_module_version": "1.2.0",
            "_model_module": "@jupyter-widgets/controls"
          }
        },
        "51ea93a8805946f59f430378fc2a3809": {
          "model_module": "@jupyter-widgets/base",
          "model_name": "LayoutModel",
          "state": {
            "_view_name": "LayoutView",
            "grid_template_rows": null,
            "right": null,
            "justify_content": null,
            "_view_module": "@jupyter-widgets/base",
            "overflow": null,
            "_model_module_version": "1.2.0",
            "_view_count": null,
            "flex_flow": null,
            "width": null,
            "min_width": null,
            "border": null,
            "align_items": null,
            "bottom": null,
            "_model_module": "@jupyter-widgets/base",
            "top": null,
            "grid_column": null,
            "overflow_y": null,
            "overflow_x": null,
            "grid_auto_flow": null,
            "grid_area": null,
            "grid_template_columns": null,
            "flex": null,
            "_model_name": "LayoutModel",
            "justify_items": null,
            "grid_row": null,
            "max_height": null,
            "align_content": null,
            "visibility": null,
            "align_self": null,
            "height": null,
            "min_height": null,
            "padding": null,
            "grid_auto_rows": null,
            "grid_gap": null,
            "max_width": null,
            "order": null,
            "_view_module_version": "1.2.0",
            "grid_template_areas": null,
            "object_position": null,
            "object_fit": null,
            "grid_auto_columns": null,
            "margin": null,
            "display": null,
            "left": null
          }
        },
        "f8b12619a88745fdbcf5c08ff2150aa5": {
          "model_module": "@jupyter-widgets/controls",
          "model_name": "HBoxModel",
          "state": {
            "_view_name": "HBoxView",
            "_dom_classes": [],
            "_model_name": "HBoxModel",
            "_view_module": "@jupyter-widgets/controls",
            "_model_module_version": "1.5.0",
            "_view_count": null,
            "_view_module_version": "1.5.0",
            "box_style": "",
            "layout": "IPY_MODEL_59cb1bbbd6f84d64ac34ced8eddac7fd",
            "_model_module": "@jupyter-widgets/controls",
            "children": [
              "IPY_MODEL_e7de4bfbf7e74c52841b4016f198721a",
              "IPY_MODEL_379475dbfb8e4354b26682f704334dbf"
            ]
          }
        },
        "59cb1bbbd6f84d64ac34ced8eddac7fd": {
          "model_module": "@jupyter-widgets/base",
          "model_name": "LayoutModel",
          "state": {
            "_view_name": "LayoutView",
            "grid_template_rows": null,
            "right": null,
            "justify_content": null,
            "_view_module": "@jupyter-widgets/base",
            "overflow": null,
            "_model_module_version": "1.2.0",
            "_view_count": null,
            "flex_flow": null,
            "width": null,
            "min_width": null,
            "border": null,
            "align_items": null,
            "bottom": null,
            "_model_module": "@jupyter-widgets/base",
            "top": null,
            "grid_column": null,
            "overflow_y": null,
            "overflow_x": null,
            "grid_auto_flow": null,
            "grid_area": null,
            "grid_template_columns": null,
            "flex": null,
            "_model_name": "LayoutModel",
            "justify_items": null,
            "grid_row": null,
            "max_height": null,
            "align_content": null,
            "visibility": null,
            "align_self": null,
            "height": null,
            "min_height": null,
            "padding": null,
            "grid_auto_rows": null,
            "grid_gap": null,
            "max_width": null,
            "order": null,
            "_view_module_version": "1.2.0",
            "grid_template_areas": null,
            "object_position": null,
            "object_fit": null,
            "grid_auto_columns": null,
            "margin": null,
            "display": null,
            "left": null
          }
        },
        "e7de4bfbf7e74c52841b4016f198721a": {
          "model_module": "@jupyter-widgets/controls",
          "model_name": "FloatProgressModel",
          "state": {
            "_view_name": "ProgressView",
            "style": "IPY_MODEL_d4346b49a8ee44048dcc7dfb06cb9d98",
            "_dom_classes": [],
            "description": "Epoch - 10: 100%",
            "_model_name": "FloatProgressModel",
            "bar_style": "success",
            "max": 2426,
            "_view_module": "@jupyter-widgets/controls",
            "_model_module_version": "1.5.0",
            "value": 2426,
            "_view_count": null,
            "_view_module_version": "1.5.0",
            "orientation": "horizontal",
            "min": 0,
            "description_tooltip": null,
            "_model_module": "@jupyter-widgets/controls",
            "layout": "IPY_MODEL_c6cfde2a21a34e49939de4ad22a1d1b3"
          }
        },
        "379475dbfb8e4354b26682f704334dbf": {
          "model_module": "@jupyter-widgets/controls",
          "model_name": "HTMLModel",
          "state": {
            "_view_name": "HTMLView",
            "style": "IPY_MODEL_42b5c9ec77b5489aaaede59b0260e336",
            "_dom_classes": [],
            "description": "",
            "_model_name": "HTMLModel",
            "placeholder": "​",
            "_view_module": "@jupyter-widgets/controls",
            "_model_module_version": "1.5.0",
            "value": " 2426/2426 [00:56&lt;00:00, 43.14it/s]",
            "_view_count": null,
            "_view_module_version": "1.5.0",
            "description_tooltip": null,
            "_model_module": "@jupyter-widgets/controls",
            "layout": "IPY_MODEL_c6761258d6484defb9823f9968c262bb"
          }
        },
        "d4346b49a8ee44048dcc7dfb06cb9d98": {
          "model_module": "@jupyter-widgets/controls",
          "model_name": "ProgressStyleModel",
          "state": {
            "_view_name": "StyleView",
            "_model_name": "ProgressStyleModel",
            "description_width": "initial",
            "_view_module": "@jupyter-widgets/base",
            "_model_module_version": "1.5.0",
            "_view_count": null,
            "_view_module_version": "1.2.0",
            "bar_color": null,
            "_model_module": "@jupyter-widgets/controls"
          }
        },
        "c6cfde2a21a34e49939de4ad22a1d1b3": {
          "model_module": "@jupyter-widgets/base",
          "model_name": "LayoutModel",
          "state": {
            "_view_name": "LayoutView",
            "grid_template_rows": null,
            "right": null,
            "justify_content": null,
            "_view_module": "@jupyter-widgets/base",
            "overflow": null,
            "_model_module_version": "1.2.0",
            "_view_count": null,
            "flex_flow": null,
            "width": null,
            "min_width": null,
            "border": null,
            "align_items": null,
            "bottom": null,
            "_model_module": "@jupyter-widgets/base",
            "top": null,
            "grid_column": null,
            "overflow_y": null,
            "overflow_x": null,
            "grid_auto_flow": null,
            "grid_area": null,
            "grid_template_columns": null,
            "flex": null,
            "_model_name": "LayoutModel",
            "justify_items": null,
            "grid_row": null,
            "max_height": null,
            "align_content": null,
            "visibility": null,
            "align_self": null,
            "height": null,
            "min_height": null,
            "padding": null,
            "grid_auto_rows": null,
            "grid_gap": null,
            "max_width": null,
            "order": null,
            "_view_module_version": "1.2.0",
            "grid_template_areas": null,
            "object_position": null,
            "object_fit": null,
            "grid_auto_columns": null,
            "margin": null,
            "display": null,
            "left": null
          }
        },
        "42b5c9ec77b5489aaaede59b0260e336": {
          "model_module": "@jupyter-widgets/controls",
          "model_name": "DescriptionStyleModel",
          "state": {
            "_view_name": "StyleView",
            "_model_name": "DescriptionStyleModel",
            "description_width": "",
            "_view_module": "@jupyter-widgets/base",
            "_model_module_version": "1.5.0",
            "_view_count": null,
            "_view_module_version": "1.2.0",
            "_model_module": "@jupyter-widgets/controls"
          }
        },
        "c6761258d6484defb9823f9968c262bb": {
          "model_module": "@jupyter-widgets/base",
          "model_name": "LayoutModel",
          "state": {
            "_view_name": "LayoutView",
            "grid_template_rows": null,
            "right": null,
            "justify_content": null,
            "_view_module": "@jupyter-widgets/base",
            "overflow": null,
            "_model_module_version": "1.2.0",
            "_view_count": null,
            "flex_flow": null,
            "width": null,
            "min_width": null,
            "border": null,
            "align_items": null,
            "bottom": null,
            "_model_module": "@jupyter-widgets/base",
            "top": null,
            "grid_column": null,
            "overflow_y": null,
            "overflow_x": null,
            "grid_auto_flow": null,
            "grid_area": null,
            "grid_template_columns": null,
            "flex": null,
            "_model_name": "LayoutModel",
            "justify_items": null,
            "grid_row": null,
            "max_height": null,
            "align_content": null,
            "visibility": null,
            "align_self": null,
            "height": null,
            "min_height": null,
            "padding": null,
            "grid_auto_rows": null,
            "grid_gap": null,
            "max_width": null,
            "order": null,
            "_view_module_version": "1.2.0",
            "grid_template_areas": null,
            "object_position": null,
            "object_fit": null,
            "grid_auto_columns": null,
            "margin": null,
            "display": null,
            "left": null
          }
        },
        "2a3cfd0fe15746acaa16e0a6bd2ff4a3": {
          "model_module": "@jupyter-widgets/controls",
          "model_name": "HBoxModel",
          "state": {
            "_view_name": "HBoxView",
            "_dom_classes": [],
            "_model_name": "HBoxModel",
            "_view_module": "@jupyter-widgets/controls",
            "_model_module_version": "1.5.0",
            "_view_count": null,
            "_view_module_version": "1.5.0",
            "box_style": "",
            "layout": "IPY_MODEL_03b45c7ba41b4d16905a3743727d7004",
            "_model_module": "@jupyter-widgets/controls",
            "children": [
              "IPY_MODEL_370e275c7dab4ea7b2755a462d7ecbea",
              "IPY_MODEL_43d9c06078344a5d887d876f56fd08ff"
            ]
          }
        },
        "03b45c7ba41b4d16905a3743727d7004": {
          "model_module": "@jupyter-widgets/base",
          "model_name": "LayoutModel",
          "state": {
            "_view_name": "LayoutView",
            "grid_template_rows": null,
            "right": null,
            "justify_content": null,
            "_view_module": "@jupyter-widgets/base",
            "overflow": null,
            "_model_module_version": "1.2.0",
            "_view_count": null,
            "flex_flow": null,
            "width": null,
            "min_width": null,
            "border": null,
            "align_items": null,
            "bottom": null,
            "_model_module": "@jupyter-widgets/base",
            "top": null,
            "grid_column": null,
            "overflow_y": null,
            "overflow_x": null,
            "grid_auto_flow": null,
            "grid_area": null,
            "grid_template_columns": null,
            "flex": null,
            "_model_name": "LayoutModel",
            "justify_items": null,
            "grid_row": null,
            "max_height": null,
            "align_content": null,
            "visibility": null,
            "align_self": null,
            "height": null,
            "min_height": null,
            "padding": null,
            "grid_auto_rows": null,
            "grid_gap": null,
            "max_width": null,
            "order": null,
            "_view_module_version": "1.2.0",
            "grid_template_areas": null,
            "object_position": null,
            "object_fit": null,
            "grid_auto_columns": null,
            "margin": null,
            "display": null,
            "left": null
          }
        },
        "370e275c7dab4ea7b2755a462d7ecbea": {
          "model_module": "@jupyter-widgets/controls",
          "model_name": "FloatProgressModel",
          "state": {
            "_view_name": "ProgressView",
            "style": "IPY_MODEL_3b55d1072f9f4d56b9056be4c305ab7b",
            "_dom_classes": [],
            "description": "Epoch - 1: 100%",
            "_model_name": "FloatProgressModel",
            "bar_style": "success",
            "max": 2426,
            "_view_module": "@jupyter-widgets/controls",
            "_model_module_version": "1.5.0",
            "value": 2426,
            "_view_count": null,
            "_view_module_version": "1.5.0",
            "orientation": "horizontal",
            "min": 0,
            "description_tooltip": null,
            "_model_module": "@jupyter-widgets/controls",
            "layout": "IPY_MODEL_4cbbcfa0510949d595352148148fb6a8"
          }
        },
        "43d9c06078344a5d887d876f56fd08ff": {
          "model_module": "@jupyter-widgets/controls",
          "model_name": "HTMLModel",
          "state": {
            "_view_name": "HTMLView",
            "style": "IPY_MODEL_8e57cfdf4b374260bff85e3efa203f57",
            "_dom_classes": [],
            "description": "",
            "_model_name": "HTMLModel",
            "placeholder": "​",
            "_view_module": "@jupyter-widgets/controls",
            "_model_module_version": "1.5.0",
            "value": " 2426/2426 [44:33&lt;00:00,  1.10s/it]",
            "_view_count": null,
            "_view_module_version": "1.5.0",
            "description_tooltip": null,
            "_model_module": "@jupyter-widgets/controls",
            "layout": "IPY_MODEL_984edc1bb7954394a7bc16777bcd27fe"
          }
        },
        "3b55d1072f9f4d56b9056be4c305ab7b": {
          "model_module": "@jupyter-widgets/controls",
          "model_name": "ProgressStyleModel",
          "state": {
            "_view_name": "StyleView",
            "_model_name": "ProgressStyleModel",
            "description_width": "initial",
            "_view_module": "@jupyter-widgets/base",
            "_model_module_version": "1.5.0",
            "_view_count": null,
            "_view_module_version": "1.2.0",
            "bar_color": null,
            "_model_module": "@jupyter-widgets/controls"
          }
        },
        "4cbbcfa0510949d595352148148fb6a8": {
          "model_module": "@jupyter-widgets/base",
          "model_name": "LayoutModel",
          "state": {
            "_view_name": "LayoutView",
            "grid_template_rows": null,
            "right": null,
            "justify_content": null,
            "_view_module": "@jupyter-widgets/base",
            "overflow": null,
            "_model_module_version": "1.2.0",
            "_view_count": null,
            "flex_flow": null,
            "width": null,
            "min_width": null,
            "border": null,
            "align_items": null,
            "bottom": null,
            "_model_module": "@jupyter-widgets/base",
            "top": null,
            "grid_column": null,
            "overflow_y": null,
            "overflow_x": null,
            "grid_auto_flow": null,
            "grid_area": null,
            "grid_template_columns": null,
            "flex": null,
            "_model_name": "LayoutModel",
            "justify_items": null,
            "grid_row": null,
            "max_height": null,
            "align_content": null,
            "visibility": null,
            "align_self": null,
            "height": null,
            "min_height": null,
            "padding": null,
            "grid_auto_rows": null,
            "grid_gap": null,
            "max_width": null,
            "order": null,
            "_view_module_version": "1.2.0",
            "grid_template_areas": null,
            "object_position": null,
            "object_fit": null,
            "grid_auto_columns": null,
            "margin": null,
            "display": null,
            "left": null
          }
        },
        "8e57cfdf4b374260bff85e3efa203f57": {
          "model_module": "@jupyter-widgets/controls",
          "model_name": "DescriptionStyleModel",
          "state": {
            "_view_name": "StyleView",
            "_model_name": "DescriptionStyleModel",
            "description_width": "",
            "_view_module": "@jupyter-widgets/base",
            "_model_module_version": "1.5.0",
            "_view_count": null,
            "_view_module_version": "1.2.0",
            "_model_module": "@jupyter-widgets/controls"
          }
        },
        "984edc1bb7954394a7bc16777bcd27fe": {
          "model_module": "@jupyter-widgets/base",
          "model_name": "LayoutModel",
          "state": {
            "_view_name": "LayoutView",
            "grid_template_rows": null,
            "right": null,
            "justify_content": null,
            "_view_module": "@jupyter-widgets/base",
            "overflow": null,
            "_model_module_version": "1.2.0",
            "_view_count": null,
            "flex_flow": null,
            "width": null,
            "min_width": null,
            "border": null,
            "align_items": null,
            "bottom": null,
            "_model_module": "@jupyter-widgets/base",
            "top": null,
            "grid_column": null,
            "overflow_y": null,
            "overflow_x": null,
            "grid_auto_flow": null,
            "grid_area": null,
            "grid_template_columns": null,
            "flex": null,
            "_model_name": "LayoutModel",
            "justify_items": null,
            "grid_row": null,
            "max_height": null,
            "align_content": null,
            "visibility": null,
            "align_self": null,
            "height": null,
            "min_height": null,
            "padding": null,
            "grid_auto_rows": null,
            "grid_gap": null,
            "max_width": null,
            "order": null,
            "_view_module_version": "1.2.0",
            "grid_template_areas": null,
            "object_position": null,
            "object_fit": null,
            "grid_auto_columns": null,
            "margin": null,
            "display": null,
            "left": null
          }
        },
        "5929632a907645049fa473050c0a6014": {
          "model_module": "@jupyter-widgets/controls",
          "model_name": "HBoxModel",
          "state": {
            "_view_name": "HBoxView",
            "_dom_classes": [],
            "_model_name": "HBoxModel",
            "_view_module": "@jupyter-widgets/controls",
            "_model_module_version": "1.5.0",
            "_view_count": null,
            "_view_module_version": "1.5.0",
            "box_style": "",
            "layout": "IPY_MODEL_c9a8974a901b42ba9e360516561ce6f4",
            "_model_module": "@jupyter-widgets/controls",
            "children": [
              "IPY_MODEL_a36e5f9f05954b51b102cdfc95551578",
              "IPY_MODEL_0f1000aacaf8459c9fee7cb5b1b88d8f"
            ]
          }
        },
        "c9a8974a901b42ba9e360516561ce6f4": {
          "model_module": "@jupyter-widgets/base",
          "model_name": "LayoutModel",
          "state": {
            "_view_name": "LayoutView",
            "grid_template_rows": null,
            "right": null,
            "justify_content": null,
            "_view_module": "@jupyter-widgets/base",
            "overflow": null,
            "_model_module_version": "1.2.0",
            "_view_count": null,
            "flex_flow": null,
            "width": null,
            "min_width": null,
            "border": null,
            "align_items": null,
            "bottom": null,
            "_model_module": "@jupyter-widgets/base",
            "top": null,
            "grid_column": null,
            "overflow_y": null,
            "overflow_x": null,
            "grid_auto_flow": null,
            "grid_area": null,
            "grid_template_columns": null,
            "flex": null,
            "_model_name": "LayoutModel",
            "justify_items": null,
            "grid_row": null,
            "max_height": null,
            "align_content": null,
            "visibility": null,
            "align_self": null,
            "height": null,
            "min_height": null,
            "padding": null,
            "grid_auto_rows": null,
            "grid_gap": null,
            "max_width": null,
            "order": null,
            "_view_module_version": "1.2.0",
            "grid_template_areas": null,
            "object_position": null,
            "object_fit": null,
            "grid_auto_columns": null,
            "margin": null,
            "display": null,
            "left": null
          }
        },
        "a36e5f9f05954b51b102cdfc95551578": {
          "model_module": "@jupyter-widgets/controls",
          "model_name": "FloatProgressModel",
          "state": {
            "_view_name": "ProgressView",
            "style": "IPY_MODEL_1e494ea1d94445518cbf43d38d5d98d9",
            "_dom_classes": [],
            "description": "Epoch - 2: 100%",
            "_model_name": "FloatProgressModel",
            "bar_style": "success",
            "max": 2426,
            "_view_module": "@jupyter-widgets/controls",
            "_model_module_version": "1.5.0",
            "value": 2426,
            "_view_count": null,
            "_view_module_version": "1.5.0",
            "orientation": "horizontal",
            "min": 0,
            "description_tooltip": null,
            "_model_module": "@jupyter-widgets/controls",
            "layout": "IPY_MODEL_f716fe0044f541d79572a8b538aadecc"
          }
        },
        "0f1000aacaf8459c9fee7cb5b1b88d8f": {
          "model_module": "@jupyter-widgets/controls",
          "model_name": "HTMLModel",
          "state": {
            "_view_name": "HTMLView",
            "style": "IPY_MODEL_e79a6b414ecd4c5ba9864fb180c6640d",
            "_dom_classes": [],
            "description": "",
            "_model_name": "HTMLModel",
            "placeholder": "​",
            "_view_module": "@jupyter-widgets/controls",
            "_model_module_version": "1.5.0",
            "value": " 2426/2426 [03:55&lt;00:00, 10.32it/s]",
            "_view_count": null,
            "_view_module_version": "1.5.0",
            "description_tooltip": null,
            "_model_module": "@jupyter-widgets/controls",
            "layout": "IPY_MODEL_5f97287d0aca4e02a7d49743f4c276c5"
          }
        },
        "1e494ea1d94445518cbf43d38d5d98d9": {
          "model_module": "@jupyter-widgets/controls",
          "model_name": "ProgressStyleModel",
          "state": {
            "_view_name": "StyleView",
            "_model_name": "ProgressStyleModel",
            "description_width": "initial",
            "_view_module": "@jupyter-widgets/base",
            "_model_module_version": "1.5.0",
            "_view_count": null,
            "_view_module_version": "1.2.0",
            "bar_color": null,
            "_model_module": "@jupyter-widgets/controls"
          }
        },
        "f716fe0044f541d79572a8b538aadecc": {
          "model_module": "@jupyter-widgets/base",
          "model_name": "LayoutModel",
          "state": {
            "_view_name": "LayoutView",
            "grid_template_rows": null,
            "right": null,
            "justify_content": null,
            "_view_module": "@jupyter-widgets/base",
            "overflow": null,
            "_model_module_version": "1.2.0",
            "_view_count": null,
            "flex_flow": null,
            "width": null,
            "min_width": null,
            "border": null,
            "align_items": null,
            "bottom": null,
            "_model_module": "@jupyter-widgets/base",
            "top": null,
            "grid_column": null,
            "overflow_y": null,
            "overflow_x": null,
            "grid_auto_flow": null,
            "grid_area": null,
            "grid_template_columns": null,
            "flex": null,
            "_model_name": "LayoutModel",
            "justify_items": null,
            "grid_row": null,
            "max_height": null,
            "align_content": null,
            "visibility": null,
            "align_self": null,
            "height": null,
            "min_height": null,
            "padding": null,
            "grid_auto_rows": null,
            "grid_gap": null,
            "max_width": null,
            "order": null,
            "_view_module_version": "1.2.0",
            "grid_template_areas": null,
            "object_position": null,
            "object_fit": null,
            "grid_auto_columns": null,
            "margin": null,
            "display": null,
            "left": null
          }
        },
        "e79a6b414ecd4c5ba9864fb180c6640d": {
          "model_module": "@jupyter-widgets/controls",
          "model_name": "DescriptionStyleModel",
          "state": {
            "_view_name": "StyleView",
            "_model_name": "DescriptionStyleModel",
            "description_width": "",
            "_view_module": "@jupyter-widgets/base",
            "_model_module_version": "1.5.0",
            "_view_count": null,
            "_view_module_version": "1.2.0",
            "_model_module": "@jupyter-widgets/controls"
          }
        },
        "5f97287d0aca4e02a7d49743f4c276c5": {
          "model_module": "@jupyter-widgets/base",
          "model_name": "LayoutModel",
          "state": {
            "_view_name": "LayoutView",
            "grid_template_rows": null,
            "right": null,
            "justify_content": null,
            "_view_module": "@jupyter-widgets/base",
            "overflow": null,
            "_model_module_version": "1.2.0",
            "_view_count": null,
            "flex_flow": null,
            "width": null,
            "min_width": null,
            "border": null,
            "align_items": null,
            "bottom": null,
            "_model_module": "@jupyter-widgets/base",
            "top": null,
            "grid_column": null,
            "overflow_y": null,
            "overflow_x": null,
            "grid_auto_flow": null,
            "grid_area": null,
            "grid_template_columns": null,
            "flex": null,
            "_model_name": "LayoutModel",
            "justify_items": null,
            "grid_row": null,
            "max_height": null,
            "align_content": null,
            "visibility": null,
            "align_self": null,
            "height": null,
            "min_height": null,
            "padding": null,
            "grid_auto_rows": null,
            "grid_gap": null,
            "max_width": null,
            "order": null,
            "_view_module_version": "1.2.0",
            "grid_template_areas": null,
            "object_position": null,
            "object_fit": null,
            "grid_auto_columns": null,
            "margin": null,
            "display": null,
            "left": null
          }
        },
        "998676bf483e4bdfbee36a67505b4a96": {
          "model_module": "@jupyter-widgets/controls",
          "model_name": "HBoxModel",
          "state": {
            "_view_name": "HBoxView",
            "_dom_classes": [],
            "_model_name": "HBoxModel",
            "_view_module": "@jupyter-widgets/controls",
            "_model_module_version": "1.5.0",
            "_view_count": null,
            "_view_module_version": "1.5.0",
            "box_style": "",
            "layout": "IPY_MODEL_bc31128207924773a61b209710faebe5",
            "_model_module": "@jupyter-widgets/controls",
            "children": [
              "IPY_MODEL_27190c70ecfa49ee9e0ff54afb746908",
              "IPY_MODEL_39d1df63cba640599ce0c10a3090c858"
            ]
          }
        },
        "bc31128207924773a61b209710faebe5": {
          "model_module": "@jupyter-widgets/base",
          "model_name": "LayoutModel",
          "state": {
            "_view_name": "LayoutView",
            "grid_template_rows": null,
            "right": null,
            "justify_content": null,
            "_view_module": "@jupyter-widgets/base",
            "overflow": null,
            "_model_module_version": "1.2.0",
            "_view_count": null,
            "flex_flow": null,
            "width": null,
            "min_width": null,
            "border": null,
            "align_items": null,
            "bottom": null,
            "_model_module": "@jupyter-widgets/base",
            "top": null,
            "grid_column": null,
            "overflow_y": null,
            "overflow_x": null,
            "grid_auto_flow": null,
            "grid_area": null,
            "grid_template_columns": null,
            "flex": null,
            "_model_name": "LayoutModel",
            "justify_items": null,
            "grid_row": null,
            "max_height": null,
            "align_content": null,
            "visibility": null,
            "align_self": null,
            "height": null,
            "min_height": null,
            "padding": null,
            "grid_auto_rows": null,
            "grid_gap": null,
            "max_width": null,
            "order": null,
            "_view_module_version": "1.2.0",
            "grid_template_areas": null,
            "object_position": null,
            "object_fit": null,
            "grid_auto_columns": null,
            "margin": null,
            "display": null,
            "left": null
          }
        },
        "27190c70ecfa49ee9e0ff54afb746908": {
          "model_module": "@jupyter-widgets/controls",
          "model_name": "FloatProgressModel",
          "state": {
            "_view_name": "ProgressView",
            "style": "IPY_MODEL_863de467161c4021b95b705ffd0eefb9",
            "_dom_classes": [],
            "description": "Epoch - 3: 100%",
            "_model_name": "FloatProgressModel",
            "bar_style": "success",
            "max": 2426,
            "_view_module": "@jupyter-widgets/controls",
            "_model_module_version": "1.5.0",
            "value": 2426,
            "_view_count": null,
            "_view_module_version": "1.5.0",
            "orientation": "horizontal",
            "min": 0,
            "description_tooltip": null,
            "_model_module": "@jupyter-widgets/controls",
            "layout": "IPY_MODEL_c75d2b9adbb4414c8eceef062503cb0d"
          }
        },
        "39d1df63cba640599ce0c10a3090c858": {
          "model_module": "@jupyter-widgets/controls",
          "model_name": "HTMLModel",
          "state": {
            "_view_name": "HTMLView",
            "style": "IPY_MODEL_9f8e4bbaefd74b0c9a16a3cfd79494fe",
            "_dom_classes": [],
            "description": "",
            "_model_name": "HTMLModel",
            "placeholder": "​",
            "_view_module": "@jupyter-widgets/controls",
            "_model_module_version": "1.5.0",
            "value": " 2426/2426 [01:57&lt;00:00, 20.70it/s]",
            "_view_count": null,
            "_view_module_version": "1.5.0",
            "description_tooltip": null,
            "_model_module": "@jupyter-widgets/controls",
            "layout": "IPY_MODEL_e7535fea5df644efb10bc6f60b862e64"
          }
        },
        "863de467161c4021b95b705ffd0eefb9": {
          "model_module": "@jupyter-widgets/controls",
          "model_name": "ProgressStyleModel",
          "state": {
            "_view_name": "StyleView",
            "_model_name": "ProgressStyleModel",
            "description_width": "initial",
            "_view_module": "@jupyter-widgets/base",
            "_model_module_version": "1.5.0",
            "_view_count": null,
            "_view_module_version": "1.2.0",
            "bar_color": null,
            "_model_module": "@jupyter-widgets/controls"
          }
        },
        "c75d2b9adbb4414c8eceef062503cb0d": {
          "model_module": "@jupyter-widgets/base",
          "model_name": "LayoutModel",
          "state": {
            "_view_name": "LayoutView",
            "grid_template_rows": null,
            "right": null,
            "justify_content": null,
            "_view_module": "@jupyter-widgets/base",
            "overflow": null,
            "_model_module_version": "1.2.0",
            "_view_count": null,
            "flex_flow": null,
            "width": null,
            "min_width": null,
            "border": null,
            "align_items": null,
            "bottom": null,
            "_model_module": "@jupyter-widgets/base",
            "top": null,
            "grid_column": null,
            "overflow_y": null,
            "overflow_x": null,
            "grid_auto_flow": null,
            "grid_area": null,
            "grid_template_columns": null,
            "flex": null,
            "_model_name": "LayoutModel",
            "justify_items": null,
            "grid_row": null,
            "max_height": null,
            "align_content": null,
            "visibility": null,
            "align_self": null,
            "height": null,
            "min_height": null,
            "padding": null,
            "grid_auto_rows": null,
            "grid_gap": null,
            "max_width": null,
            "order": null,
            "_view_module_version": "1.2.0",
            "grid_template_areas": null,
            "object_position": null,
            "object_fit": null,
            "grid_auto_columns": null,
            "margin": null,
            "display": null,
            "left": null
          }
        },
        "9f8e4bbaefd74b0c9a16a3cfd79494fe": {
          "model_module": "@jupyter-widgets/controls",
          "model_name": "DescriptionStyleModel",
          "state": {
            "_view_name": "StyleView",
            "_model_name": "DescriptionStyleModel",
            "description_width": "",
            "_view_module": "@jupyter-widgets/base",
            "_model_module_version": "1.5.0",
            "_view_count": null,
            "_view_module_version": "1.2.0",
            "_model_module": "@jupyter-widgets/controls"
          }
        },
        "e7535fea5df644efb10bc6f60b862e64": {
          "model_module": "@jupyter-widgets/base",
          "model_name": "LayoutModel",
          "state": {
            "_view_name": "LayoutView",
            "grid_template_rows": null,
            "right": null,
            "justify_content": null,
            "_view_module": "@jupyter-widgets/base",
            "overflow": null,
            "_model_module_version": "1.2.0",
            "_view_count": null,
            "flex_flow": null,
            "width": null,
            "min_width": null,
            "border": null,
            "align_items": null,
            "bottom": null,
            "_model_module": "@jupyter-widgets/base",
            "top": null,
            "grid_column": null,
            "overflow_y": null,
            "overflow_x": null,
            "grid_auto_flow": null,
            "grid_area": null,
            "grid_template_columns": null,
            "flex": null,
            "_model_name": "LayoutModel",
            "justify_items": null,
            "grid_row": null,
            "max_height": null,
            "align_content": null,
            "visibility": null,
            "align_self": null,
            "height": null,
            "min_height": null,
            "padding": null,
            "grid_auto_rows": null,
            "grid_gap": null,
            "max_width": null,
            "order": null,
            "_view_module_version": "1.2.0",
            "grid_template_areas": null,
            "object_position": null,
            "object_fit": null,
            "grid_auto_columns": null,
            "margin": null,
            "display": null,
            "left": null
          }
        },
        "25baa3fced6444f796d695feb3e0e809": {
          "model_module": "@jupyter-widgets/controls",
          "model_name": "HBoxModel",
          "state": {
            "_view_name": "HBoxView",
            "_dom_classes": [],
            "_model_name": "HBoxModel",
            "_view_module": "@jupyter-widgets/controls",
            "_model_module_version": "1.5.0",
            "_view_count": null,
            "_view_module_version": "1.5.0",
            "box_style": "",
            "layout": "IPY_MODEL_de25dac7691e4637bb45b55131782df3",
            "_model_module": "@jupyter-widgets/controls",
            "children": [
              "IPY_MODEL_0c5fbf19c5ac4eafad30e21942f2da5e",
              "IPY_MODEL_ec731154093f4bbab330b15d09f97b68"
            ]
          }
        },
        "de25dac7691e4637bb45b55131782df3": {
          "model_module": "@jupyter-widgets/base",
          "model_name": "LayoutModel",
          "state": {
            "_view_name": "LayoutView",
            "grid_template_rows": null,
            "right": null,
            "justify_content": null,
            "_view_module": "@jupyter-widgets/base",
            "overflow": null,
            "_model_module_version": "1.2.0",
            "_view_count": null,
            "flex_flow": null,
            "width": null,
            "min_width": null,
            "border": null,
            "align_items": null,
            "bottom": null,
            "_model_module": "@jupyter-widgets/base",
            "top": null,
            "grid_column": null,
            "overflow_y": null,
            "overflow_x": null,
            "grid_auto_flow": null,
            "grid_area": null,
            "grid_template_columns": null,
            "flex": null,
            "_model_name": "LayoutModel",
            "justify_items": null,
            "grid_row": null,
            "max_height": null,
            "align_content": null,
            "visibility": null,
            "align_self": null,
            "height": null,
            "min_height": null,
            "padding": null,
            "grid_auto_rows": null,
            "grid_gap": null,
            "max_width": null,
            "order": null,
            "_view_module_version": "1.2.0",
            "grid_template_areas": null,
            "object_position": null,
            "object_fit": null,
            "grid_auto_columns": null,
            "margin": null,
            "display": null,
            "left": null
          }
        },
        "0c5fbf19c5ac4eafad30e21942f2da5e": {
          "model_module": "@jupyter-widgets/controls",
          "model_name": "FloatProgressModel",
          "state": {
            "_view_name": "ProgressView",
            "style": "IPY_MODEL_52ebac05748a4ca6a8b9f8808b1aab1f",
            "_dom_classes": [],
            "description": "Epoch - 4: 100%",
            "_model_name": "FloatProgressModel",
            "bar_style": "success",
            "max": 2426,
            "_view_module": "@jupyter-widgets/controls",
            "_model_module_version": "1.5.0",
            "value": 2426,
            "_view_count": null,
            "_view_module_version": "1.5.0",
            "orientation": "horizontal",
            "min": 0,
            "description_tooltip": null,
            "_model_module": "@jupyter-widgets/controls",
            "layout": "IPY_MODEL_02c6e87de9274359bfa7014331648c46"
          }
        },
        "ec731154093f4bbab330b15d09f97b68": {
          "model_module": "@jupyter-widgets/controls",
          "model_name": "HTMLModel",
          "state": {
            "_view_name": "HTMLView",
            "style": "IPY_MODEL_39cd602de5da4774bb5dbdee9055c7d4",
            "_dom_classes": [],
            "description": "",
            "_model_name": "HTMLModel",
            "placeholder": "​",
            "_view_module": "@jupyter-widgets/controls",
            "_model_module_version": "1.5.0",
            "value": " 2426/2426 [11:46&lt;00:00,  3.43it/s]",
            "_view_count": null,
            "_view_module_version": "1.5.0",
            "description_tooltip": null,
            "_model_module": "@jupyter-widgets/controls",
            "layout": "IPY_MODEL_8f90c137600c4dc3acdf8d349d07b759"
          }
        },
        "52ebac05748a4ca6a8b9f8808b1aab1f": {
          "model_module": "@jupyter-widgets/controls",
          "model_name": "ProgressStyleModel",
          "state": {
            "_view_name": "StyleView",
            "_model_name": "ProgressStyleModel",
            "description_width": "initial",
            "_view_module": "@jupyter-widgets/base",
            "_model_module_version": "1.5.0",
            "_view_count": null,
            "_view_module_version": "1.2.0",
            "bar_color": null,
            "_model_module": "@jupyter-widgets/controls"
          }
        },
        "02c6e87de9274359bfa7014331648c46": {
          "model_module": "@jupyter-widgets/base",
          "model_name": "LayoutModel",
          "state": {
            "_view_name": "LayoutView",
            "grid_template_rows": null,
            "right": null,
            "justify_content": null,
            "_view_module": "@jupyter-widgets/base",
            "overflow": null,
            "_model_module_version": "1.2.0",
            "_view_count": null,
            "flex_flow": null,
            "width": null,
            "min_width": null,
            "border": null,
            "align_items": null,
            "bottom": null,
            "_model_module": "@jupyter-widgets/base",
            "top": null,
            "grid_column": null,
            "overflow_y": null,
            "overflow_x": null,
            "grid_auto_flow": null,
            "grid_area": null,
            "grid_template_columns": null,
            "flex": null,
            "_model_name": "LayoutModel",
            "justify_items": null,
            "grid_row": null,
            "max_height": null,
            "align_content": null,
            "visibility": null,
            "align_self": null,
            "height": null,
            "min_height": null,
            "padding": null,
            "grid_auto_rows": null,
            "grid_gap": null,
            "max_width": null,
            "order": null,
            "_view_module_version": "1.2.0",
            "grid_template_areas": null,
            "object_position": null,
            "object_fit": null,
            "grid_auto_columns": null,
            "margin": null,
            "display": null,
            "left": null
          }
        },
        "39cd602de5da4774bb5dbdee9055c7d4": {
          "model_module": "@jupyter-widgets/controls",
          "model_name": "DescriptionStyleModel",
          "state": {
            "_view_name": "StyleView",
            "_model_name": "DescriptionStyleModel",
            "description_width": "",
            "_view_module": "@jupyter-widgets/base",
            "_model_module_version": "1.5.0",
            "_view_count": null,
            "_view_module_version": "1.2.0",
            "_model_module": "@jupyter-widgets/controls"
          }
        },
        "8f90c137600c4dc3acdf8d349d07b759": {
          "model_module": "@jupyter-widgets/base",
          "model_name": "LayoutModel",
          "state": {
            "_view_name": "LayoutView",
            "grid_template_rows": null,
            "right": null,
            "justify_content": null,
            "_view_module": "@jupyter-widgets/base",
            "overflow": null,
            "_model_module_version": "1.2.0",
            "_view_count": null,
            "flex_flow": null,
            "width": null,
            "min_width": null,
            "border": null,
            "align_items": null,
            "bottom": null,
            "_model_module": "@jupyter-widgets/base",
            "top": null,
            "grid_column": null,
            "overflow_y": null,
            "overflow_x": null,
            "grid_auto_flow": null,
            "grid_area": null,
            "grid_template_columns": null,
            "flex": null,
            "_model_name": "LayoutModel",
            "justify_items": null,
            "grid_row": null,
            "max_height": null,
            "align_content": null,
            "visibility": null,
            "align_self": null,
            "height": null,
            "min_height": null,
            "padding": null,
            "grid_auto_rows": null,
            "grid_gap": null,
            "max_width": null,
            "order": null,
            "_view_module_version": "1.2.0",
            "grid_template_areas": null,
            "object_position": null,
            "object_fit": null,
            "grid_auto_columns": null,
            "margin": null,
            "display": null,
            "left": null
          }
        },
        "d5e5795953844dda89b6d5710786b36c": {
          "model_module": "@jupyter-widgets/controls",
          "model_name": "HBoxModel",
          "state": {
            "_view_name": "HBoxView",
            "_dom_classes": [],
            "_model_name": "HBoxModel",
            "_view_module": "@jupyter-widgets/controls",
            "_model_module_version": "1.5.0",
            "_view_count": null,
            "_view_module_version": "1.5.0",
            "box_style": "",
            "layout": "IPY_MODEL_b3bee52616674490a3f7bdaa3e6baab7",
            "_model_module": "@jupyter-widgets/controls",
            "children": [
              "IPY_MODEL_4e4311c2cbec49c1a32afe1e4a52bf74",
              "IPY_MODEL_72fbd0bd28fc475da551b81ec33d8d9c"
            ]
          }
        },
        "b3bee52616674490a3f7bdaa3e6baab7": {
          "model_module": "@jupyter-widgets/base",
          "model_name": "LayoutModel",
          "state": {
            "_view_name": "LayoutView",
            "grid_template_rows": null,
            "right": null,
            "justify_content": null,
            "_view_module": "@jupyter-widgets/base",
            "overflow": null,
            "_model_module_version": "1.2.0",
            "_view_count": null,
            "flex_flow": null,
            "width": null,
            "min_width": null,
            "border": null,
            "align_items": null,
            "bottom": null,
            "_model_module": "@jupyter-widgets/base",
            "top": null,
            "grid_column": null,
            "overflow_y": null,
            "overflow_x": null,
            "grid_auto_flow": null,
            "grid_area": null,
            "grid_template_columns": null,
            "flex": null,
            "_model_name": "LayoutModel",
            "justify_items": null,
            "grid_row": null,
            "max_height": null,
            "align_content": null,
            "visibility": null,
            "align_self": null,
            "height": null,
            "min_height": null,
            "padding": null,
            "grid_auto_rows": null,
            "grid_gap": null,
            "max_width": null,
            "order": null,
            "_view_module_version": "1.2.0",
            "grid_template_areas": null,
            "object_position": null,
            "object_fit": null,
            "grid_auto_columns": null,
            "margin": null,
            "display": null,
            "left": null
          }
        },
        "4e4311c2cbec49c1a32afe1e4a52bf74": {
          "model_module": "@jupyter-widgets/controls",
          "model_name": "FloatProgressModel",
          "state": {
            "_view_name": "ProgressView",
            "style": "IPY_MODEL_12c9648fead44182a475b1dcec54a25e",
            "_dom_classes": [],
            "description": "Epoch - 5: 100%",
            "_model_name": "FloatProgressModel",
            "bar_style": "success",
            "max": 2426,
            "_view_module": "@jupyter-widgets/controls",
            "_model_module_version": "1.5.0",
            "value": 2426,
            "_view_count": null,
            "_view_module_version": "1.5.0",
            "orientation": "horizontal",
            "min": 0,
            "description_tooltip": null,
            "_model_module": "@jupyter-widgets/controls",
            "layout": "IPY_MODEL_2bb12ac2acf54a86a7e4ef0ad79ca3cc"
          }
        },
        "72fbd0bd28fc475da551b81ec33d8d9c": {
          "model_module": "@jupyter-widgets/controls",
          "model_name": "HTMLModel",
          "state": {
            "_view_name": "HTMLView",
            "style": "IPY_MODEL_452626a53cb64eb68520a8911458df09",
            "_dom_classes": [],
            "description": "",
            "_model_name": "HTMLModel",
            "placeholder": "​",
            "_view_module": "@jupyter-widgets/controls",
            "_model_module_version": "1.5.0",
            "value": " 2426/2426 [03:55&lt;00:00, 10.30it/s]",
            "_view_count": null,
            "_view_module_version": "1.5.0",
            "description_tooltip": null,
            "_model_module": "@jupyter-widgets/controls",
            "layout": "IPY_MODEL_8613c97822714bdb98e6f1c5c287701b"
          }
        },
        "12c9648fead44182a475b1dcec54a25e": {
          "model_module": "@jupyter-widgets/controls",
          "model_name": "ProgressStyleModel",
          "state": {
            "_view_name": "StyleView",
            "_model_name": "ProgressStyleModel",
            "description_width": "initial",
            "_view_module": "@jupyter-widgets/base",
            "_model_module_version": "1.5.0",
            "_view_count": null,
            "_view_module_version": "1.2.0",
            "bar_color": null,
            "_model_module": "@jupyter-widgets/controls"
          }
        },
        "2bb12ac2acf54a86a7e4ef0ad79ca3cc": {
          "model_module": "@jupyter-widgets/base",
          "model_name": "LayoutModel",
          "state": {
            "_view_name": "LayoutView",
            "grid_template_rows": null,
            "right": null,
            "justify_content": null,
            "_view_module": "@jupyter-widgets/base",
            "overflow": null,
            "_model_module_version": "1.2.0",
            "_view_count": null,
            "flex_flow": null,
            "width": null,
            "min_width": null,
            "border": null,
            "align_items": null,
            "bottom": null,
            "_model_module": "@jupyter-widgets/base",
            "top": null,
            "grid_column": null,
            "overflow_y": null,
            "overflow_x": null,
            "grid_auto_flow": null,
            "grid_area": null,
            "grid_template_columns": null,
            "flex": null,
            "_model_name": "LayoutModel",
            "justify_items": null,
            "grid_row": null,
            "max_height": null,
            "align_content": null,
            "visibility": null,
            "align_self": null,
            "height": null,
            "min_height": null,
            "padding": null,
            "grid_auto_rows": null,
            "grid_gap": null,
            "max_width": null,
            "order": null,
            "_view_module_version": "1.2.0",
            "grid_template_areas": null,
            "object_position": null,
            "object_fit": null,
            "grid_auto_columns": null,
            "margin": null,
            "display": null,
            "left": null
          }
        },
        "452626a53cb64eb68520a8911458df09": {
          "model_module": "@jupyter-widgets/controls",
          "model_name": "DescriptionStyleModel",
          "state": {
            "_view_name": "StyleView",
            "_model_name": "DescriptionStyleModel",
            "description_width": "",
            "_view_module": "@jupyter-widgets/base",
            "_model_module_version": "1.5.0",
            "_view_count": null,
            "_view_module_version": "1.2.0",
            "_model_module": "@jupyter-widgets/controls"
          }
        },
        "8613c97822714bdb98e6f1c5c287701b": {
          "model_module": "@jupyter-widgets/base",
          "model_name": "LayoutModel",
          "state": {
            "_view_name": "LayoutView",
            "grid_template_rows": null,
            "right": null,
            "justify_content": null,
            "_view_module": "@jupyter-widgets/base",
            "overflow": null,
            "_model_module_version": "1.2.0",
            "_view_count": null,
            "flex_flow": null,
            "width": null,
            "min_width": null,
            "border": null,
            "align_items": null,
            "bottom": null,
            "_model_module": "@jupyter-widgets/base",
            "top": null,
            "grid_column": null,
            "overflow_y": null,
            "overflow_x": null,
            "grid_auto_flow": null,
            "grid_area": null,
            "grid_template_columns": null,
            "flex": null,
            "_model_name": "LayoutModel",
            "justify_items": null,
            "grid_row": null,
            "max_height": null,
            "align_content": null,
            "visibility": null,
            "align_self": null,
            "height": null,
            "min_height": null,
            "padding": null,
            "grid_auto_rows": null,
            "grid_gap": null,
            "max_width": null,
            "order": null,
            "_view_module_version": "1.2.0",
            "grid_template_areas": null,
            "object_position": null,
            "object_fit": null,
            "grid_auto_columns": null,
            "margin": null,
            "display": null,
            "left": null
          }
        },
        "583bd762e6c34cafb9555b14580da99c": {
          "model_module": "@jupyter-widgets/controls",
          "model_name": "HBoxModel",
          "state": {
            "_view_name": "HBoxView",
            "_dom_classes": [],
            "_model_name": "HBoxModel",
            "_view_module": "@jupyter-widgets/controls",
            "_model_module_version": "1.5.0",
            "_view_count": null,
            "_view_module_version": "1.5.0",
            "box_style": "",
            "layout": "IPY_MODEL_105086b41cab45f09af93f502ef95ebe",
            "_model_module": "@jupyter-widgets/controls",
            "children": [
              "IPY_MODEL_ad3066b508974b3f90b9406ebe1797ab",
              "IPY_MODEL_c3b41fe589c446bab473660fbdd44236"
            ]
          }
        },
        "105086b41cab45f09af93f502ef95ebe": {
          "model_module": "@jupyter-widgets/base",
          "model_name": "LayoutModel",
          "state": {
            "_view_name": "LayoutView",
            "grid_template_rows": null,
            "right": null,
            "justify_content": null,
            "_view_module": "@jupyter-widgets/base",
            "overflow": null,
            "_model_module_version": "1.2.0",
            "_view_count": null,
            "flex_flow": null,
            "width": null,
            "min_width": null,
            "border": null,
            "align_items": null,
            "bottom": null,
            "_model_module": "@jupyter-widgets/base",
            "top": null,
            "grid_column": null,
            "overflow_y": null,
            "overflow_x": null,
            "grid_auto_flow": null,
            "grid_area": null,
            "grid_template_columns": null,
            "flex": null,
            "_model_name": "LayoutModel",
            "justify_items": null,
            "grid_row": null,
            "max_height": null,
            "align_content": null,
            "visibility": null,
            "align_self": null,
            "height": null,
            "min_height": null,
            "padding": null,
            "grid_auto_rows": null,
            "grid_gap": null,
            "max_width": null,
            "order": null,
            "_view_module_version": "1.2.0",
            "grid_template_areas": null,
            "object_position": null,
            "object_fit": null,
            "grid_auto_columns": null,
            "margin": null,
            "display": null,
            "left": null
          }
        },
        "ad3066b508974b3f90b9406ebe1797ab": {
          "model_module": "@jupyter-widgets/controls",
          "model_name": "FloatProgressModel",
          "state": {
            "_view_name": "ProgressView",
            "style": "IPY_MODEL_fafd95bc919b47f1afe6d10cae78d9e0",
            "_dom_classes": [],
            "description": "Epoch - 6: 100%",
            "_model_name": "FloatProgressModel",
            "bar_style": "success",
            "max": 2426,
            "_view_module": "@jupyter-widgets/controls",
            "_model_module_version": "1.5.0",
            "value": 2426,
            "_view_count": null,
            "_view_module_version": "1.5.0",
            "orientation": "horizontal",
            "min": 0,
            "description_tooltip": null,
            "_model_module": "@jupyter-widgets/controls",
            "layout": "IPY_MODEL_13e5965e0de04d65abcf924ed88db646"
          }
        },
        "c3b41fe589c446bab473660fbdd44236": {
          "model_module": "@jupyter-widgets/controls",
          "model_name": "HTMLModel",
          "state": {
            "_view_name": "HTMLView",
            "style": "IPY_MODEL_38e59cd0e5df415990689f4a6f23a8c9",
            "_dom_classes": [],
            "description": "",
            "_model_name": "HTMLModel",
            "placeholder": "​",
            "_view_module": "@jupyter-widgets/controls",
            "_model_module_version": "1.5.0",
            "value": " 2426/2426 [01:57&lt;00:00, 20.64it/s]",
            "_view_count": null,
            "_view_module_version": "1.5.0",
            "description_tooltip": null,
            "_model_module": "@jupyter-widgets/controls",
            "layout": "IPY_MODEL_7d98efad8f3043ab8a6304fb8f6d67c8"
          }
        },
        "fafd95bc919b47f1afe6d10cae78d9e0": {
          "model_module": "@jupyter-widgets/controls",
          "model_name": "ProgressStyleModel",
          "state": {
            "_view_name": "StyleView",
            "_model_name": "ProgressStyleModel",
            "description_width": "initial",
            "_view_module": "@jupyter-widgets/base",
            "_model_module_version": "1.5.0",
            "_view_count": null,
            "_view_module_version": "1.2.0",
            "bar_color": null,
            "_model_module": "@jupyter-widgets/controls"
          }
        },
        "13e5965e0de04d65abcf924ed88db646": {
          "model_module": "@jupyter-widgets/base",
          "model_name": "LayoutModel",
          "state": {
            "_view_name": "LayoutView",
            "grid_template_rows": null,
            "right": null,
            "justify_content": null,
            "_view_module": "@jupyter-widgets/base",
            "overflow": null,
            "_model_module_version": "1.2.0",
            "_view_count": null,
            "flex_flow": null,
            "width": null,
            "min_width": null,
            "border": null,
            "align_items": null,
            "bottom": null,
            "_model_module": "@jupyter-widgets/base",
            "top": null,
            "grid_column": null,
            "overflow_y": null,
            "overflow_x": null,
            "grid_auto_flow": null,
            "grid_area": null,
            "grid_template_columns": null,
            "flex": null,
            "_model_name": "LayoutModel",
            "justify_items": null,
            "grid_row": null,
            "max_height": null,
            "align_content": null,
            "visibility": null,
            "align_self": null,
            "height": null,
            "min_height": null,
            "padding": null,
            "grid_auto_rows": null,
            "grid_gap": null,
            "max_width": null,
            "order": null,
            "_view_module_version": "1.2.0",
            "grid_template_areas": null,
            "object_position": null,
            "object_fit": null,
            "grid_auto_columns": null,
            "margin": null,
            "display": null,
            "left": null
          }
        },
        "38e59cd0e5df415990689f4a6f23a8c9": {
          "model_module": "@jupyter-widgets/controls",
          "model_name": "DescriptionStyleModel",
          "state": {
            "_view_name": "StyleView",
            "_model_name": "DescriptionStyleModel",
            "description_width": "",
            "_view_module": "@jupyter-widgets/base",
            "_model_module_version": "1.5.0",
            "_view_count": null,
            "_view_module_version": "1.2.0",
            "_model_module": "@jupyter-widgets/controls"
          }
        },
        "7d98efad8f3043ab8a6304fb8f6d67c8": {
          "model_module": "@jupyter-widgets/base",
          "model_name": "LayoutModel",
          "state": {
            "_view_name": "LayoutView",
            "grid_template_rows": null,
            "right": null,
            "justify_content": null,
            "_view_module": "@jupyter-widgets/base",
            "overflow": null,
            "_model_module_version": "1.2.0",
            "_view_count": null,
            "flex_flow": null,
            "width": null,
            "min_width": null,
            "border": null,
            "align_items": null,
            "bottom": null,
            "_model_module": "@jupyter-widgets/base",
            "top": null,
            "grid_column": null,
            "overflow_y": null,
            "overflow_x": null,
            "grid_auto_flow": null,
            "grid_area": null,
            "grid_template_columns": null,
            "flex": null,
            "_model_name": "LayoutModel",
            "justify_items": null,
            "grid_row": null,
            "max_height": null,
            "align_content": null,
            "visibility": null,
            "align_self": null,
            "height": null,
            "min_height": null,
            "padding": null,
            "grid_auto_rows": null,
            "grid_gap": null,
            "max_width": null,
            "order": null,
            "_view_module_version": "1.2.0",
            "grid_template_areas": null,
            "object_position": null,
            "object_fit": null,
            "grid_auto_columns": null,
            "margin": null,
            "display": null,
            "left": null
          }
        },
        "ffb07c19c30b415a9ceee53fa6a3a6b1": {
          "model_module": "@jupyter-widgets/controls",
          "model_name": "HBoxModel",
          "state": {
            "_view_name": "HBoxView",
            "_dom_classes": [],
            "_model_name": "HBoxModel",
            "_view_module": "@jupyter-widgets/controls",
            "_model_module_version": "1.5.0",
            "_view_count": null,
            "_view_module_version": "1.5.0",
            "box_style": "",
            "layout": "IPY_MODEL_58b5e323e0004388a7eba15aa4492e75",
            "_model_module": "@jupyter-widgets/controls",
            "children": [
              "IPY_MODEL_88ac85287e4b44f08a7eb47a54c1f871",
              "IPY_MODEL_419aefe569fe44c8bde18968ce3bd81d"
            ]
          }
        },
        "58b5e323e0004388a7eba15aa4492e75": {
          "model_module": "@jupyter-widgets/base",
          "model_name": "LayoutModel",
          "state": {
            "_view_name": "LayoutView",
            "grid_template_rows": null,
            "right": null,
            "justify_content": null,
            "_view_module": "@jupyter-widgets/base",
            "overflow": null,
            "_model_module_version": "1.2.0",
            "_view_count": null,
            "flex_flow": null,
            "width": null,
            "min_width": null,
            "border": null,
            "align_items": null,
            "bottom": null,
            "_model_module": "@jupyter-widgets/base",
            "top": null,
            "grid_column": null,
            "overflow_y": null,
            "overflow_x": null,
            "grid_auto_flow": null,
            "grid_area": null,
            "grid_template_columns": null,
            "flex": null,
            "_model_name": "LayoutModel",
            "justify_items": null,
            "grid_row": null,
            "max_height": null,
            "align_content": null,
            "visibility": null,
            "align_self": null,
            "height": null,
            "min_height": null,
            "padding": null,
            "grid_auto_rows": null,
            "grid_gap": null,
            "max_width": null,
            "order": null,
            "_view_module_version": "1.2.0",
            "grid_template_areas": null,
            "object_position": null,
            "object_fit": null,
            "grid_auto_columns": null,
            "margin": null,
            "display": null,
            "left": null
          }
        },
        "88ac85287e4b44f08a7eb47a54c1f871": {
          "model_module": "@jupyter-widgets/controls",
          "model_name": "FloatProgressModel",
          "state": {
            "_view_name": "ProgressView",
            "style": "IPY_MODEL_30d83f093458497ba4f3487a383d94ae",
            "_dom_classes": [],
            "description": "Epoch - 7: 100%",
            "_model_name": "FloatProgressModel",
            "bar_style": "success",
            "max": 2426,
            "_view_module": "@jupyter-widgets/controls",
            "_model_module_version": "1.5.0",
            "value": 2426,
            "_view_count": null,
            "_view_module_version": "1.5.0",
            "orientation": "horizontal",
            "min": 0,
            "description_tooltip": null,
            "_model_module": "@jupyter-widgets/controls",
            "layout": "IPY_MODEL_05df198f9b8946e7b1727dbf90573ba5"
          }
        },
        "419aefe569fe44c8bde18968ce3bd81d": {
          "model_module": "@jupyter-widgets/controls",
          "model_name": "HTMLModel",
          "state": {
            "_view_name": "HTMLView",
            "style": "IPY_MODEL_91e80f0703c048c690e8fc233ff24fe4",
            "_dom_classes": [],
            "description": "",
            "_model_name": "HTMLModel",
            "placeholder": "​",
            "_view_module": "@jupyter-widgets/controls",
            "_model_module_version": "1.5.0",
            "value": " 2426/2426 [05:53&lt;00:00,  6.86it/s]",
            "_view_count": null,
            "_view_module_version": "1.5.0",
            "description_tooltip": null,
            "_model_module": "@jupyter-widgets/controls",
            "layout": "IPY_MODEL_9cafaf90c14d4fbc9775d3e3cba60716"
          }
        },
        "30d83f093458497ba4f3487a383d94ae": {
          "model_module": "@jupyter-widgets/controls",
          "model_name": "ProgressStyleModel",
          "state": {
            "_view_name": "StyleView",
            "_model_name": "ProgressStyleModel",
            "description_width": "initial",
            "_view_module": "@jupyter-widgets/base",
            "_model_module_version": "1.5.0",
            "_view_count": null,
            "_view_module_version": "1.2.0",
            "bar_color": null,
            "_model_module": "@jupyter-widgets/controls"
          }
        },
        "05df198f9b8946e7b1727dbf90573ba5": {
          "model_module": "@jupyter-widgets/base",
          "model_name": "LayoutModel",
          "state": {
            "_view_name": "LayoutView",
            "grid_template_rows": null,
            "right": null,
            "justify_content": null,
            "_view_module": "@jupyter-widgets/base",
            "overflow": null,
            "_model_module_version": "1.2.0",
            "_view_count": null,
            "flex_flow": null,
            "width": null,
            "min_width": null,
            "border": null,
            "align_items": null,
            "bottom": null,
            "_model_module": "@jupyter-widgets/base",
            "top": null,
            "grid_column": null,
            "overflow_y": null,
            "overflow_x": null,
            "grid_auto_flow": null,
            "grid_area": null,
            "grid_template_columns": null,
            "flex": null,
            "_model_name": "LayoutModel",
            "justify_items": null,
            "grid_row": null,
            "max_height": null,
            "align_content": null,
            "visibility": null,
            "align_self": null,
            "height": null,
            "min_height": null,
            "padding": null,
            "grid_auto_rows": null,
            "grid_gap": null,
            "max_width": null,
            "order": null,
            "_view_module_version": "1.2.0",
            "grid_template_areas": null,
            "object_position": null,
            "object_fit": null,
            "grid_auto_columns": null,
            "margin": null,
            "display": null,
            "left": null
          }
        },
        "91e80f0703c048c690e8fc233ff24fe4": {
          "model_module": "@jupyter-widgets/controls",
          "model_name": "DescriptionStyleModel",
          "state": {
            "_view_name": "StyleView",
            "_model_name": "DescriptionStyleModel",
            "description_width": "",
            "_view_module": "@jupyter-widgets/base",
            "_model_module_version": "1.5.0",
            "_view_count": null,
            "_view_module_version": "1.2.0",
            "_model_module": "@jupyter-widgets/controls"
          }
        },
        "9cafaf90c14d4fbc9775d3e3cba60716": {
          "model_module": "@jupyter-widgets/base",
          "model_name": "LayoutModel",
          "state": {
            "_view_name": "LayoutView",
            "grid_template_rows": null,
            "right": null,
            "justify_content": null,
            "_view_module": "@jupyter-widgets/base",
            "overflow": null,
            "_model_module_version": "1.2.0",
            "_view_count": null,
            "flex_flow": null,
            "width": null,
            "min_width": null,
            "border": null,
            "align_items": null,
            "bottom": null,
            "_model_module": "@jupyter-widgets/base",
            "top": null,
            "grid_column": null,
            "overflow_y": null,
            "overflow_x": null,
            "grid_auto_flow": null,
            "grid_area": null,
            "grid_template_columns": null,
            "flex": null,
            "_model_name": "LayoutModel",
            "justify_items": null,
            "grid_row": null,
            "max_height": null,
            "align_content": null,
            "visibility": null,
            "align_self": null,
            "height": null,
            "min_height": null,
            "padding": null,
            "grid_auto_rows": null,
            "grid_gap": null,
            "max_width": null,
            "order": null,
            "_view_module_version": "1.2.0",
            "grid_template_areas": null,
            "object_position": null,
            "object_fit": null,
            "grid_auto_columns": null,
            "margin": null,
            "display": null,
            "left": null
          }
        },
        "1be28dc808f143e5be72c58ee888f1b8": {
          "model_module": "@jupyter-widgets/controls",
          "model_name": "HBoxModel",
          "state": {
            "_view_name": "HBoxView",
            "_dom_classes": [],
            "_model_name": "HBoxModel",
            "_view_module": "@jupyter-widgets/controls",
            "_model_module_version": "1.5.0",
            "_view_count": null,
            "_view_module_version": "1.5.0",
            "box_style": "",
            "layout": "IPY_MODEL_c2d62fb2e0e64829aba7dbd0f7cf1e0d",
            "_model_module": "@jupyter-widgets/controls",
            "children": [
              "IPY_MODEL_5d4f457ea4084a9db4de281c2b3c5ead",
              "IPY_MODEL_d3054472547e45cc9ac43ad1d1a9192a"
            ]
          }
        },
        "c2d62fb2e0e64829aba7dbd0f7cf1e0d": {
          "model_module": "@jupyter-widgets/base",
          "model_name": "LayoutModel",
          "state": {
            "_view_name": "LayoutView",
            "grid_template_rows": null,
            "right": null,
            "justify_content": null,
            "_view_module": "@jupyter-widgets/base",
            "overflow": null,
            "_model_module_version": "1.2.0",
            "_view_count": null,
            "flex_flow": null,
            "width": null,
            "min_width": null,
            "border": null,
            "align_items": null,
            "bottom": null,
            "_model_module": "@jupyter-widgets/base",
            "top": null,
            "grid_column": null,
            "overflow_y": null,
            "overflow_x": null,
            "grid_auto_flow": null,
            "grid_area": null,
            "grid_template_columns": null,
            "flex": null,
            "_model_name": "LayoutModel",
            "justify_items": null,
            "grid_row": null,
            "max_height": null,
            "align_content": null,
            "visibility": null,
            "align_self": null,
            "height": null,
            "min_height": null,
            "padding": null,
            "grid_auto_rows": null,
            "grid_gap": null,
            "max_width": null,
            "order": null,
            "_view_module_version": "1.2.0",
            "grid_template_areas": null,
            "object_position": null,
            "object_fit": null,
            "grid_auto_columns": null,
            "margin": null,
            "display": null,
            "left": null
          }
        },
        "5d4f457ea4084a9db4de281c2b3c5ead": {
          "model_module": "@jupyter-widgets/controls",
          "model_name": "FloatProgressModel",
          "state": {
            "_view_name": "ProgressView",
            "style": "IPY_MODEL_2f578a0468e548bdbdccc76a855b5cf5",
            "_dom_classes": [],
            "description": "Epoch - 8: 100%",
            "_model_name": "FloatProgressModel",
            "bar_style": "success",
            "max": 2426,
            "_view_module": "@jupyter-widgets/controls",
            "_model_module_version": "1.5.0",
            "value": 2426,
            "_view_count": null,
            "_view_module_version": "1.5.0",
            "orientation": "horizontal",
            "min": 0,
            "description_tooltip": null,
            "_model_module": "@jupyter-widgets/controls",
            "layout": "IPY_MODEL_eea1b626af3e43aebdbf401efc19d447"
          }
        },
        "d3054472547e45cc9ac43ad1d1a9192a": {
          "model_module": "@jupyter-widgets/controls",
          "model_name": "HTMLModel",
          "state": {
            "_view_name": "HTMLView",
            "style": "IPY_MODEL_0838b652659247dba1669fb4f82cab81",
            "_dom_classes": [],
            "description": "",
            "_model_name": "HTMLModel",
            "placeholder": "​",
            "_view_module": "@jupyter-widgets/controls",
            "_model_module_version": "1.5.0",
            "value": " 2426/2426 [03:56&lt;00:00, 10.26it/s]",
            "_view_count": null,
            "_view_module_version": "1.5.0",
            "description_tooltip": null,
            "_model_module": "@jupyter-widgets/controls",
            "layout": "IPY_MODEL_ece83c99fb024f21a5b088951c214475"
          }
        },
        "2f578a0468e548bdbdccc76a855b5cf5": {
          "model_module": "@jupyter-widgets/controls",
          "model_name": "ProgressStyleModel",
          "state": {
            "_view_name": "StyleView",
            "_model_name": "ProgressStyleModel",
            "description_width": "initial",
            "_view_module": "@jupyter-widgets/base",
            "_model_module_version": "1.5.0",
            "_view_count": null,
            "_view_module_version": "1.2.0",
            "bar_color": null,
            "_model_module": "@jupyter-widgets/controls"
          }
        },
        "eea1b626af3e43aebdbf401efc19d447": {
          "model_module": "@jupyter-widgets/base",
          "model_name": "LayoutModel",
          "state": {
            "_view_name": "LayoutView",
            "grid_template_rows": null,
            "right": null,
            "justify_content": null,
            "_view_module": "@jupyter-widgets/base",
            "overflow": null,
            "_model_module_version": "1.2.0",
            "_view_count": null,
            "flex_flow": null,
            "width": null,
            "min_width": null,
            "border": null,
            "align_items": null,
            "bottom": null,
            "_model_module": "@jupyter-widgets/base",
            "top": null,
            "grid_column": null,
            "overflow_y": null,
            "overflow_x": null,
            "grid_auto_flow": null,
            "grid_area": null,
            "grid_template_columns": null,
            "flex": null,
            "_model_name": "LayoutModel",
            "justify_items": null,
            "grid_row": null,
            "max_height": null,
            "align_content": null,
            "visibility": null,
            "align_self": null,
            "height": null,
            "min_height": null,
            "padding": null,
            "grid_auto_rows": null,
            "grid_gap": null,
            "max_width": null,
            "order": null,
            "_view_module_version": "1.2.0",
            "grid_template_areas": null,
            "object_position": null,
            "object_fit": null,
            "grid_auto_columns": null,
            "margin": null,
            "display": null,
            "left": null
          }
        },
        "0838b652659247dba1669fb4f82cab81": {
          "model_module": "@jupyter-widgets/controls",
          "model_name": "DescriptionStyleModel",
          "state": {
            "_view_name": "StyleView",
            "_model_name": "DescriptionStyleModel",
            "description_width": "",
            "_view_module": "@jupyter-widgets/base",
            "_model_module_version": "1.5.0",
            "_view_count": null,
            "_view_module_version": "1.2.0",
            "_model_module": "@jupyter-widgets/controls"
          }
        },
        "ece83c99fb024f21a5b088951c214475": {
          "model_module": "@jupyter-widgets/base",
          "model_name": "LayoutModel",
          "state": {
            "_view_name": "LayoutView",
            "grid_template_rows": null,
            "right": null,
            "justify_content": null,
            "_view_module": "@jupyter-widgets/base",
            "overflow": null,
            "_model_module_version": "1.2.0",
            "_view_count": null,
            "flex_flow": null,
            "width": null,
            "min_width": null,
            "border": null,
            "align_items": null,
            "bottom": null,
            "_model_module": "@jupyter-widgets/base",
            "top": null,
            "grid_column": null,
            "overflow_y": null,
            "overflow_x": null,
            "grid_auto_flow": null,
            "grid_area": null,
            "grid_template_columns": null,
            "flex": null,
            "_model_name": "LayoutModel",
            "justify_items": null,
            "grid_row": null,
            "max_height": null,
            "align_content": null,
            "visibility": null,
            "align_self": null,
            "height": null,
            "min_height": null,
            "padding": null,
            "grid_auto_rows": null,
            "grid_gap": null,
            "max_width": null,
            "order": null,
            "_view_module_version": "1.2.0",
            "grid_template_areas": null,
            "object_position": null,
            "object_fit": null,
            "grid_auto_columns": null,
            "margin": null,
            "display": null,
            "left": null
          }
        },
        "fc5b36a5adc249cab4cd7b20562403a8": {
          "model_module": "@jupyter-widgets/controls",
          "model_name": "HBoxModel",
          "state": {
            "_view_name": "HBoxView",
            "_dom_classes": [],
            "_model_name": "HBoxModel",
            "_view_module": "@jupyter-widgets/controls",
            "_model_module_version": "1.5.0",
            "_view_count": null,
            "_view_module_version": "1.5.0",
            "box_style": "",
            "layout": "IPY_MODEL_f562838246d649faa17b27c41eca9d61",
            "_model_module": "@jupyter-widgets/controls",
            "children": [
              "IPY_MODEL_cb2b77ac6f8e41a893412cfda6c210a7",
              "IPY_MODEL_9bf8bf0d0cdb4e64a2d7c02ebfba67dc"
            ]
          }
        },
        "f562838246d649faa17b27c41eca9d61": {
          "model_module": "@jupyter-widgets/base",
          "model_name": "LayoutModel",
          "state": {
            "_view_name": "LayoutView",
            "grid_template_rows": null,
            "right": null,
            "justify_content": null,
            "_view_module": "@jupyter-widgets/base",
            "overflow": null,
            "_model_module_version": "1.2.0",
            "_view_count": null,
            "flex_flow": null,
            "width": null,
            "min_width": null,
            "border": null,
            "align_items": null,
            "bottom": null,
            "_model_module": "@jupyter-widgets/base",
            "top": null,
            "grid_column": null,
            "overflow_y": null,
            "overflow_x": null,
            "grid_auto_flow": null,
            "grid_area": null,
            "grid_template_columns": null,
            "flex": null,
            "_model_name": "LayoutModel",
            "justify_items": null,
            "grid_row": null,
            "max_height": null,
            "align_content": null,
            "visibility": null,
            "align_self": null,
            "height": null,
            "min_height": null,
            "padding": null,
            "grid_auto_rows": null,
            "grid_gap": null,
            "max_width": null,
            "order": null,
            "_view_module_version": "1.2.0",
            "grid_template_areas": null,
            "object_position": null,
            "object_fit": null,
            "grid_auto_columns": null,
            "margin": null,
            "display": null,
            "left": null
          }
        },
        "cb2b77ac6f8e41a893412cfda6c210a7": {
          "model_module": "@jupyter-widgets/controls",
          "model_name": "FloatProgressModel",
          "state": {
            "_view_name": "ProgressView",
            "style": "IPY_MODEL_d76a784e891c4f10845c96aed452ce1e",
            "_dom_classes": [],
            "description": "Epoch - 9: 100%",
            "_model_name": "FloatProgressModel",
            "bar_style": "success",
            "max": 2426,
            "_view_module": "@jupyter-widgets/controls",
            "_model_module_version": "1.5.0",
            "value": 2426,
            "_view_count": null,
            "_view_module_version": "1.5.0",
            "orientation": "horizontal",
            "min": 0,
            "description_tooltip": null,
            "_model_module": "@jupyter-widgets/controls",
            "layout": "IPY_MODEL_2701712d7c814d4a918201df54cba55f"
          }
        },
        "9bf8bf0d0cdb4e64a2d7c02ebfba67dc": {
          "model_module": "@jupyter-widgets/controls",
          "model_name": "HTMLModel",
          "state": {
            "_view_name": "HTMLView",
            "style": "IPY_MODEL_a4aac5385a59448ebc9812ddb981ed9d",
            "_dom_classes": [],
            "description": "",
            "_model_name": "HTMLModel",
            "placeholder": "​",
            "_view_module": "@jupyter-widgets/controls",
            "_model_module_version": "1.5.0",
            "value": " 2426/2426 [01:58&lt;00:00, 20.50it/s]",
            "_view_count": null,
            "_view_module_version": "1.5.0",
            "description_tooltip": null,
            "_model_module": "@jupyter-widgets/controls",
            "layout": "IPY_MODEL_cc022583ba9a4f968e79dd97ada633db"
          }
        },
        "d76a784e891c4f10845c96aed452ce1e": {
          "model_module": "@jupyter-widgets/controls",
          "model_name": "ProgressStyleModel",
          "state": {
            "_view_name": "StyleView",
            "_model_name": "ProgressStyleModel",
            "description_width": "initial",
            "_view_module": "@jupyter-widgets/base",
            "_model_module_version": "1.5.0",
            "_view_count": null,
            "_view_module_version": "1.2.0",
            "bar_color": null,
            "_model_module": "@jupyter-widgets/controls"
          }
        },
        "2701712d7c814d4a918201df54cba55f": {
          "model_module": "@jupyter-widgets/base",
          "model_name": "LayoutModel",
          "state": {
            "_view_name": "LayoutView",
            "grid_template_rows": null,
            "right": null,
            "justify_content": null,
            "_view_module": "@jupyter-widgets/base",
            "overflow": null,
            "_model_module_version": "1.2.0",
            "_view_count": null,
            "flex_flow": null,
            "width": null,
            "min_width": null,
            "border": null,
            "align_items": null,
            "bottom": null,
            "_model_module": "@jupyter-widgets/base",
            "top": null,
            "grid_column": null,
            "overflow_y": null,
            "overflow_x": null,
            "grid_auto_flow": null,
            "grid_area": null,
            "grid_template_columns": null,
            "flex": null,
            "_model_name": "LayoutModel",
            "justify_items": null,
            "grid_row": null,
            "max_height": null,
            "align_content": null,
            "visibility": null,
            "align_self": null,
            "height": null,
            "min_height": null,
            "padding": null,
            "grid_auto_rows": null,
            "grid_gap": null,
            "max_width": null,
            "order": null,
            "_view_module_version": "1.2.0",
            "grid_template_areas": null,
            "object_position": null,
            "object_fit": null,
            "grid_auto_columns": null,
            "margin": null,
            "display": null,
            "left": null
          }
        },
        "a4aac5385a59448ebc9812ddb981ed9d": {
          "model_module": "@jupyter-widgets/controls",
          "model_name": "DescriptionStyleModel",
          "state": {
            "_view_name": "StyleView",
            "_model_name": "DescriptionStyleModel",
            "description_width": "",
            "_view_module": "@jupyter-widgets/base",
            "_model_module_version": "1.5.0",
            "_view_count": null,
            "_view_module_version": "1.2.0",
            "_model_module": "@jupyter-widgets/controls"
          }
        },
        "cc022583ba9a4f968e79dd97ada633db": {
          "model_module": "@jupyter-widgets/base",
          "model_name": "LayoutModel",
          "state": {
            "_view_name": "LayoutView",
            "grid_template_rows": null,
            "right": null,
            "justify_content": null,
            "_view_module": "@jupyter-widgets/base",
            "overflow": null,
            "_model_module_version": "1.2.0",
            "_view_count": null,
            "flex_flow": null,
            "width": null,
            "min_width": null,
            "border": null,
            "align_items": null,
            "bottom": null,
            "_model_module": "@jupyter-widgets/base",
            "top": null,
            "grid_column": null,
            "overflow_y": null,
            "overflow_x": null,
            "grid_auto_flow": null,
            "grid_area": null,
            "grid_template_columns": null,
            "flex": null,
            "_model_name": "LayoutModel",
            "justify_items": null,
            "grid_row": null,
            "max_height": null,
            "align_content": null,
            "visibility": null,
            "align_self": null,
            "height": null,
            "min_height": null,
            "padding": null,
            "grid_auto_rows": null,
            "grid_gap": null,
            "max_width": null,
            "order": null,
            "_view_module_version": "1.2.0",
            "grid_template_areas": null,
            "object_position": null,
            "object_fit": null,
            "grid_auto_columns": null,
            "margin": null,
            "display": null,
            "left": null
          }
        },
        "9ec826ff7068449d9f273882290002c3": {
          "model_module": "@jupyter-widgets/controls",
          "model_name": "HBoxModel",
          "state": {
            "_view_name": "HBoxView",
            "_dom_classes": [],
            "_model_name": "HBoxModel",
            "_view_module": "@jupyter-widgets/controls",
            "_model_module_version": "1.5.0",
            "_view_count": null,
            "_view_module_version": "1.5.0",
            "box_style": "",
            "layout": "IPY_MODEL_68e1f9db6c984f9ca1231551f2d17d20",
            "_model_module": "@jupyter-widgets/controls",
            "children": [
              "IPY_MODEL_3b14cd68199847e081bc92e8e2f9c793",
              "IPY_MODEL_fb65b63ce45943739bfc2017c4b0cd4f"
            ]
          }
        },
        "68e1f9db6c984f9ca1231551f2d17d20": {
          "model_module": "@jupyter-widgets/base",
          "model_name": "LayoutModel",
          "state": {
            "_view_name": "LayoutView",
            "grid_template_rows": null,
            "right": null,
            "justify_content": null,
            "_view_module": "@jupyter-widgets/base",
            "overflow": null,
            "_model_module_version": "1.2.0",
            "_view_count": null,
            "flex_flow": null,
            "width": null,
            "min_width": null,
            "border": null,
            "align_items": null,
            "bottom": null,
            "_model_module": "@jupyter-widgets/base",
            "top": null,
            "grid_column": null,
            "overflow_y": null,
            "overflow_x": null,
            "grid_auto_flow": null,
            "grid_area": null,
            "grid_template_columns": null,
            "flex": null,
            "_model_name": "LayoutModel",
            "justify_items": null,
            "grid_row": null,
            "max_height": null,
            "align_content": null,
            "visibility": null,
            "align_self": null,
            "height": null,
            "min_height": null,
            "padding": null,
            "grid_auto_rows": null,
            "grid_gap": null,
            "max_width": null,
            "order": null,
            "_view_module_version": "1.2.0",
            "grid_template_areas": null,
            "object_position": null,
            "object_fit": null,
            "grid_auto_columns": null,
            "margin": null,
            "display": null,
            "left": null
          }
        },
        "3b14cd68199847e081bc92e8e2f9c793": {
          "model_module": "@jupyter-widgets/controls",
          "model_name": "FloatProgressModel",
          "state": {
            "_view_name": "ProgressView",
            "style": "IPY_MODEL_4d5d50ae48764bf0acad175c721fa22f",
            "_dom_classes": [],
            "description": "Epoch - 10: 100%",
            "_model_name": "FloatProgressModel",
            "bar_style": "success",
            "max": 2426,
            "_view_module": "@jupyter-widgets/controls",
            "_model_module_version": "1.5.0",
            "value": 2426,
            "_view_count": null,
            "_view_module_version": "1.5.0",
            "orientation": "horizontal",
            "min": 0,
            "description_tooltip": null,
            "_model_module": "@jupyter-widgets/controls",
            "layout": "IPY_MODEL_70484cec4e424e99acb1ebea6a9beaad"
          }
        },
        "fb65b63ce45943739bfc2017c4b0cd4f": {
          "model_module": "@jupyter-widgets/controls",
          "model_name": "HTMLModel",
          "state": {
            "_view_name": "HTMLView",
            "style": "IPY_MODEL_00188b862fcc4f83a9d0551e46b97560",
            "_dom_classes": [],
            "description": "",
            "_model_name": "HTMLModel",
            "placeholder": "​",
            "_view_module": "@jupyter-widgets/controls",
            "_model_module_version": "1.5.0",
            "value": " 2426/2426 [26:31&lt;00:00,  1.52it/s]",
            "_view_count": null,
            "_view_module_version": "1.5.0",
            "description_tooltip": null,
            "_model_module": "@jupyter-widgets/controls",
            "layout": "IPY_MODEL_0e0f25ed75874f61b92d3e4daaf9194e"
          }
        },
        "4d5d50ae48764bf0acad175c721fa22f": {
          "model_module": "@jupyter-widgets/controls",
          "model_name": "ProgressStyleModel",
          "state": {
            "_view_name": "StyleView",
            "_model_name": "ProgressStyleModel",
            "description_width": "initial",
            "_view_module": "@jupyter-widgets/base",
            "_model_module_version": "1.5.0",
            "_view_count": null,
            "_view_module_version": "1.2.0",
            "bar_color": null,
            "_model_module": "@jupyter-widgets/controls"
          }
        },
        "70484cec4e424e99acb1ebea6a9beaad": {
          "model_module": "@jupyter-widgets/base",
          "model_name": "LayoutModel",
          "state": {
            "_view_name": "LayoutView",
            "grid_template_rows": null,
            "right": null,
            "justify_content": null,
            "_view_module": "@jupyter-widgets/base",
            "overflow": null,
            "_model_module_version": "1.2.0",
            "_view_count": null,
            "flex_flow": null,
            "width": null,
            "min_width": null,
            "border": null,
            "align_items": null,
            "bottom": null,
            "_model_module": "@jupyter-widgets/base",
            "top": null,
            "grid_column": null,
            "overflow_y": null,
            "overflow_x": null,
            "grid_auto_flow": null,
            "grid_area": null,
            "grid_template_columns": null,
            "flex": null,
            "_model_name": "LayoutModel",
            "justify_items": null,
            "grid_row": null,
            "max_height": null,
            "align_content": null,
            "visibility": null,
            "align_self": null,
            "height": null,
            "min_height": null,
            "padding": null,
            "grid_auto_rows": null,
            "grid_gap": null,
            "max_width": null,
            "order": null,
            "_view_module_version": "1.2.0",
            "grid_template_areas": null,
            "object_position": null,
            "object_fit": null,
            "grid_auto_columns": null,
            "margin": null,
            "display": null,
            "left": null
          }
        },
        "00188b862fcc4f83a9d0551e46b97560": {
          "model_module": "@jupyter-widgets/controls",
          "model_name": "DescriptionStyleModel",
          "state": {
            "_view_name": "StyleView",
            "_model_name": "DescriptionStyleModel",
            "description_width": "",
            "_view_module": "@jupyter-widgets/base",
            "_model_module_version": "1.5.0",
            "_view_count": null,
            "_view_module_version": "1.2.0",
            "_model_module": "@jupyter-widgets/controls"
          }
        },
        "0e0f25ed75874f61b92d3e4daaf9194e": {
          "model_module": "@jupyter-widgets/base",
          "model_name": "LayoutModel",
          "state": {
            "_view_name": "LayoutView",
            "grid_template_rows": null,
            "right": null,
            "justify_content": null,
            "_view_module": "@jupyter-widgets/base",
            "overflow": null,
            "_model_module_version": "1.2.0",
            "_view_count": null,
            "flex_flow": null,
            "width": null,
            "min_width": null,
            "border": null,
            "align_items": null,
            "bottom": null,
            "_model_module": "@jupyter-widgets/base",
            "top": null,
            "grid_column": null,
            "overflow_y": null,
            "overflow_x": null,
            "grid_auto_flow": null,
            "grid_area": null,
            "grid_template_columns": null,
            "flex": null,
            "_model_name": "LayoutModel",
            "justify_items": null,
            "grid_row": null,
            "max_height": null,
            "align_content": null,
            "visibility": null,
            "align_self": null,
            "height": null,
            "min_height": null,
            "padding": null,
            "grid_auto_rows": null,
            "grid_gap": null,
            "max_width": null,
            "order": null,
            "_view_module_version": "1.2.0",
            "grid_template_areas": null,
            "object_position": null,
            "object_fit": null,
            "grid_auto_columns": null,
            "margin": null,
            "display": null,
            "left": null
          }
        }
      }
    }
  },
  "cells": [
    {
      "cell_type": "markdown",
      "metadata": {
        "id": "n1KSot2UjW3e",
        "colab_type": "text"
      },
      "source": [
        "# Importing Libraries"
      ]
    },
    {
      "cell_type": "code",
      "metadata": {
        "id": "AYEzbk03ggtV",
        "colab_type": "code",
        "colab": {}
      },
      "source": [
        "import io\n",
        "import re\n",
        "import time\n",
        "import zipfile\n",
        "import unicodedata\n",
        "import numpy as np\n",
        "import tensorflow as tf\n",
        "import tensorflow_datasets as tfds\n",
        "from tqdm.notebook import tqdm\n",
        "\n",
        "import matplotlib.pyplot as plt\n",
        "import matplotlib.ticker as ticker\n",
        "%matplotlib inline"
      ],
      "execution_count": null,
      "outputs": []
    },
    {
      "cell_type": "markdown",
      "metadata": {
        "id": "6APSTq6hjcKP",
        "colab_type": "text"
      },
      "source": [
        "# Loading Dataset"
      ]
    },
    {
      "cell_type": "code",
      "metadata": {
        "id": "yUKM3D-Qb8S3",
        "colab_type": "code",
        "colab": {
          "base_uri": "https://localhost:8080/",
          "height": 204
        },
        "outputId": "31fc5b0d-7837-4494-bf04-e920cfbb3356"
      },
      "source": [
        "!wget http://www.manythings.org/anki/fra-eng.zip -O /tmp/fra-eng.zip"
      ],
      "execution_count": null,
      "outputs": [
        {
          "output_type": "stream",
          "text": [
            "--2020-07-09 17:58:13--  http://www.manythings.org/anki/fra-eng.zip\n",
            "Resolving www.manythings.org (www.manythings.org)... 104.24.108.196, 172.67.173.198, 104.24.109.196, ...\n",
            "Connecting to www.manythings.org (www.manythings.org)|104.24.108.196|:80... connected.\n",
            "HTTP request sent, awaiting response... 200 OK\n",
            "Length: 6041598 (5.8M) [application/zip]\n",
            "Saving to: ‘/tmp/fra-eng.zip’\n",
            "\n",
            "\r/tmp/fra-eng.zip      0%[                    ]       0  --.-KB/s               \r/tmp/fra-eng.zip     12%[=>                  ] 749.91K  3.66MB/s               \r/tmp/fra-eng.zip    100%[===================>]   5.76M  17.0MB/s    in 0.3s    \n",
            "\n",
            "2020-07-09 17:58:13 (17.0 MB/s) - ‘/tmp/fra-eng.zip’ saved [6041598/6041598]\n",
            "\n"
          ],
          "name": "stdout"
        }
      ]
    },
    {
      "cell_type": "code",
      "metadata": {
        "id": "9we17KNUes0R",
        "colab_type": "code",
        "colab": {}
      },
      "source": [
        "local_training_zip = '/tmp/fra-eng.zip'\n",
        "if zipfile.is_zipfile(filename=local_training_zip):\n",
        "    zip_ref = zipfile.ZipFile(file=local_training_zip, mode='r', compression=0, allowZip64=True)\n",
        "    zip_ref.extractall(path='/tmp/')\n",
        "    zip_ref.close()"
      ],
      "execution_count": null,
      "outputs": []
    },
    {
      "cell_type": "code",
      "metadata": {
        "id": "RVwE34w9njTO",
        "colab_type": "code",
        "colab": {}
      },
      "source": [
        "PATH_TO_FILE = '/tmp/fra.txt'"
      ],
      "execution_count": null,
      "outputs": []
    },
    {
      "cell_type": "markdown",
      "metadata": {
        "id": "WsWXo4vUmtyb",
        "colab_type": "text"
      },
      "source": [
        "# Preparing Dataset"
      ]
    },
    {
      "cell_type": "code",
      "metadata": {
        "id": "8ZAxQWyBgfMs",
        "colab_type": "code",
        "colab": {}
      },
      "source": [
        "# Converts the unicode file to ascii\n",
        "def unicode_to_ascii(s):\n",
        "    return ''.join(c for c in unicodedata.normalize('NFD', s) if unicodedata.category(c) != 'Mn')"
      ],
      "execution_count": null,
      "outputs": []
    },
    {
      "cell_type": "code",
      "metadata": {
        "id": "KRme_KdwnEIp",
        "colab_type": "code",
        "colab": {}
      },
      "source": [
        "def preprocess_sentence(w):\n",
        "    w = unicode_to_ascii(w.lower().strip())\n",
        "\n",
        "    # creating a space between a word and the punctuation following it\n",
        "    # eg: \"he is a boy.\" => \"he is a boy .\"\n",
        "    # Reference:- https://stackoverflow.com/questions/3645931/python-padding-punctuation-with-white-spaces-keeping-punctuation\n",
        "    w = re.sub(r\"([?.!,¿])\", r\" \\1 \", w)\n",
        "    w = re.sub(r'[\" \"]+', \" \", w)\n",
        "\n",
        "    # replacing everything with space except (a-z, A-Z, \".\", \"?\", \"!\", \",\")\n",
        "    w = re.sub(r\"[^a-zA-Z?.!,¿]+\", \" \", w)\n",
        "\n",
        "    # removing spaces at start & end of sentence\n",
        "    w = w.strip()\n",
        "\n",
        "    # adding a start and an end token to the sentence\n",
        "    # so that the model know when to start and stop predicting.\n",
        "    w = '<start> ' + w + ' <end>'\n",
        "    \n",
        "    return w"
      ],
      "execution_count": null,
      "outputs": []
    },
    {
      "cell_type": "code",
      "metadata": {
        "id": "4uFgx-BhnN95",
        "colab_type": "code",
        "colab": {}
      },
      "source": [
        "def create_dataset(path, num_examples=None, sent_len=None):\n",
        "    lines = io.open(path, encoding='UTF-8').read().strip().split('\\n')\n",
        "\n",
        "    if sent_len is None:\n",
        "        word_pairs = [[preprocess_sentence(w) for w in l.split('\\t')[:-1]]  for l in lines[:num_examples]]\n",
        "    else:\n",
        "        word_pairs = []\n",
        "        for line in lines[:num_examples]:\n",
        "            sentences = [preprocess_sentence(w) for w in line.split('\\t')[:-1]]\n",
        "            if((len(sentences[0].split()) < sent_len) & (len(sentences[1].split()) < sent_len)):\n",
        "                word_pairs.append(sentences)\n",
        "\n",
        "    \n",
        "    return zip(*word_pairs)"
      ],
      "execution_count": null,
      "outputs": []
    },
    {
      "cell_type": "code",
      "metadata": {
        "id": "XiuQZ86hnYAK",
        "colab_type": "code",
        "colab": {}
      },
      "source": [
        "en, fr = create_dataset(path=PATH_TO_FILE, num_examples=None, sent_len=30)"
      ],
      "execution_count": null,
      "outputs": []
    },
    {
      "cell_type": "code",
      "metadata": {
        "id": "5WOIE394psaJ",
        "colab_type": "code",
        "colab": {}
      },
      "source": [
        "def unique_words(data):\n",
        "    tmp, mx = [], -1\n",
        "    for i in data:\n",
        "        lst = i.split()\n",
        "        tmp.extend(lst)\n",
        "        mx = max(len(lst), mx)\n",
        "    return list(set(tmp)), mx"
      ],
      "execution_count": null,
      "outputs": []
    },
    {
      "cell_type": "code",
      "metadata": {
        "id": "FH-ROVULJB2W",
        "colab_type": "code",
        "colab": {
          "base_uri": "https://localhost:8080/",
          "height": 102
        },
        "outputId": "7725342d-eccb-45d6-9a50-0216d618ade1"
      },
      "source": [
        "u_en, mx_en = unique_words(data=en)\n",
        "print('No. of unique words in en:', len(u_en))\n",
        "print('Max-length of sentences:', mx_en, end='\\n\\n')\n",
        "\n",
        "u_fr, mx_fr = unique_words(data=en)\n",
        "print('No. of unique words in fr:', len(u_fr))\n",
        "print('Max-length of sentences:', mx_fr)"
      ],
      "execution_count": null,
      "outputs": [
        {
          "output_type": "stream",
          "text": [
            "No. of unique words in en: 13975\n",
            "Max-length of sentences: 29\n",
            "\n",
            "No. of unique words in fr: 13975\n",
            "Max-length of sentences: 29\n"
          ],
          "name": "stdout"
        }
      ]
    },
    {
      "cell_type": "markdown",
      "metadata": {
        "id": "RNr_MzNVJD4b",
        "colab_type": "text"
      },
      "source": [
        "# Tokenization"
      ]
    },
    {
      "cell_type": "code",
      "metadata": {
        "id": "vx7m1azgRyy8",
        "colab_type": "code",
        "colab": {}
      },
      "source": [
        "EN_VOCAB_SIZE = 10000\n",
        "EN_MX_LEN = 30\n",
        "\n",
        "FR_VOCAB_SIZE = 10000\n",
        "FR_MX_LEN = 30"
      ],
      "execution_count": null,
      "outputs": []
    },
    {
      "cell_type": "code",
      "metadata": {
        "id": "l9F8Ah7XJon9",
        "colab_type": "code",
        "colab": {}
      },
      "source": [
        "def tokenize(data, num_words, subword=False):\n",
        "    if subword:\n",
        "        tokenizer = tfds.features.text.SubwordTextEncoder.build_from_corpus(\n",
        "            corpus_generator=data,\n",
        "            target_vocab_size=num_words,\n",
        "            max_subword_length=20,\n",
        "            max_corpus_chars=None,\n",
        "            reserved_tokens=['<start>', '<end>']\n",
        "        )\n",
        "\n",
        "    else:\n",
        "        tokenizer = tf.keras.preprocessing.text.Tokenizer(\n",
        "            num_words=num_words,\n",
        "            filters='',\n",
        "            lower=True,\n",
        "            split=' ',\n",
        "            char_level=False,\n",
        "            oov_token=None\n",
        "        )\n",
        "        tokenizer.fit_on_texts(texts=data)\n",
        "    \n",
        "    return tokenizer"
      ],
      "execution_count": null,
      "outputs": []
    },
    {
      "cell_type": "code",
      "metadata": {
        "id": "52rtxICcRnKn",
        "colab_type": "code",
        "colab": {}
      },
      "source": [
        "en_tokenizer = tokenize(data=en, num_words=EN_VOCAB_SIZE, subword=False)\n",
        "fr_tokenizer = tokenize(data=fr, num_words=FR_VOCAB_SIZE, subword=False)"
      ],
      "execution_count": null,
      "outputs": []
    },
    {
      "cell_type": "code",
      "metadata": {
        "id": "1C3QEY4enPzG",
        "colab_type": "code",
        "colab": {
          "base_uri": "https://localhost:8080/",
          "height": 1000
        },
        "outputId": "37971efa-578e-42f3-a8c0-47698cf8ca0c"
      },
      "source": [
        "print('English => index-to-word:')\n",
        "for i in range(1, 10):\n",
        "    print(i, '--> ' + en_tokenizer.index_word[i])\n",
        "print('\\nFrench => index-to-word:')\n",
        "for i in range(1, 10):\n",
        "    print(i, '--> ' + fr_tokenizer.index_word[i])\n",
        "\n",
        "print('\\nEnglish => word-to-index:')\n",
        "for i in range(1, 10):\n",
        "    print(list(en_tokenizer.word_index)[i] + ' -->', i)\n",
        "print('\\nFrench => index-to-word:')\n",
        "for i in range(1, 10):\n",
        "    print(list(fr_tokenizer.word_index)[i] + ' -->', i)\n",
        "\n",
        "print('\\nEnglish => word-counts:')\n",
        "for i in range(1, 10):\n",
        "    print(list(en_tokenizer.word_counts.keys())[i] + ' -->', list(en_tokenizer.word_counts.values())[i])\n",
        "print('\\nFrench => word-counts:')\n",
        "for i in range(1, 10):\n",
        "    print(list(fr_tokenizer.word_counts.keys())[i] + ' -->', list(fr_tokenizer.word_counts.values())[i])"
      ],
      "execution_count": null,
      "outputs": [
        {
          "output_type": "stream",
          "text": [
            "English => index-to-word:\n",
            "1 --> <start>\n",
            "2 --> <end>\n",
            "3 --> .\n",
            "4 --> i\n",
            "5 --> you\n",
            "6 --> to\n",
            "7 --> the\n",
            "8 --> ?\n",
            "9 --> a\n",
            "\n",
            "French => index-to-word:\n",
            "1 --> <start>\n",
            "2 --> <end>\n",
            "3 --> .\n",
            "4 --> je\n",
            "5 --> a\n",
            "6 --> de\n",
            "7 --> ?\n",
            "8 --> pas\n",
            "9 --> est\n",
            "\n",
            "English => word-to-index:\n",
            "<end> --> 1\n",
            ". --> 2\n",
            "i --> 3\n",
            "you --> 4\n",
            "to --> 5\n",
            "the --> 6\n",
            "? --> 7\n",
            "a --> 8\n",
            "t --> 9\n",
            "\n",
            "French => index-to-word:\n",
            "<end> --> 1\n",
            ". --> 2\n",
            "je --> 3\n",
            "a --> 4\n",
            "de --> 5\n",
            "? --> 6\n",
            "pas --> 7\n",
            "est --> 8\n",
            "vous --> 9\n",
            "\n",
            "English => word-counts:\n",
            "go --> 4294\n",
            ". --> 148187\n",
            "<end> --> 177098\n",
            "hi --> 19\n",
            "run --> 298\n",
            "! --> 1298\n",
            "who --> 2459\n",
            "? --> 29348\n",
            "wow --> 12\n",
            "\n",
            "French => word-counts:\n",
            "va --> 1465\n",
            "! --> 5591\n",
            "<end> --> 177098\n",
            "salut --> 19\n",
            ". --> 143731\n",
            "cours --> 225\n",
            "courez --> 11\n",
            "qui --> 4767\n",
            "? --> 29368\n"
          ],
          "name": "stdout"
        }
      ]
    },
    {
      "cell_type": "code",
      "metadata": {
        "id": "GHc2-bVhSU7S",
        "colab_type": "code",
        "colab": {}
      },
      "source": [
        "# print('EN_TOKENIZER_VOCAB_SIZE:', en_tokenizer.vocab_size)\n",
        "# print('FR_TOKENIZER_VOCAB_SIZE:', fr_tokenizer.vocab_size)\n",
        "\n",
        "# print('\\nEN_TOKENIZER_SUBWORDS:')\n",
        "# print(en_tokenizer.subwords)\n",
        "# print('FR_TOKENIZER_SUBWORDS:')\n",
        "# print(fr_tokenizer.subwords)"
      ],
      "execution_count": null,
      "outputs": []
    },
    {
      "cell_type": "code",
      "metadata": {
        "id": "5WD17NiYOB3S",
        "colab_type": "code",
        "colab": {}
      },
      "source": [
        "# en_sequences = [en_tokenizer.encode(s=sentence) for sentence in en]\n",
        "# fr_sequences_in = [fr_tokenizer.encode(s=sentence) for sentence in fr]\n",
        "# fr_sequences_out = [seq[1:] for seq in fr_sequences_in]"
      ],
      "execution_count": null,
      "outputs": []
    },
    {
      "cell_type": "code",
      "metadata": {
        "id": "eTNnrNFwSJa9",
        "colab_type": "code",
        "colab": {}
      },
      "source": [
        "en_sequences = en_tokenizer.texts_to_sequences(texts=en)\n",
        "fr_sequences_in = fr_tokenizer.texts_to_sequences(texts=fr)\n",
        "fr_sequences_out = [seq[1:] for seq in fr_sequences_in]"
      ],
      "execution_count": null,
      "outputs": []
    },
    {
      "cell_type": "code",
      "metadata": {
        "id": "levdNssFRWFy",
        "colab_type": "code",
        "colab": {}
      },
      "source": [
        "def pad(data, pad_maxlen, pad_type, trunc_type):\n",
        "    return tf.keras.preprocessing.sequence.pad_sequences(sequences=data, maxlen=pad_maxlen, padding=pad_type, truncating=trunc_type, value=0.0)"
      ],
      "execution_count": null,
      "outputs": []
    },
    {
      "cell_type": "code",
      "metadata": {
        "id": "SHpV3GdYleke",
        "colab_type": "code",
        "colab": {}
      },
      "source": [
        "en_pad_sequences = pad(data=en_sequences, pad_maxlen=EN_MX_LEN, pad_type='pre', trunc_type='pre')\n",
        "fr_pad_sequences_in = pad(data=fr_sequences_in, pad_maxlen=FR_MX_LEN, pad_type='post', trunc_type='post')\n",
        "fr_pad_sequences_out = pad(data=fr_sequences_out, pad_maxlen=FR_MX_LEN, pad_type='post', trunc_type='post')"
      ],
      "execution_count": null,
      "outputs": []
    },
    {
      "cell_type": "code",
      "metadata": {
        "id": "HlbaF8rDwife",
        "colab_type": "code",
        "colab": {
          "base_uri": "https://localhost:8080/",
          "height": 68
        },
        "outputId": "abd818c2-b9d8-4c78-a966-662c4880a739"
      },
      "source": [
        "print(en_pad_sequences.shape)\n",
        "print(fr_pad_sequences_in.shape)\n",
        "print(fr_pad_sequences_out.shape)"
      ],
      "execution_count": null,
      "outputs": [
        {
          "output_type": "stream",
          "text": [
            "(177098, 30)\n",
            "(177098, 30)\n",
            "(177098, 30)\n"
          ],
          "name": "stdout"
        }
      ]
    },
    {
      "cell_type": "code",
      "metadata": {
        "id": "RjXs2YVn6m9e",
        "colab_type": "code",
        "colab": {}
      },
      "source": [
        "NUM_EPOCHS = 10\n",
        "BUFFER_SIZE = 10000\n",
        "BATCH_SIZE = 73\n",
        "assert en_pad_sequences.shape[0]%BATCH_SIZE == 0\n",
        "TRAIN_BATCH_SIZE = en_pad_sequences.shape[0]//BATCH_SIZE"
      ],
      "execution_count": null,
      "outputs": []
    },
    {
      "cell_type": "code",
      "metadata": {
        "id": "qivs53Jt7tJX",
        "colab_type": "code",
        "colab": {}
      },
      "source": [
        "dataset = tf.data.Dataset.from_tensor_slices(tensors=(en_pad_sequences, fr_pad_sequences_in, fr_pad_sequences_out))\n",
        "dataset = dataset.cache()\n",
        "dataset = dataset.shuffle(BUFFER_SIZE).batch(BATCH_SIZE)\n",
        "dataset = dataset.prefetch(tf.data.experimental.AUTOTUNE)"
      ],
      "execution_count": null,
      "outputs": []
    },
    {
      "cell_type": "code",
      "metadata": {
        "id": "NctUfBA-3IXG",
        "colab_type": "code",
        "colab": {}
      },
      "source": [
        "EMBEDDING_SIZE = 100\n",
        "LSTM_SIZE = 10\n",
        "LEARNING_RATE = 0.0001"
      ],
      "execution_count": null,
      "outputs": []
    },
    {
      "cell_type": "markdown",
      "metadata": {
        "id": "bMFMjAn9xsI8",
        "colab_type": "text"
      },
      "source": [
        "# Approaches"
      ]
    },
    {
      "cell_type": "markdown",
      "metadata": {
        "id": "rfru-zoZc3ST",
        "colab_type": "text"
      },
      "source": [
        "+ https://cedar.buffalo.edu/~srihari/CSE676/12.4.6%20AttentionModels.pdf"
      ]
    },
    {
      "cell_type": "markdown",
      "metadata": {
        "id": "2PNgErB6xt92",
        "colab_type": "text"
      },
      "source": [
        "## Seq2Seq Model"
      ]
    },
    {
      "cell_type": "markdown",
      "metadata": {
        "id": "meHc-OdLxyid",
        "colab_type": "text"
      },
      "source": [
        "![Seq2Seq](https://machinetalk.org/wp-content/uploads/2019/04/input.png)\n",
        "\n",
        "----\n",
        "\n",
        "![Teacher Forcing](https://miro.medium.com/max/842/1*U3d8D_GnfW13Y3nDgvwJSw.png)"
      ]
    },
    {
      "cell_type": "markdown",
      "metadata": {
        "id": "memBN7B9MWDZ",
        "colab_type": "text"
      },
      "source": [
        "### Encoder"
      ]
    },
    {
      "cell_type": "code",
      "metadata": {
        "id": "ycuNMz-RmQrT",
        "colab_type": "code",
        "colab": {}
      },
      "source": [
        "class Encoder(tf.keras.Model):\n",
        "    def __init__(self, vocab_size, embedding_size, lstm_size):\n",
        "        super(Encoder, self).__init__(name='Encoder')\n",
        "\n",
        "        self.lstm_size = lstm_size\n",
        "        self.embedding = tf.keras.layers.Embedding(input_dim=vocab_size, output_dim=embedding_size)\n",
        "        self.lstm = tf.keras.layers.LSTM(units=lstm_size, return_sequences=True, return_state=True)\n",
        "\n",
        "    def call(self, sequence, states):\n",
        "        embed = self.embedding(sequence)\n",
        "        output, state_h, state_c = self.lstm(embed, initial_state=states)\n",
        "        return output, state_h, state_c\n",
        "\n",
        "    def init_states(self, batch_size):\n",
        "        # state_h, state_c\n",
        "        return (tf.zeros([batch_size, self.lstm_size]), tf.zeros([batch_size, self.lstm_size]))"
      ],
      "execution_count": null,
      "outputs": []
    },
    {
      "cell_type": "code",
      "metadata": {
        "id": "RVyly7LG8TfI",
        "colab_type": "code",
        "colab": {}
      },
      "source": [
        "encoder = Encoder(vocab_size=EN_VOCAB_SIZE, embedding_size=EMBEDDING_SIZE, lstm_size=LSTM_SIZE)"
      ],
      "execution_count": null,
      "outputs": []
    },
    {
      "cell_type": "markdown",
      "metadata": {
        "id": "lwCsrIqgMgmq",
        "colab_type": "text"
      },
      "source": [
        "### Decoder"
      ]
    },
    {
      "cell_type": "code",
      "metadata": {
        "id": "ZDGLQStD4zsz",
        "colab_type": "code",
        "colab": {}
      },
      "source": [
        "class Decoder(tf.keras.Model):\n",
        "    def __init__(self, vocab_size, embedding_size, lstm_size):\n",
        "        super(Decoder, self).__init__(name='Decoder')\n",
        "\n",
        "        self.lstm_size = lstm_size\n",
        "        self.embedding = tf.keras.layers.Embedding(input_dim=vocab_size, output_dim=embedding_size)\n",
        "        self.lstm = tf.keras.layers.LSTM(units=lstm_size, return_sequences=True, return_state=True)\n",
        "        self.dense = tf.keras.layers.Dense(units=vocab_size)\n",
        "\n",
        "    def call(self, sequence, state):\n",
        "        embed = self.embedding(sequence)\n",
        "        lstm_out, state_h, state_c = self.lstm(embed, initial_state=state)\n",
        "        logits = self.dense(lstm_out)\n",
        "        return logits, state_h, state_c"
      ],
      "execution_count": null,
      "outputs": []
    },
    {
      "cell_type": "code",
      "metadata": {
        "id": "Lk3tLWrCC7m8",
        "colab_type": "code",
        "colab": {}
      },
      "source": [
        "decoder = Decoder(vocab_size=FR_VOCAB_SIZE, embedding_size=EMBEDDING_SIZE, lstm_size=LSTM_SIZE)"
      ],
      "execution_count": null,
      "outputs": []
    },
    {
      "cell_type": "markdown",
      "metadata": {
        "id": "ZbKJbJZ-MqaE",
        "colab_type": "text"
      },
      "source": [
        "### Defining Loss Function"
      ]
    },
    {
      "cell_type": "code",
      "metadata": {
        "id": "ifzqPxZw5Q6o",
        "colab_type": "code",
        "colab": {}
      },
      "source": [
        "# ignoring padded zeroes\n",
        "def loss_func(targets, logits):\n",
        "    # The from_logits=True attribute inform the loss function that the output values generated by the model are not normalized, a.k.a. logits.\n",
        "    # In other words, the softmax function has not benn applied on them to produce a probability distribution.\n",
        "    crossentropy = tf.keras.losses.SparseCategoricalCrossentropy(from_logits=True)\n",
        "    mask = tf.cast(tf.math.logical_not(tf.math.equal(targets, 0)), dtype=tf.int64)\n",
        "    loss = crossentropy(targets, logits, sample_weight=mask)\n",
        "    return loss"
      ],
      "execution_count": null,
      "outputs": []
    },
    {
      "cell_type": "markdown",
      "metadata": {
        "id": "dvxihH66M073",
        "colab_type": "text"
      },
      "source": [
        "### Defining Optimizer"
      ]
    },
    {
      "cell_type": "code",
      "metadata": {
        "id": "jj6ISA9e51VA",
        "colab_type": "code",
        "colab": {}
      },
      "source": [
        "optimizer = tf.keras.optimizers.Adam(learning_rate=LEARNING_RATE, amsgrad=True)"
      ],
      "execution_count": null,
      "outputs": []
    },
    {
      "cell_type": "markdown",
      "metadata": {
        "id": "7jz_UEOZM42o",
        "colab_type": "text"
      },
      "source": [
        "### Training"
      ]
    },
    {
      "cell_type": "code",
      "metadata": {
        "id": "f_U5XFKg6A7N",
        "colab_type": "code",
        "colab": {}
      },
      "source": [
        "@tf.function\n",
        "def train_step(source_seq, target_seq_in, target_seq_out, enc_obj, dec_obj, enc_initial_states):\n",
        "    with tf.GradientTape() as tape:\n",
        "        en_outputs = enc_obj(source_seq, enc_initial_states)\n",
        "        en_states = en_outputs[1:]\n",
        "        de_states = en_states\n",
        "\n",
        "        de_outputs = dec_obj(target_seq_in, de_states)\n",
        "        logits = de_outputs[0]\n",
        "        loss = loss_func(target_seq_out, logits)\n",
        "\n",
        "    variables = enc_obj.trainable_variables + dec_obj.trainable_variables\n",
        "    gradients = tape.gradient(loss, variables)\n",
        "    optimizer.apply_gradients(zip(gradients, variables))\n",
        "\n",
        "    return loss"
      ],
      "execution_count": null,
      "outputs": []
    },
    {
      "cell_type": "code",
      "metadata": {
        "id": "FbX7IG4v69vN",
        "colab_type": "code",
        "colab": {
          "base_uri": "https://localhost:8080/",
          "height": 677,
          "referenced_widgets": [
            "acbb4f8558fe4ecf99f5295c992e1f0f",
            "cc216adc45564f15845dbf7ffe41b943",
            "dcb3330336344494b9edae6268289a41",
            "76d537b74ee443eeb028459bf726c920",
            "8483a02c04e149c4927f09cd8365c4ac",
            "a0bbcbbb963a4ec3b94cda2faf1f45ba",
            "518c016ed95447ce8fe06419a26748ec",
            "9b78eb28862b4eddb120c9fc29f7cbde",
            "7c275f80c97c49a0a19834cb003de685",
            "755bf0be3bf142008ec1f2356e59bcb3",
            "1d5323576fbd4bb0a47b819b081e0729",
            "b3f360266dec4c9982a954e6252540c4",
            "2eaaea9fdcd54db79fa938cb5a0c37f6",
            "e66faf0484fb4bf59d564be93503dbfe",
            "45cbf1c7427c4f5b9a1f67225d7a5de3",
            "f4bac13dae144ceb8c2afd4b87623eea",
            "c3191780f8754c5caceb1e7e95be25e2",
            "ca2b396d5bd14777a0b92a1b59993ccd",
            "8ae4ba0efaec49bc99aa28b3d510d92e",
            "058a195ad2124ab29858cd750e9997b0",
            "16a48e3dec334b13b1ca9d9c975ffca7",
            "0da7a59f49ba4a5db73b032ab7835b6e",
            "44e16e217362489bbb999893a58c523a",
            "52e804df5fa24c5b9a78c1288ecfcef3",
            "b96ee0315d474050949cfa834b6cecc0",
            "443c1e87a65341a59790d631d2a2cbc9",
            "57945b5caf2349a8aa4fcf27effe9d34",
            "364793162d814405b16d168f06a03c18",
            "1fda025025a148b9b78b2e318761811b",
            "8f6deed20d794b5b9b0bc903f506c9f4",
            "08ef43de15c243e8ba1249ace7534603",
            "854da0c214934450958303a165f34def",
            "7c5b0ef281e94a4fb9e28d5a44e281c8",
            "d02fd7483e494aba8b5736754a0ec501",
            "8d5f690b8afd40518a651e369f0a940c",
            "c330baee24934976b14228107586c56a",
            "8d17c3c2e3be41f7993a46170fa02a04",
            "a3feb119c4084597a7768caae1f52783",
            "3677152278644d4b8c91fce74c51f3b7",
            "03baefe2a59443bfba5bd3a3722d1992",
            "bbf24fa3f2934b69a540fd20a59954a4",
            "c5ebd400ce8f4dff8b980a15afc132aa",
            "02423d19136d4e20a4e9c8503e22ae78",
            "fb6da16df63e49e0af066c88a44c2a0e",
            "8c97c2d57e4a409ba77cb38bf1748676",
            "bb2499bf4af64bbd8cb0b5d02b4e0e03",
            "af93eef8aa1f4039b651155c6d3b2eb2",
            "77d93933402743b2b20374ebc64c5016",
            "6defe4117855459699faa9a3245a2a86",
            "22cc979817254e2085ca3752e8f901db",
            "2211dc1370db47eab858ce6647e57ea1",
            "8f1b74283ec948e88c1ef94d5c3e3bb8",
            "e50969c05a314806ace68fe08982e53d",
            "47690775e45e4e78abfbf015aa060fb1",
            "16a554d595fa4934830f17812ca66a9d",
            "7b5a63cb40764f20a9fe3c8c5f888467",
            "82e848c3ad39477dbdae8694f70fe6eb",
            "e49a2d4499a34851a6c8e3a32b2132e1",
            "79a136a08b744e8ebbf061717ad70a78",
            "bac7763f62154950b5a0095165b95625",
            "27e6b21ec6db4c2bbad67c1e3356bd50",
            "4ac856ec37334573bfc3a5f36ac90e0b",
            "f349bb3c2347419e967875227d0121a5",
            "641f465ecfd947eaa9dbee8ef767776f",
            "bb49b268560f44e18310eb9510bb9eeb",
            "00674c4a9778416ab7bfcc92661d8dbb",
            "00874af9a0b34c0694541c1726684a10",
            "4848642eaef44349b5c964cdbccecd24",
            "2c390f1ce65e4851ab207ad771b37008",
            "946ee7036bd64d42af4e070d0561a7e2",
            "f3a8a1fd234c450e9482db134eda0a54",
            "51ea93a8805946f59f430378fc2a3809",
            "f8b12619a88745fdbcf5c08ff2150aa5",
            "59cb1bbbd6f84d64ac34ced8eddac7fd",
            "e7de4bfbf7e74c52841b4016f198721a",
            "379475dbfb8e4354b26682f704334dbf",
            "d4346b49a8ee44048dcc7dfb06cb9d98",
            "c6cfde2a21a34e49939de4ad22a1d1b3",
            "42b5c9ec77b5489aaaede59b0260e336",
            "c6761258d6484defb9823f9968c262bb"
          ]
        },
        "outputId": "858c574f-6213-4570-dded-ae3253f97145"
      },
      "source": [
        "losses = []\n",
        "for e in range(NUM_EPOCHS):\n",
        "    start = time.time()\n",
        "    enc_initial_states = encoder.init_states(BATCH_SIZE)\n",
        "\n",
        "    for batch, (source_seq, target_seq_in, target_seq_out) in tqdm(enumerate(dataset.take(-1)), desc='Epoch - '+str(e+1), total=TRAIN_BATCH_SIZE):\n",
        "        loss = train_step(source_seq, target_seq_in, target_seq_out, encoder, decoder, enc_initial_states)\n",
        "\n",
        "    losses.append(loss)\n",
        "    end = time.time()\n",
        "\n",
        "    print('Epoch: {} \\t Loss: {:.9f} \\t Time: {:.9f}'.format(e + 1, loss.numpy(), end-start))"
      ],
      "execution_count": null,
      "outputs": [
        {
          "output_type": "display_data",
          "data": {
            "application/vnd.jupyter.widget-view+json": {
              "model_id": "acbb4f8558fe4ecf99f5295c992e1f0f",
              "version_minor": 0,
              "version_major": 2
            },
            "text/plain": [
              "HBox(children=(FloatProgress(value=0.0, description='Epoch - 1', max=2426.0, style=ProgressStyle(description_w…"
            ]
          },
          "metadata": {
            "tags": []
          }
        },
        {
          "output_type": "stream",
          "text": [
            "\n",
            "Epoch: 1 \t Loss: 2.618076086 \t Time: 58.950482845\n"
          ],
          "name": "stdout"
        },
        {
          "output_type": "display_data",
          "data": {
            "application/vnd.jupyter.widget-view+json": {
              "model_id": "7c275f80c97c49a0a19834cb003de685",
              "version_minor": 0,
              "version_major": 2
            },
            "text/plain": [
              "HBox(children=(FloatProgress(value=0.0, description='Epoch - 2', max=2426.0, style=ProgressStyle(description_w…"
            ]
          },
          "metadata": {
            "tags": []
          }
        },
        {
          "output_type": "stream",
          "text": [
            "\n",
            "Epoch: 2 \t Loss: 2.435195208 \t Time: 56.467844725\n"
          ],
          "name": "stdout"
        },
        {
          "output_type": "display_data",
          "data": {
            "application/vnd.jupyter.widget-view+json": {
              "model_id": "c3191780f8754c5caceb1e7e95be25e2",
              "version_minor": 0,
              "version_major": 2
            },
            "text/plain": [
              "HBox(children=(FloatProgress(value=0.0, description='Epoch - 3', max=2426.0, style=ProgressStyle(description_w…"
            ]
          },
          "metadata": {
            "tags": []
          }
        },
        {
          "output_type": "stream",
          "text": [
            "\n",
            "Epoch: 3 \t Loss: 2.150950909 \t Time: 56.243266582\n"
          ],
          "name": "stdout"
        },
        {
          "output_type": "display_data",
          "data": {
            "application/vnd.jupyter.widget-view+json": {
              "model_id": "b96ee0315d474050949cfa834b6cecc0",
              "version_minor": 0,
              "version_major": 2
            },
            "text/plain": [
              "HBox(children=(FloatProgress(value=0.0, description='Epoch - 4', max=2426.0, style=ProgressStyle(description_w…"
            ]
          },
          "metadata": {
            "tags": []
          }
        },
        {
          "output_type": "stream",
          "text": [
            "\n",
            "Epoch: 4 \t Loss: 2.220257759 \t Time: 55.942782402\n"
          ],
          "name": "stdout"
        },
        {
          "output_type": "display_data",
          "data": {
            "application/vnd.jupyter.widget-view+json": {
              "model_id": "7c5b0ef281e94a4fb9e28d5a44e281c8",
              "version_minor": 0,
              "version_major": 2
            },
            "text/plain": [
              "HBox(children=(FloatProgress(value=0.0, description='Epoch - 5', max=2426.0, style=ProgressStyle(description_w…"
            ]
          },
          "metadata": {
            "tags": []
          }
        },
        {
          "output_type": "stream",
          "text": [
            "\n",
            "Epoch: 5 \t Loss: 2.236550093 \t Time: 56.530273676\n"
          ],
          "name": "stdout"
        },
        {
          "output_type": "display_data",
          "data": {
            "application/vnd.jupyter.widget-view+json": {
              "model_id": "bbf24fa3f2934b69a540fd20a59954a4",
              "version_minor": 0,
              "version_major": 2
            },
            "text/plain": [
              "HBox(children=(FloatProgress(value=0.0, description='Epoch - 6', max=2426.0, style=ProgressStyle(description_w…"
            ]
          },
          "metadata": {
            "tags": []
          }
        },
        {
          "output_type": "stream",
          "text": [
            "\n",
            "Epoch: 6 \t Loss: 2.149804592 \t Time: 57.073470116\n"
          ],
          "name": "stdout"
        },
        {
          "output_type": "display_data",
          "data": {
            "application/vnd.jupyter.widget-view+json": {
              "model_id": "6defe4117855459699faa9a3245a2a86",
              "version_minor": 0,
              "version_major": 2
            },
            "text/plain": [
              "HBox(children=(FloatProgress(value=0.0, description='Epoch - 7', max=2426.0, style=ProgressStyle(description_w…"
            ]
          },
          "metadata": {
            "tags": []
          }
        },
        {
          "output_type": "stream",
          "text": [
            "\n",
            "Epoch: 7 \t Loss: 1.963854909 \t Time: 56.338863373\n"
          ],
          "name": "stdout"
        },
        {
          "output_type": "display_data",
          "data": {
            "application/vnd.jupyter.widget-view+json": {
              "model_id": "82e848c3ad39477dbdae8694f70fe6eb",
              "version_minor": 0,
              "version_major": 2
            },
            "text/plain": [
              "HBox(children=(FloatProgress(value=0.0, description='Epoch - 8', max=2426.0, style=ProgressStyle(description_w…"
            ]
          },
          "metadata": {
            "tags": []
          }
        },
        {
          "output_type": "stream",
          "text": [
            "\n",
            "Epoch: 8 \t Loss: 1.896368027 \t Time: 56.250312090\n"
          ],
          "name": "stdout"
        },
        {
          "output_type": "display_data",
          "data": {
            "application/vnd.jupyter.widget-view+json": {
              "model_id": "bb49b268560f44e18310eb9510bb9eeb",
              "version_minor": 0,
              "version_major": 2
            },
            "text/plain": [
              "HBox(children=(FloatProgress(value=0.0, description='Epoch - 9', max=2426.0, style=ProgressStyle(description_w…"
            ]
          },
          "metadata": {
            "tags": []
          }
        },
        {
          "output_type": "stream",
          "text": [
            "\n",
            "Epoch: 9 \t Loss: 2.062707663 \t Time: 56.338482618\n"
          ],
          "name": "stdout"
        },
        {
          "output_type": "display_data",
          "data": {
            "application/vnd.jupyter.widget-view+json": {
              "model_id": "f8b12619a88745fdbcf5c08ff2150aa5",
              "version_minor": 0,
              "version_major": 2
            },
            "text/plain": [
              "HBox(children=(FloatProgress(value=0.0, description='Epoch - 10', max=2426.0, style=ProgressStyle(description_…"
            ]
          },
          "metadata": {
            "tags": []
          }
        },
        {
          "output_type": "stream",
          "text": [
            "\n",
            "Epoch: 10 \t Loss: 1.964075923 \t Time: 56.218471289\n"
          ],
          "name": "stdout"
        }
      ]
    },
    {
      "cell_type": "markdown",
      "metadata": {
        "id": "RL-TEU43NAdZ",
        "colab_type": "text"
      },
      "source": [
        "### Analysis"
      ]
    },
    {
      "cell_type": "code",
      "metadata": {
        "id": "itOjkrPAH-ef",
        "colab_type": "code",
        "colab": {
          "base_uri": "https://localhost:8080/",
          "height": 444
        },
        "outputId": "f50e56a8-fe36-4f49-af4d-89ea8eb4297e"
      },
      "source": [
        "epochs = range(1, NUM_EPOCHS+1)\n",
        "\n",
        "plt.figure(figsize=(20, 7))\n",
        "plt.plot(epochs, losses, label='Model Loss', )\n",
        "plt.legend()\n",
        "plt.title('Training Loss')\n",
        "plt.xticks(epochs)\n",
        "for x, y in zip(epochs, losses):\n",
        "    label = \"{:.3f}\".format(y)\n",
        "    plt.annotate(label,                               # this is the text\n",
        "                (x, y),                              # this is the point to label\n",
        "                textcoords=\"offset points\",          # how to position the text\n",
        "                xytext=(0, 5),                       # distance from text to points (x,y)\n",
        "                ha='center')                         # horizontal alignment can be left, right or center"
      ],
      "execution_count": null,
      "outputs": [
        {
          "output_type": "display_data",
          "data": {
            "image/png": "[encoded data removed]",
            "text/plain": [
              "<Figure size 1440x504 with 1 Axes>"
            ]
          },
          "metadata": {
            "tags": [],
            "needs_background": "light"
          }
        }
      ]
    },
    {
      "cell_type": "markdown",
      "metadata": {
        "id": "GzaSu3LlNDtY",
        "colab_type": "text"
      },
      "source": [
        "### Testing"
      ]
    },
    {
      "cell_type": "code",
      "metadata": {
        "id": "AcdwUdA676Jh",
        "colab_type": "code",
        "colab": {}
      },
      "source": [
        "def predict(lang1, lang2, num, tokenizer1, tokenizer2):\n",
        "    for _ in range(num):\n",
        "        index = np.random.choice(len(lang1))\n",
        "        test_source_text = lang1[index]\n",
        "        print(test_source_text)\n",
        "\n",
        "        test_source_seq = tokenizer1.texts_to_sequences([test_source_text])\n",
        "        test_source_pad_seq = pad(test_source_seq, mx_en, 'pre', 'pre')\n",
        "\n",
        "        en_initial_states = encoder.init_states(1)\n",
        "        en_outputs = encoder(tf.constant(test_source_pad_seq), en_initial_states)\n",
        "\n",
        "        de_input = tf.constant([[tokenizer2.word_index['<start>']]])\n",
        "        de_state_h, de_state_c = en_outputs[1:]\n",
        "        out_words = []\n",
        "\n",
        "        while True:\n",
        "            de_output, de_state_h, de_state_c = decoder(de_input, (de_state_h, de_state_c))\n",
        "            de_input = tf.argmax(de_output, -1)\n",
        "            out_words.append(tokenizer2.index_word[de_input.numpy()[0][0]])\n",
        "            # out_words.append(tokenizer2.decode[de_input.numpy()[0][0]])\n",
        "\n",
        "            if out_words[-1] == '<end>' or len(out_words) >= FR_MX_LEN:\n",
        "                break\n",
        "\n",
        "        print(' '.join(out_words))\n",
        "\n",
        "        print(lang2[index], end='\\n\\n')"
      ],
      "execution_count": null,
      "outputs": []
    },
    {
      "cell_type": "code",
      "metadata": {
        "id": "H9IPriMDtlP7",
        "colab_type": "code",
        "colab": {
          "base_uri": "https://localhost:8080/",
          "height": 357
        },
        "outputId": "57ccfa8a-a579-4296-f03c-af058264e4b6"
      },
      "source": [
        "predict(lang1=en, lang2=fr, num=5, tokenizer1=en_tokenizer, tokenizer2=fr_tokenizer)"
      ],
      "execution_count": null,
      "outputs": [
        {
          "output_type": "stream",
          "text": [
            "<start> even though it s small , it s still my apartment . <end>\n",
            "que je suis de l ecole . <end>\n",
            "<start> meme s il est petit , c est tout de meme mon appartement . <end>\n",
            "\n",
            "<start> your question is hard to answer . <end>\n",
            "ce qui est un peu de temps . <end>\n",
            "<start> il est difficile de repondre a ta question . <end>\n",
            "\n",
            "<start> tom has very short hair . <end>\n",
            "tom a l ecole a la . <end>\n",
            "<start> tom a les cheveux tres courts . <end>\n",
            "\n",
            "<start> it could just be your imagination . <end>\n",
            "vous il n ai pas de ce que je suis pas ? <end>\n",
            "<start> ce pourrait simplement etre votre imagination . <end>\n",
            "\n",
            "<start> stop screaming like a girl . <end>\n",
            "il a dit que tu ne peux pas pas de l argent . <end>\n",
            "<start> cesse de hurler comme une fille ! <end>\n",
            "\n"
          ],
          "name": "stdout"
        }
      ]
    },
    {
      "cell_type": "markdown",
      "metadata": {
        "id": "oKjTznd6YjDu",
        "colab_type": "text"
      },
      "source": [
        "## Seq2Seq with Attention Model"
      ]
    },
    {
      "cell_type": "markdown",
      "metadata": {
        "id": "FrT3m7OlaBag",
        "colab_type": "text"
      },
      "source": [
        "![Attention Model](https://www.tensorflow.org/images/seq2seq/attention_mechanism.jpg)\n",
        "\n",
        "---\n",
        "\n",
        "![Attention Equations](https://www.tensorflow.org/images/seq2seq/attention_equation_0.jpg)\n",
        "\n",
        "![Scores](https://www.tensorflow.org/images/seq2seq/attention_equation_1.jpg)\n",
        "\n",
        "---\n",
        "\n",
        "+ **Luong Attention Score**\n",
        "<br/>\n",
        "\n",
        "![Luong Attention Score](https://machinetalk.org/wp-content/uploads/2019/03/score_eq-455x111.png)\n",
        "\n",
        "---\n",
        "\n",
        "Here’s the key differences between the two:\n",
        "\n",
        "+ Bahdanau attention mechanism proposed only the concat score function.\n",
        "+ Luong-style attention uses the current decoder output to compute the alignment vector, whereas Bahdanau’s uses the output of the previous time step."
      ]
    },
    {
      "cell_type": "markdown",
      "metadata": {
        "id": "7rD7K_ANNW1T",
        "colab_type": "text"
      },
      "source": [
        "### Encoder"
      ]
    },
    {
      "cell_type": "code",
      "metadata": {
        "id": "hKnvTMBdC1_K",
        "colab_type": "code",
        "colab": {}
      },
      "source": [
        "class AttentionEncoder(tf.keras.Model):\n",
        "    def __init__(self, vocab_size, embedding_size, rnn_size):\n",
        "        super(AttentionEncoder, self).__init__(name='AttentionEncoder')\n",
        "        self.rnn_size = rnn_size\n",
        "        self.embedding = tf.keras.layers.Embedding(input_dim=vocab_size, output_dim=embedding_size)\n",
        "        self.lstm = tf.compat.v1.keras.layers.CuDNNLSTM(units=rnn_size, return_sequences=True, return_state=True)\n",
        "\n",
        "    def call(self, sequence, states):\n",
        "        embed = self.embedding(sequence)\n",
        "        output, state_h, state_c = self.lstm(embed, initial_state=states)\n",
        "        return output, state_h, state_c\n",
        "\n",
        "    def init_states(self, batch_size):\n",
        "        return (tf.zeros([batch_size, self.rnn_size]), tf.zeros([batch_size, self.rnn_size]))"
      ],
      "execution_count": null,
      "outputs": []
    },
    {
      "cell_type": "code",
      "metadata": {
        "id": "KJd4XTCJxH0B",
        "colab_type": "code",
        "colab": {}
      },
      "source": [
        "encoder = AttentionEncoder(vocab_size=EN_VOCAB_SIZE, embedding_size=EMBEDDING_SIZE, rnn_size=LSTM_SIZE)"
      ],
      "execution_count": null,
      "outputs": []
    },
    {
      "cell_type": "markdown",
      "metadata": {
        "id": "NqCjzRscNaWe",
        "colab_type": "text"
      },
      "source": [
        "### Attention"
      ]
    },
    {
      "cell_type": "code",
      "metadata": {
        "id": "NevnhIAux9nD",
        "colab_type": "code",
        "colab": {}
      },
      "source": [
        "class LuongAttention(tf.keras.layers.Layer):\n",
        "    def __init__(self, rnn_size, attention_func):\n",
        "        super(LuongAttention, self).__init__(name='LuongAttention')\n",
        "        self.attention_func = attention_func\n",
        "\n",
        "        if attention_func not in ['dot', 'general', 'concat']:\n",
        "            raise ValueError('Unknown attention score function! Must be either dot, general or concat.')\n",
        "\n",
        "        if attention_func == 'general':\n",
        "            # General score function\n",
        "            self.wa = tf.keras.layers.Dense(units=rnn_size)\n",
        "\n",
        "        elif attention_func == 'concat':\n",
        "            # Concat score function\n",
        "            self.wa = tf.keras.layers.Dense(units=rnn_size, activation='tanh')\n",
        "            self.va = tf.keras.layers.Dense(units=1)\n",
        "\n",
        "    def call(self, decoder_output, encoder_output):\n",
        "        if self.attention_func == 'dot':\n",
        "            # Dot score function: decoder_output (dot) encoder_output\n",
        "            # decoder_output has shape: (batch_size, 1, rnn_size)\n",
        "            # encoder_output has shape: (batch_size, max_len, rnn_size)\n",
        "            # => score has shape: (batch_size, 1, max_len)\n",
        "            score = tf.matmul(decoder_output, encoder_output, transpose_b=True)\n",
        "\n",
        "        elif self.attention_func == 'general':\n",
        "            # General score function: decoder_output (dot) (Wa (dot) encoder_output)\n",
        "            # decoder_output has shape: (batch_size, 1, rnn_size)\n",
        "            # encoder_output has shape: (batch_size, max_len, rnn_size)\n",
        "            # => score has shape: (batch_size, 1, max_len)\n",
        "            score = tf.matmul(decoder_output, self.wa(encoder_output), transpose_b=True)\n",
        "\n",
        "        elif self.attention_func == 'concat':\n",
        "            # Concat score function: va (dot) tanh(Wa (dot) concat(decoder_output + encoder_output))\n",
        "            # Decoder output must be broadcasted to encoder output's shape first\n",
        "            decoder_output = tf.tile(decoder_output, [1, encoder_output.shape[1], 1])\n",
        "\n",
        "            # Concat => Wa => va\n",
        "            # (batch_size, max_len, 2 * rnn_size) => (batch_size, max_len, rnn_size) => (batch_size, max_len, 1)\n",
        "            score = self.va(self.wa(tf.concat((decoder_output, encoder_output), axis=-1)))\n",
        "\n",
        "            # Transpose score vector to have the same shape as other two above\n",
        "            # (batch_size, max_len, 1) => (batch_size, 1, max_len)\n",
        "            score = tf.transpose(score, [0, 2, 1])\n",
        "\n",
        "        # alignment a_t = softmax(score) => Attention weights\n",
        "        alignment = tf.nn.softmax(score, axis=2)\n",
        "\n",
        "        # context vector c_t is the weighted average sum of encoder output\n",
        "        context = tf.matmul(alignment, encoder_output)\n",
        "\n",
        "        return context, alignment"
      ],
      "execution_count": null,
      "outputs": []
    },
    {
      "cell_type": "code",
      "metadata": {
        "id": "6CtWJ-fBuqsc",
        "colab_type": "code",
        "colab": {}
      },
      "source": [
        "class BahdanauAttention(tf.keras.layers.Layer):\n",
        "    def __init__(self, rnn_size):\n",
        "        super(BahdanauAttention, self).__init__(name='BahdanauAttention')\n",
        "        self.W1 = tf.keras.layers.Dense(units=rnn_size)\n",
        "        self.W2 = tf.keras.layers.Dense(units=rnn_size)\n",
        "        self.V = tf.keras.layers.Dense(units=1)\n",
        "\n",
        "    def call(self, query, values):\n",
        "        # query hidden state shape == (batch_size, hidden size)\n",
        "        # query_with_time_axis shape == (batch_size, 1, hidden size)\n",
        "        # values shape == (batch_size, max_len, hidden size)\n",
        "        # we are doing this to broadcast addition along the time axis to calculate the score\n",
        "        query_with_time_axis = tf.expand_dims(query, 1)\n",
        "\n",
        "        # score shape == (batch_size, max_length, 1)\n",
        "        # we get 1 at the last axis because we are applying score to self.V\n",
        "        # the shape of the tensor before applying self.V is (batch_size, max_length, units)\n",
        "        score = self.V(tf.nn.tanh(self.W1(query_with_time_axis) + self.W2(values)))\n",
        "\n",
        "        # attention_weights shape == (batch_size, max_length, 1)\n",
        "        attention_weights = tf.nn.softmax(score, axis=1)\n",
        "\n",
        "        # context_vector shape after sum == (batch_size, hidden_size)\n",
        "        context_vector = attention_weights * values\n",
        "        context_vector = tf.reduce_sum(context_vector, axis=1)\n",
        "\n",
        "        return context_vector, attention_weights"
      ],
      "execution_count": null,
      "outputs": []
    },
    {
      "cell_type": "markdown",
      "metadata": {
        "id": "asHppwQSNgvf",
        "colab_type": "text"
      },
      "source": [
        "### Decoder"
      ]
    },
    {
      "cell_type": "code",
      "metadata": {
        "id": "qr_2RoyPtGeG",
        "colab_type": "code",
        "colab": {}
      },
      "source": [
        "class AttentionDecoder(tf.keras.Model):\n",
        "    def __init__(self, vocab_size, embedding_size, rnn_size, attention_type, attention_func):\n",
        "        super(AttentionDecoder, self).__init__(name='AttentionDecoder')\n",
        "\n",
        "        if attention_type:\n",
        "            self.attention = LuongAttention(rnn_size, attention_func)\n",
        "        else:\n",
        "            self.attention = BahdanauAttention(rnn_size)\n",
        "        self.rnn_size = rnn_size\n",
        "\n",
        "        self.embedding = tf.keras.layers.Embedding(input_dim=vocab_size, output_dim=embedding_size)\n",
        "        self.lstm = tf.compat.v1.keras.layers.CuDNNLSTM(units=rnn_size, return_sequences=True, return_state=True)\n",
        "        self.wc = tf.keras.layers.Dense(units=rnn_size, activation='tanh')\n",
        "        self.ws = tf.keras.layers.Dense(units=vocab_size)\n",
        "\n",
        "    def call(self, sequence, state, encoder_output):\n",
        "        # Remember that the input to the decoder\n",
        "        # is now a batch of one-word sequences,\n",
        "        # which means that its shape is (batch_size, 1)\n",
        "        embed = self.embedding(sequence)\n",
        "\n",
        "        # Therefore, the lstm_out has shape (batch_size, 1, rnn_size)\n",
        "        lstm_out, state_h, state_c = self.lstm(embed, initial_state=state)\n",
        "\n",
        "        # Use self.attention to compute the context and alignment vectors\n",
        "        # context vector's shape: (batch_size, 1, rnn_size)\n",
        "        # alignment vector's shape: (batch_size, 1, source_length)\n",
        "        context, alignment = self.attention(lstm_out, encoder_output)\n",
        "\n",
        "        # Combine the context vector and the LSTM output\n",
        "        # Before combined, both have shape of (batch_size, 1, rnn_size),\n",
        "        # so let's squeeze the axis 1 first\n",
        "        # After combined, it will have shape of (batch_size, 2 * rnn_size)\n",
        "        lstm_out = tf.concat([tf.squeeze(context, 1), tf.squeeze(lstm_out, 1)], 1)\n",
        "\n",
        "        # lstm_out now has shape (batch_size, rnn_size)\n",
        "        lstm_out = self.wc(lstm_out)\n",
        "\n",
        "        # Finally, it is converted back to vocabulary space: (batch_size, vocab_size)\n",
        "        logits = self.ws(lstm_out)\n",
        "\n",
        "        return logits, state_h, state_c, alignment"
      ],
      "execution_count": null,
      "outputs": []
    },
    {
      "cell_type": "code",
      "metadata": {
        "id": "fifaQ29Yvb2M",
        "colab_type": "code",
        "colab": {}
      },
      "source": [
        "decoder = AttentionDecoder(vocab_size=FR_VOCAB_SIZE, embedding_size=EMBEDDING_SIZE, rnn_size=LSTM_SIZE, attention_type=True, attention_func='concat')"
      ],
      "execution_count": null,
      "outputs": []
    },
    {
      "cell_type": "markdown",
      "metadata": {
        "id": "B9qOcT-fNlaM",
        "colab_type": "text"
      },
      "source": [
        "### Defining Loss Function"
      ]
    },
    {
      "cell_type": "code",
      "metadata": {
        "colab_type": "code",
        "id": "0PosloMWzmT2",
        "colab": {}
      },
      "source": [
        "# ignoring padded zeroes\n",
        "def loss_func(targets, logits):\n",
        "    crossentropy = tf.keras.losses.SparseCategoricalCrossentropy(from_logits=True)\n",
        "    mask = tf.cast(tf.math.logical_not(tf.math.equal(targets, 0)), dtype=tf.int64)\n",
        "    loss = crossentropy(targets, logits, sample_weight=mask)\n",
        "    return loss"
      ],
      "execution_count": null,
      "outputs": []
    },
    {
      "cell_type": "markdown",
      "metadata": {
        "id": "X07zB2q9NsW-",
        "colab_type": "text"
      },
      "source": [
        "### Defining Optimizer"
      ]
    },
    {
      "cell_type": "code",
      "metadata": {
        "colab_type": "code",
        "id": "HYKlT4j7zmUC",
        "colab": {}
      },
      "source": [
        "optimizer = tf.keras.optimizers.Adam()"
      ],
      "execution_count": null,
      "outputs": []
    },
    {
      "cell_type": "markdown",
      "metadata": {
        "id": "nkShMHclNwke",
        "colab_type": "text"
      },
      "source": [
        "### Training"
      ]
    },
    {
      "cell_type": "code",
      "metadata": {
        "colab_type": "code",
        "id": "1vKpRLPHzmUI",
        "colab": {}
      },
      "source": [
        "@tf.function\n",
        "def train_step(source_seq, target_seq_in, target_seq_out, enc_obj, dec_obj, enc_initial_states):\n",
        "    loss = 0\n",
        "    with tf.GradientTape() as tape:\n",
        "        en_outputs = enc_obj(source_seq, enc_initial_states)\n",
        "        en_states = en_outputs[1:]\n",
        "        de_state_h, de_state_c = en_states\n",
        "\n",
        "        # We need to create a loop to iterate through the target sequences\n",
        "        for i in range(target_seq_out.shape[1]):\n",
        "            # Input to the decoder must have shape of (batch_size, length)\n",
        "            # so we need to expand one dimension\n",
        "            decoder_in = tf.expand_dims(target_seq_in[:, i], 1)\n",
        "            logit, de_state_h, de_state_c, _ = decoder(decoder_in, (de_state_h, de_state_c), en_outputs[0])\n",
        "\n",
        "            # The loss is now accumulated through the whole batch\n",
        "            loss += loss_func(target_seq_out[:, i], logit)\n",
        "\n",
        "    variables = enc_obj.trainable_variables + dec_obj.trainable_variables\n",
        "    gradients = tape.gradient(loss, variables)\n",
        "    optimizer.apply_gradients(zip(gradients, variables))\n",
        "\n",
        "    return loss / target_seq_out.shape[1]"
      ],
      "execution_count": null,
      "outputs": []
    },
    {
      "cell_type": "code",
      "metadata": {
        "colab_type": "code",
        "id": "kEWNnoq6zmUL",
        "colab": {
          "base_uri": "https://localhost:8080/",
          "height": 677,
          "referenced_widgets": [
            "2a3cfd0fe15746acaa16e0a6bd2ff4a3",
            "03b45c7ba41b4d16905a3743727d7004",
            "370e275c7dab4ea7b2755a462d7ecbea",
            "43d9c06078344a5d887d876f56fd08ff",
            "3b55d1072f9f4d56b9056be4c305ab7b",
            "4cbbcfa0510949d595352148148fb6a8",
            "8e57cfdf4b374260bff85e3efa203f57",
            "984edc1bb7954394a7bc16777bcd27fe",
            "5929632a907645049fa473050c0a6014",
            "c9a8974a901b42ba9e360516561ce6f4",
            "a36e5f9f05954b51b102cdfc95551578",
            "0f1000aacaf8459c9fee7cb5b1b88d8f",
            "1e494ea1d94445518cbf43d38d5d98d9",
            "f716fe0044f541d79572a8b538aadecc",
            "e79a6b414ecd4c5ba9864fb180c6640d",
            "5f97287d0aca4e02a7d49743f4c276c5",
            "998676bf483e4bdfbee36a67505b4a96",
            "bc31128207924773a61b209710faebe5",
            "27190c70ecfa49ee9e0ff54afb746908",
            "39d1df63cba640599ce0c10a3090c858",
            "863de467161c4021b95b705ffd0eefb9",
            "c75d2b9adbb4414c8eceef062503cb0d",
            "9f8e4bbaefd74b0c9a16a3cfd79494fe",
            "e7535fea5df644efb10bc6f60b862e64",
            "25baa3fced6444f796d695feb3e0e809",
            "de25dac7691e4637bb45b55131782df3",
            "0c5fbf19c5ac4eafad30e21942f2da5e",
            "ec731154093f4bbab330b15d09f97b68",
            "52ebac05748a4ca6a8b9f8808b1aab1f",
            "02c6e87de9274359bfa7014331648c46",
            "39cd602de5da4774bb5dbdee9055c7d4",
            "8f90c137600c4dc3acdf8d349d07b759",
            "d5e5795953844dda89b6d5710786b36c",
            "b3bee52616674490a3f7bdaa3e6baab7",
            "4e4311c2cbec49c1a32afe1e4a52bf74",
            "72fbd0bd28fc475da551b81ec33d8d9c",
            "12c9648fead44182a475b1dcec54a25e",
            "2bb12ac2acf54a86a7e4ef0ad79ca3cc",
            "452626a53cb64eb68520a8911458df09",
            "8613c97822714bdb98e6f1c5c287701b",
            "583bd762e6c34cafb9555b14580da99c",
            "105086b41cab45f09af93f502ef95ebe",
            "ad3066b508974b3f90b9406ebe1797ab",
            "c3b41fe589c446bab473660fbdd44236",
            "fafd95bc919b47f1afe6d10cae78d9e0",
            "13e5965e0de04d65abcf924ed88db646",
            "38e59cd0e5df415990689f4a6f23a8c9",
            "7d98efad8f3043ab8a6304fb8f6d67c8",
            "ffb07c19c30b415a9ceee53fa6a3a6b1",
            "58b5e323e0004388a7eba15aa4492e75",
            "88ac85287e4b44f08a7eb47a54c1f871",
            "419aefe569fe44c8bde18968ce3bd81d",
            "30d83f093458497ba4f3487a383d94ae",
            "05df198f9b8946e7b1727dbf90573ba5",
            "91e80f0703c048c690e8fc233ff24fe4",
            "9cafaf90c14d4fbc9775d3e3cba60716",
            "1be28dc808f143e5be72c58ee888f1b8",
            "c2d62fb2e0e64829aba7dbd0f7cf1e0d",
            "5d4f457ea4084a9db4de281c2b3c5ead",
            "d3054472547e45cc9ac43ad1d1a9192a",
            "2f578a0468e548bdbdccc76a855b5cf5",
            "eea1b626af3e43aebdbf401efc19d447",
            "0838b652659247dba1669fb4f82cab81",
            "ece83c99fb024f21a5b088951c214475",
            "fc5b36a5adc249cab4cd7b20562403a8",
            "f562838246d649faa17b27c41eca9d61",
            "cb2b77ac6f8e41a893412cfda6c210a7",
            "9bf8bf0d0cdb4e64a2d7c02ebfba67dc",
            "d76a784e891c4f10845c96aed452ce1e",
            "2701712d7c814d4a918201df54cba55f",
            "a4aac5385a59448ebc9812ddb981ed9d",
            "cc022583ba9a4f968e79dd97ada633db",
            "9ec826ff7068449d9f273882290002c3",
            "68e1f9db6c984f9ca1231551f2d17d20",
            "3b14cd68199847e081bc92e8e2f9c793",
            "fb65b63ce45943739bfc2017c4b0cd4f",
            "4d5d50ae48764bf0acad175c721fa22f",
            "70484cec4e424e99acb1ebea6a9beaad",
            "00188b862fcc4f83a9d0551e46b97560",
            "0e0f25ed75874f61b92d3e4daaf9194e"
          ]
        },
        "outputId": "6d483903-6980-49cc-f00e-a2584c04c25a"
      },
      "source": [
        "attention_losses = []\n",
        "for e in range(NUM_EPOCHS):\n",
        "    start = time.time()\n",
        "    enc_initial_states = encoder.init_states(BATCH_SIZE)\n",
        "\n",
        "    for batch, (source_seq, target_seq_in, target_seq_out) in tqdm(enumerate(dataset.take(-1)), desc='Epoch - '+str(e+1), total=TRAIN_BATCH_SIZE):\n",
        "        loss = train_step(source_seq, target_seq_in, target_seq_out, encoder, decoder, enc_initial_states)\n",
        "\n",
        "    attention_losses.append(loss)\n",
        "    end = time.time()\n",
        "\n",
        "    print('Epoch: {} \\t Loss: {:.9f} \\t Time: {:.9f}'.format(e + 1, loss.numpy(), end-start))"
      ],
      "execution_count": null,
      "outputs": [
        {
          "output_type": "display_data",
          "data": {
            "application/vnd.jupyter.widget-view+json": {
              "model_id": "2a3cfd0fe15746acaa16e0a6bd2ff4a3",
              "version_minor": 0,
              "version_major": 2
            },
            "text/plain": [
              "HBox(children=(FloatProgress(value=0.0, description='Epoch - 1', max=2426.0, style=ProgressStyle(description_w…"
            ]
          },
          "metadata": {
            "tags": []
          }
        },
        {
          "output_type": "stream",
          "text": [
            "\n",
            "Epoch: 1 \t Loss: 1.745354652 \t Time: 140.926102161\n"
          ],
          "name": "stdout"
        },
        {
          "output_type": "display_data",
          "data": {
            "application/vnd.jupyter.widget-view+json": {
              "model_id": "5929632a907645049fa473050c0a6014",
              "version_minor": 0,
              "version_major": 2
            },
            "text/plain": [
              "HBox(children=(FloatProgress(value=0.0, description='Epoch - 2', max=2426.0, style=ProgressStyle(description_w…"
            ]
          },
          "metadata": {
            "tags": []
          }
        },
        {
          "output_type": "stream",
          "text": [
            "\n",
            "Epoch: 2 \t Loss: 1.562590361 \t Time: 117.865712881\n"
          ],
          "name": "stdout"
        },
        {
          "output_type": "display_data",
          "data": {
            "application/vnd.jupyter.widget-view+json": {
              "model_id": "998676bf483e4bdfbee36a67505b4a96",
              "version_minor": 0,
              "version_major": 2
            },
            "text/plain": [
              "HBox(children=(FloatProgress(value=0.0, description='Epoch - 3', max=2426.0, style=ProgressStyle(description_w…"
            ]
          },
          "metadata": {
            "tags": []
          }
        },
        {
          "output_type": "stream",
          "text": [
            "\n",
            "Epoch: 3 \t Loss: 1.568447709 \t Time: 117.163588524\n"
          ],
          "name": "stdout"
        },
        {
          "output_type": "display_data",
          "data": {
            "application/vnd.jupyter.widget-view+json": {
              "model_id": "25baa3fced6444f796d695feb3e0e809",
              "version_minor": 0,
              "version_major": 2
            },
            "text/plain": [
              "HBox(children=(FloatProgress(value=0.0, description='Epoch - 4', max=2426.0, style=ProgressStyle(description_w…"
            ]
          },
          "metadata": {
            "tags": []
          }
        },
        {
          "output_type": "stream",
          "text": [
            "\n",
            "Epoch: 4 \t Loss: 1.454453468 \t Time: 117.295356035\n"
          ],
          "name": "stdout"
        },
        {
          "output_type": "display_data",
          "data": {
            "application/vnd.jupyter.widget-view+json": {
              "model_id": "d5e5795953844dda89b6d5710786b36c",
              "version_minor": 0,
              "version_major": 2
            },
            "text/plain": [
              "HBox(children=(FloatProgress(value=0.0, description='Epoch - 5', max=2426.0, style=ProgressStyle(description_w…"
            ]
          },
          "metadata": {
            "tags": []
          }
        },
        {
          "output_type": "stream",
          "text": [
            "\n",
            "Epoch: 5 \t Loss: 1.245087504 \t Time: 117.981014252\n"
          ],
          "name": "stdout"
        },
        {
          "output_type": "display_data",
          "data": {
            "application/vnd.jupyter.widget-view+json": {
              "model_id": "583bd762e6c34cafb9555b14580da99c",
              "version_minor": 0,
              "version_major": 2
            },
            "text/plain": [
              "HBox(children=(FloatProgress(value=0.0, description='Epoch - 6', max=2426.0, style=ProgressStyle(description_w…"
            ]
          },
          "metadata": {
            "tags": []
          }
        },
        {
          "output_type": "stream",
          "text": [
            "\n",
            "Epoch: 6 \t Loss: 1.251648426 \t Time: 117.540340185\n"
          ],
          "name": "stdout"
        },
        {
          "output_type": "display_data",
          "data": {
            "application/vnd.jupyter.widget-view+json": {
              "model_id": "ffb07c19c30b415a9ceee53fa6a3a6b1",
              "version_minor": 0,
              "version_major": 2
            },
            "text/plain": [
              "HBox(children=(FloatProgress(value=0.0, description='Epoch - 7', max=2426.0, style=ProgressStyle(description_w…"
            ]
          },
          "metadata": {
            "tags": []
          }
        },
        {
          "output_type": "stream",
          "text": [
            "\n",
            "Epoch: 7 \t Loss: 1.278036475 \t Time: 117.288819790\n"
          ],
          "name": "stdout"
        },
        {
          "output_type": "display_data",
          "data": {
            "application/vnd.jupyter.widget-view+json": {
              "model_id": "1be28dc808f143e5be72c58ee888f1b8",
              "version_minor": 0,
              "version_major": 2
            },
            "text/plain": [
              "HBox(children=(FloatProgress(value=0.0, description='Epoch - 8', max=2426.0, style=ProgressStyle(description_w…"
            ]
          },
          "metadata": {
            "tags": []
          }
        },
        {
          "output_type": "stream",
          "text": [
            "\n",
            "Epoch: 8 \t Loss: 1.274777055 \t Time: 117.984716415\n"
          ],
          "name": "stdout"
        },
        {
          "output_type": "display_data",
          "data": {
            "application/vnd.jupyter.widget-view+json": {
              "model_id": "fc5b36a5adc249cab4cd7b20562403a8",
              "version_minor": 0,
              "version_major": 2
            },
            "text/plain": [
              "HBox(children=(FloatProgress(value=0.0, description='Epoch - 9', max=2426.0, style=ProgressStyle(description_w…"
            ]
          },
          "metadata": {
            "tags": []
          }
        },
        {
          "output_type": "stream",
          "text": [
            "\n",
            "Epoch: 9 \t Loss: 1.187485218 \t Time: 118.356685877\n"
          ],
          "name": "stdout"
        },
        {
          "output_type": "display_data",
          "data": {
            "application/vnd.jupyter.widget-view+json": {
              "model_id": "9ec826ff7068449d9f273882290002c3",
              "version_minor": 0,
              "version_major": 2
            },
            "text/plain": [
              "HBox(children=(FloatProgress(value=0.0, description='Epoch - 10', max=2426.0, style=ProgressStyle(description_…"
            ]
          },
          "metadata": {
            "tags": []
          }
        },
        {
          "output_type": "stream",
          "text": [
            "\n",
            "Epoch: 10 \t Loss: 1.268300414 \t Time: 118.561176300\n"
          ],
          "name": "stdout"
        }
      ]
    },
    {
      "cell_type": "markdown",
      "metadata": {
        "id": "PnhicY4bN3hr",
        "colab_type": "text"
      },
      "source": [
        "### Analysis"
      ]
    },
    {
      "cell_type": "code",
      "metadata": {
        "id": "8fWFntbK0EEV",
        "colab_type": "code",
        "colab": {
          "base_uri": "https://localhost:8080/",
          "height": 444
        },
        "outputId": "d2eef42d-bde8-401d-f78e-cc51b69fb899"
      },
      "source": [
        "epochs = range(1, NUM_EPOCHS+1)\n",
        "\n",
        "plt.figure(figsize=(20, 7))\n",
        "plt.plot(epochs, attention_losses, label='Model Loss', )\n",
        "plt.legend()\n",
        "plt.title('Training Loss')\n",
        "plt.xticks(epochs)\n",
        "for x, y in zip(epochs, attention_losses):\n",
        "    label = \"{:.3f}\".format(y)\n",
        "    plt.annotate(label,                               # this is the text\n",
        "                (x, y),                              # this is the point to label\n",
        "                textcoords=\"offset points\",          # how to position the text\n",
        "                xytext=(0, 5),                       # distance from text to points (x,y)\n",
        "                ha='center')                         # horizontal alignment can be left, right or center"
      ],
      "execution_count": null,
      "outputs": [
        {
          "output_type": "display_data",
          "data": {
            "image/png": "[encoded data removed]",
            "text/plain": [
              "<Figure size 1440x504 with 1 Axes>"
            ]
          },
          "metadata": {
            "tags": [],
            "needs_background": "light"
          }
        }
      ]
    },
    {
      "cell_type": "markdown",
      "metadata": {
        "id": "b24BtRhJN-db",
        "colab_type": "text"
      },
      "source": [
        "### Testing"
      ]
    },
    {
      "cell_type": "code",
      "metadata": {
        "id": "Ha36ukFGZpB8",
        "colab_type": "code",
        "colab": {}
      },
      "source": [
        "# function for plotting the attention weights\n",
        "def plot_attention(attention, sentence, predicted_sentence):\n",
        "    fig = plt.figure(figsize=(10, 10))\n",
        "    ax = fig.add_subplot(1, 1, 1)\n",
        "    ax.matshow(attention, cmap='viridis')\n",
        "\n",
        "    fontdict = {'fontsize': 14}\n",
        "\n",
        "    ax.set_xticklabels([''] + sentence, fontdict=fontdict, rotation=90)\n",
        "    ax.set_yticklabels([''] + predicted_sentence, fontdict=fontdict)\n",
        "\n",
        "    ax.xaxis.set_major_locator(ticker.MultipleLocator(1))\n",
        "    ax.yaxis.set_major_locator(ticker.MultipleLocator(1))"
      ],
      "execution_count": null,
      "outputs": []
    },
    {
      "cell_type": "code",
      "metadata": {
        "id": "W5taNMk5o8lF",
        "colab_type": "code",
        "colab": {}
      },
      "source": [
        "def attentionPredict(lang1, lang2, num, tokenizer1, tokenizer2):\n",
        "    for _ in range(num):\n",
        "        index = np.random.choice(len(lang1))\n",
        "        test_source_text = lang1[index]\n",
        "        print(test_source_text)\n",
        "\n",
        "        test_source_seq = tokenizer1.texts_to_sequences([test_source_text])\n",
        "        # test_source_pad_seq = pad(test_source_seq, mx_en, 'pre', 'pre')\n",
        "\n",
        "        en_initial_states = encoder.init_states(1)\n",
        "        # en_outputs = encoder(tf.constant(test_source_pad_seq), en_initial_states)\n",
        "        en_outputs = encoder(tf.constant(test_source_seq), en_initial_states)\n",
        "\n",
        "        de_input = tf.constant([[tokenizer2.word_index['<start>']]])\n",
        "        de_state_h, de_state_c = en_outputs[1:]\n",
        "        out_words, alignments = [], []\n",
        "\n",
        "        while True:\n",
        "            de_output, de_state_h, de_state_c, alignment = decoder(de_input, (de_state_h, de_state_c), en_outputs[0])\n",
        "            de_input = tf.expand_dims(tf.argmax(de_output, -1), 0)\n",
        "            out_words.append(tokenizer2.index_word[de_input.numpy()[0][0]])\n",
        "            alignments.append(tf.reshape(alignment, (-1, )).numpy())\n",
        "\n",
        "            if out_words[-1] == '<end>' or len(out_words) >= 20:\n",
        "                break\n",
        "\n",
        "        print(' '.join(out_words))\n",
        "\n",
        "        print(lang2[index], end='\\n\\n')\n",
        "        \n",
        "        plot_attention(attention=alignments, sentence=test_source_text.split(), predicted_sentence=lang2[index].split())"
      ],
      "execution_count": null,
      "outputs": []
    },
    {
      "cell_type": "code",
      "metadata": {
        "id": "CFFCBtHOp74b",
        "colab_type": "code",
        "colab": {
          "base_uri": "https://localhost:8080/",
          "height": 1000
        },
        "outputId": "e367c01e-fb55-4eea-f9a5-6b1877b228df"
      },
      "source": [
        "attentionPredict(lang1=en, lang2=fr, num=5, tokenizer1=en_tokenizer, tokenizer2=fr_tokenizer)"
      ],
      "execution_count": null,
      "outputs": [
        {
          "output_type": "stream",
          "text": [
            "<start> i gather you were unsuccessful . <end>\n",
            "mere que je pas . <end>\n",
            "<start> je conclus que tu n as pas reussi . <end>\n",
            "\n",
            "<start> i want for you and me to be happy . <end>\n",
            "arrive que je veux ce que je me demande et . <end>\n",
            "<start> je veux que vous et moi soyons heureuses . <end>\n",
            "\n",
            "<start> i ve got to do my chores . <end>\n",
            "mere que je suis de faire . <end>\n",
            "<start> je dois faire mes corvees . <end>\n",
            "\n",
            "<start> how do i change my cell phone s ringtone ? <end>\n",
            "que comment se de notre de mon numero de telephone de son ? <end>\n",
            "<start> comment puis je changer la sonnerie de mon telephone portable ? <end>\n",
            "\n",
            "<start> we worry about your future . <end>\n",
            "de nous ? nous ? <end>\n",
            "<start> nous nous faisons du souci pour votre avenir . <end>\n",
            "\n"
          ],
          "name": "stdout"
        },
        {
          "output_type": "display_data",
          "data": {
            "image/png": "[encoded data removed]",
            "text/plain": [
              "<Figure size 720x720 with 1 Axes>"
            ]
          },
          "metadata": {
            "tags": [],
            "needs_background": "light"
          }
        },
        {
          "output_type": "display_data",
          "data": {
            "image/png": "[encoded data removed]",
            "text/plain": [
              "<Figure size 720x720 with 1 Axes>"
            ]
          },
          "metadata": {
            "tags": [],
            "needs_background": "light"
          }
        },
        {
          "output_type": "display_data",
          "data": {
            "image/png": "[encoded data removed]",
            "text/plain": [
              "<Figure size 720x720 with 1 Axes>"
            ]
          },
          "metadata": {
            "tags": [],
            "needs_background": "light"
          }
        },
        {
          "output_type": "display_data",
          "data": {
            "image/png": "[encoded data removed]",
            "text/plain": [
              "<Figure size 720x720 with 1 Axes>"
            ]
          },
          "metadata": {
            "tags": [],
            "needs_background": "light"
          }
        },
        {
          "output_type": "display_data",
          "data": {
            "image/png": "[encoded data removed]",
            "text/plain": [
              "<Figure size 720x720 with 1 Axes>"
            ]
          },
          "metadata": {
            "tags": [],
            "needs_background": "light"
          }
        }
      ]
    },
    {
      "cell_type": "markdown",
      "metadata": {
        "id": "yTH06bCBYdri",
        "colab_type": "text"
      },
      "source": [
        "## Transformer"
      ]
    },
    {
      "cell_type": "markdown",
      "metadata": {
        "id": "X3bPMutj5DeC",
        "colab_type": "text"
      },
      "source": [
        "### Positional Encoding"
      ]
    },
    {
      "cell_type": "markdown",
      "metadata": {
        "id": "dvT_veKZ5YdH",
        "colab_type": "text"
      },
      "source": [
        "![Positional Encoding](https://machinetalk.org/wp-content/uploads/2019/05/positional_encoding.png)"
      ]
    },
    {
      "cell_type": "code",
      "metadata": {
        "id": "nAlhV9OG-sVr",
        "colab_type": "code",
        "colab": {}
      },
      "source": [
        "class PositionalEncoding(tf.keras.layers.Layer):\n",
        "    def __init__(self):\n",
        "        super(PositionalEncoding, self).__init__(name='PositionalEncoding')\n",
        "\n",
        "    # pos: (seq_len, 1), i: (1, d_model)\n",
        "    def get_angles(self, pos, i, d_model):\n",
        "        angles = 1 / np.power(10000., (2*(i//2)/np.float32(d_model)))\n",
        "        return pos * angles     # (seq_len, d_model)\n",
        "\n",
        "    def call(self, inputs):\n",
        "        seq_len = inputs.shape.as_list()[-2]\n",
        "        d_model = inputs.shape.as_list()[-1]\n",
        "\n",
        "        angles = self.get_angles(pos=np.arange(seq_len)[:, np.newaxis], i=np.arange(d_model)[np.newaxis, :], d_model=d_model)\n",
        "        \n",
        "        # apply sin to even indices in the array; 2i\n",
        "        angles[:, 0::2] = np.sin(angles[:, 0::2])\n",
        "        \n",
        "        # apply cos to odd indices in the array; 2i+1\n",
        "        angles[:, 1::2] = np.cos(angles[:, 1::2])\n",
        "\n",
        "        pos_encoding = angles[np.newaxis, ...]\n",
        "        return inputs + tf.cast(x=pos_encoding, dtype=tf.float32)"
      ],
      "execution_count": null,
      "outputs": []
    },
    {
      "cell_type": "code",
      "metadata": {
        "id": "QgHNKTyNmHMf",
        "colab_type": "code",
        "colab": {
          "base_uri": "https://localhost:8080/",
          "height": 300
        },
        "outputId": "c6746818-a5c6-4200-ac7e-8209bd244433"
      },
      "source": [
        "pos_encoding = PositionalEncoding()\n",
        "pos_encoding = pos_encoding(tf.ones(shape=(50, 512)))\n",
        "print(pos_encoding.shape)\n",
        "\n",
        "plt.pcolormesh(pos_encoding[0], cmap='RdBu')\n",
        "plt.xlabel('Depth')\n",
        "plt.xlim((0, 512))\n",
        "plt.ylabel('Position')\n",
        "plt.colorbar();"
      ],
      "execution_count": null,
      "outputs": [
        {
          "output_type": "stream",
          "text": [
            "(1, 50, 512)\n"
          ],
          "name": "stdout"
        },
        {
          "output_type": "display_data",
          "data": {
            "image/png": "[encoded data removed]",
            "text/plain": [
              "<Figure size 432x288 with 2 Axes>"
            ]
          },
          "metadata": {
            "tags": [],
            "needs_background": "light"
          }
        }
      ]
    },
    {
      "cell_type": "markdown",
      "metadata": {
        "id": "XO8i-AFv_t0U",
        "colab_type": "text"
      },
      "source": [
        "### Attention"
      ]
    },
    {
      "cell_type": "markdown",
      "metadata": {
        "id": "aBbCqT8qDp1I",
        "colab_type": "text"
      },
      "source": [
        "![Attention](https://miro.medium.com/max/1050/0*2TK7PpioimJzc2nK)\n",
        "\n",
        "---\n",
        "\n",
        "![Attention Math](https://miro.medium.com/max/1050/0*h9UyFTmjKn1qzfOt)\n",
        "*where **Q**:Queries, **K**:Keys, **V**:Values*\n",
        "\n",
        "+ As the softmax normalization is done on K, its values decide the amount of importance given to Q.\n",
        "+ The output represents the multiplication of the attention weights and the V (value) vector. This ensures that the words you want to focus on are kept as-is and the irrelevant words are flushed out.\n",
        "\n",
        "---\n",
        "\n",
        "![Attention Process](http://jalammar.github.io/images/t/transformer_multi-headed_self-attention-recap.png)\n",
        "\n",
        "---\n",
        "\n",
        "![Insight into Multi-Head Attention](https://machinetalk.org/wp-content/uploads/2019/04/one_head-1.png)"
      ]
    },
    {
      "cell_type": "code",
      "metadata": {
        "id": "CR31P7WTIjsW",
        "colab_type": "code",
        "colab": {}
      },
      "source": [
        "class MultiHeadAttention(tf.keras.layers.Layer):\n",
        "    def __init__(self, nb_proj):\n",
        "        super(MultiHeadAttention, self).__init__(name='MultiHeadAttention')\n",
        "        self.nb_proj = nb_proj\n",
        "\n",
        "\n",
        "    # queries: (..., seq_len_q, d_proj), keys: (..., seq_len_k, d_proj), values: (..., seq_len_v, d_proj_v),\n",
        "    # mask: Float tensor with shape broadcastable to (..., seq_len_q, seq_len_k). Defaults to None.\n",
        "    def scaled_dot_product_attention(self, queries, keys, values, mask):\n",
        "        # product: (..., seq_len_q, seq_len_k)\n",
        "        product = tf.matmul(a=queries, b=keys, transpose_a=False, transpose_b=True, adjoint_a=False, adjoint_b=False, a_is_sparse=False, b_is_sparse=False)\n",
        "\n",
        "        # scale matmul_qk\n",
        "        keys_dim = tf.cast(tf.shape(input=keys)[-1], tf.float32)\n",
        "        scaled_product = product / tf.math.sqrt(x=keys_dim)\n",
        "\n",
        "        # add the mask to the scaled tensor.\n",
        "        if mask is not None:\n",
        "            scaled_product += (mask * -1e9)\n",
        "\n",
        "        # softmax is normalized on the last axis (seq_len_k) so that the scores add up to 1.\n",
        "        attention_weights = tf.nn.softmax(logits=scaled_product, axis=-1)           # (..., seq_len_q, seq_len_k)\n",
        "        output = tf.matmul(a=attention_weights, b=values)                           # (..., seq_len_q, d_proj_v)\n",
        "        return output, attention_weights\n",
        "\n",
        "\n",
        "    def build(self, input_shape):\n",
        "        self.d_model = input_shape[-1]\n",
        "\n",
        "        assert (self.d_model % self.nb_proj) == 0\n",
        "        self.d_proj = self.d_model // self.nb_proj\n",
        "\n",
        "        self.wq = tf.keras.layers.Dense(units=self.d_model, activation=None)\n",
        "        self.wk = tf.keras.layers.Dense(units=self.d_model, activation=None)\n",
        "        self.wv = tf.keras.layers.Dense(units=self.d_model, activation=None)\n",
        "\n",
        "        self.final_lin = tf.keras.layers.Dense(units=self.d_model, activation=None)\n",
        "\n",
        "\n",
        "    # inputs: (batch_size, seq_len, d_model)\n",
        "    def split_proj(self, inputs, batch_size):\n",
        "        shape = (batch_size, -1, self.nb_proj, self.d_proj)\n",
        "        splitted_inputs = tf.reshape(tensor=inputs, shape=shape)                       # (batch_size, seq_len, nb_proj, d_proj)\n",
        "        return tf.transpose(a=splitted_inputs, perm=[0, 2, 1, 3], conjugate=False)     # (batch_size, nb_proj, seq_len, d_proj)\n",
        "\n",
        "\n",
        "    def call(self, queries, keys, values, mask):\n",
        "        batch_size = tf.shape(input=queries)[0]\n",
        "\n",
        "        queries = self.wq(queries)                                                      # (batch_size, seq_len_q, d_model)\n",
        "        keys = self.wk(keys)                                                            # (batch_size, seq_len_k, d_model)\n",
        "        values = self.wv(values)                                                        # (batch_size, seq_len_v, d_model)\n",
        "\n",
        "        queries = self.split_proj(inputs=queries, batch_size=batch_size)                # (batch_size, nb_proj, seq_len_q, d_proj)\n",
        "        keys = self.split_proj(inputs=keys, batch_size=batch_size)                      # (batch_size, nb_proj, seq_len_k, d_proj)\n",
        "        values = self.split_proj(inputs=values, batch_size=batch_size)                  # (batch_size, nb_proj, seq_len_v, d_proj)\n",
        "\n",
        "        # attention: (batch_size, nb_proj, seq_len_q, d_proj)\n",
        "        # attention_weights: (batch_size, nb_proj, seq_len_q, seq_len_k)\n",
        "        attention, attention_weights = self.scaled_dot_product_attention(queries=queries, keys=keys, values=values, mask=mask)\n",
        "        attention = tf.transpose(a=attention, perm=[0, 2, 1, 3], conjugate=False)                   # (batch_size, seq_len_q, nb_proj, d_proj)\n",
        "        concat_attention = tf.reshape(tensor=attention, shape=(batch_size, -1, self.d_model))       # (batch_size, seq_len_q, d_model)\n",
        "\n",
        "        outputs = self.final_lin(concat_attention)                                      # (batch_size, seq_len_q, d_model)\n",
        "        return outputs, attention_weights"
      ],
      "execution_count": null,
      "outputs": []
    },
    {
      "cell_type": "markdown",
      "metadata": {
        "id": "sTwuvqHtNNh3",
        "colab_type": "text"
      },
      "source": [
        "### Encoder"
      ]
    },
    {
      "cell_type": "markdown",
      "metadata": {
        "id": "eDc4TaFBOJz-",
        "colab_type": "text"
      },
      "source": [
        "![Transformer Encoder](https://machinetalk.org/wp-content/uploads/2019/04/encoder.png)\n",
        "\n",
        "---\n",
        "\n",
        "![Data Shapes inside the Encoder](https://machinetalk.org/wp-content/uploads/2019/04/encoder_shape.png)"
      ]
    },
    {
      "cell_type": "code",
      "metadata": {
        "id": "AgtQDNSoMUfc",
        "colab_type": "code",
        "colab": {}
      },
      "source": [
        "class EncoderLayer(tf.keras.layers.Layer):\n",
        "    def __init__(self, ffn_units, nb_proj, dropout_rate):\n",
        "        super(EncoderLayer, self).__init__(name='EncoderLayer')\n",
        "        self.ffn_units = ffn_units\n",
        "        self.nb_proj = nb_proj\n",
        "        self.dropout_rate = dropout_rate\n",
        "\n",
        "\n",
        "    def build(self, input_shape):\n",
        "        self.d_model = input_shape[-1]\n",
        "\n",
        "        self.multi_head_attention = MultiHeadAttention(nb_proj=self.nb_proj)\n",
        "        self.dropout_1 = tf.keras.layers.Dropout(rate=self.dropout_rate)\n",
        "        self.norm_1 = tf.keras.layers.LayerNormalization(axis=-1, epsilon=1e-6, center=True, scale=True)\n",
        "        self.dense_1 = tf.keras.layers.Dense(units=self.ffn_units, activation='relu')\n",
        "\n",
        "        self.dense_2 = tf.keras.layers.Dense(units=self.d_model, activation=None)\n",
        "        self.dropout_2 = tf.keras.layers.Dropout(rate=self.dropout_rate)\n",
        "        self.norm_2 = tf.keras.layers.LayerNormalization(axis=-1, epsilon=1e-6, center=True, scale=True)\n",
        "\n",
        "\n",
        "    def call(self, inputs, mask, training_flag):\n",
        "        attention, _ = self.multi_head_attention(queries=inputs, keys=inputs, values=inputs, mask=mask)    # (batch_size, seq_len, d_model)\n",
        "        attention = self.dropout_1(attention, training=training_flag)\n",
        "        attention = self.norm_1(attention + inputs)                                                        # (batch_size, seq_len, d_model)\n",
        "\n",
        "        outputs = self.dense_1(attention)                                                                  # (batch_size, seq_len, ffn_units)\n",
        "        outputs = self.dense_2(outputs)                                                                    # (batch_size, seq_len, d_model)\n",
        "        outputs = self.dropout_2(outputs, training=training_flag)\n",
        "        outputs = self.norm_2(outputs + attention)                                                         # (batch_size, seq_len, d_model)\n",
        "\n",
        "        return outputs"
      ],
      "execution_count": null,
      "outputs": []
    },
    {
      "cell_type": "code",
      "metadata": {
        "id": "UuwgNvtsRgAM",
        "colab_type": "code",
        "colab": {}
      },
      "source": [
        "class Encoder(tf.keras.layers.Layer):\n",
        "    def __init__(self, nb_layers, ffn_units, nb_proj, dropout_rate, vocab_size, d_model):\n",
        "        super(Encoder, self).__init__(name='Encoder')\n",
        "        self.nb_layers = nb_layers\n",
        "        self.d_model = d_model\n",
        "\n",
        "        self.embedding = tf.keras.layers.Embedding(input_dim=vocab_size, output_dim=d_model, input_length=None)\n",
        "        self.pos_encoding = PositionalEncoding()\n",
        "        self.dropout = tf.keras.layers.Dropout(rate=dropout_rate)\n",
        "        self.enc_layers = [EncoderLayer(ffn_units=ffn_units, nb_proj=nb_proj, dropout_rate=dropout_rate) for _ in range(nb_layers)]\n",
        "\n",
        "\n",
        "    def call(self, inputs, mask, training_flag):\n",
        "        outputs = self.embedding(inputs)                                            # (batch_size, seq_len, d_model)\n",
        "        outputs *= tf.math.sqrt(x=tf.cast(x=self.d_model, dtype=tf.float32))\n",
        "        outputs = self.pos_encoding(inputs=outputs)\n",
        "        outputs = self.dropout(outputs, training=training_flag)\n",
        "\n",
        "        for i in range(self.nb_layers):\n",
        "            outputs = self.enc_layers[i](inputs=outputs, mask=mask, training_flag=training_flag)\n",
        "\n",
        "        return outputs                                                              # (batch_size, seq_len, d_model)"
      ],
      "execution_count": null,
      "outputs": []
    },
    {
      "cell_type": "markdown",
      "metadata": {
        "id": "_lRB9QeDU9AI",
        "colab_type": "text"
      },
      "source": [
        "### Decoder"
      ]
    },
    {
      "cell_type": "markdown",
      "metadata": {
        "id": "6fARTWtzU-5n",
        "colab_type": "text"
      },
      "source": [
        "![Transformer Decoder](https://machinetalk.org/wp-content/uploads/2019/04/decoder.png)\n",
        "\n",
        "---\n",
        "\n",
        "![Data Shapes inside the Decoder](https://machinetalk.org/wp-content/uploads/2019/04/decoder_shape-2.png)"
      ]
    },
    {
      "cell_type": "code",
      "metadata": {
        "id": "1i1bKwMQUrjc",
        "colab_type": "code",
        "colab": {}
      },
      "source": [
        "class DecoderLayer(tf.keras.layers.Layer):\n",
        "    def __init__(self, ffn_units, nb_proj, dropout_rate):\n",
        "        super(DecoderLayer, self).__init__(name='DecoderLayer')\n",
        "        self.ffn_units = ffn_units\n",
        "        self.nb_proj = nb_proj\n",
        "        self.dropout_rate = dropout_rate\n",
        "\n",
        "\n",
        "    def build(self, input_shape):\n",
        "        self.d_model = input_shape[-1]\n",
        "\n",
        "        self.multi_head_attention_1 = MultiHeadAttention(nb_proj=self.nb_proj)\n",
        "        self.dropout_1 = tf.keras.layers.Dropout(rate=self.dropout_rate)\n",
        "        self.norm_1 = tf.keras.layers.LayerNormalization(axis=-1, epsilon=1e-6, center=True, scale=True)\n",
        "\n",
        "        self.multi_head_attention_2 = MultiHeadAttention(nb_proj=self.nb_proj)\n",
        "        self.dropout_2 = tf.keras.layers.Dropout(rate=self.dropout_rate)\n",
        "        self.norm_2 = tf.keras.layers.LayerNormalization(axis=-1, epsilon=1e-6, center=True, scale=True)\n",
        "        self.dense_2 = tf.keras.layers.Dense(units=self.ffn_units, activation='relu')\n",
        "\n",
        "        self.dense_3 = tf.keras.layers.Dense(units=self.d_model, activation=None)\n",
        "        self.dropout_3 = tf.keras.layers.Dropout(rate=self.dropout_rate)\n",
        "        self.norm_3 = tf.keras.layers.LayerNormalization(axis=-1, epsilon=1e-6, center=True, scale=True)\n",
        "\n",
        "\n",
        "    # enc_outputs: (batch_size, seq_len, d_model)\n",
        "    def call(self, inputs, enc_outputs, mask_1, mask_2, training_flag):\n",
        "        # attention_1: (batch_size, seq_len, d_model)\n",
        "        attention_1, attention_weights_block1 = self.multi_head_attention_1(queries=inputs, keys=inputs, values=inputs, mask=mask_1)\n",
        "        attention_1 = self.dropout_1(attention_1, training=training_flag)\n",
        "        attention_1 = self.norm_1(attention_1 + inputs)                                 # (batch_size, seq_len, d_model)\n",
        "\n",
        "        # attention_2: (batch_size, seq_len, d_model)\n",
        "        attention_2, attention_weights_block2 = self.multi_head_attention_2(queries=attention, keys=enc_outputs, values=enc_outputs, mask=mask_2)\n",
        "        attention_2 = self.dropout_2(attention_2, training=training_flag)\n",
        "        attention_2 = self.norm_2(attention_2 + attention_1)                            # (batch_size, seq_len, d_model)\n",
        "\n",
        "        outputs = self.dense_2(attention_2)                                             # (batch_size, seq_len, ffn_units)\n",
        "        outputs = self.dense_3(outputs)                                                 # (batch_size, seq_len, d_model)\n",
        "        outputs = self.dropout_3(outputs, training=training_flag)\n",
        "        outputs = self.norm_3(outputs + attention_2)                                    # (batch_size, seq_len, d_model)\n",
        "\n",
        "        return outputs, attention_weights_block1, attention_weights_block2"
      ],
      "execution_count": null,
      "outputs": []
    },
    {
      "cell_type": "code",
      "metadata": {
        "id": "ML-aGu33ZJJF",
        "colab_type": "code",
        "colab": {}
      },
      "source": [
        "class Decoder(tf.keras.layers.Layer):\n",
        "    def __init__(self, nb_layers, ffn_units, nb_proj, dropout_rate, vocab_size, d_model):\n",
        "        super(Decoder, self).__init__(name='Decoder')\n",
        "        self.nb_layers = nb_layers\n",
        "        self.d_model = d_model\n",
        "\n",
        "        self.embedding = tf.keras.layers.Embedding(input_dim=vocab_size, output_dim=d_model, input_length=None)\n",
        "        self.pos_encoding = PositionalEncoding()\n",
        "        self.dropout = tf.keras.layers.Dropout(rate=dropout_rate)\n",
        "        self.dec_layers = [DecoderLayer(ffn_units=ffn_units, nb_proj=nb_proj, dropout_rate=dropout_rate) for _ in range(nb_layers)]\n",
        "\n",
        "\n",
        "    def call(self, inputs, enc_outputs, mask_1, mask_2, training_flag):\n",
        "        attention_weights = {}\n",
        "        outputs = self.embedding(inputs)                                            # (batch_size, seq_len, d_model)\n",
        "        outputs *= tf.math.sqrt(x=tf.cast(x=self.d_model, dtype=tf.float32))\n",
        "        outputs = self.pos_encoding(inputs=outputs)\n",
        "        outputs = self.dropout(outputs, training=training_flag)\n",
        "\n",
        "        for i in range(self.nb_layers):\n",
        "            outputs, b1, b2 = self.dec_layers[i](inputs=outputs, enc_outputs=enc_outputs, mask_1=mask_1, mask_2=mask_2, training_flag=training_flag)\n",
        "            attention_weights['decoder_layer{}_block1'.format(i+1)] = b1\n",
        "            attention_weights['decoder_layer{}_block2'.format(i+1)] = b2\n",
        "            \n",
        "        return outputs                                                              # (batch_size, seq_len, d_model)"
      ],
      "execution_count": null,
      "outputs": []
    },
    {
      "cell_type": "markdown",
      "metadata": {
        "id": "6Zr7O3FseuUy",
        "colab_type": "text"
      },
      "source": [
        "### Transformer Model"
      ]
    },
    {
      "cell_type": "markdown",
      "metadata": {
        "id": "s1WQ_gLRexKI",
        "colab_type": "text"
      },
      "source": [
        "![Transformer Model](https://machinetalk.org/wp-content/uploads/2019/04/transformer-1.png)"
      ]
    },
    {
      "cell_type": "code",
      "metadata": {
        "id": "Bs0DBpmseXOg",
        "colab_type": "code",
        "colab": {}
      },
      "source": [
        "class Transformer(tf.keras.Model):\n",
        "    def __init__(self, vocab_size_enc, vocab_size_dec, d_model, nb_layers, ffn_units, nb_proj, dropout_rate):\n",
        "        super(Transformer, self).__init__(name='Transformer')\n",
        "\n",
        "        self.encoder = Encoder(\n",
        "            nb_layers=nb_layers,\n",
        "            ffn_units=ffn_units,\n",
        "            nb_proj=nb_proj,\n",
        "            dropout_rate=dropout_rate,\n",
        "            vocab_size=vocab_size_enc,\n",
        "            d_model=d_model\n",
        "        )\n",
        "        self.decoder = Decoder(\n",
        "            nb_layers=nb_layers,\n",
        "            ffn_units=ffn_units,\n",
        "            nb_proj=nb_proj,\n",
        "            dropout_rate=dropout_rate, \n",
        "            vocab_size=vocab_size_dec,\n",
        "            d_model=d_model\n",
        "        )\n",
        "        self.final_linear = tf.keras.layers.Dense(units=vocab_size_dec, activation=None)\n",
        "\n",
        "\n",
        "    # seq: (batch_size, seq_len)\n",
        "    def create_padding_mask(self, seq):\n",
        "        mask = tf.cast(x=tf.math.equal(x=seq, y=0), dtype=tf.float32)\n",
        "        \n",
        "        # add extra dimensions to add the padding to the attention logits.\n",
        "        return mask[:, tf.newaxis, tf.newaxis, :]           # (batch_size, 1, 1, seq_len)\n",
        "\n",
        "\n",
        "    # seq: (batch_size, seq_len)\n",
        "    def create_look_ahead_mask(self, seq):\n",
        "        seq_len = tf.shape(input=seq)[-1]\n",
        "\n",
        "        # creating upper triangular matrix\n",
        "        look_ahead_mask = 1 - tf.linalg.band_part(input=tf.ones(shape=(seq_len, seq_len)), num_lower=-1, num_upper=0)\n",
        "        return look_ahead_mask                              # (seq_len, seq_len)\n",
        "\n",
        "\n",
        "    def call(self, enc_inputs, dec_inputs, training_flag):\n",
        "        enc_mask = self.create_padding_mask(seq=enc_inputs)\n",
        "        dec_mask_1 = tf.maximum(x=self.create_padding_mask(seq=dec_inputs), y=self.create_look_ahead_mask(seq=dec_inputs))\n",
        "        dec_mask_2 = self.create_padding_mask(seq=enc_inputs)\n",
        "\n",
        "        enc_outputs = self.encoder(inputs=enc_inputs, mask=enc_mask, training_flag=training_flag)       # (batch_size, seq_len, d_model)\n",
        "        # dec_outputs: (batch_size, seq_len, d_model)\n",
        "        dec_outputs, attention_weights = self.decoder(inputs=dec_inputs, enc_outputs=enc_outputs, mask_1=dec_mask_1, mask_2=dec_mask_2, \n",
        "                                                      training_flag=training_flag)\n",
        "\n",
        "        outputs = self.final_linear(dec_outputs)                                    # (batch_size, seq_len, vocab_size_dec)\n",
        "        return outputs, attention_weights"
      ],
      "execution_count": null,
      "outputs": []
    },
    {
      "cell_type": "markdown",
      "metadata": {
        "id": "waaT72A2QhHX",
        "colab_type": "text"
      },
      "source": [
        "### Setting-up Parameters"
      ]
    },
    {
      "cell_type": "code",
      "metadata": {
        "id": "zyOoBQiNlH-k",
        "colab_type": "code",
        "colab": {}
      },
      "source": [
        "D_MODEL = 128           # 512\n",
        "NB_LAYERS = 4           # 6\n",
        "FFN_UNITS = 512         # 2048\n",
        "NB_PROJ = 8             # 8\n",
        "DROPOUT_RATE = 0.1      # 0.1"
      ],
      "execution_count": null,
      "outputs": []
    },
    {
      "cell_type": "markdown",
      "metadata": {
        "id": "HeUiP8N7uF9g",
        "colab_type": "text"
      },
      "source": [
        "### Defining Loss Function"
      ]
    },
    {
      "cell_type": "code",
      "metadata": {
        "id": "NLMU0c86wDyW",
        "colab_type": "code",
        "colab": {}
      },
      "source": [
        "crossentropy = tf.keras.losses.SparseCategoricalCrossentropy(from_logits=True, reduction='none')"
      ],
      "execution_count": null,
      "outputs": []
    },
    {
      "cell_type": "code",
      "metadata": {
        "id": "EgGyn8C1QaPG",
        "colab_type": "code",
        "colab": {}
      },
      "source": [
        "# ignoring padded zeroes\n",
        "def loss_func(targets, logits):\n",
        "    mask = tf.cast(tf.math.logical_not(tf.math.equal(targets, 0)), dtype=tf.int64)\n",
        "    loss = crossentropy(targets, logits, sample_weight=mask)\n",
        "    return tf.reduce_mean(loss)\n",
        "\n",
        "train_loss = tf.keras.metrics.Mean(name='train_loss')\n",
        "train_accuracy = tf.keras.metrics.SparseCategoricalAccuracy(name='train_accuracy')"
      ],
      "execution_count": null,
      "outputs": []
    },
    {
      "cell_type": "markdown",
      "metadata": {
        "id": "YSuZi0IqwytP",
        "colab_type": "text"
      },
      "source": [
        "### Defining Optimizer"
      ]
    },
    {
      "cell_type": "markdown",
      "metadata": {
        "id": "reKva5JbzOMU",
        "colab_type": "text"
      },
      "source": [
        "![LearningRate](https://i0.wp.com/rubikscode.net/wp-content/uploads/2019/08/image-9.png?w=791&ssl=1)\n",
        "+ Adam optimizer with β1 = 0.9, β2 = 0.98 and epsilon = 10^−9"
      ]
    },
    {
      "cell_type": "code",
      "metadata": {
        "id": "6mowBLdfwvp3",
        "colab_type": "code",
        "colab": {}
      },
      "source": [
        "class CustomSchedule(tf.keras.optimizers.schedules.LearningRateSchedule):\n",
        "    def __init__(self, d_model, warmup_steps=4000):\n",
        "        super(CustomSchedule, self).__init__()\n",
        "\n",
        "        self.d_model = tf.cast(x=d_model, dtype=tf.float32)\n",
        "        self.warmup_steps = warmup_steps\n",
        "\n",
        "\n",
        "    def __call__(self, step):\n",
        "        arg1 = tf.math.rsqrt(x=step)\n",
        "        arg2 = step * (self.warmup_steps**-1.5)\n",
        "        return tf.math.rsqrt(x=self.d_model) * tf.math.minimum(x=arg1, y=arg2)"
      ],
      "execution_count": null,
      "outputs": []
    },
    {
      "cell_type": "code",
      "metadata": {
        "id": "r-KgfvL_zXet",
        "colab_type": "code",
        "colab": {}
      },
      "source": [
        "learning_rate = CustomSchedule(d_model=D_MODEL, warmup_steps=4000)\n",
        "\n",
        "optimizer = tf.keras.optimizers.Adam(learning_rate=learning_rate, beta_1=0.9, beta_2=0.98, epsilon=1e-09)"
      ],
      "execution_count": null,
      "outputs": []
    },
    {
      "cell_type": "code",
      "metadata": {
        "id": "pPsxej0uz18a",
        "colab_type": "code",
        "colab": {
          "base_uri": "https://localhost:8080/",
          "height": 279
        },
        "outputId": "aa7ba537-7c79-4e2b-e89c-f96ea35b2d52"
      },
      "source": [
        "temp_learning_rate_schedule = CustomSchedule(d_model=D_MODEL, warmup_steps=4000)\n",
        "\n",
        "plt.plot(temp_learning_rate_schedule(tf.range(start=40000, limit=None, delta=1, dtype=tf.float32)))\n",
        "plt.ylabel(\"Learning Rate\")\n",
        "plt.xlabel(\"Train Step\");"
      ],
      "execution_count": null,
      "outputs": [
        {
          "output_type": "display_data",
          "data": {
            "image/png": "[encoded data removed]",
            "text/plain": [
              "<Figure size 432x288 with 1 Axes>"
            ]
          },
          "metadata": {
            "tags": [],
            "needs_background": "light"
          }
        }
      ]
    },
    {
      "cell_type": "markdown",
      "metadata": {
        "id": "Tch4IHZZ1p4f",
        "colab_type": "text"
      },
      "source": [
        "### Training"
      ]
    },
    {
      "cell_type": "code",
      "metadata": {
        "id": "KACQePRa0NDr",
        "colab_type": "code",
        "colab": {}
      },
      "source": [
        "transformer = Transformer(\n",
        "    vocab_size_enc=EN_VOCAB_SIZE,\n",
        "    vocab_size_dec=FR_VOCAB_SIZE,\n",
        "    d_model=D_MODEL,\n",
        "    nb_layers=NB_LAYERS,\n",
        "    ffn_units=FFN_UNITS,\n",
        "    nb_proj=NB_PROJ,\n",
        "    dropout_rate=DROPOUT_RATE\n",
        ")"
      ],
      "execution_count": null,
      "outputs": []
    },
    {
      "cell_type": "code",
      "metadata": {
        "id": "x3wZNnQZ2NGe",
        "colab_type": "code",
        "colab": {}
      },
      "source": [
        "checkpoint_path = './drive/My Drive/Colab Notebooks/transformer/ckpt/'\n",
        "\n",
        "ckpt = tf.train.Checkpoint(transformer=transformer, optimizer=optimizer)\n",
        "ckpt_manager = tf.train.CheckpointManager(checkpoint=ckpt, directory=checkpoint_path, max_to_keep=5)\n",
        "\n",
        "if ckpt_manager.latest_checkpoint:\n",
        "    ckpt.restore(save_path=ckpt_manager.latest_checkpoint)\n",
        "    print('Latest checkpoint restored!')"
      ],
      "execution_count": null,
      "outputs": []
    },
    {
      "cell_type": "code",
      "metadata": {
        "id": "28jwIYXU40Kg",
        "colab_type": "code",
        "colab": {}
      },
      "source": [
        "for epoch in range(NUM_EPOCHS):\n",
        "    "
      ],
      "execution_count": null,
      "outputs": []
    }
  ]
}