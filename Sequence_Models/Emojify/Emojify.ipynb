{
 "cells": [
  {
   "cell_type": "markdown",
   "metadata": {},
   "source": [
    "## Importing Libraries"
   ]
  },
  {
   "cell_type": "markdown",
   "metadata": {},
   "source": [
    "+ **Emojify Library**: https://pypi.org/project/emoji/"
   ]
  },
  {
   "cell_type": "code",
   "execution_count": 1,
   "metadata": {},
   "outputs": [
    {
     "name": "stderr",
     "output_type": "stream",
     "text": [
      "[nltk_data] Downloading package stopwords to\n",
      "[nltk_data]     e:\\rohit\\python3.7\\nltk_data...\n",
      "[nltk_data]   Package stopwords is already up-to-date!\n"
     ]
    },
    {
     "data": {
      "text/plain": [
       "True"
      ]
     },
     "execution_count": 1,
     "metadata": {},
     "output_type": "execute_result"
    }
   ],
   "source": [
    "import emoji\n",
    "import numpy as np\n",
    "import pandas as pd\n",
    "import tensorflow as tf\n",
    "\n",
    "import matplotlib.pyplot as plt\n",
    "%matplotlib inline\n",
    "\n",
    "import nltk\n",
    "nltk.download('stopwords')"
   ]
  },
  {
   "cell_type": "markdown",
   "metadata": {},
   "source": [
    "## Loading Dataset"
   ]
  },
  {
   "cell_type": "code",
   "execution_count": 2,
   "metadata": {},
   "outputs": [
    {
     "data": {
      "text/html": [
       "<div>\n",
       "<style scoped>\n",
       "    .dataframe tbody tr th:only-of-type {\n",
       "        vertical-align: middle;\n",
       "    }\n",
       "\n",
       "    .dataframe tbody tr th {\n",
       "        vertical-align: top;\n",
       "    }\n",
       "\n",
       "    .dataframe thead th {\n",
       "        text-align: right;\n",
       "    }\n",
       "</style>\n",
       "<table border=\"1\" class=\"dataframe\">\n",
       "  <thead>\n",
       "    <tr style=\"text-align: right;\">\n",
       "      <th></th>\n",
       "      <th>sentences</th>\n",
       "      <th>labels</th>\n",
       "    </tr>\n",
       "  </thead>\n",
       "  <tbody>\n",
       "    <tr>\n",
       "      <th>0</th>\n",
       "      <td>never talk to me again</td>\n",
       "      <td>3</td>\n",
       "    </tr>\n",
       "    <tr>\n",
       "      <th>1</th>\n",
       "      <td>I am proud of your achievements</td>\n",
       "      <td>2</td>\n",
       "    </tr>\n",
       "    <tr>\n",
       "      <th>2</th>\n",
       "      <td>It is the worst day in my life</td>\n",
       "      <td>3</td>\n",
       "    </tr>\n",
       "    <tr>\n",
       "      <th>3</th>\n",
       "      <td>Miss you so much</td>\n",
       "      <td>0</td>\n",
       "    </tr>\n",
       "    <tr>\n",
       "      <th>4</th>\n",
       "      <td>food is life</td>\n",
       "      <td>4</td>\n",
       "    </tr>\n",
       "    <tr>\n",
       "      <th>...</th>\n",
       "      <td>...</td>\n",
       "      <td>...</td>\n",
       "    </tr>\n",
       "    <tr>\n",
       "      <th>127</th>\n",
       "      <td>he had to make a home run</td>\n",
       "      <td>1</td>\n",
       "    </tr>\n",
       "    <tr>\n",
       "      <th>128</th>\n",
       "      <td>I am ordering food</td>\n",
       "      <td>4</td>\n",
       "    </tr>\n",
       "    <tr>\n",
       "      <th>129</th>\n",
       "      <td>What is wrong with you</td>\n",
       "      <td>3</td>\n",
       "    </tr>\n",
       "    <tr>\n",
       "      <th>130</th>\n",
       "      <td>I love you</td>\n",
       "      <td>0</td>\n",
       "    </tr>\n",
       "    <tr>\n",
       "      <th>131</th>\n",
       "      <td>great job</td>\n",
       "      <td>2</td>\n",
       "    </tr>\n",
       "  </tbody>\n",
       "</table>\n",
       "<p>132 rows × 2 columns</p>\n",
       "</div>"
      ],
      "text/plain": [
       "                           sentences  labels\n",
       "0             never talk to me again       3\n",
       "1    I am proud of your achievements       2\n",
       "2     It is the worst day in my life       3\n",
       "3                   Miss you so much       0\n",
       "4                       food is life       4\n",
       "..                               ...     ...\n",
       "127        he had to make a home run       1\n",
       "128               I am ordering food       4\n",
       "129           What is wrong with you       3\n",
       "130                       I love you       0\n",
       "131                        great job       2\n",
       "\n",
       "[132 rows x 2 columns]"
      ]
     },
     "execution_count": 2,
     "metadata": {},
     "output_type": "execute_result"
    }
   ],
   "source": [
    "training_data = pd.read_csv('train_emoji.csv', usecols=[0, 1], names=['sentences', 'labels'])\n",
    "training_data"
   ]
  },
  {
   "cell_type": "code",
   "execution_count": 3,
   "metadata": {},
   "outputs": [
    {
     "data": {
      "text/html": [
       "<div>\n",
       "<style scoped>\n",
       "    .dataframe tbody tr th:only-of-type {\n",
       "        vertical-align: middle;\n",
       "    }\n",
       "\n",
       "    .dataframe tbody tr th {\n",
       "        vertical-align: top;\n",
       "    }\n",
       "\n",
       "    .dataframe thead th {\n",
       "        text-align: right;\n",
       "    }\n",
       "</style>\n",
       "<table border=\"1\" class=\"dataframe\">\n",
       "  <thead>\n",
       "    <tr style=\"text-align: right;\">\n",
       "      <th></th>\n",
       "      <th>sentences</th>\n",
       "      <th>labels</th>\n",
       "    </tr>\n",
       "  </thead>\n",
       "  <tbody>\n",
       "    <tr>\n",
       "      <th>0</th>\n",
       "      <td>I want to eat\\t</td>\n",
       "      <td>4</td>\n",
       "    </tr>\n",
       "    <tr>\n",
       "      <th>1</th>\n",
       "      <td>he did not answer\\t</td>\n",
       "      <td>3</td>\n",
       "    </tr>\n",
       "    <tr>\n",
       "      <th>2</th>\n",
       "      <td>he got a very nice raise\\t</td>\n",
       "      <td>2</td>\n",
       "    </tr>\n",
       "    <tr>\n",
       "      <th>3</th>\n",
       "      <td>she got me a nice present\\t</td>\n",
       "      <td>2</td>\n",
       "    </tr>\n",
       "    <tr>\n",
       "      <th>4</th>\n",
       "      <td>ha ha ha it was so funny\\t</td>\n",
       "      <td>2</td>\n",
       "    </tr>\n",
       "    <tr>\n",
       "      <th>5</th>\n",
       "      <td>he is a good friend\\t</td>\n",
       "      <td>2</td>\n",
       "    </tr>\n",
       "    <tr>\n",
       "      <th>6</th>\n",
       "      <td>I am upset\\t</td>\n",
       "      <td>3</td>\n",
       "    </tr>\n",
       "    <tr>\n",
       "      <th>7</th>\n",
       "      <td>We had such a lovely dinner tonight\\t</td>\n",
       "      <td>2</td>\n",
       "    </tr>\n",
       "    <tr>\n",
       "      <th>8</th>\n",
       "      <td>where is the food\\t</td>\n",
       "      <td>4</td>\n",
       "    </tr>\n",
       "    <tr>\n",
       "      <th>9</th>\n",
       "      <td>Stop making this joke ha ha ha\\t</td>\n",
       "      <td>2</td>\n",
       "    </tr>\n",
       "    <tr>\n",
       "      <th>10</th>\n",
       "      <td>where is the ball\\t</td>\n",
       "      <td>1</td>\n",
       "    </tr>\n",
       "    <tr>\n",
       "      <th>11</th>\n",
       "      <td>work is hard\\t</td>\n",
       "      <td>3</td>\n",
       "    </tr>\n",
       "    <tr>\n",
       "      <th>12</th>\n",
       "      <td>This girl is messing with me\\t</td>\n",
       "      <td>3</td>\n",
       "    </tr>\n",
       "    <tr>\n",
       "      <th>13</th>\n",
       "      <td>are you serious</td>\n",
       "      <td>3</td>\n",
       "    </tr>\n",
       "    <tr>\n",
       "      <th>14</th>\n",
       "      <td>Let us go play baseball\\t</td>\n",
       "      <td>1</td>\n",
       "    </tr>\n",
       "    <tr>\n",
       "      <th>15</th>\n",
       "      <td>This stupid grader is not working \\t</td>\n",
       "      <td>3</td>\n",
       "    </tr>\n",
       "    <tr>\n",
       "      <th>16</th>\n",
       "      <td>work is horrible\\t</td>\n",
       "      <td>3</td>\n",
       "    </tr>\n",
       "    <tr>\n",
       "      <th>17</th>\n",
       "      <td>Congratulation for having a baby\\t</td>\n",
       "      <td>2</td>\n",
       "    </tr>\n",
       "    <tr>\n",
       "      <th>18</th>\n",
       "      <td>stop pissing me off</td>\n",
       "      <td>3</td>\n",
       "    </tr>\n",
       "    <tr>\n",
       "      <th>19</th>\n",
       "      <td>any suggestions for dinner\\t</td>\n",
       "      <td>4</td>\n",
       "    </tr>\n",
       "    <tr>\n",
       "      <th>20</th>\n",
       "      <td>I love taking breaks\\t</td>\n",
       "      <td>0</td>\n",
       "    </tr>\n",
       "    <tr>\n",
       "      <th>21</th>\n",
       "      <td>you brighten my day\\t</td>\n",
       "      <td>2</td>\n",
       "    </tr>\n",
       "    <tr>\n",
       "      <th>22</th>\n",
       "      <td>I boiled rice\\t</td>\n",
       "      <td>4</td>\n",
       "    </tr>\n",
       "    <tr>\n",
       "      <th>23</th>\n",
       "      <td>she is a bully\\t</td>\n",
       "      <td>3</td>\n",
       "    </tr>\n",
       "    <tr>\n",
       "      <th>24</th>\n",
       "      <td>Why are you feeling bad\\t</td>\n",
       "      <td>3</td>\n",
       "    </tr>\n",
       "    <tr>\n",
       "      <th>25</th>\n",
       "      <td>I am upset\\t</td>\n",
       "      <td>3</td>\n",
       "    </tr>\n",
       "    <tr>\n",
       "      <th>26</th>\n",
       "      <td>give me the ball</td>\n",
       "      <td>1</td>\n",
       "    </tr>\n",
       "    <tr>\n",
       "      <th>27</th>\n",
       "      <td>My grandmother is the love of my life\\t</td>\n",
       "      <td>0</td>\n",
       "    </tr>\n",
       "    <tr>\n",
       "      <th>28</th>\n",
       "      <td>enjoy your game</td>\n",
       "      <td>1</td>\n",
       "    </tr>\n",
       "    <tr>\n",
       "      <th>29</th>\n",
       "      <td>valentine day is near\\t</td>\n",
       "      <td>2</td>\n",
       "    </tr>\n",
       "    <tr>\n",
       "      <th>30</th>\n",
       "      <td>I miss you so much\\t</td>\n",
       "      <td>0</td>\n",
       "    </tr>\n",
       "    <tr>\n",
       "      <th>31</th>\n",
       "      <td>throw the ball\\t</td>\n",
       "      <td>1</td>\n",
       "    </tr>\n",
       "    <tr>\n",
       "      <th>32</th>\n",
       "      <td>My life is so boring\\t</td>\n",
       "      <td>3</td>\n",
       "    </tr>\n",
       "    <tr>\n",
       "      <th>33</th>\n",
       "      <td>she said yes\\t</td>\n",
       "      <td>2</td>\n",
       "    </tr>\n",
       "    <tr>\n",
       "      <th>34</th>\n",
       "      <td>will you be my valentine\\t</td>\n",
       "      <td>2</td>\n",
       "    </tr>\n",
       "    <tr>\n",
       "      <th>35</th>\n",
       "      <td>he can pitch really well\\t</td>\n",
       "      <td>1</td>\n",
       "    </tr>\n",
       "    <tr>\n",
       "      <th>36</th>\n",
       "      <td>dance with me\\t</td>\n",
       "      <td>2</td>\n",
       "    </tr>\n",
       "    <tr>\n",
       "      <th>37</th>\n",
       "      <td>I am hungry</td>\n",
       "      <td>4</td>\n",
       "    </tr>\n",
       "    <tr>\n",
       "      <th>38</th>\n",
       "      <td>See you at the restaurant\\t</td>\n",
       "      <td>4</td>\n",
       "    </tr>\n",
       "    <tr>\n",
       "      <th>39</th>\n",
       "      <td>I like to laugh\\t</td>\n",
       "      <td>2</td>\n",
       "    </tr>\n",
       "    <tr>\n",
       "      <th>40</th>\n",
       "      <td>I will  run</td>\n",
       "      <td>1</td>\n",
       "    </tr>\n",
       "    <tr>\n",
       "      <th>41</th>\n",
       "      <td>I like your jacket \\t</td>\n",
       "      <td>0</td>\n",
       "    </tr>\n",
       "    <tr>\n",
       "      <th>42</th>\n",
       "      <td>i miss her\\t</td>\n",
       "      <td>0</td>\n",
       "    </tr>\n",
       "    <tr>\n",
       "      <th>43</th>\n",
       "      <td>what is your favorite baseball game\\t</td>\n",
       "      <td>1</td>\n",
       "    </tr>\n",
       "    <tr>\n",
       "      <th>44</th>\n",
       "      <td>Good job\\t</td>\n",
       "      <td>2</td>\n",
       "    </tr>\n",
       "    <tr>\n",
       "      <th>45</th>\n",
       "      <td>I love you to the stars and back\\t</td>\n",
       "      <td>0</td>\n",
       "    </tr>\n",
       "    <tr>\n",
       "      <th>46</th>\n",
       "      <td>What you did was awesome\\t</td>\n",
       "      <td>2</td>\n",
       "    </tr>\n",
       "    <tr>\n",
       "      <th>47</th>\n",
       "      <td>ha ha ha lol\\t</td>\n",
       "      <td>2</td>\n",
       "    </tr>\n",
       "    <tr>\n",
       "      <th>48</th>\n",
       "      <td>I do not want to joke\\t</td>\n",
       "      <td>3</td>\n",
       "    </tr>\n",
       "    <tr>\n",
       "      <th>49</th>\n",
       "      <td>go away\\t</td>\n",
       "      <td>3</td>\n",
       "    </tr>\n",
       "    <tr>\n",
       "      <th>50</th>\n",
       "      <td>yesterday we lost again\\t</td>\n",
       "      <td>3</td>\n",
       "    </tr>\n",
       "    <tr>\n",
       "      <th>51</th>\n",
       "      <td>family is all I have\\t</td>\n",
       "      <td>0</td>\n",
       "    </tr>\n",
       "    <tr>\n",
       "      <th>52</th>\n",
       "      <td>you are failing this exercise\\t</td>\n",
       "      <td>3</td>\n",
       "    </tr>\n",
       "    <tr>\n",
       "      <th>53</th>\n",
       "      <td>Good joke\\t</td>\n",
       "      <td>2</td>\n",
       "    </tr>\n",
       "    <tr>\n",
       "      <th>54</th>\n",
       "      <td>You deserve this nice prize\\t</td>\n",
       "      <td>2</td>\n",
       "    </tr>\n",
       "    <tr>\n",
       "      <th>55</th>\n",
       "      <td>I did not have breakfast</td>\n",
       "      <td>4</td>\n",
       "    </tr>\n",
       "  </tbody>\n",
       "</table>\n",
       "</div>"
      ],
      "text/plain": [
       "                                  sentences  labels\n",
       "0                           I want to eat\\t       4\n",
       "1                       he did not answer\\t       3\n",
       "2                he got a very nice raise\\t       2\n",
       "3               she got me a nice present\\t       2\n",
       "4                ha ha ha it was so funny\\t       2\n",
       "5                     he is a good friend\\t       2\n",
       "6                              I am upset\\t       3\n",
       "7     We had such a lovely dinner tonight\\t       2\n",
       "8                       where is the food\\t       4\n",
       "9          Stop making this joke ha ha ha\\t       2\n",
       "10                      where is the ball\\t       1\n",
       "11                           work is hard\\t       3\n",
       "12           This girl is messing with me\\t       3\n",
       "13                          are you serious       3\n",
       "14                Let us go play baseball\\t       1\n",
       "15     This stupid grader is not working \\t       3\n",
       "16                       work is horrible\\t       3\n",
       "17       Congratulation for having a baby\\t       2\n",
       "18                      stop pissing me off       3\n",
       "19             any suggestions for dinner\\t       4\n",
       "20                   I love taking breaks\\t       0\n",
       "21                    you brighten my day\\t       2\n",
       "22                          I boiled rice\\t       4\n",
       "23                         she is a bully\\t       3\n",
       "24                Why are you feeling bad\\t       3\n",
       "25                             I am upset\\t       3\n",
       "26                         give me the ball       1\n",
       "27  My grandmother is the love of my life\\t       0\n",
       "28                          enjoy your game       1\n",
       "29                  valentine day is near\\t       2\n",
       "30                     I miss you so much\\t       0\n",
       "31                         throw the ball\\t       1\n",
       "32                   My life is so boring\\t       3\n",
       "33                           she said yes\\t       2\n",
       "34               will you be my valentine\\t       2\n",
       "35               he can pitch really well\\t       1\n",
       "36                          dance with me\\t       2\n",
       "37                              I am hungry       4\n",
       "38              See you at the restaurant\\t       4\n",
       "39                        I like to laugh\\t       2\n",
       "40                              I will  run       1\n",
       "41                    I like your jacket \\t       0\n",
       "42                             i miss her\\t       0\n",
       "43    what is your favorite baseball game\\t       1\n",
       "44                               Good job\\t       2\n",
       "45       I love you to the stars and back\\t       0\n",
       "46               What you did was awesome\\t       2\n",
       "47                           ha ha ha lol\\t       2\n",
       "48                  I do not want to joke\\t       3\n",
       "49                                go away\\t       3\n",
       "50                yesterday we lost again\\t       3\n",
       "51                   family is all I have\\t       0\n",
       "52          you are failing this exercise\\t       3\n",
       "53                              Good joke\\t       2\n",
       "54            You deserve this nice prize\\t       2\n",
       "55                I did not have breakfast        4"
      ]
     },
     "execution_count": 3,
     "metadata": {},
     "output_type": "execute_result"
    }
   ],
   "source": [
    "validation_data = pd.read_csv('test_emoji.csv', usecols=[0, 1], names=['sentences', 'labels'])\n",
    "validation_data"
   ]
  },
  {
   "cell_type": "markdown",
   "metadata": {},
   "source": [
    "## Analyzing Dataset"
   ]
  },
  {
   "cell_type": "code",
   "execution_count": 4,
   "metadata": {},
   "outputs": [
    {
     "data": {
      "text/plain": [
       "sentences    0\n",
       "labels       0\n",
       "dtype: int64"
      ]
     },
     "execution_count": 4,
     "metadata": {},
     "output_type": "execute_result"
    }
   ],
   "source": [
    "training_data.isnull().sum()"
   ]
  },
  {
   "cell_type": "code",
   "execution_count": 5,
   "metadata": {},
   "outputs": [
    {
     "data": {
      "text/plain": [
       "sentences    0\n",
       "labels       0\n",
       "dtype: int64"
      ]
     },
     "execution_count": 5,
     "metadata": {},
     "output_type": "execute_result"
    }
   ],
   "source": [
    "validation_data.isnull().sum()"
   ]
  },
  {
   "cell_type": "markdown",
   "metadata": {},
   "source": [
    "## Emoji Converter"
   ]
  },
  {
   "cell_type": "code",
   "execution_count": 6,
   "metadata": {},
   "outputs": [
    {
     "data": {
      "text/plain": [
       "array([3, 2, 0, 4, 1], dtype=int64)"
      ]
     },
     "execution_count": 6,
     "metadata": {},
     "output_type": "execute_result"
    }
   ],
   "source": [
    "unique_labels = training_data['labels'].unique()\n",
    "unique_labels"
   ]
  },
  {
   "cell_type": "code",
   "execution_count": 7,
   "metadata": {},
   "outputs": [],
   "source": [
    "emoji_dictionary = {\"0\": \"\\u2764\\uFE0F\",    # :heart: prints a black instead of red heart depending on the font\n",
    "                    \"1\": \":baseball:\",\n",
    "                    \"2\": \":smile:\",\n",
    "                    \"3\": \":disappointed:\",\n",
    "                    \"4\": \":fork_and_knife:\"}"
   ]
  },
  {
   "cell_type": "code",
   "execution_count": 8,
   "metadata": {},
   "outputs": [],
   "source": [
    "# converts a label (int or string) into the corresponding emoji code (string) ready to be printed\n",
    "def label_to_emoji(label):\n",
    "    return emoji.emojize(emoji_dictionary[str(label)], use_aliases=True)"
   ]
  },
  {
   "cell_type": "code",
   "execution_count": 9,
   "metadata": {},
   "outputs": [
    {
     "name": "stdout",
     "output_type": "stream",
     "text": [
      "Unique labels & their corresponding emojis-\n",
      "0 : ❤️\n",
      "1 : ⚾\n",
      "2 : 😄\n",
      "3 : 😞\n",
      "4 : 🍴\n"
     ]
    }
   ],
   "source": [
    "print('Unique labels & their corresponding emojis-')\n",
    "for i in sorted(unique_labels):\n",
    "    print(i, ':', label_to_emoji(i))"
   ]
  },
  {
   "cell_type": "markdown",
   "metadata": {},
   "source": [
    "## Pre-processing the sentences"
   ]
  },
  {
   "cell_type": "code",
   "execution_count": 10,
   "metadata": {},
   "outputs": [],
   "source": [
    "# creating an object of lemmatizer\n",
    "lemmatizer = nltk.stem.WordNetLemmatizer()\n",
    "\n",
    "# stopwords\n",
    "stopwords = set(nltk.corpus.stopwords.words('english'))"
   ]
  },
  {
   "cell_type": "code",
   "execution_count": 11,
   "metadata": {},
   "outputs": [],
   "source": [
    "def create_corpus(data):\n",
    "    corpus = []\n",
    "\n",
    "    for i in range(len(data)):\n",
    "        sentence = []\n",
    "\n",
    "        for word in data[i].split():\n",
    "            processed_word = lemmatizer.lemmatize(word)\n",
    "\n",
    "#             if processed_word not in stopwords:\n",
    "#                 sentence.append(processed_word)\n",
    "            sentence.append(processed_word)\n",
    "\n",
    "        corpus.append(' '.join(sentence))\n",
    "        \n",
    "    return corpus"
   ]
  },
  {
   "cell_type": "code",
   "execution_count": 12,
   "metadata": {},
   "outputs": [
    {
     "data": {
      "text/plain": [
       "array(['never talk to me again', 'I am proud of your achievement',\n",
       "       'It is the worst day in my life', 'Miss you so much',\n",
       "       'food is life', 'I love you mum', 'Stop saying bullshit',\n",
       "       'congratulation on your acceptance', 'The assignment is too long',\n",
       "       'I want to go play', 'she did not answer my text',\n",
       "       'Your stupidity ha no limit', 'how many point did he score',\n",
       "       'my algorithm performs poorly', 'I got approved',\n",
       "       'Stop shouting at me', 'Sounds like a fun plan ha ha',\n",
       "       'no one like him', 'the game just finished',\n",
       "       'I will celebrate soon', 'So sad you are not coming',\n",
       "       'She is my dearest love', 'Good job', 'It wa funny lol',\n",
       "       'candy is life', 'The chicago cub won again', 'I am hungry',\n",
       "       'I am so excited to see you after so long',\n",
       "       'you did well on you exam', 'let brunch some day', 'he is so cute',\n",
       "       'How dare you ask that', 'do you want to join me for dinner',\n",
       "       'I said yes', 'she is attractive', 'you suck', 'she smile a lot',\n",
       "       'he is laughing', 'she take forever to get ready',\n",
       "       'French macaroon is so tasty', 'we made it', 'I am excited',\n",
       "       'I adore my dog', 'Congratulations', 'this girl wa mean',\n",
       "       'you two are cute',\n",
       "       'my code is working but the grader gave me zero',\n",
       "       'this joke is killing me haha', 'do you like pizza',\n",
       "       'you got a down grade', 'I missed you',\n",
       "       'I think I will end up alone', 'I got humiliated by my sister',\n",
       "       'you are awful', 'I cooked meat', 'This is so funny',\n",
       "       'let exercise', 'he is the best player',\n",
       "       'I am going to the stadium',\n",
       "       'You are incredibly intelligent and talented',\n",
       "       'Stop shouting at me', 'Who is your favorite player',\n",
       "       'I like you a lot', 'i miss him', 'my dog just had a few puppy',\n",
       "       'I hate him', 'I want chinese food', 'cooky are good',\n",
       "       'her smile is so charming',\n",
       "       'Bravo for the announcement it got a lot of traction',\n",
       "       'she play baseball', 'he did an amazing job',\n",
       "       'The baby is adorable', 'I wa waiting for her for two hour',\n",
       "       'funny', 'I like it when people smile', 'I love dog',\n",
       "       'they are so kind and friendly',\n",
       "       'So bad that you cannot come with u', 'he like baseball',\n",
       "       'I am so impressed by your dedication to this project',\n",
       "       'I am at the baseball game', 'Bravo', 'What a fun moment',\n",
       "       'I want to have sushi for dinner', 'I am very disappointed',\n",
       "       'he can not do anything', 'lol', 'Lets have food together',\n",
       "       'she is so cute', 'miss you my dear', 'I am looking for a date',\n",
       "       'I am frustrated', 'I lost my wallet', 'you failed the midterm',\n",
       "       'ha ha ha it wa so funny', 'Do you want to give me a hug',\n",
       "       'who is playing in the final', 'she is happy',\n",
       "       'You are not qualified for this position', 'I love my dad',\n",
       "       'this guy wa such a joke', 'Good joke',\n",
       "       'This specialization is great', 'you could not solve it',\n",
       "       'I am so happy for you', 'Congrats on the new job',\n",
       "       'I am proud of you forever', 'I want to eat', 'That catcher suck',\n",
       "       'The first base man got the ball', 'this is bad',\n",
       "       'you did not do your homework', 'I will have a cheese cake',\n",
       "       'do you have a ball', 'the lecture are great though',\n",
       "       'Are you down for baseball this afternoon',\n",
       "       'what are the rule of the game', 'I am always working',\n",
       "       'where is the stadium',\n",
       "       'She is the cutest person I have ever seen',\n",
       "       'vegetable are healthy', 'he is handsome',\n",
       "       'too bad that you were not here', 'you are a loser',\n",
       "       'I love indian food', 'Who is down for a restaurant',\n",
       "       'he had to make a home run', 'I am ordering food',\n",
       "       'What is wrong with you', 'I love you', 'great job'], dtype='<U52')"
      ]
     },
     "execution_count": 12,
     "metadata": {},
     "output_type": "execute_result"
    }
   ],
   "source": [
    "training_corpus, training_labels = np.array(create_corpus(training_data['sentences'])), training_data['labels'].values\n",
    "training_corpus"
   ]
  },
  {
   "cell_type": "code",
   "execution_count": 13,
   "metadata": {},
   "outputs": [
    {
     "data": {
      "text/plain": [
       "array(['I want to eat', 'he did not answer', 'he got a very nice raise',\n",
       "       'she got me a nice present', 'ha ha ha it wa so funny',\n",
       "       'he is a good friend', 'I am upset',\n",
       "       'We had such a lovely dinner tonight', 'where is the food',\n",
       "       'Stop making this joke ha ha ha'], dtype='<U37')"
      ]
     },
     "execution_count": 13,
     "metadata": {},
     "output_type": "execute_result"
    }
   ],
   "source": [
    "validation_corpus = np.array(create_corpus(validation_data['sentences']))\n",
    "validation_labels = validation_data['labels'].values\n",
    "validation_corpus[:10]"
   ]
  },
  {
   "cell_type": "markdown",
   "metadata": {},
   "source": [
    "## Initializing Variables"
   ]
  },
  {
   "cell_type": "code",
   "execution_count": 14,
   "metadata": {},
   "outputs": [],
   "source": [
    "pad_type = 'pre'\n",
    "trunc_type = 'post'\n",
    "embedding_dim = 100\n",
    "total_epochs = 100"
   ]
  },
  {
   "cell_type": "markdown",
   "metadata": {},
   "source": [
    "## Tokenization"
   ]
  },
  {
   "cell_type": "code",
   "execution_count": 15,
   "metadata": {},
   "outputs": [],
   "source": [
    "tokenizer = tf.keras.preprocessing.text.Tokenizer(\n",
    "    num_words=None,\n",
    "    filters='!\"#$%&()*+,-./:;<=>?@[\\\\]^_`{|}~\\t\\n',\n",
    "    lower=True,\n",
    "    split=' ',\n",
    "    char_level=False,\n",
    "    oov_token='<OOV>'\n",
    ")\n",
    "\n",
    "tokenizer.fit_on_texts(training_corpus)"
   ]
  },
  {
   "cell_type": "code",
   "execution_count": 16,
   "metadata": {},
   "outputs": [
    {
     "name": "stdout",
     "output_type": "stream",
     "text": [
      "Vocab-size: 257\n"
     ]
    }
   ],
   "source": [
    "vocab_size = len(tokenizer.word_index)\n",
    "\n",
    "print('Vocab-size:', vocab_size)\n",
    "# words + oov_token"
   ]
  },
  {
   "cell_type": "markdown",
   "metadata": {},
   "source": [
    "## Mapping to sequences"
   ]
  },
  {
   "cell_type": "code",
   "execution_count": 17,
   "metadata": {},
   "outputs": [
    {
     "data": {
      "text/plain": [
       "[[84, 85, 10, 16, 54],\n",
       " [2, 7, 55, 30, 19, 86],\n",
       " [17, 4, 5, 87, 56, 57, 11, 35],\n",
       " [36, 3, 8, 88],\n",
       " [25, 4, 35],\n",
       " [2, 20, 3, 89],\n",
       " [37, 90, 91],\n",
       " [92, 38, 19, 93],\n",
       " [5, 94, 4, 58, 59],\n",
       " [2, 21, 10, 95, 60]]"
      ]
     },
     "execution_count": 17,
     "metadata": {},
     "output_type": "execute_result"
    }
   ],
   "source": [
    "training_sequences = tokenizer.texts_to_sequences(training_corpus)\n",
    "training_sequences[:10]"
   ]
  },
  {
   "cell_type": "code",
   "execution_count": 18,
   "metadata": {},
   "outputs": [
    {
     "data": {
      "text/plain": [
       "[[2, 21, 10, 227],\n",
       " [14, 26, 18, 96],\n",
       " [14, 27, 6, 199, 1, 1],\n",
       " [13, 27, 16, 6, 1, 1],\n",
       " [22, 22, 22, 17, 28, 8, 32],\n",
       " [14, 4, 6, 43, 1],\n",
       " [2, 7, 1],\n",
       " [140, 78, 221, 6, 1, 69, 1],\n",
       " [240, 4, 5, 25],\n",
       " [37, 1, 15, 48, 22, 22, 22]]"
      ]
     },
     "execution_count": 18,
     "metadata": {},
     "output_type": "execute_result"
    }
   ],
   "source": [
    "validation_sequences = tokenizer.texts_to_sequences(validation_corpus)\n",
    "validation_sequences[:10]"
   ]
  },
  {
   "cell_type": "markdown",
   "metadata": {},
   "source": [
    "## Padding sequences"
   ]
  },
  {
   "cell_type": "code",
   "execution_count": 19,
   "metadata": {},
   "outputs": [
    {
     "name": "stdout",
     "output_type": "stream",
     "text": [
      "Max-Length of a sequence: 10\n"
     ]
    }
   ],
   "source": [
    "max_length = max([len(sequence) for sequence in training_sequences])\n",
    "print('Max-Length of a sequence:', max_length)"
   ]
  },
  {
   "cell_type": "code",
   "execution_count": 20,
   "metadata": {},
   "outputs": [
    {
     "data": {
      "text/plain": [
       "array([[ 0,  0,  0,  0,  0, 84, 85, 10, 16, 54],\n",
       "       [ 0,  0,  0,  0,  2,  7, 55, 30, 19, 86],\n",
       "       [ 0,  0, 17,  4,  5, 87, 56, 57, 11, 35],\n",
       "       [ 0,  0,  0,  0,  0,  0, 36,  3,  8, 88],\n",
       "       [ 0,  0,  0,  0,  0,  0,  0, 25,  4, 35],\n",
       "       [ 0,  0,  0,  0,  0,  0,  2, 20,  3, 89],\n",
       "       [ 0,  0,  0,  0,  0,  0,  0, 37, 90, 91],\n",
       "       [ 0,  0,  0,  0,  0,  0, 92, 38, 19, 93],\n",
       "       [ 0,  0,  0,  0,  0,  5, 94,  4, 58, 59],\n",
       "       [ 0,  0,  0,  0,  0,  2, 21, 10, 95, 60]])"
      ]
     },
     "execution_count": 20,
     "metadata": {},
     "output_type": "execute_result"
    }
   ],
   "source": [
    "pad_training_seq = tf.keras.preprocessing.sequence.pad_sequences(training_sequences, maxlen=max_length, padding=pad_type)\n",
    "pad_training_seq[:10]"
   ]
  },
  {
   "cell_type": "code",
   "execution_count": 21,
   "metadata": {},
   "outputs": [
    {
     "data": {
      "text/plain": [
       "array([[  0,   0,   0,   0,   0,   0,   2,  21,  10, 227],\n",
       "       [  0,   0,   0,   0,   0,   0,  14,  26,  18,  96],\n",
       "       [  0,   0,   0,   0,  14,  27,   6, 199,   1,   1],\n",
       "       [  0,   0,   0,   0,  13,  27,  16,   6,   1,   1],\n",
       "       [  0,   0,   0,  22,  22,  22,  17,  28,   8,  32],\n",
       "       [  0,   0,   0,   0,   0,  14,   4,   6,  43,   1],\n",
       "       [  0,   0,   0,   0,   0,   0,   0,   2,   7,   1],\n",
       "       [  0,   0,   0, 140,  78, 221,   6,   1,  69,   1],\n",
       "       [  0,   0,   0,   0,   0,   0, 240,   4,   5,  25],\n",
       "       [  0,   0,   0,  37,   1,  15,  48,  22,  22,  22]])"
      ]
     },
     "execution_count": 21,
     "metadata": {},
     "output_type": "execute_result"
    }
   ],
   "source": [
    "pad_validation_seq = tf.keras.preprocessing.sequence.pad_sequences(\n",
    "    validation_sequences,\n",
    "    maxlen=max_length,\n",
    "    padding=pad_type,\n",
    "    truncating=trunc_type\n",
    ")\n",
    "pad_validation_seq[:10]"
   ]
  },
  {
   "cell_type": "markdown",
   "metadata": {},
   "source": [
    "## Creating Model"
   ]
  },
  {
   "cell_type": "code",
   "execution_count": 22,
   "metadata": {},
   "outputs": [
    {
     "name": "stdout",
     "output_type": "stream",
     "text": [
      "Model: \"sequential\"\n",
      "_________________________________________________________________\n",
      "Layer (type)                 Output Shape              Param #   \n",
      "=================================================================\n",
      "embedding (Embedding)        (None, 10, 100)           25800     \n",
      "_________________________________________________________________\n",
      "bidirectional (Bidirectional (None, 64)                34048     \n",
      "_________________________________________________________________\n",
      "dense (Dense)                (None, 16)                1040      \n",
      "_________________________________________________________________\n",
      "dropout (Dropout)            (None, 16)                0         \n",
      "_________________________________________________________________\n",
      "dense_1 (Dense)              (None, 5)                 85        \n",
      "=================================================================\n",
      "Total params: 60,973\n",
      "Trainable params: 60,973\n",
      "Non-trainable params: 0\n",
      "_________________________________________________________________\n"
     ]
    }
   ],
   "source": [
    "# input_dim = (vocab_size+1) as tokenizer.word_index ranges from [1, 257]\n",
    "model = tf.keras.Sequential([\n",
    "    tf.keras.layers.Embedding(input_dim=(vocab_size+1), output_dim=embedding_dim, input_length=max_length),\n",
    "    tf.keras.layers.Bidirectional(tf.keras.layers.LSTM(units=32, dropout=0.2)),\n",
    "    tf.keras.layers.Dense(units=16, activation='relu'),\n",
    "    tf.keras.layers.Dropout(rate=0.2),\n",
    "    tf.keras.layers.Dense(units=len(unique_labels), activation='sigmoid')\n",
    "])\n",
    "\n",
    "model.summary()"
   ]
  },
  {
   "cell_type": "markdown",
   "metadata": {},
   "source": [
    "## Compiling Model"
   ]
  },
  {
   "cell_type": "code",
   "execution_count": 23,
   "metadata": {},
   "outputs": [],
   "source": [
    "model.compile(loss='sparse_categorical_crossentropy', optimizer='adam', metrics=['acc'])"
   ]
  },
  {
   "cell_type": "markdown",
   "metadata": {},
   "source": [
    "## Training Model"
   ]
  },
  {
   "cell_type": "code",
   "execution_count": 24,
   "metadata": {},
   "outputs": [
    {
     "name": "stdout",
     "output_type": "stream",
     "text": [
      "Epoch 1/100\n",
      "5/5 [==============================] - 1s 245ms/step - loss: 1.6104 - acc: 0.1894 - val_loss: 1.6075 - val_acc: 0.3571\n",
      "Epoch 2/100\n",
      "5/5 [==============================] - 0s 20ms/step - loss: 1.6069 - acc: 0.3561 - val_loss: 1.6050 - val_acc: 0.4821\n",
      "Epoch 3/100\n",
      "5/5 [==============================] - 0s 22ms/step - loss: 1.6013 - acc: 0.4621 - val_loss: 1.6006 - val_acc: 0.4107\n",
      "Epoch 4/100\n",
      "5/5 [==============================] - 0s 55ms/step - loss: 1.5952 - acc: 0.4848 - val_loss: 1.5963 - val_acc: 0.3750\n",
      "Epoch 5/100\n",
      "5/5 [==============================] - 0s 18ms/step - loss: 1.5900 - acc: 0.4773 - val_loss: 1.5921 - val_acc: 0.3750\n",
      "Epoch 6/100\n",
      "5/5 [==============================] - 0s 19ms/step - loss: 1.5813 - acc: 0.4924 - val_loss: 1.5862 - val_acc: 0.3393\n",
      "Epoch 7/100\n",
      "5/5 [==============================] - 0s 25ms/step - loss: 1.5693 - acc: 0.5455 - val_loss: 1.5786 - val_acc: 0.3571\n",
      "Epoch 8/100\n",
      "5/5 [==============================] - 0s 26ms/step - loss: 1.5619 - acc: 0.5076 - val_loss: 1.5685 - val_acc: 0.3571\n",
      "Epoch 9/100\n",
      "5/5 [==============================] - 0s 24ms/step - loss: 1.5410 - acc: 0.5682 - val_loss: 1.5566 - val_acc: 0.4107\n",
      "Epoch 10/100\n",
      "5/5 [==============================] - 0s 25ms/step - loss: 1.5199 - acc: 0.5152 - val_loss: 1.5419 - val_acc: 0.4286\n",
      "Epoch 11/100\n",
      "5/5 [==============================] - 0s 22ms/step - loss: 1.4990 - acc: 0.5682 - val_loss: 1.5212 - val_acc: 0.3929\n",
      "Epoch 12/100\n",
      "5/5 [==============================] - 0s 26ms/step - loss: 1.4682 - acc: 0.5152 - val_loss: 1.4987 - val_acc: 0.3571\n",
      "Epoch 13/100\n",
      "5/5 [==============================] - 0s 34ms/step - loss: 1.4265 - acc: 0.5303 - val_loss: 1.4794 - val_acc: 0.3929\n",
      "Epoch 14/100\n",
      "5/5 [==============================] - 0s 22ms/step - loss: 1.3706 - acc: 0.5606 - val_loss: 1.4476 - val_acc: 0.3571\n",
      "Epoch 15/100\n",
      "5/5 [==============================] - 0s 18ms/step - loss: 1.3143 - acc: 0.5682 - val_loss: 1.4273 - val_acc: 0.3393\n",
      "Epoch 16/100\n",
      "5/5 [==============================] - 0s 20ms/step - loss: 1.2307 - acc: 0.5455 - val_loss: 1.4395 - val_acc: 0.4286\n",
      "Epoch 17/100\n",
      "5/5 [==============================] - 0s 21ms/step - loss: 1.1571 - acc: 0.5909 - val_loss: 1.4075 - val_acc: 0.3750\n",
      "Epoch 18/100\n",
      "5/5 [==============================] - 0s 15ms/step - loss: 1.0950 - acc: 0.5682 - val_loss: 1.4059 - val_acc: 0.3929\n",
      "Epoch 19/100\n",
      "5/5 [==============================] - 0s 18ms/step - loss: 1.0025 - acc: 0.6061 - val_loss: 1.4107 - val_acc: 0.3750\n",
      "Epoch 20/100\n",
      "5/5 [==============================] - 0s 17ms/step - loss: 0.9825 - acc: 0.6288 - val_loss: 1.4419 - val_acc: 0.4464\n",
      "Epoch 21/100\n",
      "5/5 [==============================] - 0s 17ms/step - loss: 0.9082 - acc: 0.7121 - val_loss: 1.4480 - val_acc: 0.4643\n",
      "Epoch 22/100\n",
      "5/5 [==============================] - 0s 19ms/step - loss: 0.8215 - acc: 0.7197 - val_loss: 1.3779 - val_acc: 0.5000\n",
      "Epoch 23/100\n",
      "5/5 [==============================] - 0s 18ms/step - loss: 0.7896 - acc: 0.6970 - val_loss: 1.3681 - val_acc: 0.5893\n",
      "Epoch 24/100\n",
      "5/5 [==============================] - 0s 20ms/step - loss: 0.7347 - acc: 0.7727 - val_loss: 1.3343 - val_acc: 0.5893\n",
      "Epoch 25/100\n",
      "5/5 [==============================] - 0s 24ms/step - loss: 0.6362 - acc: 0.8106 - val_loss: 1.2667 - val_acc: 0.5536\n",
      "Epoch 26/100\n",
      "5/5 [==============================] - 0s 27ms/step - loss: 0.6137 - acc: 0.8182 - val_loss: 1.2941 - val_acc: 0.5714\n",
      "Epoch 27/100\n",
      "5/5 [==============================] - 0s 26ms/step - loss: 0.5376 - acc: 0.8636 - val_loss: 1.3556 - val_acc: 0.5536\n",
      "Epoch 28/100\n",
      "5/5 [==============================] - 0s 24ms/step - loss: 0.4960 - acc: 0.8485 - val_loss: 1.3250 - val_acc: 0.5714\n",
      "Epoch 29/100\n",
      "5/5 [==============================] - 0s 25ms/step - loss: 0.5147 - acc: 0.8485 - val_loss: 1.2859 - val_acc: 0.5357\n",
      "Epoch 30/100\n",
      "5/5 [==============================] - 0s 22ms/step - loss: 0.4417 - acc: 0.8939 - val_loss: 1.3969 - val_acc: 0.5536\n",
      "Epoch 31/100\n",
      "5/5 [==============================] - 0s 23ms/step - loss: 0.4926 - acc: 0.8636 - val_loss: 1.3768 - val_acc: 0.5536\n",
      "Epoch 32/100\n",
      "5/5 [==============================] - 0s 22ms/step - loss: 0.3780 - acc: 0.9242 - val_loss: 1.3577 - val_acc: 0.5536\n",
      "Epoch 33/100\n",
      "5/5 [==============================] - 0s 18ms/step - loss: 0.4112 - acc: 0.8864 - val_loss: 1.3669 - val_acc: 0.5536\n",
      "Epoch 34/100\n",
      "5/5 [==============================] - 0s 19ms/step - loss: 0.4017 - acc: 0.8864 - val_loss: 1.4150 - val_acc: 0.5179\n",
      "Epoch 35/100\n",
      "5/5 [==============================] - 0s 23ms/step - loss: 0.3972 - acc: 0.8864 - val_loss: 1.3794 - val_acc: 0.5536\n",
      "Epoch 36/100\n",
      "5/5 [==============================] - 0s 18ms/step - loss: 0.3314 - acc: 0.9318 - val_loss: 1.4277 - val_acc: 0.5536\n",
      "Epoch 37/100\n",
      "5/5 [==============================] - 0s 21ms/step - loss: 0.3427 - acc: 0.9242 - val_loss: 1.4617 - val_acc: 0.5357\n",
      "Epoch 38/100\n",
      "5/5 [==============================] - 0s 26ms/step - loss: 0.3559 - acc: 0.9167 - val_loss: 1.4255 - val_acc: 0.5536\n",
      "Epoch 39/100\n",
      "5/5 [==============================] - 0s 24ms/step - loss: 0.2367 - acc: 0.9773 - val_loss: 1.4387 - val_acc: 0.5357\n",
      "Epoch 40/100\n",
      "5/5 [==============================] - 0s 24ms/step - loss: 0.2358 - acc: 0.9621 - val_loss: 1.4888 - val_acc: 0.5536\n",
      "Epoch 41/100\n",
      "5/5 [==============================] - 0s 25ms/step - loss: 0.2261 - acc: 0.9242 - val_loss: 1.5002 - val_acc: 0.5179\n",
      "Epoch 42/100\n",
      "5/5 [==============================] - 0s 22ms/step - loss: 0.2302 - acc: 0.9545 - val_loss: 1.6199 - val_acc: 0.5179\n",
      "Epoch 43/100\n",
      "5/5 [==============================] - 0s 19ms/step - loss: 0.1791 - acc: 0.9773 - val_loss: 1.6264 - val_acc: 0.5357\n",
      "Epoch 44/100\n",
      "5/5 [==============================] - 0s 22ms/step - loss: 0.1896 - acc: 0.9470 - val_loss: 1.6069 - val_acc: 0.5357\n",
      "Epoch 45/100\n",
      "5/5 [==============================] - 0s 20ms/step - loss: 0.1787 - acc: 0.9848 - val_loss: 1.5969 - val_acc: 0.5357\n",
      "Epoch 46/100\n",
      "5/5 [==============================] - 0s 24ms/step - loss: 0.2346 - acc: 0.9697 - val_loss: 1.5646 - val_acc: 0.5179\n",
      "Epoch 47/100\n",
      "5/5 [==============================] - 0s 23ms/step - loss: 0.1921 - acc: 0.9545 - val_loss: 1.6073 - val_acc: 0.5179\n",
      "Epoch 48/100\n",
      "5/5 [==============================] - 0s 21ms/step - loss: 0.2175 - acc: 0.9621 - val_loss: 1.6290 - val_acc: 0.5179\n",
      "Epoch 49/100\n",
      "5/5 [==============================] - 0s 22ms/step - loss: 0.1687 - acc: 0.9773 - val_loss: 1.6558 - val_acc: 0.5357\n",
      "Epoch 50/100\n",
      "5/5 [==============================] - 0s 22ms/step - loss: 0.2005 - acc: 0.9545 - val_loss: 1.7329 - val_acc: 0.5000\n",
      "Epoch 51/100\n",
      "5/5 [==============================] - 0s 23ms/step - loss: 0.1543 - acc: 0.9848 - val_loss: 2.0068 - val_acc: 0.4464\n",
      "Epoch 52/100\n",
      "5/5 [==============================] - 0s 17ms/step - loss: 0.1688 - acc: 0.9697 - val_loss: 1.9298 - val_acc: 0.5000\n",
      "Epoch 53/100\n",
      "5/5 [==============================] - 0s 17ms/step - loss: 0.1449 - acc: 0.9848 - val_loss: 1.6995 - val_acc: 0.5000\n",
      "Epoch 54/100\n",
      "5/5 [==============================] - 0s 16ms/step - loss: 0.1231 - acc: 0.9848 - val_loss: 1.6717 - val_acc: 0.5357\n",
      "Epoch 55/100\n",
      "5/5 [==============================] - 0s 18ms/step - loss: 0.1472 - acc: 0.9621 - val_loss: 1.7019 - val_acc: 0.5714\n",
      "Epoch 56/100\n",
      "5/5 [==============================] - 0s 16ms/step - loss: 0.1042 - acc: 0.9848 - val_loss: 1.7058 - val_acc: 0.5536\n",
      "Epoch 57/100\n",
      "5/5 [==============================] - 0s 14ms/step - loss: 0.1894 - acc: 0.9545 - val_loss: 1.7722 - val_acc: 0.5357\n",
      "Epoch 58/100\n",
      "5/5 [==============================] - 0s 17ms/step - loss: 0.1467 - acc: 0.9773 - val_loss: 1.8228 - val_acc: 0.5357\n",
      "Epoch 59/100\n",
      "5/5 [==============================] - 0s 16ms/step - loss: 0.1359 - acc: 0.9773 - val_loss: 1.8505 - val_acc: 0.5179\n",
      "Epoch 60/100\n",
      "5/5 [==============================] - 0s 16ms/step - loss: 0.1139 - acc: 0.9773 - val_loss: 1.9593 - val_acc: 0.5357\n",
      "Epoch 61/100\n",
      "5/5 [==============================] - 0s 15ms/step - loss: 0.1074 - acc: 0.9924 - val_loss: 2.0076 - val_acc: 0.5179\n",
      "Epoch 62/100\n",
      "5/5 [==============================] - 0s 13ms/step - loss: 0.1592 - acc: 0.9697 - val_loss: 1.9345 - val_acc: 0.5357\n",
      "Epoch 63/100\n"
     ]
    },
    {
     "name": "stdout",
     "output_type": "stream",
     "text": [
      "5/5 [==============================] - 0s 17ms/step - loss: 0.1167 - acc: 0.9848 - val_loss: 1.9073 - val_acc: 0.5179\n",
      "Epoch 64/100\n",
      "5/5 [==============================] - 0s 18ms/step - loss: 0.1471 - acc: 0.9773 - val_loss: 1.9385 - val_acc: 0.5357\n",
      "Epoch 65/100\n",
      "5/5 [==============================] - 0s 15ms/step - loss: 0.0696 - acc: 1.0000 - val_loss: 1.9908 - val_acc: 0.5357\n",
      "Epoch 66/100\n",
      "5/5 [==============================] - 0s 15ms/step - loss: 0.1102 - acc: 0.9924 - val_loss: 1.9849 - val_acc: 0.5357\n",
      "Epoch 67/100\n",
      "5/5 [==============================] - 0s 20ms/step - loss: 0.1374 - acc: 0.9773 - val_loss: 2.0051 - val_acc: 0.5357\n",
      "Epoch 68/100\n",
      "5/5 [==============================] - 0s 23ms/step - loss: 0.0815 - acc: 0.9924 - val_loss: 2.0362 - val_acc: 0.5179\n",
      "Epoch 69/100\n",
      "5/5 [==============================] - 0s 24ms/step - loss: 0.0876 - acc: 0.9924 - val_loss: 2.0927 - val_acc: 0.5179\n",
      "Epoch 70/100\n",
      "5/5 [==============================] - 0s 26ms/step - loss: 0.0660 - acc: 0.9924 - val_loss: 2.2123 - val_acc: 0.5536\n",
      "Epoch 71/100\n",
      "5/5 [==============================] - 0s 22ms/step - loss: 0.0803 - acc: 0.9848 - val_loss: 2.2251 - val_acc: 0.5357\n",
      "Epoch 72/100\n",
      "5/5 [==============================] - 0s 18ms/step - loss: 0.0970 - acc: 0.9924 - val_loss: 2.1871 - val_acc: 0.5357\n",
      "Epoch 73/100\n",
      "5/5 [==============================] - 0s 21ms/step - loss: 0.0803 - acc: 0.9924 - val_loss: 2.1057 - val_acc: 0.5357\n",
      "Epoch 74/100\n",
      "5/5 [==============================] - 0s 27ms/step - loss: 0.1224 - acc: 0.9697 - val_loss: 1.9879 - val_acc: 0.5000\n",
      "Epoch 75/100\n",
      "5/5 [==============================] - 0s 25ms/step - loss: 0.0833 - acc: 0.9924 - val_loss: 1.9547 - val_acc: 0.5357\n",
      "Epoch 76/100\n",
      "5/5 [==============================] - 0s 20ms/step - loss: 0.0768 - acc: 0.9848 - val_loss: 1.9408 - val_acc: 0.5179\n",
      "Epoch 77/100\n",
      "5/5 [==============================] - 0s 29ms/step - loss: 0.0902 - acc: 0.9848 - val_loss: 1.9864 - val_acc: 0.5000\n",
      "Epoch 78/100\n",
      "5/5 [==============================] - 0s 22ms/step - loss: 0.0860 - acc: 0.9773 - val_loss: 2.0813 - val_acc: 0.5000\n",
      "Epoch 79/100\n",
      "5/5 [==============================] - 0s 14ms/step - loss: 0.0702 - acc: 0.9697 - val_loss: 2.2250 - val_acc: 0.5000\n",
      "Epoch 80/100\n",
      "5/5 [==============================] - 0s 15ms/step - loss: 0.0809 - acc: 0.9773 - val_loss: 2.4107 - val_acc: 0.5000\n",
      "Epoch 81/100\n",
      "5/5 [==============================] - 0s 15ms/step - loss: 0.0736 - acc: 0.9924 - val_loss: 2.4192 - val_acc: 0.5179\n",
      "Epoch 82/100\n",
      "5/5 [==============================] - 0s 16ms/step - loss: 0.0609 - acc: 0.9924 - val_loss: 2.2977 - val_acc: 0.5000\n",
      "Epoch 83/100\n",
      "5/5 [==============================] - 0s 17ms/step - loss: 0.0578 - acc: 1.0000 - val_loss: 2.2347 - val_acc: 0.5536\n",
      "Epoch 84/100\n",
      "5/5 [==============================] - 0s 26ms/step - loss: 0.0709 - acc: 0.9848 - val_loss: 2.1757 - val_acc: 0.5179\n",
      "Epoch 85/100\n",
      "5/5 [==============================] - 0s 28ms/step - loss: 0.0711 - acc: 0.9924 - val_loss: 2.1995 - val_acc: 0.5179\n",
      "Epoch 86/100\n",
      "5/5 [==============================] - 0s 27ms/step - loss: 0.0607 - acc: 1.0000 - val_loss: 2.2225 - val_acc: 0.5536\n",
      "Epoch 87/100\n",
      "5/5 [==============================] - 0s 25ms/step - loss: 0.0411 - acc: 1.0000 - val_loss: 2.2435 - val_acc: 0.5536\n",
      "Epoch 88/100\n",
      "5/5 [==============================] - 0s 21ms/step - loss: 0.0610 - acc: 0.9848 - val_loss: 2.3898 - val_acc: 0.5357\n",
      "Epoch 89/100\n",
      "5/5 [==============================] - 0s 30ms/step - loss: 0.0707 - acc: 0.9848 - val_loss: 2.4317 - val_acc: 0.5179\n",
      "Epoch 90/100\n",
      "5/5 [==============================] - 0s 23ms/step - loss: 0.0351 - acc: 0.9924 - val_loss: 2.4078 - val_acc: 0.5179\n",
      "Epoch 91/100\n",
      "5/5 [==============================] - 0s 19ms/step - loss: 0.0304 - acc: 1.0000 - val_loss: 2.3460 - val_acc: 0.5179\n",
      "Epoch 92/100\n",
      "5/5 [==============================] - 0s 17ms/step - loss: 0.0377 - acc: 1.0000 - val_loss: 2.2988 - val_acc: 0.5179\n",
      "Epoch 93/100\n",
      "5/5 [==============================] - 0s 16ms/step - loss: 0.0677 - acc: 0.9848 - val_loss: 2.2979 - val_acc: 0.5179\n",
      "Epoch 94/100\n",
      "5/5 [==============================] - 0s 17ms/step - loss: 0.0293 - acc: 1.0000 - val_loss: 2.2766 - val_acc: 0.5357\n",
      "Epoch 95/100\n",
      "5/5 [==============================] - 0s 14ms/step - loss: 0.0332 - acc: 1.0000 - val_loss: 2.2647 - val_acc: 0.5357\n",
      "Epoch 96/100\n",
      "5/5 [==============================] - 0s 20ms/step - loss: 0.0381 - acc: 0.9848 - val_loss: 2.2890 - val_acc: 0.5357\n",
      "Epoch 97/100\n",
      "5/5 [==============================] - 0s 30ms/step - loss: 0.0616 - acc: 1.0000 - val_loss: 2.3256 - val_acc: 0.5357\n",
      "Epoch 98/100\n",
      "5/5 [==============================] - 0s 22ms/step - loss: 0.0837 - acc: 0.9773 - val_loss: 2.3676 - val_acc: 0.5357\n",
      "Epoch 99/100\n",
      "5/5 [==============================] - 0s 18ms/step - loss: 0.0768 - acc: 0.9848 - val_loss: 2.4078 - val_acc: 0.5357\n",
      "Epoch 100/100\n",
      "5/5 [==============================] - 0s 17ms/step - loss: 0.0566 - acc: 0.9924 - val_loss: 2.4790 - val_acc: 0.5357\n"
     ]
    }
   ],
   "source": [
    "history = model.fit(\n",
    "    x=pad_training_seq,\n",
    "    y=training_labels,\n",
    "    epochs=total_epochs,\n",
    "    shuffle=True,\n",
    "    validation_data=(pad_validation_seq, validation_labels)\n",
    ")"
   ]
  },
  {
   "cell_type": "markdown",
   "metadata": {},
   "source": [
    "## Visualizing Model Results"
   ]
  },
  {
   "cell_type": "code",
   "execution_count": 25,
   "metadata": {},
   "outputs": [
    {
     "data": {
      "text/plain": [
       "<matplotlib.legend.Legend at 0x233dc495848>"
      ]
     },
     "execution_count": 25,
     "metadata": {},
     "output_type": "execute_result"
    },
    {
     "data": {
      "image/png": "[encoded data removed]",
      "text/plain": [
       "<Figure size 1440x432 with 2 Axes>"
      ]
     },
     "metadata": {
      "needs_background": "light"
     },
     "output_type": "display_data"
    }
   ],
   "source": [
    "plt.figure(figsize=(20, 6))\n",
    "plt.title('Results')\n",
    "\n",
    "plt.subplot(1, 2, 1)\n",
    "plt.plot(history.history['loss'], color='orange', label='Training loss')\n",
    "plt.plot(history.history['val_loss'], color='red', label='Validation loss')\n",
    "plt.legend()\n",
    "\n",
    "plt.subplot(1, 2, 2)\n",
    "plt.plot(history.history['acc'], color='blue', label='Training accuracy')\n",
    "plt.plot(history.history['val_acc'], color='green', label='Validation accuracy')\n",
    "plt.legend()"
   ]
  },
  {
   "cell_type": "markdown",
   "metadata": {},
   "source": [
    "## Testing Model"
   ]
  },
  {
   "cell_type": "code",
   "execution_count": 32,
   "metadata": {},
   "outputs": [
    {
     "name": "stdout",
     "output_type": "stream",
     "text": [
      "Input text:\n",
      "i am too happy\n"
     ]
    },
    {
     "data": {
      "text/plain": [
       "'😄'"
      ]
     },
     "execution_count": 32,
     "metadata": {},
     "output_type": "execute_result"
    }
   ],
   "source": [
    "print('Input text:')\n",
    "\n",
    "txt = input()\n",
    "test_seq = tokenizer.texts_to_sequences([txt])\n",
    "\n",
    "pad_test_seq = tf.keras.preprocessing.sequence.pad_sequences(\n",
    "    test_seq,\n",
    "    maxlen=max_length,\n",
    "    padding=pad_type,\n",
    "    truncating=trunc_type\n",
    ")\n",
    "\n",
    "pred = np.argmax(model.predict(pad_test_seq), axis=-1)[0]\n",
    "label_to_emoji(pred)"
   ]
  }
 ],
 "metadata": {
  "kernelspec": {
   "display_name": "Python 3",
   "language": "python",
   "name": "python3"
  },
  "language_info": {
   "codemirror_mode": {
    "name": "ipython",
    "version": 3
   },
   "file_extension": ".py",
   "mimetype": "text/x-python",
   "name": "python",
   "nbconvert_exporter": "python",
   "pygments_lexer": "ipython3",
   "version": "3.7.6"
  },
  "toc": {
   "base_numbering": 1,
   "nav_menu": {},
   "number_sections": true,
   "sideBar": true,
   "skip_h1_title": false,
   "title_cell": "Table of Contents",
   "title_sidebar": "Contents",
   "toc_cell": false,
   "toc_position": {},
   "toc_section_display": true,
   "toc_window_display": false
  },
  "varInspector": {
   "cols": {
    "lenName": 16,
    "lenType": 16,
    "lenVar": 40
   },
   "kernels_config": {
    "python": {
     "delete_cmd_postfix": "",
     "delete_cmd_prefix": "del ",
     "library": "var_list.py",
     "varRefreshCmd": "print(var_dic_list())"
    },
    "r": {
     "delete_cmd_postfix": ") ",
     "delete_cmd_prefix": "rm(",
     "library": "var_list.r",
     "varRefreshCmd": "cat(var_dic_list()) "
    }
   },
   "types_to_exclude": [
    "module",
    "function",
    "builtin_function_or_method",
    "instance",
    "_Feature"
   ],
   "window_display": false
  }
 },
 "nbformat": 4,
 "nbformat_minor": 4
}
