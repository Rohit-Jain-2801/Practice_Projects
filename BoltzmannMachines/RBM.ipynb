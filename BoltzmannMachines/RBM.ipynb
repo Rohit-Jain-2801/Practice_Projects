{
  "nbformat": 4,
  "nbformat_minor": 0,
  "metadata": {
    "colab": {
      "name": "RBM.ipynb",
      "provenance": [],
      "collapsed_sections": []
    },
    "kernelspec": {
      "name": "python3",
      "display_name": "Python 3"
    },
    "widgets": {
      "application/vnd.jupyter.widget-state+json": {
        "abdd31a3b6954a72b989fa3cac5c8394": {
          "model_module": "@jupyter-widgets/controls",
          "model_name": "HBoxModel",
          "state": {
            "_view_name": "HBoxView",
            "_dom_classes": [],
            "_model_name": "HBoxModel",
            "_view_module": "@jupyter-widgets/controls",
            "_model_module_version": "1.5.0",
            "_view_count": null,
            "_view_module_version": "1.5.0",
            "box_style": "",
            "layout": "IPY_MODEL_fd15ab4ff5d24881b67579e1e91ea597",
            "_model_module": "@jupyter-widgets/controls",
            "children": [
              "IPY_MODEL_3b2b06b86f3d478f9c3e75faf3585f12",
              "IPY_MODEL_f0da8a54935b4808821a10fbe98979e8"
            ]
          }
        },
        "fd15ab4ff5d24881b67579e1e91ea597": {
          "model_module": "@jupyter-widgets/base",
          "model_name": "LayoutModel",
          "state": {
            "_view_name": "LayoutView",
            "grid_template_rows": null,
            "right": null,
            "justify_content": null,
            "_view_module": "@jupyter-widgets/base",
            "overflow": null,
            "_model_module_version": "1.2.0",
            "_view_count": null,
            "flex_flow": null,
            "width": null,
            "min_width": null,
            "border": null,
            "align_items": null,
            "bottom": null,
            "_model_module": "@jupyter-widgets/base",
            "top": null,
            "grid_column": null,
            "overflow_y": null,
            "overflow_x": null,
            "grid_auto_flow": null,
            "grid_area": null,
            "grid_template_columns": null,
            "flex": null,
            "_model_name": "LayoutModel",
            "justify_items": null,
            "grid_row": null,
            "max_height": null,
            "align_content": null,
            "visibility": null,
            "align_self": null,
            "height": null,
            "min_height": null,
            "padding": null,
            "grid_auto_rows": null,
            "grid_gap": null,
            "max_width": null,
            "order": null,
            "_view_module_version": "1.2.0",
            "grid_template_areas": null,
            "object_position": null,
            "object_fit": null,
            "grid_auto_columns": null,
            "margin": null,
            "display": null,
            "left": null
          }
        },
        "3b2b06b86f3d478f9c3e75faf3585f12": {
          "model_module": "@jupyter-widgets/controls",
          "model_name": "FloatProgressModel",
          "state": {
            "_view_name": "ProgressView",
            "style": "IPY_MODEL_d53c2f61bf0246e38d02fe7626374cd1",
            "_dom_classes": [],
            "description": "Progress: 100%",
            "_model_name": "FloatProgressModel",
            "bar_style": "success",
            "max": 60000,
            "_view_module": "@jupyter-widgets/controls",
            "_model_module_version": "1.5.0",
            "value": 60000,
            "_view_count": null,
            "_view_module_version": "1.5.0",
            "orientation": "horizontal",
            "min": 0,
            "description_tooltip": null,
            "_model_module": "@jupyter-widgets/controls",
            "layout": "IPY_MODEL_3d4b06d99c95407bb52bfa195ed505cc"
          }
        },
        "f0da8a54935b4808821a10fbe98979e8": {
          "model_module": "@jupyter-widgets/controls",
          "model_name": "HTMLModel",
          "state": {
            "_view_name": "HTMLView",
            "style": "IPY_MODEL_116dc88a6a124938b2580d1d5eb200ae",
            "_dom_classes": [],
            "description": "",
            "_model_name": "HTMLModel",
            "placeholder": "​",
            "_view_module": "@jupyter-widgets/controls",
            "_model_module_version": "1.5.0",
            "value": " 60000/60000 [00:19&lt;00:00, 3157.82it/s]",
            "_view_count": null,
            "_view_module_version": "1.5.0",
            "description_tooltip": null,
            "_model_module": "@jupyter-widgets/controls",
            "layout": "IPY_MODEL_afae4565e1644d3c885fd9b7ddbeaf76"
          }
        },
        "d53c2f61bf0246e38d02fe7626374cd1": {
          "model_module": "@jupyter-widgets/controls",
          "model_name": "ProgressStyleModel",
          "state": {
            "_view_name": "StyleView",
            "_model_name": "ProgressStyleModel",
            "description_width": "initial",
            "_view_module": "@jupyter-widgets/base",
            "_model_module_version": "1.5.0",
            "_view_count": null,
            "_view_module_version": "1.2.0",
            "bar_color": null,
            "_model_module": "@jupyter-widgets/controls"
          }
        },
        "3d4b06d99c95407bb52bfa195ed505cc": {
          "model_module": "@jupyter-widgets/base",
          "model_name": "LayoutModel",
          "state": {
            "_view_name": "LayoutView",
            "grid_template_rows": null,
            "right": null,
            "justify_content": null,
            "_view_module": "@jupyter-widgets/base",
            "overflow": null,
            "_model_module_version": "1.2.0",
            "_view_count": null,
            "flex_flow": null,
            "width": null,
            "min_width": null,
            "border": null,
            "align_items": null,
            "bottom": null,
            "_model_module": "@jupyter-widgets/base",
            "top": null,
            "grid_column": null,
            "overflow_y": null,
            "overflow_x": null,
            "grid_auto_flow": null,
            "grid_area": null,
            "grid_template_columns": null,
            "flex": null,
            "_model_name": "LayoutModel",
            "justify_items": null,
            "grid_row": null,
            "max_height": null,
            "align_content": null,
            "visibility": null,
            "align_self": null,
            "height": null,
            "min_height": null,
            "padding": null,
            "grid_auto_rows": null,
            "grid_gap": null,
            "max_width": null,
            "order": null,
            "_view_module_version": "1.2.0",
            "grid_template_areas": null,
            "object_position": null,
            "object_fit": null,
            "grid_auto_columns": null,
            "margin": null,
            "display": null,
            "left": null
          }
        },
        "116dc88a6a124938b2580d1d5eb200ae": {
          "model_module": "@jupyter-widgets/controls",
          "model_name": "DescriptionStyleModel",
          "state": {
            "_view_name": "StyleView",
            "_model_name": "DescriptionStyleModel",
            "description_width": "",
            "_view_module": "@jupyter-widgets/base",
            "_model_module_version": "1.5.0",
            "_view_count": null,
            "_view_module_version": "1.2.0",
            "_model_module": "@jupyter-widgets/controls"
          }
        },
        "afae4565e1644d3c885fd9b7ddbeaf76": {
          "model_module": "@jupyter-widgets/base",
          "model_name": "LayoutModel",
          "state": {
            "_view_name": "LayoutView",
            "grid_template_rows": null,
            "right": null,
            "justify_content": null,
            "_view_module": "@jupyter-widgets/base",
            "overflow": null,
            "_model_module_version": "1.2.0",
            "_view_count": null,
            "flex_flow": null,
            "width": null,
            "min_width": null,
            "border": null,
            "align_items": null,
            "bottom": null,
            "_model_module": "@jupyter-widgets/base",
            "top": null,
            "grid_column": null,
            "overflow_y": null,
            "overflow_x": null,
            "grid_auto_flow": null,
            "grid_area": null,
            "grid_template_columns": null,
            "flex": null,
            "_model_name": "LayoutModel",
            "justify_items": null,
            "grid_row": null,
            "max_height": null,
            "align_content": null,
            "visibility": null,
            "align_self": null,
            "height": null,
            "min_height": null,
            "padding": null,
            "grid_auto_rows": null,
            "grid_gap": null,
            "max_width": null,
            "order": null,
            "_view_module_version": "1.2.0",
            "grid_template_areas": null,
            "object_position": null,
            "object_fit": null,
            "grid_auto_columns": null,
            "margin": null,
            "display": null,
            "left": null
          }
        }
      }
    }
  },
  "cells": [
    {
      "cell_type": "markdown",
      "metadata": {
        "id": "30Su0BI2o65T",
        "colab_type": "text"
      },
      "source": [
        "# Restricted Boltzmann Machine"
      ]
    },
    {
      "cell_type": "markdown",
      "metadata": {
        "id": "aRQp7d9EpAm7",
        "colab_type": "text"
      },
      "source": [
        "## Importing Libraries"
      ]
    },
    {
      "cell_type": "code",
      "metadata": {
        "id": "TDVV7ZWOo0LQ",
        "colab_type": "code",
        "colab": {}
      },
      "source": [
        "import cv2\n",
        "import random\n",
        "import numpy as np\n",
        "import tensorflow as tf\n",
        "from tqdm.notebook import tqdm, trange\n",
        "from skimage.transform import rotate, AffineTransform, warp\n",
        "\n",
        "from sklearn import datasets\n",
        "from sklearn.model_selection import train_test_split, GridSearchCV\n",
        "from sklearn.metrics import classification_report\n",
        "from sklearn.linear_model import LogisticRegression\n",
        "from sklearn.neural_network import BernoulliRBM\n",
        "from sklearn.pipeline import Pipeline\n",
        "\n",
        "import matplotlib.pyplot as plt\n",
        "%matplotlib inline"
      ],
      "execution_count": 27,
      "outputs": []
    },
    {
      "cell_type": "markdown",
      "metadata": {
        "id": "mcZ5bPLQqQAR",
        "colab_type": "text"
      },
      "source": [
        "## Loading Dataset"
      ]
    },
    {
      "cell_type": "markdown",
      "metadata": {
        "id": "M7w7unx2bqu_",
        "colab_type": "text"
      },
      "source": [
        "### Using Sklearn"
      ]
    },
    {
      "cell_type": "code",
      "metadata": {
        "id": "Uym1wgrhZ1DJ",
        "colab_type": "code",
        "colab": {}
      },
      "source": [
        "# dataset = datasets.fetch_openml(name='mnist_784', version='active', cache=True)\n",
        "# print(dataset.data.shape)\n",
        "# print(dataset.target.shape)\n",
        "\n",
        "# (trainX, testX, trainY, testY) = train_test_split(dataset.data, dataset.target.astype(\"int0\"), test_size = 0.33)"
      ],
      "execution_count": 28,
      "outputs": []
    },
    {
      "cell_type": "markdown",
      "metadata": {
        "id": "K2Tu8SCabwgy",
        "colab_type": "text"
      },
      "source": [
        "### Using TensorFlow"
      ]
    },
    {
      "cell_type": "code",
      "metadata": {
        "id": "WFmgeoHVpWZi",
        "colab_type": "code",
        "colab": {}
      },
      "source": [
        "(training_images, training_labels), (test_images, test_labels) = tf.keras.datasets.mnist.load_data()"
      ],
      "execution_count": 29,
      "outputs": []
    },
    {
      "cell_type": "markdown",
      "metadata": {
        "id": "p7PPvJY9qtpQ",
        "colab_type": "text"
      },
      "source": [
        "## Analyzing Dataset"
      ]
    },
    {
      "cell_type": "code",
      "metadata": {
        "id": "KBqGJL2AqhqE",
        "colab_type": "code",
        "colab": {
          "base_uri": "https://localhost:8080/",
          "height": 595
        },
        "outputId": "52e13a7c-6c35-4bdb-f32a-e3f74ec0a9d7"
      },
      "source": [
        "print(\"Random 25 Images from the Training Data:\")\n",
        "plt.figure(figsize=(10, 10))\n",
        "for i in range(25):\n",
        "    rand_image_idx = np.random.randint(0, training_labels.shape[0])\n",
        "    plt.subplot(5, 5, i+1)\n",
        "    plt.xticks([])\n",
        "    plt.yticks([])\n",
        "    plt.grid('off')\n",
        "    plt.imshow(training_images[rand_image_idx], cmap=plt.cm.binary)"
      ],
      "execution_count": 30,
      "outputs": [
        {
          "output_type": "stream",
          "text": [
            "Random 25 Images from the Training Data:\n"
          ],
          "name": "stdout"
        },
        {
          "output_type": "display_data",
          "data": {
            "image/png": "[encoded data removed]",
            "text/plain": [
              "<Figure size 720x720 with 25 Axes>"
            ]
          },
          "metadata": {
            "tags": []
          }
        }
      ]
    },
    {
      "cell_type": "code",
      "metadata": {
        "id": "gmNN51d7rwuy",
        "colab_type": "code",
        "colab": {
          "base_uri": "https://localhost:8080/",
          "height": 51
        },
        "outputId": "4b55c4da-b15a-48ca-e585-ef9bfa407924"
      },
      "source": [
        "print('Shape of training set:', training_images.shape)\n",
        "print('Shape of test set:', training_images.shape)"
      ],
      "execution_count": 31,
      "outputs": [
        {
          "output_type": "stream",
          "text": [
            "Shape of training set: (60000, 28, 28)\n",
            "Shape of test set: (60000, 28, 28)\n"
          ],
          "name": "stdout"
        }
      ]
    },
    {
      "cell_type": "markdown",
      "metadata": {
        "id": "pjzKIihsrGso",
        "colab_type": "text"
      },
      "source": [
        "## Preparing Data"
      ]
    },
    {
      "cell_type": "markdown",
      "metadata": {
        "id": "GrBdzzaa-FqM",
        "colab_type": "text"
      },
      "source": [
        "### Data Augmentation"
      ]
    },
    {
      "cell_type": "code",
      "metadata": {
        "id": "iHEJaDSFsq_B",
        "colab_type": "code",
        "colab": {}
      },
      "source": [
        "def rotate_image(img):\n",
        "    return rotate(image=img, angle=random.randint(a=-45, b=45), resize=False, center=None, clip=True, mode='constant', preserve_range=True)"
      ],
      "execution_count": 32,
      "outputs": []
    },
    {
      "cell_type": "code",
      "metadata": {
        "id": "c34Blxnh1dpf",
        "colab_type": "code",
        "colab": {}
      },
      "source": [
        "def shift_image(img):\n",
        "    return warp(image=img, inverse_map=AffineTransform(translation=(random.randint(a=-5, b=5), random.randint(a=-2, b=2))), \n",
        "                mode='constant', clip=True, preserve_range=True)"
      ],
      "execution_count": 33,
      "outputs": []
    },
    {
      "cell_type": "code",
      "metadata": {
        "id": "XTmPMtAQ7act",
        "colab_type": "code",
        "colab": {}
      },
      "source": [
        "def blur_image(img):\n",
        "    n = random.randrange(start=3, stop=9, step=2)\n",
        "    return cv2.GaussianBlur(src=img, ksize=(n, n), sigmaX=0, sigmaY=0)"
      ],
      "execution_count": 34,
      "outputs": []
    },
    {
      "cell_type": "code",
      "metadata": {
        "id": "7f7wuFiYyQ4G",
        "colab_type": "code",
        "colab": {}
      },
      "source": [
        "transformations = {\n",
        "    'rotate': rotate_image,\n",
        "    'shift': shift_image,\n",
        "    'blur': blur_image\n",
        "}"
      ],
      "execution_count": 35,
      "outputs": []
    },
    {
      "cell_type": "code",
      "metadata": {
        "id": "rBmFqsJhygtH",
        "colab_type": "code",
        "colab": {
          "base_uri": "https://localhost:8080/",
          "height": 66,
          "referenced_widgets": [
            "abdd31a3b6954a72b989fa3cac5c8394",
            "fd15ab4ff5d24881b67579e1e91ea597",
            "3b2b06b86f3d478f9c3e75faf3585f12",
            "f0da8a54935b4808821a10fbe98979e8",
            "d53c2f61bf0246e38d02fe7626374cd1",
            "3d4b06d99c95407bb52bfa195ed505cc",
            "116dc88a6a124938b2580d1d5eb200ae",
            "afae4565e1644d3c885fd9b7ddbeaf76"
          ]
        },
        "outputId": "0192891b-fe7e-44d5-9574-2566735d207f"
      },
      "source": [
        "x_train, y_train = [], []\n",
        "for image, label in tqdm(zip(training_images, training_labels), desc='Progress', total=training_images.shape[0]):\n",
        "    # choose random number of transformations to apply on the image\n",
        "    transformation_count = random.randint(a=1, b=len(transformations))\n",
        "\n",
        "    for _ in range(transformation_count):\n",
        "        # choose random transformation\n",
        "        key = random.choice(seq=list(transformations))\n",
        "\n",
        "        x_train.append(transformations[key](image))\n",
        "        y_train.append(label)\n",
        "\n",
        "training_images, training_labels = np.array(x_train, dtype='uint8'), np.array(y_train, dtype='uint8')"
      ],
      "execution_count": 36,
      "outputs": [
        {
          "output_type": "display_data",
          "data": {
            "application/vnd.jupyter.widget-view+json": {
              "model_id": "abdd31a3b6954a72b989fa3cac5c8394",
              "version_minor": 0,
              "version_major": 2
            },
            "text/plain": [
              "HBox(children=(FloatProgress(value=0.0, description='Progress', max=60000.0, style=ProgressStyle(description_w…"
            ]
          },
          "metadata": {
            "tags": []
          }
        },
        {
          "output_type": "stream",
          "text": [
            "\n"
          ],
          "name": "stdout"
        }
      ]
    },
    {
      "cell_type": "markdown",
      "metadata": {
        "id": "2OKrPBn_rTHv",
        "colab_type": "text"
      },
      "source": [
        "### Normalizing Data"
      ]
    },
    {
      "cell_type": "code",
      "metadata": {
        "id": "-MStkNFfrAhR",
        "colab_type": "code",
        "colab": {}
      },
      "source": [
        "training_images = training_images/255.\n",
        "test_images = test_images/255."
      ],
      "execution_count": 37,
      "outputs": []
    },
    {
      "cell_type": "markdown",
      "metadata": {
        "id": "jG3R1XWbriRn",
        "colab_type": "text"
      },
      "source": [
        "### Flattening Out"
      ]
    },
    {
      "cell_type": "code",
      "metadata": {
        "id": "e0J13XuErfde",
        "colab_type": "code",
        "colab": {}
      },
      "source": [
        "flatten_training_images = training_images.reshape((training_images.shape[0], -1))\n",
        "flatten_test_images = test_images.reshape((test_images.shape[0], -1))"
      ],
      "execution_count": 38,
      "outputs": []
    },
    {
      "cell_type": "markdown",
      "metadata": {
        "id": "4aRqx08H-WSD",
        "colab_type": "text"
      },
      "source": [
        "## Model Approach"
      ]
    },
    {
      "cell_type": "markdown",
      "metadata": {
        "id": "veGz2FXH-bE3",
        "colab_type": "text"
      },
      "source": [
        "### Using Sklearn's BernoulliRBM + LogisticRegression"
      ]
    },
    {
      "cell_type": "markdown",
      "metadata": {
        "id": "E1VY_J6GNoE6",
        "colab_type": "text"
      },
      "source": [
        "+ https://scikit-learn.org/stable/modules/neural_networks_unsupervised.html"
      ]
    },
    {
      "cell_type": "markdown",
      "metadata": {
        "id": "xvNHNabtOhWk",
        "colab_type": "text"
      },
      "source": [
        "#### Initializing Models"
      ]
    },
    {
      "cell_type": "code",
      "metadata": {
        "id": "z-zWjVlf8Jju",
        "colab_type": "code",
        "colab": {}
      },
      "source": [
        "# BernoulliRBM\n",
        "rbm = BernoulliRBM(n_components=256, learning_rate=0.1, batch_size=10, n_iter=10, verbose=1, random_state=None)\n",
        "\n",
        "# LogisticRegression\n",
        "logistic = LogisticRegression(penalty='l2', dual=False, tol=1e-4, C=1.0, fit_intercept=True, intercept_scaling=1, class_weight=None, \n",
        "                              random_state=None, solver='lbfgs', max_iter=100, multi_class='auto', verbose=1, warm_start=False, n_jobs=-1, l1_ratio=None)\n",
        "\n",
        "# Creating Pipeline of events\n",
        "classifier = Pipeline(steps=[('rbm', rbm), ('logistic', logistic)], memory=None, verbose=1)"
      ],
      "execution_count": null,
      "outputs": []
    },
    {
      "cell_type": "markdown",
      "metadata": {
        "id": "auGIjMHIOopF",
        "colab_type": "text"
      },
      "source": [
        "#### Fitting Model"
      ]
    },
    {
      "cell_type": "code",
      "metadata": {
        "id": "KLjrO3B6_mpd",
        "colab_type": "code",
        "colab": {
          "base_uri": "https://localhost:8080/",
          "height": 476
        },
        "outputId": "7d931362-3214-4a5e-db7b-9c2b5bd0a4cf"
      },
      "source": [
        "classifier.fit(X=flatten_training_images, y=training_labels)"
      ],
      "execution_count": null,
      "outputs": [
        {
          "output_type": "stream",
          "text": [
            "[BernoulliRBM] Iteration 1, pseudo-likelihood = -116.19, time = 67.78s\n",
            "[BernoulliRBM] Iteration 2, pseudo-likelihood = -114.76, time = 75.16s\n",
            "[BernoulliRBM] Iteration 3, pseudo-likelihood = -111.63, time = 75.08s\n",
            "[BernoulliRBM] Iteration 4, pseudo-likelihood = -113.28, time = 74.72s\n",
            "[BernoulliRBM] Iteration 5, pseudo-likelihood = -111.93, time = 74.48s\n",
            "[BernoulliRBM] Iteration 6, pseudo-likelihood = -110.93, time = 74.65s\n",
            "[BernoulliRBM] Iteration 7, pseudo-likelihood = -111.02, time = 75.41s\n",
            "[BernoulliRBM] Iteration 8, pseudo-likelihood = -109.46, time = 74.90s\n",
            "[BernoulliRBM] Iteration 9, pseudo-likelihood = -112.37, time = 75.00s\n",
            "[BernoulliRBM] Iteration 10, pseudo-likelihood = -111.66, time = 75.08s\n",
            "[Pipeline] ............... (step 1 of 2) Processing rbm, total=12.5min\n"
          ],
          "name": "stdout"
        },
        {
          "output_type": "stream",
          "text": [
            "[Parallel(n_jobs=-1)]: Using backend LokyBackend with 2 concurrent workers.\n"
          ],
          "name": "stderr"
        },
        {
          "output_type": "stream",
          "text": [
            "[Pipeline] .......... (step 2 of 2) Processing logistic, total=  37.7s\n"
          ],
          "name": "stdout"
        },
        {
          "output_type": "stream",
          "text": [
            "[Parallel(n_jobs=-1)]: Done   1 out of   1 | elapsed:   37.5s finished\n"
          ],
          "name": "stderr"
        },
        {
          "output_type": "execute_result",
          "data": {
            "text/plain": [
              "Pipeline(memory=None,\n",
              "         steps=[('rbm',\n",
              "                 BernoulliRBM(batch_size=10, learning_rate=0.1,\n",
              "                              n_components=256, n_iter=10, random_state=None,\n",
              "                              verbose=1)),\n",
              "                ('logistic',\n",
              "                 LogisticRegression(C=1.0, class_weight=None, dual=False,\n",
              "                                    fit_intercept=True, intercept_scaling=1,\n",
              "                                    l1_ratio=None, max_iter=100,\n",
              "                                    multi_class='auto', n_jobs=-1, penalty='l2',\n",
              "                                    random_state=None, solver='lbfgs',\n",
              "                                    tol=0.0001, verbose=1, warm_start=False))],\n",
              "         verbose=1)"
            ]
          },
          "metadata": {
            "tags": []
          },
          "execution_count": 14
        }
      ]
    },
    {
      "cell_type": "markdown",
      "metadata": {
        "id": "eH0RGT_TQ8_K",
        "colab_type": "text"
      },
      "source": [
        "#### Analyzing Results"
      ]
    },
    {
      "cell_type": "markdown",
      "metadata": {
        "id": "ZS7CsLFRpZ7q",
        "colab_type": "text"
      },
      "source": [
        "#### Training-Set"
      ]
    },
    {
      "cell_type": "code",
      "metadata": {
        "id": "VAIL8FDUpNGN",
        "colab_type": "code",
        "colab": {
          "base_uri": "https://localhost:8080/",
          "height": 306
        },
        "outputId": "5c16be15-bc1b-4152-d7da-20304ab98b09"
      },
      "source": [
        "print(classification_report(y_true=training_labels, y_pred=classifier.predict(X=flatten_training_images), labels=None, target_names=None, \n",
        "                            digits=2, output_dict=False, zero_division='warn'))"
      ],
      "execution_count": null,
      "outputs": [
        {
          "output_type": "stream",
          "text": [
            "              precision    recall  f1-score   support\n",
            "\n",
            "           0       0.92      0.92      0.92     11864\n",
            "           1       0.95      0.97      0.96     13487\n",
            "           2       0.87      0.85      0.86     12003\n",
            "           3       0.83      0.82      0.83     12236\n",
            "           4       0.87      0.80      0.83     11739\n",
            "           5       0.82      0.79      0.80     10922\n",
            "           6       0.90      0.91      0.90     11903\n",
            "           7       0.90      0.84      0.87     12510\n",
            "           8       0.74      0.81      0.77     11570\n",
            "           9       0.77      0.84      0.80     11866\n",
            "\n",
            "    accuracy                           0.86    120100\n",
            "   macro avg       0.86      0.85      0.85    120100\n",
            "weighted avg       0.86      0.86      0.86    120100\n",
            "\n"
          ],
          "name": "stdout"
        }
      ]
    },
    {
      "cell_type": "markdown",
      "metadata": {
        "id": "yGXtTMEapebI",
        "colab_type": "text"
      },
      "source": [
        "#### Test-Set"
      ]
    },
    {
      "cell_type": "code",
      "metadata": {
        "id": "HvYjhH2pFCJE",
        "colab_type": "code",
        "colab": {
          "base_uri": "https://localhost:8080/",
          "height": 306
        },
        "outputId": "a4a3cdad-ae4a-41a5-96a0-96de40a0898c"
      },
      "source": [
        "print(classification_report(y_true=test_labels, y_pred=classifier.predict(X=flatten_test_images), labels=None, target_names=None, \n",
        "                            digits=2, output_dict=False, zero_division='warn'))"
      ],
      "execution_count": null,
      "outputs": [
        {
          "output_type": "stream",
          "text": [
            "              precision    recall  f1-score   support\n",
            "\n",
            "           0       0.95      0.99      0.97       980\n",
            "           1       0.96      0.99      0.98      1135\n",
            "           2       0.94      0.92      0.93      1032\n",
            "           3       0.93      0.92      0.93      1010\n",
            "           4       0.94      0.92      0.93       982\n",
            "           5       0.89      0.92      0.90       892\n",
            "           6       0.94      0.97      0.95       958\n",
            "           7       0.94      0.91      0.92      1028\n",
            "           8       0.93      0.84      0.88       974\n",
            "           9       0.87      0.91      0.89      1009\n",
            "\n",
            "    accuracy                           0.93     10000\n",
            "   macro avg       0.93      0.93      0.93     10000\n",
            "weighted avg       0.93      0.93      0.93     10000\n",
            "\n"
          ],
          "name": "stdout"
        }
      ]
    },
    {
      "cell_type": "markdown",
      "metadata": {
        "id": "ma7qfvKXRAwW",
        "colab_type": "text"
      },
      "source": [
        "#### GridSearch HyperParameters"
      ]
    },
    {
      "cell_type": "code",
      "metadata": {
        "id": "WloDrGRsKtd8",
        "colab_type": "code",
        "colab": {}
      },
      "source": [
        "# params = {\n",
        "#     'rbm__learning_rate': [0.1, 0.01, 0.001],\n",
        "# \t'rbm__n_iter': [20, 40, 80],\n",
        "#     'rbm__n_components': [50, 100, 200],\n",
        "# \t'logistic__C': [1.0, 10.0, 100.0]\n",
        "# }\n",
        "\n",
        "# # perform a grid search over the parameter\n",
        "# gs = GridSearchCV(estimator=classifier, param_grid=params, scoring=None, error_score=np.nan, n_jobs=-1, verbose=1)\n",
        "# gs.fit(flatten_training_images, training_labels)\n",
        "# gs.best_estimator_.get_params()"
      ],
      "execution_count": null,
      "outputs": []
    },
    {
      "cell_type": "markdown",
      "metadata": {
        "id": "1MBdvnctmxAe",
        "colab_type": "text"
      },
      "source": [
        "### Using PyDBM's DeepBoltzmannMachine"
      ]
    },
    {
      "cell_type": "markdown",
      "metadata": {
        "id": "54BGLNKKNr6l",
        "colab_type": "text"
      },
      "source": [
        "+ https://code.accel-brain.com/Deep-Learning-by-means-of-Design-Pattern/README.html"
      ]
    },
    {
      "cell_type": "markdown",
      "metadata": {
        "id": "NwpMAbtqE42P",
        "colab_type": "text"
      },
      "source": [
        "#### Loading Library"
      ]
    },
    {
      "cell_type": "code",
      "metadata": {
        "id": "xXkyPdHsm5F7",
        "colab_type": "code",
        "colab": {
          "base_uri": "https://localhost:8080/",
          "height": 51
        },
        "outputId": "b4c9cd1a-7107-4c2d-b7bd-43d0330fb7c9"
      },
      "source": [
        "!pip install pydbm -q"
      ],
      "execution_count": null,
      "outputs": [
        {
          "output_type": "stream",
          "text": [
            "\u001b[K     |████████████████████████████████| 6.9MB 3.2MB/s \n",
            "\u001b[?25h  Building wheel for pydbm (setup.py) ... \u001b[?25l\u001b[?25hdone\n"
          ],
          "name": "stdout"
        }
      ]
    },
    {
      "cell_type": "code",
      "metadata": {
        "id": "NHPxhH1lmwpf",
        "colab_type": "code",
        "colab": {}
      },
      "source": [
        "# The `Client` in Builder Pattern\n",
        "from pydbm.dbm.deep_boltzmann_machine import DeepBoltzmannMachine\n",
        "\n",
        "# The `Concrete Builder` in Builder Pattern.\n",
        "from pydbm.dbm.builders.dbm_multi_layer_builder import DBMMultiLayerBuilder\n",
        "\n",
        "# Contrastive Divergence for function approximation.\n",
        "from pydbm.approximation.contrastive_divergence import ContrastiveDivergence"
      ],
      "execution_count": null,
      "outputs": []
    },
    {
      "cell_type": "code",
      "metadata": {
        "id": "H7-aJcDNm3ZC",
        "colab_type": "code",
        "colab": {}
      },
      "source": [
        "# Logistic Function as activation function.\n",
        "from pydbm.activation.logistic_function import LogisticFunction\n",
        "\n",
        "# Tanh Function as activation function.\n",
        "from pydbm.activation.tanh_function import TanhFunction\n",
        "\n",
        "# ReLu Function as activation function.\n",
        "from pydbm.activation.relu_function import ReLuFunction"
      ],
      "execution_count": null,
      "outputs": []
    },
    {
      "cell_type": "code",
      "metadata": {
        "id": "iZZxRq3coYsU",
        "colab_type": "code",
        "colab": {}
      },
      "source": [
        "# Adam as a optimizer.\n",
        "from pydbm.optimization.optparams.adam import Adam\n",
        "\n",
        "# is-a `OptParams`.\n",
        "opt_params = Adam(\n",
        "    # BETA 1.\n",
        "    beta_1=0.9,\n",
        "    \n",
        "    # BETA 2.\n",
        "    beta_2=0.99\n",
        ")"
      ],
      "execution_count": null,
      "outputs": []
    },
    {
      "cell_type": "code",
      "metadata": {
        "id": "atlazYrKokF5",
        "colab_type": "code",
        "colab": {}
      },
      "source": [
        "# Regularization for weights matrix\n",
        "# to repeat multiplying the weights matrix and `0.9`\n",
        "# until $\\sum_{j=0}^{n}w_{ji}^2 < weight\\_limit$.\n",
        "opt_params.weight_limit = 1e+03\n",
        "\n",
        "# Probability of dropout.\n",
        "opt_params.dropout_rate = 0.5"
      ],
      "execution_count": null,
      "outputs": []
    },
    {
      "cell_type": "code",
      "metadata": {
        "id": "ogn3l_oComnq",
        "colab_type": "code",
        "colab": {}
      },
      "source": [
        "# Contrastive Divergence for visible layer and first hidden layer.\n",
        "first_cd = ContrastiveDivergence(opt_params=opt_params)\n",
        "\n",
        "# Contrastive Divergence for first hidden layer and second hidden layer.\n",
        "second_cd = ContrastiveDivergence(opt_params=opt_params)"
      ],
      "execution_count": null,
      "outputs": []
    },
    {
      "cell_type": "markdown",
      "metadata": {
        "id": "n27r3uM-E_DT",
        "colab_type": "text"
      },
      "source": [
        "#### Initializing Model"
      ]
    },
    {
      "cell_type": "code",
      "metadata": {
        "id": "a2XLZsedov84",
        "colab_type": "code",
        "colab": {}
      },
      "source": [
        "# DBM\n",
        "dbm = DeepBoltzmannMachine(\n",
        "    # `Concrete Builder` in Builder Pattern,\n",
        "    # which composes three restricted boltzmann machines for building a deep boltzmann machine.\n",
        "    DBMMultiLayerBuilder(),\n",
        "\n",
        "    # Dimention in visible layer, hidden layer, and second hidden layer.\n",
        "    [flatten_training_images.shape[1], 14, flatten_training_images.shape[1]],\n",
        "\n",
        "    # Setting objects for activation function.\n",
        "    [ReLuFunction(), LogisticFunction(), TanhFunction()],\n",
        "\n",
        "    # Setting the object for function approximation.\n",
        "    [first_cd, second_cd], \n",
        "\n",
        "    # Setting learning rate.\n",
        "    learning_rate=0.05\n",
        ")"
      ],
      "execution_count": null,
      "outputs": []
    },
    {
      "cell_type": "markdown",
      "metadata": {
        "id": "72hgJ4gBFDw1",
        "colab_type": "text"
      },
      "source": [
        "#### Fitting Model"
      ]
    },
    {
      "cell_type": "markdown",
      "metadata": {
        "id": "N7XNbfWIsaHx",
        "colab_type": "text"
      },
      "source": [
        "+ The below code doesn't work as flatten_training_images[i].shape should be (n, 1), but it is instead (n, ) & hence probably throws error."
      ]
    },
    {
      "cell_type": "code",
      "metadata": {
        "id": "I26IQr23oxyD",
        "colab_type": "code",
        "colab": {}
      },
      "source": [
        "# # Execute learning.\n",
        "# dbm.learn(\n",
        "#     # `np.ndarray` of observed data points.\n",
        "#     flatten_training_images,\n",
        "\n",
        "#      # If approximation is the Contrastive Divergence, this parameter is `k` in CD method.\n",
        "#     training_count=1,\n",
        "\n",
        "#     # Batch size in mini-batch training.\n",
        "#     batch_size=200,\n",
        "\n",
        "#     # if `r_batch_size` > 0, the function of `dbm.learn` is a kind of reccursive learning.\n",
        "#     r_batch_size=-1 \n",
        "# )"
      ],
      "execution_count": null,
      "outputs": []
    }
  ]
}